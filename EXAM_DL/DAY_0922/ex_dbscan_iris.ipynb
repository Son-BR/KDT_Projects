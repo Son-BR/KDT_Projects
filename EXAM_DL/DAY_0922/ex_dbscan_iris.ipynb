{
 "cells": [
  {
   "cell_type": "markdown",
   "metadata": {},
   "source": [
    "# 비원형 데이터의 군집화 - DBSCAN\n",
    "---\n",
    " - 분할적 군집화 방식\n",
    " - 밀도(데이터의 밀집) 기반  군집화 -> 미리 군집수 지정 필요 없음\n",
    " - 다양한 형태의 데이터에서 군집화 가능\n",
    " - 이상치 데이터 제거도 가능함\n",
    " - 군집을 정하는 기준\n",
    "  - 임의의 점(Point)에서 지정된 거리만큼 영역 안에 지정된 데이터 수 존재 여부\n",
    "  - 하이퍼 파라미터: 거리, 데이터수"
   ]
  },
  {
   "cell_type": "code",
   "execution_count": 2,
   "metadata": {},
   "outputs": [],
   "source": [
    "from sklearn.datasets import load_iris\n",
    "from sklearn.cluster import DBSCAN"
   ]
  },
  {
   "cell_type": "markdown",
   "metadata": {},
   "source": [
    "## [1] 데이터 로딩"
   ]
  },
  {
   "cell_type": "code",
   "execution_count": 3,
   "metadata": {},
   "outputs": [],
   "source": [
    "x, y=load_iris(return_X_y=True)"
   ]
  },
  {
   "cell_type": "code",
   "execution_count": 4,
   "metadata": {},
   "outputs": [
    {
     "data": {
      "text/plain": [
       "numpy.ndarray"
      ]
     },
     "execution_count": 4,
     "metadata": {},
     "output_type": "execute_result"
    }
   ],
   "source": [
    "type(x)"
   ]
  },
  {
   "cell_type": "markdown",
   "metadata": {},
   "source": [
    "## [2] 데이터 전처리"
   ]
  },
  {
   "cell_type": "code",
   "execution_count": 5,
   "metadata": {},
   "outputs": [],
   "source": [
    "# 스케일링\n",
    "from sklearn.preprocessing import StandardScaler\n",
    "scaler=StandardScaler()"
   ]
  },
  {
   "cell_type": "code",
   "execution_count": 6,
   "metadata": {},
   "outputs": [],
   "source": [
    "scaler.fit(x)\n",
    "x_scaled=scaler.transform(x)"
   ]
  },
  {
   "cell_type": "code",
   "execution_count": 7,
   "metadata": {},
   "outputs": [
    {
     "data": {
      "text/plain": [
       "array([-1.34022653, -1.34022653, -1.39706395, -1.2833891 , -1.34022653,\n",
       "       -1.16971425, -1.34022653, -1.2833891 , -1.34022653, -1.2833891 ,\n",
       "       -1.2833891 , -1.22655167, -1.34022653, -1.51073881, -1.45390138,\n",
       "       -1.2833891 , -1.39706395, -1.34022653, -1.16971425, -1.2833891 ,\n",
       "       -1.16971425, -1.2833891 , -1.56757623, -1.16971425, -1.05603939,\n",
       "       -1.22655167, -1.22655167, -1.2833891 , -1.34022653, -1.22655167,\n",
       "       -1.22655167, -1.2833891 , -1.2833891 , -1.34022653, -1.2833891 ,\n",
       "       -1.45390138, -1.39706395, -1.34022653, -1.39706395, -1.2833891 ,\n",
       "       -1.39706395, -1.39706395, -1.39706395, -1.22655167, -1.05603939,\n",
       "       -1.34022653, -1.22655167, -1.34022653, -1.2833891 , -1.34022653,\n",
       "        0.53540856,  0.42173371,  0.64908342,  0.13754657,  0.47857113,\n",
       "        0.42173371,  0.53540856, -0.26031542,  0.47857113,  0.08070915,\n",
       "       -0.14664056,  0.25122143,  0.13754657,  0.53540856, -0.08980313,\n",
       "        0.36489628,  0.42173371,  0.194384  ,  0.42173371,  0.08070915,\n",
       "        0.59224599,  0.13754657,  0.64908342,  0.53540856,  0.30805885,\n",
       "        0.36489628,  0.59224599,  0.70592084,  0.42173371, -0.14664056,\n",
       "        0.02387172, -0.03296571,  0.08070915,  0.76275827,  0.42173371,\n",
       "        0.42173371,  0.53540856,  0.36489628,  0.194384  ,  0.13754657,\n",
       "        0.36489628,  0.47857113,  0.13754657, -0.26031542,  0.25122143,\n",
       "        0.25122143,  0.25122143,  0.30805885, -0.4308277 ,  0.194384  ,\n",
       "        1.27429511,  0.76275827,  1.21745768,  1.0469454 ,  1.16062026,\n",
       "        1.61531967,  0.42173371,  1.44480739,  1.16062026,  1.33113254,\n",
       "        0.76275827,  0.87643312,  0.99010798,  0.70592084,  0.76275827,\n",
       "        0.87643312,  0.99010798,  1.6721571 ,  1.78583195,  0.70592084,\n",
       "        1.10378283,  0.64908342,  1.6721571 ,  0.64908342,  1.10378283,\n",
       "        1.27429511,  0.59224599,  0.64908342,  1.0469454 ,  1.16062026,\n",
       "        1.33113254,  1.50164482,  1.0469454 ,  0.76275827,  1.0469454 ,\n",
       "        1.33113254,  1.0469454 ,  0.99010798,  0.59224599,  0.93327055,\n",
       "        1.0469454 ,  0.76275827,  0.76275827,  1.21745768,  1.10378283,\n",
       "        0.8195957 ,  0.70592084,  0.8195957 ,  0.93327055,  0.76275827])"
      ]
     },
     "execution_count": 7,
     "metadata": {},
     "output_type": "execute_result"
    }
   ],
   "source": [
    "x_scaled[:,2]"
   ]
  },
  {
   "cell_type": "markdown",
   "metadata": {},
   "source": [
    "## [3] 군집화"
   ]
  },
  {
   "cell_type": "code",
   "execution_count": 8,
   "metadata": {},
   "outputs": [],
   "source": [
    "# 군집화 객체 생성\n",
    "# eps=0.5 최대거리, min_samples=5 최소데이터갯수\n",
    "dbscan=DBSCAN(eps=0.6, min_samples=8)"
   ]
  },
  {
   "cell_type": "code",
   "execution_count": 9,
   "metadata": {},
   "outputs": [],
   "source": [
    "# 군집화(비지도학습) -> x값만\n",
    "irisDBS=dbscan.fit(x_scaled)"
   ]
  },
  {
   "cell_type": "code",
   "execution_count": 10,
   "metadata": {},
   "outputs": [
    {
     "data": {
      "text/plain": [
       "array([ 0,  0,  0,  0,  0,  0,  0,  0,  0,  0,  0,  0,  0,  0, -1, -1,  0,\n",
       "        0,  0,  0,  0,  0,  0,  0,  0,  0,  0,  0,  0,  0,  0,  0, -1, -1,\n",
       "        0,  0,  0,  0,  0,  0,  0, -1,  0,  0,  0,  0,  0,  0,  0,  0,  1,\n",
       "        1,  1,  1,  1,  1, -1, -1,  1,  1, -1,  1, -1,  1,  1,  1,  1,  1,\n",
       "       -1,  1,  1,  1, -1,  1,  1,  1,  1,  1,  1,  1,  1,  1,  1,  1,  1,\n",
       "       -1,  1, -1,  1,  1,  1,  1,  1, -1,  1,  1,  1,  1, -1,  1,  1,  1,\n",
       "        1,  1,  1, -1, -1, -1, -1, -1,  1,  1,  1, -1, -1,  1,  1, -1, -1,\n",
       "       -1,  1, -1, -1,  1,  1, -1,  1,  1,  1, -1, -1, -1,  1,  1,  1, -1,\n",
       "        1,  1,  1,  1,  1,  1,  1,  1,  1,  1,  1,  1,  1,  1],\n",
       "      dtype=int64)"
      ]
     },
     "execution_count": 10,
     "metadata": {},
     "output_type": "execute_result"
    }
   ],
   "source": [
    "irisDBS.labels_"
   ]
  },
  {
   "cell_type": "code",
   "execution_count": 11,
   "metadata": {},
   "outputs": [
    {
     "data": {
      "text/plain": [
       "(88, 4)"
      ]
     },
     "execution_count": 11,
     "metadata": {},
     "output_type": "execute_result"
    }
   ],
   "source": [
    "irisDBS.components_.shape"
   ]
  },
  {
   "cell_type": "code",
   "execution_count": 12,
   "metadata": {},
   "outputs": [
    {
     "data": {
      "text/plain": [
       "array([ 0,  0,  0,  0,  0,  0,  0,  0,  0,  0,  0,  0,  0,  0, -1, -1,  0,\n",
       "        0,  0,  0,  0,  0,  0,  0,  0,  0,  0,  0,  0,  0,  0,  0, -1, -1,\n",
       "        0,  0,  0,  0,  0,  0,  0, -1,  0,  0,  0,  0,  0,  0,  0,  0,  1,\n",
       "        1,  1,  1,  1,  1, -1, -1,  1,  1, -1,  1, -1,  1,  1,  1,  1,  1,\n",
       "       -1,  1,  1,  1, -1,  1,  1,  1,  1,  1,  1,  1,  1,  1,  1,  1,  1,\n",
       "       -1,  1, -1,  1,  1,  1,  1,  1, -1,  1,  1,  1,  1, -1,  1,  1,  1,\n",
       "        1,  1,  1, -1, -1, -1, -1, -1,  1,  1,  1, -1, -1,  1,  1, -1, -1,\n",
       "       -1,  1, -1, -1,  1,  1, -1,  1,  1,  1, -1, -1, -1,  1,  1,  1, -1,\n",
       "        1,  1,  1,  1,  1,  1,  1,  1,  1,  1,  1,  1,  1,  1],\n",
       "      dtype=int64)"
      ]
     },
     "execution_count": 12,
     "metadata": {},
     "output_type": "execute_result"
    }
   ],
   "source": [
    "irisDBS.fit_predict(x_scaled)"
   ]
  },
  {
   "cell_type": "code",
   "execution_count": 13,
   "metadata": {},
   "outputs": [],
   "source": [
    "# 정답지와 하나로 묶기\n",
    "\n",
    "import pandas as pd\n",
    "irisDF=pd.DataFrame(x_scaled)"
   ]
  },
  {
   "cell_type": "code",
   "execution_count": 14,
   "metadata": {},
   "outputs": [],
   "source": [
    "irisDF['dbscan_cluster']=dbscan.labels_\n",
    "irisDF['target']=y"
   ]
  },
  {
   "cell_type": "code",
   "execution_count": 16,
   "metadata": {},
   "outputs": [],
   "source": [
    "iris_result=irisDF.groupby(['target'])['dbscan_cluster'].value_counts()"
   ]
  },
  {
   "cell_type": "code",
   "execution_count": 17,
   "metadata": {},
   "outputs": [
    {
     "data": {
      "text/plain": [
       "target  dbscan_cluster\n",
       "0        0                45\n",
       "        -1                 5\n",
       "1        1                40\n",
       "        -1                10\n",
       "2        1                33\n",
       "        -1                17\n",
       "Name: dbscan_cluster, dtype: int64"
      ]
     },
     "execution_count": 17,
     "metadata": {},
     "output_type": "execute_result"
    }
   ],
   "source": [
    "iris_result"
   ]
  },
  {
   "cell_type": "code",
   "execution_count": 18,
   "metadata": {},
   "outputs": [
    {
     "data": {
      "text/plain": [
       "72.0"
      ]
     },
     "execution_count": 18,
     "metadata": {},
     "output_type": "execute_result"
    }
   ],
   "source": []
  },
  {
   "cell_type": "code",
   "execution_count": null,
   "metadata": {},
   "outputs": [],
   "source": []
  }
 ],
 "metadata": {
  "kernelspec": {
   "display_name": "Python 3.9.13 ('base')",
   "language": "python",
   "name": "python3"
  },
  "language_info": {
   "codemirror_mode": {
    "name": "ipython",
    "version": 3
   },
   "file_extension": ".py",
   "mimetype": "text/x-python",
   "name": "python",
   "nbconvert_exporter": "python",
   "pygments_lexer": "ipython3",
   "version": "3.9.13"
  },
  "orig_nbformat": 4,
  "vscode": {
   "interpreter": {
    "hash": "ad2bdc8ecc057115af97d19610ffacc2b4e99fae6737bb82f5d7fb13d2f2c186"
   }
  }
 },
 "nbformat": 4,
 "nbformat_minor": 2
}
