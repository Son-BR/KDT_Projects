{
 "cells": [
  {
   "cell_type": "code",
   "execution_count": 66,
   "metadata": {},
   "outputs": [],
   "source": [
    "# 모듈 로딩\n",
    "import tensorflow as tf\n",
    "from keras import Sequential              # 모델 객체 \n",
    "from keras.layers import Dense            # 레이어 객체\n",
    "from keras.layers import Dropout            # 레이어 객체\n",
    "\n",
    "import numpy as np\n",
    "from keras.datasets.boston_housing import load_data"
   ]
  },
  {
   "cell_type": "markdown",
   "metadata": {},
   "source": [
    "### [1] 데이터 로딩"
   ]
  },
  {
   "cell_type": "code",
   "execution_count": 3,
   "metadata": {},
   "outputs": [],
   "source": [
    "# 학습용 : 테스트용 = 8 : 2\n",
    "(x_train, y_train), (x_test, y_test) = load_data()"
   ]
  },
  {
   "cell_type": "code",
   "execution_count": 4,
   "metadata": {},
   "outputs": [
    {
     "data": {
      "text/plain": [
       "((404, 13), (404,))"
      ]
     },
     "execution_count": 4,
     "metadata": {},
     "output_type": "execute_result"
    }
   ],
   "source": [
    "x_train.shape, y_train.shape"
   ]
  },
  {
   "cell_type": "code",
   "execution_count": 5,
   "metadata": {},
   "outputs": [
    {
     "data": {
      "text/plain": [
       "(array([  1.23247,   0.     ,   8.14   ,   0.     ,   0.538  ,   6.142  ,\n",
       "         91.7    ,   3.9769 ,   4.     , 307.     ,  21.     , 396.9    ,\n",
       "         18.72   ]),\n",
       " 15.2)"
      ]
     },
     "execution_count": 5,
     "metadata": {},
     "output_type": "execute_result"
    }
   ],
   "source": [
    "x_train[0], y_train[0]"
   ]
  },
  {
   "cell_type": "markdown",
   "metadata": {},
   "source": [
    "### [1-1] 전처리\n",
    "---\n",
    " - 특성(Feature) 전처리\n",
    "   - 수치 데이터: 값의 범위\n",
    "   - 문자 데이터: 수치화 "
   ]
  },
  {
   "cell_type": "code",
   "execution_count": 54,
   "metadata": {},
   "outputs": [],
   "source": [
    "from sklearn.preprocessing import StandardScaler, MinMaxScaler, RobustScaler"
   ]
  },
  {
   "cell_type": "code",
   "execution_count": 62,
   "metadata": {},
   "outputs": [],
   "source": [
    "scaler=StandardScaler()"
   ]
  },
  {
   "cell_type": "code",
   "execution_count": 65,
   "metadata": {},
   "outputs": [
    {
     "data": {
      "text/html": [
       "<style>#sk-container-id-3 {color: black;background-color: white;}#sk-container-id-3 pre{padding: 0;}#sk-container-id-3 div.sk-toggleable {background-color: white;}#sk-container-id-3 label.sk-toggleable__label {cursor: pointer;display: block;width: 100%;margin-bottom: 0;padding: 0.3em;box-sizing: border-box;text-align: center;}#sk-container-id-3 label.sk-toggleable__label-arrow:before {content: \"▸\";float: left;margin-right: 0.25em;color: #696969;}#sk-container-id-3 label.sk-toggleable__label-arrow:hover:before {color: black;}#sk-container-id-3 div.sk-estimator:hover label.sk-toggleable__label-arrow:before {color: black;}#sk-container-id-3 div.sk-toggleable__content {max-height: 0;max-width: 0;overflow: hidden;text-align: left;background-color: #f0f8ff;}#sk-container-id-3 div.sk-toggleable__content pre {margin: 0.2em;color: black;border-radius: 0.25em;background-color: #f0f8ff;}#sk-container-id-3 input.sk-toggleable__control:checked~div.sk-toggleable__content {max-height: 200px;max-width: 100%;overflow: auto;}#sk-container-id-3 input.sk-toggleable__control:checked~label.sk-toggleable__label-arrow:before {content: \"▾\";}#sk-container-id-3 div.sk-estimator input.sk-toggleable__control:checked~label.sk-toggleable__label {background-color: #d4ebff;}#sk-container-id-3 div.sk-label input.sk-toggleable__control:checked~label.sk-toggleable__label {background-color: #d4ebff;}#sk-container-id-3 input.sk-hidden--visually {border: 0;clip: rect(1px 1px 1px 1px);clip: rect(1px, 1px, 1px, 1px);height: 1px;margin: -1px;overflow: hidden;padding: 0;position: absolute;width: 1px;}#sk-container-id-3 div.sk-estimator {font-family: monospace;background-color: #f0f8ff;border: 1px dotted black;border-radius: 0.25em;box-sizing: border-box;margin-bottom: 0.5em;}#sk-container-id-3 div.sk-estimator:hover {background-color: #d4ebff;}#sk-container-id-3 div.sk-parallel-item::after {content: \"\";width: 100%;border-bottom: 1px solid gray;flex-grow: 1;}#sk-container-id-3 div.sk-label:hover label.sk-toggleable__label {background-color: #d4ebff;}#sk-container-id-3 div.sk-serial::before {content: \"\";position: absolute;border-left: 1px solid gray;box-sizing: border-box;top: 0;bottom: 0;left: 50%;z-index: 0;}#sk-container-id-3 div.sk-serial {display: flex;flex-direction: column;align-items: center;background-color: white;padding-right: 0.2em;padding-left: 0.2em;position: relative;}#sk-container-id-3 div.sk-item {position: relative;z-index: 1;}#sk-container-id-3 div.sk-parallel {display: flex;align-items: stretch;justify-content: center;background-color: white;position: relative;}#sk-container-id-3 div.sk-item::before, #sk-container-id-3 div.sk-parallel-item::before {content: \"\";position: absolute;border-left: 1px solid gray;box-sizing: border-box;top: 0;bottom: 0;left: 50%;z-index: -1;}#sk-container-id-3 div.sk-parallel-item {display: flex;flex-direction: column;z-index: 1;position: relative;background-color: white;}#sk-container-id-3 div.sk-parallel-item:first-child::after {align-self: flex-end;width: 50%;}#sk-container-id-3 div.sk-parallel-item:last-child::after {align-self: flex-start;width: 50%;}#sk-container-id-3 div.sk-parallel-item:only-child::after {width: 0;}#sk-container-id-3 div.sk-dashed-wrapped {border: 1px dashed gray;margin: 0 0.4em 0.5em 0.4em;box-sizing: border-box;padding-bottom: 0.4em;background-color: white;}#sk-container-id-3 div.sk-label label {font-family: monospace;font-weight: bold;display: inline-block;line-height: 1.2em;}#sk-container-id-3 div.sk-label-container {text-align: center;}#sk-container-id-3 div.sk-container {/* jupyter's `normalize.less` sets `[hidden] { display: none; }` but bootstrap.min.css set `[hidden] { display: none !important; }` so we also need the `!important` here to be able to override the default hidden behavior on the sphinx rendered scikit-learn.org. See: https://github.com/scikit-learn/scikit-learn/issues/21755 */display: inline-block !important;position: relative;}#sk-container-id-3 div.sk-text-repr-fallback {display: none;}</style><div id=\"sk-container-id-3\" class=\"sk-top-container\"><div class=\"sk-text-repr-fallback\"><pre>StandardScaler()</pre><b>In a Jupyter environment, please rerun this cell to show the HTML representation or trust the notebook. <br />On GitHub, the HTML representation is unable to render, please try loading this page with nbviewer.org.</b></div><div class=\"sk-container\" hidden><div class=\"sk-item\"><div class=\"sk-estimator sk-toggleable\"><input class=\"sk-toggleable__control sk-hidden--visually\" id=\"sk-estimator-id-3\" type=\"checkbox\" checked><label for=\"sk-estimator-id-3\" class=\"sk-toggleable__label sk-toggleable__label-arrow\">StandardScaler</label><div class=\"sk-toggleable__content\"><pre>StandardScaler()</pre></div></div></div></div></div>"
      ],
      "text/plain": [
       "StandardScaler()"
      ]
     },
     "execution_count": 65,
     "metadata": {},
     "output_type": "execute_result"
    }
   ],
   "source": [
    "scaler.fit(x_train)"
   ]
  },
  {
   "cell_type": "code",
   "execution_count": 57,
   "metadata": {},
   "outputs": [
    {
     "data": {
      "text/plain": [
       "(array([3.74511057e+00, 1.14801980e+01, 1.11044307e+01, 6.18811881e-02,\n",
       "        5.57355941e-01, 6.26708168e+00, 6.90106436e+01, 3.74027079e+00,\n",
       "        9.44059406e+00, 4.05898515e+02, 1.84759901e+01, 3.54783168e+02,\n",
       "        1.27408168e+01]),\n",
       " array([9.22929073e+00, 2.37382770e+01, 6.80287253e+00, 2.40939633e-01,\n",
       "        1.17147847e-01, 7.08908627e-01, 2.79060634e+01, 2.02770050e+00,\n",
       "        8.68758849e+00, 1.66168506e+02, 2.19765689e+00, 9.39946015e+01,\n",
       "        7.24556085e+00]))"
      ]
     },
     "execution_count": 57,
     "metadata": {},
     "output_type": "execute_result"
    }
   ],
   "source": [
    "scaler.mean_, scaler.scale_"
   ]
  },
  {
   "cell_type": "code",
   "execution_count": 59,
   "metadata": {},
   "outputs": [],
   "source": [
    "x_train_scaled=scaler.transform(x_train)"
   ]
  },
  {
   "cell_type": "code",
   "execution_count": 61,
   "metadata": {},
   "outputs": [
    {
     "data": {
      "text/plain": [
       "array([[-0.27224633, -0.48361547, -0.43576161, ...,  1.14850044,\n",
       "         0.44807713,  0.8252202 ],\n",
       "       [-0.40342651,  2.99178419, -1.33391162, ..., -1.71818909,\n",
       "         0.43190599, -1.32920239],\n",
       "       [ 0.1249402 , -0.48361547,  1.0283258 , ...,  0.78447637,\n",
       "         0.22061726, -1.30850006],\n",
       "       ...,\n",
       "       [-0.40202987,  0.99079651, -0.7415148 , ..., -0.71712291,\n",
       "         0.07943894, -0.67776904],\n",
       "       [-0.17292018, -0.48361547,  1.24588095, ..., -1.71818909,\n",
       "        -0.98764362,  0.42083466],\n",
       "       [-0.40422614,  2.04394792, -1.20161456, ..., -1.30866202,\n",
       "         0.23317118, -1.15392266]])"
      ]
     },
     "execution_count": 61,
     "metadata": {},
     "output_type": "execute_result"
    }
   ],
   "source": []
  },
  {
   "cell_type": "code",
   "execution_count": null,
   "metadata": {},
   "outputs": [],
   "source": []
  },
  {
   "cell_type": "code",
   "execution_count": null,
   "metadata": {},
   "outputs": [],
   "source": []
  },
  {
   "cell_type": "markdown",
   "metadata": {},
   "source": [
    "### [2] NN Model 실습\n",
    "---\n",
    " - (1) 모델 구상\n",
    " - (2) 모델 생성\n",
    " - (3) 학습\n",
    " - (4) 평가\n",
    " - (5) 테스트\n",
    "\n",
    "#### [2-1] 모델 구상\n",
    " - 입력 데이터 -> 13개 Features\n",
    " - 출력 데이터 -> 1개 집값  \n",
    " - 학슥 방법: 회귀  \n",
    "\n",
    "-> Dense Layer: node=1 af=linear, inpu_shape=(13,)\n",
    " "
   ]
  },
  {
   "cell_type": "code",
   "execution_count": 78,
   "metadata": {},
   "outputs": [],
   "source": [
    "# NN Model의 Layer를 층층이 담아서 관리하는 객체\n",
    "model=Sequential()"
   ]
  },
  {
   "cell_type": "code",
   "execution_count": 79,
   "metadata": {},
   "outputs": [],
   "source": [
    "# Layer 추가하기\n",
    "# model.add(input(shape=(13,),name='input')) # 첫 Dense 파라미터로 안넣고 직접 입력\n",
    "model.add(Dense(30, activation='relu', input_shape=(13,), name='hidden-1')) # 노드수, 활성함수, 입력특성수\n",
    "\n",
    "# 과적합 해결하기 위해서 지정된 비율만큼 노드를 비활성화\n",
    "model.add(Dropout(0.5))\n",
    "model.add(Dense(10, activation='relu', name='hidden-2'))\n",
    "\n",
    "# 회귀 출력층\n",
    "model.add(Dense(1, activation='linear', name='output'))"
   ]
  },
  {
   "cell_type": "code",
   "execution_count": 80,
   "metadata": {},
   "outputs": [
    {
     "name": "stdout",
     "output_type": "stream",
     "text": [
      "Model: \"sequential_7\"\n",
      "_________________________________________________________________\n",
      " Layer (type)                Output Shape              Param #   \n",
      "=================================================================\n",
      " hidden-1 (Dense)            (None, 30)                420       \n",
      "                                                                 \n",
      " dropout_2 (Dropout)         (None, 30)                0         \n",
      "                                                                 \n",
      " hidden-2 (Dense)            (None, 10)                310       \n",
      "                                                                 \n",
      " output (Dense)              (None, 1)                 11        \n",
      "                                                                 \n",
      "=================================================================\n",
      "Total params: 741\n",
      "Trainable params: 741\n",
      "Non-trainable params: 0\n",
      "_________________________________________________________________\n"
     ]
    }
   ],
   "source": [
    "# 모델 구성 확인 -> summary()\n",
    "model.summary()"
   ]
  },
  {
   "cell_type": "markdown",
   "metadata": {},
   "source": [
    "#### [2-2] 모델 생성\n",
    "---\n",
    " - Sequential 클래스의 compile 메서드\n",
    " - 모델이 동장하기 위해서 필요한 설정\n",
    "   - 오차 계산 함수 설정 -> loss\n",
    "     - 회귀: mae, mse, rmse\n",
    "     - 분류: crossentropy\n",
    "       - 이진분류: binary_crossentropy\n",
    "       - 다중분류: categorical_crossentropy(타겟 원핫인코딩o)  \n",
    "       sparse_categorical_crossentropy(타겟 원핫인코딩X)\n",
    "   - W, B 최적화 방식 설정 -> optimizer\n",
    "     - 기본: rmsprop\n",
    "     - adam, momonent, ... 최적화 클래스 이름 문자열 입력\n",
    "   - 모델의 성능 측정 항목 설정 -> metrics\n",
    "     - 기본: loss\n",
    "     - 클래스 이름 문자열 입력\n",
    " - 파라미터 값들\n",
    "   - str 타입으로 입력 가능\n",
    "   - 객체 다입으로 입력 가능 "
   ]
  },
  {
   "cell_type": "code",
   "execution_count": 38,
   "metadata": {},
   "outputs": [],
   "source": [
    "model.compile(loss='mse', optimizer='adam', metrics='mse')"
   ]
  },
  {
   "cell_type": "markdown",
   "metadata": {},
   "source": [
    "### [2-3] 학습\n",
    "---\n",
    " - fit() 메서드\n",
    "   - 파라미터\n",
    "     - epochs: 처음~끝 학습횟수\n",
    "     - batch_size: 학습량 크기\n",
    "     - validation_split: 학습 데이터의 일부를 검증용으로 분리 0.0~1.0\n",
    "     - validation_data: (테스트데이터, 테스트타겟)\n",
    "     - callbacks: 학습 시 발생하는 이벤트 처리 함수 등록\n",
    "   - 반환값 -> History객체\n",
    "     - 형태: dict 형태\n",
    "     - 기본: 학습 데이터에 대한 loss값 저장\n",
    "     \n"
   ]
  },
  {
   "cell_type": "code",
   "execution_count": 39,
   "metadata": {},
   "outputs": [],
   "source": [
    "# 검증 데이터에 대한 loss값 3번 연속 개선되지 않으면 학습 중지\n",
    "from keras.callbacks import EarlyStopping\n",
    "\n",
    "stopCB=EarlyStopping(monitor='val_loss', patience=3)"
   ]
  },
  {
   "cell_type": "code",
   "execution_count": 40,
   "metadata": {},
   "outputs": [
    {
     "name": "stdout",
     "output_type": "stream",
     "text": [
      "Epoch 1/1000\n",
      "41/41 [==============================] - 1s 8ms/step - loss: 3504.1404 - mse: 3504.1404 - val_loss: 202.8909 - val_mse: 202.8909\n",
      "Epoch 2/1000\n",
      "41/41 [==============================] - 0s 6ms/step - loss: 224.8833 - mse: 224.8833 - val_loss: 118.6282 - val_mse: 118.6282\n",
      "Epoch 3/1000\n",
      "41/41 [==============================] - 0s 4ms/step - loss: 126.3962 - mse: 126.3962 - val_loss: 97.7521 - val_mse: 97.7521\n",
      "Epoch 4/1000\n",
      "41/41 [==============================] - 0s 5ms/step - loss: 104.7888 - mse: 104.7888 - val_loss: 88.7350 - val_mse: 88.7350\n",
      "Epoch 5/1000\n",
      "41/41 [==============================] - 0s 5ms/step - loss: 94.4036 - mse: 94.4036 - val_loss: 81.8201 - val_mse: 81.8201\n",
      "Epoch 6/1000\n",
      "41/41 [==============================] - 0s 5ms/step - loss: 87.3065 - mse: 87.3065 - val_loss: 76.6876 - val_mse: 76.6876\n",
      "Epoch 7/1000\n",
      "41/41 [==============================] - 0s 4ms/step - loss: 82.2180 - mse: 82.2180 - val_loss: 78.5803 - val_mse: 78.5803\n",
      "Epoch 8/1000\n",
      "41/41 [==============================] - 0s 5ms/step - loss: 77.4252 - mse: 77.4252 - val_loss: 75.2599 - val_mse: 75.2599\n",
      "Epoch 9/1000\n",
      "41/41 [==============================] - 0s 5ms/step - loss: 72.2215 - mse: 72.2215 - val_loss: 66.2272 - val_mse: 66.2272\n",
      "Epoch 10/1000\n",
      "41/41 [==============================] - 0s 5ms/step - loss: 71.8356 - mse: 71.8356 - val_loss: 64.8749 - val_mse: 64.8749\n",
      "Epoch 11/1000\n",
      "41/41 [==============================] - 0s 6ms/step - loss: 66.0159 - mse: 66.0159 - val_loss: 63.3905 - val_mse: 63.3905\n",
      "Epoch 12/1000\n",
      "41/41 [==============================] - 0s 5ms/step - loss: 66.7859 - mse: 66.7859 - val_loss: 65.1681 - val_mse: 65.1681\n",
      "Epoch 13/1000\n",
      "41/41 [==============================] - 0s 4ms/step - loss: 62.8480 - mse: 62.8480 - val_loss: 60.8898 - val_mse: 60.8898\n",
      "Epoch 14/1000\n",
      "41/41 [==============================] - 0s 3ms/step - loss: 61.5592 - mse: 61.5592 - val_loss: 62.9383 - val_mse: 62.9383\n",
      "Epoch 15/1000\n",
      "41/41 [==============================] - 0s 3ms/step - loss: 60.3408 - mse: 60.3408 - val_loss: 60.6777 - val_mse: 60.6777\n",
      "Epoch 16/1000\n",
      "41/41 [==============================] - 0s 3ms/step - loss: 56.9560 - mse: 56.9560 - val_loss: 61.0443 - val_mse: 61.0443\n",
      "Epoch 17/1000\n",
      "41/41 [==============================] - 0s 3ms/step - loss: 55.2295 - mse: 55.2295 - val_loss: 65.7663 - val_mse: 65.7663\n",
      "Epoch 18/1000\n",
      "41/41 [==============================] - 0s 3ms/step - loss: 55.0396 - mse: 55.0396 - val_loss: 57.0127 - val_mse: 57.0127\n",
      "Epoch 19/1000\n",
      "41/41 [==============================] - 0s 4ms/step - loss: 52.5936 - mse: 52.5936 - val_loss: 60.2154 - val_mse: 60.2154\n",
      "Epoch 20/1000\n",
      "41/41 [==============================] - 0s 6ms/step - loss: 52.8833 - mse: 52.8833 - val_loss: 54.5067 - val_mse: 54.5067\n",
      "Epoch 21/1000\n",
      "41/41 [==============================] - 0s 6ms/step - loss: 53.7701 - mse: 53.7701 - val_loss: 57.3322 - val_mse: 57.3322\n",
      "Epoch 22/1000\n",
      "41/41 [==============================] - 0s 6ms/step - loss: 50.0373 - mse: 50.0373 - val_loss: 53.7538 - val_mse: 53.7538\n",
      "Epoch 23/1000\n",
      "41/41 [==============================] - 0s 4ms/step - loss: 50.1182 - mse: 50.1182 - val_loss: 58.9394 - val_mse: 58.9394\n",
      "Epoch 24/1000\n",
      "41/41 [==============================] - 0s 4ms/step - loss: 47.4756 - mse: 47.4756 - val_loss: 55.2486 - val_mse: 55.2486\n",
      "Epoch 25/1000\n",
      "41/41 [==============================] - 0s 3ms/step - loss: 47.3023 - mse: 47.3023 - val_loss: 51.6432 - val_mse: 51.6432\n",
      "Epoch 26/1000\n",
      "41/41 [==============================] - 0s 3ms/step - loss: 46.1772 - mse: 46.1772 - val_loss: 55.4531 - val_mse: 55.4531\n",
      "Epoch 27/1000\n",
      "41/41 [==============================] - 0s 4ms/step - loss: 48.9418 - mse: 48.9418 - val_loss: 49.2762 - val_mse: 49.2762\n",
      "Epoch 28/1000\n",
      "41/41 [==============================] - 0s 5ms/step - loss: 44.8959 - mse: 44.8959 - val_loss: 55.2721 - val_mse: 55.2721\n",
      "Epoch 29/1000\n",
      "41/41 [==============================] - 0s 5ms/step - loss: 43.8746 - mse: 43.8746 - val_loss: 47.5004 - val_mse: 47.5004\n",
      "Epoch 30/1000\n",
      "41/41 [==============================] - 0s 6ms/step - loss: 43.8012 - mse: 43.8012 - val_loss: 48.5177 - val_mse: 48.5177\n",
      "Epoch 31/1000\n",
      "41/41 [==============================] - 0s 5ms/step - loss: 41.1823 - mse: 41.1823 - val_loss: 48.2561 - val_mse: 48.2561\n",
      "Epoch 32/1000\n",
      "41/41 [==============================] - 0s 5ms/step - loss: 41.3527 - mse: 41.3527 - val_loss: 45.0625 - val_mse: 45.0625\n",
      "Epoch 33/1000\n",
      "41/41 [==============================] - 0s 5ms/step - loss: 39.1055 - mse: 39.1055 - val_loss: 42.1567 - val_mse: 42.1567\n",
      "Epoch 34/1000\n",
      "41/41 [==============================] - 0s 5ms/step - loss: 39.7655 - mse: 39.7655 - val_loss: 47.5027 - val_mse: 47.5027\n",
      "Epoch 35/1000\n",
      "41/41 [==============================] - 0s 5ms/step - loss: 38.5118 - mse: 38.5118 - val_loss: 41.6840 - val_mse: 41.6840\n",
      "Epoch 36/1000\n",
      "41/41 [==============================] - 0s 5ms/step - loss: 38.2399 - mse: 38.2399 - val_loss: 41.3650 - val_mse: 41.3650\n",
      "Epoch 37/1000\n",
      "41/41 [==============================] - 0s 5ms/step - loss: 37.0176 - mse: 37.0176 - val_loss: 39.4291 - val_mse: 39.4291\n",
      "Epoch 38/1000\n",
      "41/41 [==============================] - 0s 5ms/step - loss: 34.7206 - mse: 34.7206 - val_loss: 37.9759 - val_mse: 37.9759\n",
      "Epoch 39/1000\n",
      "41/41 [==============================] - 0s 4ms/step - loss: 36.2128 - mse: 36.2128 - val_loss: 39.4105 - val_mse: 39.4105\n",
      "Epoch 40/1000\n",
      "41/41 [==============================] - 0s 5ms/step - loss: 32.2044 - mse: 32.2044 - val_loss: 38.5177 - val_mse: 38.5177\n",
      "Epoch 41/1000\n",
      "41/41 [==============================] - 0s 5ms/step - loss: 33.8138 - mse: 33.8138 - val_loss: 40.4998 - val_mse: 40.4998\n"
     ]
    }
   ],
   "source": [
    "result=model.fit(x_train, y_train,\n",
    "                 epochs=1000,\n",
    "                 batch_size=10,\n",
    "                 validation_data=(x_test, y_test),\n",
    "                 callbacks=[stopCB])"
   ]
  },
  {
   "cell_type": "code",
   "execution_count": 41,
   "metadata": {},
   "outputs": [
    {
     "data": {
      "text/plain": [
       "(keras.callbacks.History,\n",
       " {'loss': [3504.140380859375,\n",
       "   224.88333129882812,\n",
       "   126.396240234375,\n",
       "   104.7888412475586,\n",
       "   94.4035873413086,\n",
       "   87.3065185546875,\n",
       "   82.21797943115234,\n",
       "   77.42516326904297,\n",
       "   72.22145080566406,\n",
       "   71.83560943603516,\n",
       "   66.01593780517578,\n",
       "   66.78592681884766,\n",
       "   62.84801483154297,\n",
       "   61.5592041015625,\n",
       "   60.34083938598633,\n",
       "   56.95599365234375,\n",
       "   55.2294921875,\n",
       "   55.039634704589844,\n",
       "   52.59355545043945,\n",
       "   52.88325881958008,\n",
       "   53.77008056640625,\n",
       "   50.03729248046875,\n",
       "   50.11823272705078,\n",
       "   47.47563934326172,\n",
       "   47.302303314208984,\n",
       "   46.17718505859375,\n",
       "   48.94182586669922,\n",
       "   44.89586639404297,\n",
       "   43.87455368041992,\n",
       "   43.80120849609375,\n",
       "   41.1822624206543,\n",
       "   41.35270309448242,\n",
       "   39.105499267578125,\n",
       "   39.76545333862305,\n",
       "   38.51184844970703,\n",
       "   38.2398796081543,\n",
       "   37.01763153076172,\n",
       "   34.7205924987793,\n",
       "   36.21277618408203,\n",
       "   32.20443344116211,\n",
       "   33.81383514404297],\n",
       "  'mse': [3504.140380859375,\n",
       "   224.88333129882812,\n",
       "   126.396240234375,\n",
       "   104.7888412475586,\n",
       "   94.4035873413086,\n",
       "   87.3065185546875,\n",
       "   82.21797943115234,\n",
       "   77.42516326904297,\n",
       "   72.22145080566406,\n",
       "   71.83560943603516,\n",
       "   66.01593780517578,\n",
       "   66.78592681884766,\n",
       "   62.84801483154297,\n",
       "   61.5592041015625,\n",
       "   60.34083938598633,\n",
       "   56.95599365234375,\n",
       "   55.2294921875,\n",
       "   55.039634704589844,\n",
       "   52.59355545043945,\n",
       "   52.88325881958008,\n",
       "   53.77008056640625,\n",
       "   50.03729248046875,\n",
       "   50.11823272705078,\n",
       "   47.47563934326172,\n",
       "   47.302303314208984,\n",
       "   46.17718505859375,\n",
       "   48.94182586669922,\n",
       "   44.89586639404297,\n",
       "   43.87455368041992,\n",
       "   43.80120849609375,\n",
       "   41.1822624206543,\n",
       "   41.35270309448242,\n",
       "   39.105499267578125,\n",
       "   39.76545333862305,\n",
       "   38.51184844970703,\n",
       "   38.2398796081543,\n",
       "   37.01763153076172,\n",
       "   34.7205924987793,\n",
       "   36.21277618408203,\n",
       "   32.20443344116211,\n",
       "   33.81383514404297],\n",
       "  'val_loss': [202.890869140625,\n",
       "   118.62823486328125,\n",
       "   97.75206756591797,\n",
       "   88.73497772216797,\n",
       "   81.82013702392578,\n",
       "   76.68763732910156,\n",
       "   78.58029174804688,\n",
       "   75.25988006591797,\n",
       "   66.22724914550781,\n",
       "   64.8748550415039,\n",
       "   63.39048767089844,\n",
       "   65.16807556152344,\n",
       "   60.889835357666016,\n",
       "   62.93832778930664,\n",
       "   60.67768478393555,\n",
       "   61.0443229675293,\n",
       "   65.76634979248047,\n",
       "   57.0126953125,\n",
       "   60.215354919433594,\n",
       "   54.506690979003906,\n",
       "   57.33219909667969,\n",
       "   53.7537727355957,\n",
       "   58.93943405151367,\n",
       "   55.24858474731445,\n",
       "   51.64318084716797,\n",
       "   55.45308303833008,\n",
       "   49.27618408203125,\n",
       "   55.27208709716797,\n",
       "   47.50035858154297,\n",
       "   48.51773452758789,\n",
       "   48.256065368652344,\n",
       "   45.062496185302734,\n",
       "   42.15671920776367,\n",
       "   47.502742767333984,\n",
       "   41.68402862548828,\n",
       "   41.36502456665039,\n",
       "   39.429141998291016,\n",
       "   37.97588348388672,\n",
       "   39.41047286987305,\n",
       "   38.51771926879883,\n",
       "   40.49980545043945],\n",
       "  'val_mse': [202.890869140625,\n",
       "   118.62823486328125,\n",
       "   97.75206756591797,\n",
       "   88.73497772216797,\n",
       "   81.82013702392578,\n",
       "   76.68763732910156,\n",
       "   78.58029174804688,\n",
       "   75.25988006591797,\n",
       "   66.22724914550781,\n",
       "   64.8748550415039,\n",
       "   63.39048767089844,\n",
       "   65.16807556152344,\n",
       "   60.889835357666016,\n",
       "   62.93832778930664,\n",
       "   60.67768478393555,\n",
       "   61.0443229675293,\n",
       "   65.76634979248047,\n",
       "   57.0126953125,\n",
       "   60.215354919433594,\n",
       "   54.506690979003906,\n",
       "   57.33219909667969,\n",
       "   53.7537727355957,\n",
       "   58.939430236816406,\n",
       "   55.24858474731445,\n",
       "   51.64318084716797,\n",
       "   55.45308303833008,\n",
       "   49.27618408203125,\n",
       "   55.27208709716797,\n",
       "   47.50035858154297,\n",
       "   48.51773452758789,\n",
       "   48.256065368652344,\n",
       "   45.062496185302734,\n",
       "   42.15671920776367,\n",
       "   47.502742767333984,\n",
       "   41.68402862548828,\n",
       "   41.36502456665039,\n",
       "   39.429141998291016,\n",
       "   37.97588348388672,\n",
       "   39.41046905517578,\n",
       "   38.51771926879883,\n",
       "   40.49980545043945]})"
      ]
     },
     "execution_count": 41,
     "metadata": {},
     "output_type": "execute_result"
    }
   ],
   "source": [
    "# 학습 후 학습 결과 체크 -> History 객체\n",
    "type(result), result.history"
   ]
  },
  {
   "cell_type": "code",
   "execution_count": 42,
   "metadata": {},
   "outputs": [
    {
     "data": {
      "text/plain": [
       "{'verbose': 1, 'epochs': 1000, 'steps': 41}"
      ]
     },
     "execution_count": 42,
     "metadata": {},
     "output_type": "execute_result"
    }
   ],
   "source": [
    "result.params"
   ]
  },
  {
   "cell_type": "code",
   "execution_count": 43,
   "metadata": {},
   "outputs": [
    {
     "data": {
      "text/plain": [
       "dict_keys(['loss', 'mse', 'val_loss', 'val_mse'])"
      ]
     },
     "execution_count": 43,
     "metadata": {},
     "output_type": "execute_result"
    }
   ],
   "source": [
    "result.history.keys()"
   ]
  },
  {
   "cell_type": "code",
   "execution_count": 44,
   "metadata": {},
   "outputs": [
    {
     "data": {
      "text/plain": [
       "[3504.140380859375,\n",
       " 224.88333129882812,\n",
       " 126.396240234375,\n",
       " 104.7888412475586,\n",
       " 94.4035873413086,\n",
       " 87.3065185546875,\n",
       " 82.21797943115234,\n",
       " 77.42516326904297,\n",
       " 72.22145080566406,\n",
       " 71.83560943603516,\n",
       " 66.01593780517578,\n",
       " 66.78592681884766,\n",
       " 62.84801483154297,\n",
       " 61.5592041015625,\n",
       " 60.34083938598633,\n",
       " 56.95599365234375,\n",
       " 55.2294921875,\n",
       " 55.039634704589844,\n",
       " 52.59355545043945,\n",
       " 52.88325881958008,\n",
       " 53.77008056640625,\n",
       " 50.03729248046875,\n",
       " 50.11823272705078,\n",
       " 47.47563934326172,\n",
       " 47.302303314208984,\n",
       " 46.17718505859375,\n",
       " 48.94182586669922,\n",
       " 44.89586639404297,\n",
       " 43.87455368041992,\n",
       " 43.80120849609375,\n",
       " 41.1822624206543,\n",
       " 41.35270309448242,\n",
       " 39.105499267578125,\n",
       " 39.76545333862305,\n",
       " 38.51184844970703,\n",
       " 38.2398796081543,\n",
       " 37.01763153076172,\n",
       " 34.7205924987793,\n",
       " 36.21277618408203,\n",
       " 32.20443344116211,\n",
       " 33.81383514404297]"
      ]
     },
     "execution_count": 44,
     "metadata": {},
     "output_type": "execute_result"
    }
   ],
   "source": [
    "result.history['loss'] # 각 에포크 끝날때마다 로스율 저장"
   ]
  },
  {
   "cell_type": "code",
   "execution_count": 45,
   "metadata": {},
   "outputs": [
    {
     "data": {
      "text/plain": [
       "[3504.140380859375,\n",
       " 224.88333129882812,\n",
       " 126.396240234375,\n",
       " 104.7888412475586,\n",
       " 94.4035873413086,\n",
       " 87.3065185546875,\n",
       " 82.21797943115234,\n",
       " 77.42516326904297,\n",
       " 72.22145080566406,\n",
       " 71.83560943603516,\n",
       " 66.01593780517578,\n",
       " 66.78592681884766,\n",
       " 62.84801483154297,\n",
       " 61.5592041015625,\n",
       " 60.34083938598633,\n",
       " 56.95599365234375,\n",
       " 55.2294921875,\n",
       " 55.039634704589844,\n",
       " 52.59355545043945,\n",
       " 52.88325881958008,\n",
       " 53.77008056640625,\n",
       " 50.03729248046875,\n",
       " 50.11823272705078,\n",
       " 47.47563934326172,\n",
       " 47.302303314208984,\n",
       " 46.17718505859375,\n",
       " 48.94182586669922,\n",
       " 44.89586639404297,\n",
       " 43.87455368041992,\n",
       " 43.80120849609375,\n",
       " 41.1822624206543,\n",
       " 41.35270309448242,\n",
       " 39.105499267578125,\n",
       " 39.76545333862305,\n",
       " 38.51184844970703,\n",
       " 38.2398796081543,\n",
       " 37.01763153076172,\n",
       " 34.7205924987793,\n",
       " 36.21277618408203,\n",
       " 32.20443344116211,\n",
       " 33.81383514404297]"
      ]
     },
     "execution_count": 45,
     "metadata": {},
     "output_type": "execute_result"
    }
   ],
   "source": [
    "result.history['mse']"
   ]
  },
  {
   "cell_type": "code",
   "execution_count": null,
   "metadata": {},
   "outputs": [],
   "source": []
  },
  {
   "cell_type": "code",
   "execution_count": 47,
   "metadata": {},
   "outputs": [
    {
     "data": {
      "image/png": "[encoded data removed]",
      "text/plain": [
       "<Figure size 640x480 with 1 Axes>"
      ]
     },
     "metadata": {},
     "output_type": "display_data"
    }
   ],
   "source": [
    "# 메모리 에러남\n",
    "import os\n",
    "os.environ[\"KMP_DUPLICATE_LIB_OK\"]=\"TRUE\"\n",
    "\n",
    "# 시각화\n",
    "import matplotlib.pyplot as plt\n",
    "plt.plot(result.epoch, result.history['loss'], label='loss')\n",
    "plt.plot(result.epoch, result.history['val_loss'], label='val_loss')\n",
    "plt.legend()\n",
    "plt.show()"
   ]
  },
  {
   "cell_type": "markdown",
   "metadata": {},
   "source": [
    "### [2-4] 평가\n",
    "---\n",
    " - evaluate() 메서드\n",
    "   - 파라미터: test_data, test_target\n",
    "   - 반환값: loss, compile()의 matrics에서 설정한 항목값"
   ]
  },
  {
   "cell_type": "code",
   "execution_count": 48,
   "metadata": {},
   "outputs": [
    {
     "name": "stdout",
     "output_type": "stream",
     "text": [
      "4/4 [==============================] - 0s 4ms/step - loss: 40.4998 - mse: 40.4998\n"
     ]
    }
   ],
   "source": [
    "eRet=model.evaluate(x_test, y_test)"
   ]
  },
  {
   "cell_type": "code",
   "execution_count": 49,
   "metadata": {},
   "outputs": [
    {
     "data": {
      "text/plain": [
       "[40.49979782104492, 40.49979782104492]"
      ]
     },
     "execution_count": 49,
     "metadata": {},
     "output_type": "execute_result"
    }
   ],
   "source": [
    "eRet"
   ]
  },
  {
   "cell_type": "markdown",
   "metadata": {},
   "source": [
    "### [2-5] 예측\n",
    "---\n",
    " - predict()"
   ]
  },
  {
   "cell_type": "code",
   "execution_count": 52,
   "metadata": {},
   "outputs": [
    {
     "name": "stdout",
     "output_type": "stream",
     "text": [
      "1/1 [==============================] - 0s 79ms/step\n"
     ]
    },
    {
     "data": {
      "text/plain": [
       "array([[17.764214]], dtype=float32)"
      ]
     },
     "execution_count": 52,
     "metadata": {},
     "output_type": "execute_result"
    }
   ],
   "source": [
    "# x_train[0] -> 1차원 배열\n",
    "# x_train[:1] -> 2차원 배열\n",
    "model.predict(x_train[:1])"
   ]
  },
  {
   "cell_type": "code",
   "execution_count": null,
   "metadata": {},
   "outputs": [],
   "source": []
  },
  {
   "cell_type": "code",
   "execution_count": null,
   "metadata": {},
   "outputs": [],
   "source": []
  },
  {
   "cell_type": "code",
   "execution_count": null,
   "metadata": {},
   "outputs": [],
   "source": []
  },
  {
   "cell_type": "code",
   "execution_count": null,
   "metadata": {},
   "outputs": [],
   "source": []
  },
  {
   "cell_type": "code",
   "execution_count": null,
   "metadata": {},
   "outputs": [],
   "source": []
  },
  {
   "cell_type": "code",
   "execution_count": null,
   "metadata": {},
   "outputs": [],
   "source": []
  },
  {
   "cell_type": "code",
   "execution_count": null,
   "metadata": {},
   "outputs": [],
   "source": []
  },
  {
   "cell_type": "code",
   "execution_count": null,
   "metadata": {},
   "outputs": [],
   "source": []
  }
 ],
 "metadata": {
  "kernelspec": {
   "display_name": "Python 3.9.13 ('base')",
   "language": "python",
   "name": "python3"
  },
  "language_info": {
   "codemirror_mode": {
    "name": "ipython",
    "version": 3
   },
   "file_extension": ".py",
   "mimetype": "text/x-python",
   "name": "python",
   "nbconvert_exporter": "python",
   "pygments_lexer": "ipython3",
   "version": "3.9.13"
  },
  "orig_nbformat": 4,
  "vscode": {
   "interpreter": {
    "hash": "ad2bdc8ecc057115af97d19610ffacc2b4e99fae6737bb82f5d7fb13d2f2c186"
   }
  }
 },
 "nbformat": 4,
 "nbformat_minor": 2
}
