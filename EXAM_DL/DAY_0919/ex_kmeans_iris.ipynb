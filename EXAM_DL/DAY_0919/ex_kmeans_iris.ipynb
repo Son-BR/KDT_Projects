{
 "cells": [
  {
   "cell_type": "markdown",
   "metadata": {},
   "source": [
    "## K-Means 분할적 군집화\n",
    "---\n",
    " - 저장된 K만큼 임의의 중심점(Centroid)을 지정\n",
    " - 중심점(Centroid)을 기준으로 가까운 거리에 있는 데이터를 하나의 군집으로 묶기\n",
    " - 군집마다 다시 중심점(Centroid) 계산\n",
    " - 중심점(Centroid) 이동이 더 이상 변경되지 않을때까지 반복하는 방법"
   ]
  },
  {
   "cell_type": "code",
   "execution_count": 1,
   "metadata": {},
   "outputs": [],
   "source": [
    "from sklearn.datasets import load_iris\n",
    "from sklearn.cluster import KMeans\n",
    "import matplotlib.pyplot as plt\n",
    "import numpy as np"
   ]
  },
  {
   "cell_type": "markdown",
   "metadata": {},
   "source": [
    "## [1] 데이터 로딩 및 준비"
   ]
  },
  {
   "cell_type": "code",
   "execution_count": 2,
   "metadata": {},
   "outputs": [],
   "source": [
    "iris=load_iris()"
   ]
  },
  {
   "cell_type": "code",
   "execution_count": 3,
   "metadata": {},
   "outputs": [],
   "source": [
    "data=iris.data"
   ]
  },
  {
   "cell_type": "code",
   "execution_count": 4,
   "metadata": {},
   "outputs": [
    {
     "data": {
      "text/plain": [
       "(150, 4)"
      ]
     },
     "execution_count": 4,
     "metadata": {},
     "output_type": "execute_result"
    }
   ],
   "source": [
    "data.shape"
   ]
  },
  {
   "cell_type": "code",
   "execution_count": 8,
   "metadata": {},
   "outputs": [
    {
     "data": {
      "text/plain": [
       "(150, 2)"
      ]
     },
     "execution_count": 8,
     "metadata": {},
     "output_type": "execute_result"
    }
   ],
   "source": [
    "data=data[:,:2]\n",
    "data.shape"
   ]
  },
  {
   "cell_type": "markdown",
   "metadata": {},
   "source": [
    "## [2] 데이터 처리"
   ]
  },
  {
   "cell_type": "code",
   "execution_count": 118,
   "metadata": {},
   "outputs": [],
   "source": [
    "irisCluster=KMeans(n_clusters=4)"
   ]
  },
  {
   "cell_type": "code",
   "execution_count": 119,
   "metadata": {},
   "outputs": [
    {
     "name": "stderr",
     "output_type": "stream",
     "text": [
      "c:\\ProgramData\\Anaconda3\\lib\\site-packages\\sklearn\\cluster\\_kmeans.py:1332: UserWarning: KMeans is known to have a memory leak on Windows with MKL, when there are less chunks than available threads. You can avoid it by setting the environment variable OMP_NUM_THREADS=1.\n",
      "  warnings.warn(\n"
     ]
    },
    {
     "data": {
      "text/html": [
       "<style>#sk-container-id-5 {color: black;background-color: white;}#sk-container-id-5 pre{padding: 0;}#sk-container-id-5 div.sk-toggleable {background-color: white;}#sk-container-id-5 label.sk-toggleable__label {cursor: pointer;display: block;width: 100%;margin-bottom: 0;padding: 0.3em;box-sizing: border-box;text-align: center;}#sk-container-id-5 label.sk-toggleable__label-arrow:before {content: \"▸\";float: left;margin-right: 0.25em;color: #696969;}#sk-container-id-5 label.sk-toggleable__label-arrow:hover:before {color: black;}#sk-container-id-5 div.sk-estimator:hover label.sk-toggleable__label-arrow:before {color: black;}#sk-container-id-5 div.sk-toggleable__content {max-height: 0;max-width: 0;overflow: hidden;text-align: left;background-color: #f0f8ff;}#sk-container-id-5 div.sk-toggleable__content pre {margin: 0.2em;color: black;border-radius: 0.25em;background-color: #f0f8ff;}#sk-container-id-5 input.sk-toggleable__control:checked~div.sk-toggleable__content {max-height: 200px;max-width: 100%;overflow: auto;}#sk-container-id-5 input.sk-toggleable__control:checked~label.sk-toggleable__label-arrow:before {content: \"▾\";}#sk-container-id-5 div.sk-estimator input.sk-toggleable__control:checked~label.sk-toggleable__label {background-color: #d4ebff;}#sk-container-id-5 div.sk-label input.sk-toggleable__control:checked~label.sk-toggleable__label {background-color: #d4ebff;}#sk-container-id-5 input.sk-hidden--visually {border: 0;clip: rect(1px 1px 1px 1px);clip: rect(1px, 1px, 1px, 1px);height: 1px;margin: -1px;overflow: hidden;padding: 0;position: absolute;width: 1px;}#sk-container-id-5 div.sk-estimator {font-family: monospace;background-color: #f0f8ff;border: 1px dotted black;border-radius: 0.25em;box-sizing: border-box;margin-bottom: 0.5em;}#sk-container-id-5 div.sk-estimator:hover {background-color: #d4ebff;}#sk-container-id-5 div.sk-parallel-item::after {content: \"\";width: 100%;border-bottom: 1px solid gray;flex-grow: 1;}#sk-container-id-5 div.sk-label:hover label.sk-toggleable__label {background-color: #d4ebff;}#sk-container-id-5 div.sk-serial::before {content: \"\";position: absolute;border-left: 1px solid gray;box-sizing: border-box;top: 0;bottom: 0;left: 50%;z-index: 0;}#sk-container-id-5 div.sk-serial {display: flex;flex-direction: column;align-items: center;background-color: white;padding-right: 0.2em;padding-left: 0.2em;position: relative;}#sk-container-id-5 div.sk-item {position: relative;z-index: 1;}#sk-container-id-5 div.sk-parallel {display: flex;align-items: stretch;justify-content: center;background-color: white;position: relative;}#sk-container-id-5 div.sk-item::before, #sk-container-id-5 div.sk-parallel-item::before {content: \"\";position: absolute;border-left: 1px solid gray;box-sizing: border-box;top: 0;bottom: 0;left: 50%;z-index: -1;}#sk-container-id-5 div.sk-parallel-item {display: flex;flex-direction: column;z-index: 1;position: relative;background-color: white;}#sk-container-id-5 div.sk-parallel-item:first-child::after {align-self: flex-end;width: 50%;}#sk-container-id-5 div.sk-parallel-item:last-child::after {align-self: flex-start;width: 50%;}#sk-container-id-5 div.sk-parallel-item:only-child::after {width: 0;}#sk-container-id-5 div.sk-dashed-wrapped {border: 1px dashed gray;margin: 0 0.4em 0.5em 0.4em;box-sizing: border-box;padding-bottom: 0.4em;background-color: white;}#sk-container-id-5 div.sk-label label {font-family: monospace;font-weight: bold;display: inline-block;line-height: 1.2em;}#sk-container-id-5 div.sk-label-container {text-align: center;}#sk-container-id-5 div.sk-container {/* jupyter's `normalize.less` sets `[hidden] { display: none; }` but bootstrap.min.css set `[hidden] { display: none !important; }` so we also need the `!important` here to be able to override the default hidden behavior on the sphinx rendered scikit-learn.org. See: https://github.com/scikit-learn/scikit-learn/issues/21755 */display: inline-block !important;position: relative;}#sk-container-id-5 div.sk-text-repr-fallback {display: none;}</style><div id=\"sk-container-id-5\" class=\"sk-top-container\"><div class=\"sk-text-repr-fallback\"><pre>KMeans(n_clusters=4)</pre><b>In a Jupyter environment, please rerun this cell to show the HTML representation or trust the notebook. <br />On GitHub, the HTML representation is unable to render, please try loading this page with nbviewer.org.</b></div><div class=\"sk-container\" hidden><div class=\"sk-item\"><div class=\"sk-estimator sk-toggleable\"><input class=\"sk-toggleable__control sk-hidden--visually\" id=\"sk-estimator-id-5\" type=\"checkbox\" checked><label for=\"sk-estimator-id-5\" class=\"sk-toggleable__label sk-toggleable__label-arrow\">KMeans</label><div class=\"sk-toggleable__content\"><pre>KMeans(n_clusters=4)</pre></div></div></div></div></div>"
      ],
      "text/plain": [
       "KMeans(n_clusters=4)"
      ]
     },
     "execution_count": 119,
     "metadata": {},
     "output_type": "execute_result"
    }
   ],
   "source": [
    "irisCluster.fit(data)"
   ]
  },
  {
   "cell_type": "code",
   "execution_count": 120,
   "metadata": {},
   "outputs": [
    {
     "name": "stdout",
     "output_type": "stream",
     "text": [
      "cluster_centers_:[[6.85348837 3.1       ]\n",
      " [4.76666667 2.89166667]\n",
      " [5.1875     3.6375    ]\n",
      " [5.90980392 2.73529412]]\n",
      "labels:[2 1 1 1 2 2 1 2 1 1 2 2 1 1 2 2 2 2 2 2 2 2 2 2 2 1 2 2 2 1 1 2 2 2 1 1 2\n",
      " 2 1 2 2 1 1 2 2 1 2 1 2 2 0 0 0 3 0 3 0 1 0 1 1 3 3 3 3 0 3 3 3 3 3 3 3 3\n",
      " 0 0 0 0 3 3 3 3 3 3 3 3 0 3 3 3 3 3 3 1 3 3 3 3 1 3 0 3 0 3 0 0 1 0 0 0 0\n",
      " 3 0 3 3 0 0 0 0 3 0 3 0 3 0 0 3 3 3 0 0 0 3 3 3 0 0 0 3 0 0 0 3 0 0 0 3 0\n",
      " 0 3]\n",
      "labels_count:(array([0, 1, 2, 3]), array([43, 24, 32, 51], dtype=int64))\n",
      "inertia_:27.9902120383037\n",
      "n_iter_:7\n"
     ]
    }
   ],
   "source": [
    "# cluster 객체 속성 확인\n",
    "print(f'cluster_centers_:{irisCluster.cluster_centers_}')\n",
    "print(f'labels:{irisCluster.labels_}')\n",
    "print(f'labels_count:{np.unique(irisCluster.labels_, return_counts=True)}')\n",
    "\n",
    "# inertia_값이 낮을수록(수평되는순간) 최적k\n",
    "print(f'inertia_:{irisCluster.inertia_}')\n",
    "print(f'n_iter_:{irisCluster.n_iter_}')"
   ]
  },
  {
   "cell_type": "code",
   "execution_count": null,
   "metadata": {},
   "outputs": [],
   "source": [
    "# 경고 무시\n",
    "import warnings\n",
    "warnings.filterwarnings(action='ignore')\n",
    "\n",
    "inertia_list=[]\n",
    "for i in range(1, 151):\n",
    "    irisCluster=KMeans(n_clusters=i)\n",
    "    irisCluster.fit(data)\n",
    "    inertia_list.append(irisCluster.inertia_)\n",
    "    "
   ]
  },
  {
   "cell_type": "code",
   "execution_count": 107,
   "metadata": {},
   "outputs": [
    {
     "data": {
      "image/png": "[encoded data removed]",
      "text/plain": [
       "<Figure size 640x480 with 1 Axes>"
      ]
     },
     "metadata": {},
     "output_type": "display_data"
    }
   ],
   "source": [
    "plt.plot(range(1,151), inertia_list)\n",
    "# plt.scatter(range(1,151), inertia_list)\n",
    "plt.show()"
   ]
  },
  {
   "cell_type": "code",
   "execution_count": 121,
   "metadata": {},
   "outputs": [],
   "source": [
    "# 샘플 데이터 -> 결정된 군집을 변환\n",
    "transiris=irisCluster.transform(data)"
   ]
  },
  {
   "cell_type": "code",
   "execution_count": 122,
   "metadata": {},
   "outputs": [
    {
     "data": {
      "text/plain": [
       "array([[1.79853314, 0.69367179, 0.16298006, 1.11380316],\n",
       "       [1.95604622, 0.17179607, 0.69933004, 1.04392201],\n",
       "       [2.15580894, 0.31545822, 0.65502863, 1.29598499],\n",
       "       [2.25348837, 0.26679684, 0.79628042, 1.35963109],\n",
       "       [1.91974455, 0.74577514, 0.19121323, 1.25517307],\n",
       "       [1.65910471, 1.1907339 , 0.3377314 , 1.27139287],\n",
       "       [2.27336971, 0.53495846, 0.63368959, 1.46881593],\n",
       "       [1.87760996, 0.55932747, 0.30259296, 1.12675511],\n",
       "       [2.46162653, 0.36676135, 1.07891728, 1.51876131],\n",
       "       [1.95348837, 0.24734703, 0.60955927, 1.07364535],\n",
       "       [1.57245936, 1.02689527, 0.22150056, 1.0911267 ],\n",
       "       [2.07528661, 0.50942506, 0.45449147, 1.29363776],\n",
       "       [2.05592181, 0.11334559, 0.74603117, 1.14093556],\n",
       "       [2.55544573, 0.47907608, 1.09273167, 1.63142204],\n",
       "       [1.3855821 , 1.51531533, 0.71173204, 1.26946362],\n",
       "       [1.73796876, 1.7737476 , 0.91872874, 1.67787466],\n",
       "       [1.65910471, 1.1907339 , 0.3377314 , 1.27139287],\n",
       "       [1.79853314, 0.69367179, 0.16298006, 1.11380316],\n",
       "       [1.34927218, 1.30237497, 0.53764533, 1.08518031],\n",
       "       [1.888047  , 0.96756424, 0.18456029, 1.33767747],\n",
       "       [1.48412548, 0.8121046 , 0.31868872, 0.83769562],\n",
       "       [1.85330016, 0.87436485, 0.10752907, 1.25953953],\n",
       "       [2.30829154, 0.72767705, 0.58869559, 1.56949118],\n",
       "       [1.76485735, 0.52711215, 0.34865814, 0.98725636],\n",
       "       [2.07528661, 0.50942506, 0.45449147, 1.29363776],\n",
       "       [1.85618403, 0.25725582, 0.66450169, 0.94752962],\n",
       "       [1.87760996, 0.55932747, 0.30259296, 1.12675511],\n",
       "       [1.70118306, 0.74689171, 0.13806701, 1.04335837],\n",
       "       [1.6804832 , 0.66796748, 0.23782872, 0.97244821],\n",
       "       [2.15580894, 0.31545822, 0.65502863, 1.29598499],\n",
       "       [2.05348837, 0.21098315, 0.66261791, 1.1681931 ],\n",
       "       [1.48412548, 0.8121046 , 0.31868872, 0.83769562],\n",
       "       [1.93236223, 1.28368502, 0.46266889, 1.53825998],\n",
       "       [1.74411318, 1.49983795, 0.64347688, 1.5209545 ],\n",
       "       [1.95348837, 0.24734703, 0.60955927, 1.07364535],\n",
       "       [1.85618403, 0.38667026, 0.47598582, 1.02161379],\n",
       "       [1.41135778, 0.95281017, 0.34141251, 0.86759111],\n",
       "       [2.01646146, 0.72077312, 0.28993534, 1.32944358],\n",
       "       [2.45552544, 0.38233566, 1.01319421, 1.53283303],\n",
       "       [1.77896641, 0.60787654, 0.25310571, 1.04767185],\n",
       "       [1.89615905, 0.6515473 , 0.23251344, 1.18849412],\n",
       "       [2.48574084, 0.64898425, 1.50384923, 1.47547554],\n",
       "       [2.45552544, 0.47907608, 0.90086764, 1.57970233],\n",
       "       [1.89615905, 0.6515473 , 0.23251344, 1.18849412],\n",
       "       [1.888047  , 0.96756424, 0.18456029, 1.33767747],\n",
       "       [2.05592181, 0.11334559, 0.74603117, 1.14093556],\n",
       "       [1.888047  , 0.96756424, 0.18456029, 1.33767747],\n",
       "       [2.25570606, 0.35049568, 0.73250427, 1.38979778],\n",
       "       [1.66533063, 0.96842512, 0.12869538, 1.14127922],\n",
       "       [1.86424761, 0.47029837, 0.38608613, 1.07081087],\n",
       "       [0.17738562, 2.25451707, 1.86455424, 1.18510719],\n",
       "       [0.46438314, 1.66218146, 1.2890161 , 0.67545818],\n",
       "       [0.04651163, 2.14348172, 1.79487117, 1.05522446],\n",
       "       [1.57223751, 0.94225645, 1.37352193, 0.59784632],\n",
       "       [0.46363135, 1.73575552, 1.55694011, 0.59373248],\n",
       "       [1.19186217, 0.93782402, 0.98186684, 0.21955532],\n",
       "       [0.58851455, 1.58677258, 1.1625672 , 0.68640055],\n",
       "       [2.07511851, 0.50942506, 1.27045759, 1.06401415],\n",
       "       [0.32288753, 1.83335227, 1.5934436 , 0.70957639],\n",
       "       [1.70118306, 0.47382897, 0.93758333, 0.71068086],\n",
       "       [2.15532344, 0.92169078, 1.64819978, 1.16978657],\n",
       "       [0.95871793, 1.13849926, 0.95606616, 0.26488737],\n",
       "       [1.24033963, 1.41404169, 1.6512306 , 0.54283987],\n",
       "       [0.77957984, 1.33335937, 1.17327   , 0.25160003],\n",
       "       [1.26934357, 0.833375  , 0.84502219, 0.35086536],\n",
       "       [0.15348837, 1.94452579, 1.60516744, 0.87029893],\n",
       "       [1.25747091, 0.8403455 , 0.75931713, 0.40748948],\n",
       "       [1.12687078, 1.05095856, 1.11984932, 0.11533679],\n",
       "       [1.11222617, 1.59149214, 1.75828396, 0.60889536],\n",
       "       [1.38968813, 0.9207862 , 1.2099845 , 0.38902672],\n",
       "       [0.95871793, 1.17452709, 0.83609958, 0.46480929],\n",
       "       [0.81101463, 1.33648066, 1.23857277, 0.20090147],\n",
       "       [0.81630226, 1.5825656 , 1.59108846, 0.45564932],\n",
       "       [0.81101463, 1.33648066, 1.23857277, 0.20090147],\n",
       "       [0.49563263, 1.63335459, 1.4191767 , 0.51712689],\n",
       "       [0.27250019, 1.8365313 , 1.54969755, 0.73921569],\n",
       "       [0.30473104, 2.03539854, 1.81702023, 0.89254463],\n",
       "       [0.18319028, 1.93636616, 1.64135995, 0.83335409],\n",
       "       [0.87660847, 1.23336149, 1.09729782, 0.18778541],\n",
       "       [1.25719347, 0.97784485, 1.15717868, 0.24964411],\n",
       "       [1.5237883 , 0.88290084, 1.27634733, 0.52949164],\n",
       "       [1.5237883 , 0.88290084, 1.27634733, 0.52949164],\n",
       "       [1.12687078, 1.05095856, 1.11984932, 0.11533679],\n",
       "       [0.94257223, 1.2481375 , 1.24058958, 0.0968556 ],\n",
       "       [1.45692431, 0.64253188, 0.671984  , 0.57442949],\n",
       "       [0.90467807, 1.33398422, 0.84650015, 0.67079747],\n",
       "       [0.15348837, 1.94452579, 1.60516744, 0.87029893],\n",
       "       [0.9728049 , 1.64352686, 1.73970184, 0.58458015],\n",
       "       [1.25747091, 0.8403455 , 0.75931713, 0.40748948],\n",
       "       [1.48051706, 0.83137269, 1.17964507, 0.47254902],\n",
       "       [1.44288973, 0.7892067 , 1.08354165, 0.43155967],\n",
       "       [0.76009521, 1.33772714, 1.11313184, 0.32595054],\n",
       "       [1.16612081, 1.07370723, 1.20480808, 0.17424523],\n",
       "       [2.01876674, 0.63601406, 1.35057858, 1.0085753 ],\n",
       "       [1.31576331, 0.85509096, 1.02423752, 0.31180786],\n",
       "       [1.15781494, 0.9395995 , 0.81796241, 0.33776751],\n",
       "       [1.17069869, 0.93337053, 0.89808825, 0.26673154],\n",
       "       [0.68340841, 1.43335756, 1.25262225, 0.33367917],\n",
       "       [1.85330016, 0.51430914, 1.14086042, 0.84329456],\n",
       "       [1.19186217, 0.93782402, 0.98186684, 0.21955532],\n",
       "       [0.58851455, 1.58677258, 1.1625672 , 0.68640055],\n",
       "       [1.12687078, 1.05095856, 1.11984932, 0.11533679],\n",
       "       [0.26602252, 2.33584686, 2.01595201, 1.2192768 ],\n",
       "       [0.58851455, 1.53335598, 1.33475185, 0.42353395],\n",
       "       [0.3673609 , 1.73671545, 1.45913073, 0.64683894],\n",
       "       [0.75317967, 2.83540366, 2.4953081 , 1.71079864],\n",
       "       [2.04355495, 0.41373972, 1.17327   , 1.03685451],\n",
       "       [0.48925723, 2.53334704, 2.23753492, 1.39991898],\n",
       "       [0.61932114, 1.97260755, 1.89250165, 0.82448357],\n",
       "       [0.60833404, 2.53433368, 2.01284935, 1.55316521],\n",
       "       [0.3673609 , 1.76054363, 1.38349648, 0.7511877 ],\n",
       "       [0.60469141, 1.64454063, 1.53266516, 0.49146502],\n",
       "       [0.11340638, 2.03621722, 1.7339442 , 0.92871861],\n",
       "       [1.30020592, 1.01218273, 1.24762274, 0.31524753],\n",
       "       [1.09537106, 1.03739123, 1.0375753 , 0.12745098],\n",
       "       [0.46438314, 1.66218146, 1.2890161 , 0.67545818],\n",
       "       [0.3673609 , 1.73671545, 1.45913073, 0.64683894],\n",
       "       [1.09844524, 3.07075136, 2.51774949, 2.08288277],\n",
       "       [0.98314899, 2.94779814, 2.71828301, 1.79530123],\n",
       "       [1.24033963, 1.41404169, 1.6512306 , 0.54283987],\n",
       "       [0.11028749, 2.15550007, 1.76750177, 1.09381892],\n",
       "       [1.28888832, 0.83835984, 0.93357512, 0.31648905],\n",
       "       [0.89809907, 2.93476528, 2.64840754, 1.79136508],\n",
       "       [0.68289778, 1.54526607, 1.45484106, 0.39178904],\n",
       "       [0.25210847, 1.97598428, 1.54969755, 0.97123765],\n",
       "       [0.36065261, 2.45279036, 2.0595054 , 1.3713342 ],\n",
       "       [0.71905984, 1.43626154, 1.31398725, 0.29732241],\n",
       "       [0.76009521, 1.33772714, 1.11313184, 0.32595054],\n",
       "       [0.54373864, 1.63590359, 1.47362224, 0.49444822],\n",
       "       [0.36065261, 2.43574367, 2.1110572 , 1.31707066],\n",
       "       [0.62343802, 2.63492831, 2.3657055 , 1.49160022],\n",
       "       [1.25904193, 3.26233769, 2.71736315, 2.25709527],\n",
       "       [0.54373864, 1.63590359, 1.47362224, 0.49444822],\n",
       "       [0.62956285, 1.53607093, 1.39250224, 0.39552475],\n",
       "       [0.90429239, 1.36486161, 1.38168828, 0.23340747],\n",
       "       [0.85239776, 2.93533313, 2.59211545, 1.80966052],\n",
       "       [0.62956285, 1.61539899, 1.13756868, 0.77077032],\n",
       "       [0.45348837, 1.64656629, 1.32629654, 0.61098492],\n",
       "       [0.85932671, 1.23808207, 1.03274513, 0.27965074],\n",
       "       [0.04651163, 2.14348172, 1.79487117, 1.05522446],\n",
       "       [0.15348837, 1.94452579, 1.60516744, 0.87029893],\n",
       "       [0.04651163, 2.14348172, 1.79487117, 1.05522446],\n",
       "       [1.12687078, 1.05095856, 1.11984932, 0.11533679],\n",
       "       [0.11340638, 2.0565782 , 1.67079697, 1.00419152],\n",
       "       [0.25210847, 1.97598428, 1.54969755, 0.97123765],\n",
       "       [0.18319028, 1.93636616, 1.64135995, 0.83335409],\n",
       "       [0.81630226, 1.5825656 , 1.59108846, 0.45564932],\n",
       "       [0.3673609 , 1.73671545, 1.45913073, 0.64683894],\n",
       "       [0.71905984, 1.52080479, 1.03998197, 0.72529144],\n",
       "       [0.95871793, 1.13849926, 0.95606616, 0.26488737]])"
      ]
     },
     "execution_count": 122,
     "metadata": {},
     "output_type": "execute_result"
    }
   ],
   "source": [
    "transiris"
   ]
  },
  {
   "cell_type": "markdown",
   "metadata": {},
   "source": [
    "### 시각화"
   ]
  },
  {
   "cell_type": "code",
   "execution_count": 123,
   "metadata": {},
   "outputs": [],
   "source": [
    "import pandas as pd\n",
    "df=pd.DataFrame(data)"
   ]
  },
  {
   "cell_type": "code",
   "execution_count": 124,
   "metadata": {},
   "outputs": [
    {
     "data": {
      "text/plain": [
       "array([[5.1, 3.5],\n",
       "       [4.9, 3. ],\n",
       "       [4.7, 3.2],\n",
       "       [4.6, 3.1],\n",
       "       [5. , 3.6],\n",
       "       [5.4, 3.9],\n",
       "       [4.6, 3.4],\n",
       "       [5. , 3.4],\n",
       "       [4.4, 2.9],\n",
       "       [4.9, 3.1],\n",
       "       [5.4, 3.7],\n",
       "       [4.8, 3.4],\n",
       "       [4.8, 3. ],\n",
       "       [4.3, 3. ],\n",
       "       [5.8, 4. ],\n",
       "       [5.7, 4.4],\n",
       "       [5.4, 3.9],\n",
       "       [5.1, 3.5],\n",
       "       [5.7, 3.8],\n",
       "       [5.1, 3.8],\n",
       "       [5.4, 3.4],\n",
       "       [5.1, 3.7],\n",
       "       [4.6, 3.6],\n",
       "       [5.1, 3.3],\n",
       "       [4.8, 3.4],\n",
       "       [5. , 3. ],\n",
       "       [5. , 3.4],\n",
       "       [5.2, 3.5],\n",
       "       [5.2, 3.4],\n",
       "       [4.7, 3.2],\n",
       "       [4.8, 3.1],\n",
       "       [5.4, 3.4],\n",
       "       [5.2, 4.1],\n",
       "       [5.5, 4.2],\n",
       "       [4.9, 3.1],\n",
       "       [5. , 3.2],\n",
       "       [5.5, 3.5],\n",
       "       [4.9, 3.6],\n",
       "       [4.4, 3. ],\n",
       "       [5.1, 3.4],\n",
       "       [5. , 3.5],\n",
       "       [4.5, 2.3],\n",
       "       [4.4, 3.2],\n",
       "       [5. , 3.5],\n",
       "       [5.1, 3.8],\n",
       "       [4.8, 3. ],\n",
       "       [5.1, 3.8],\n",
       "       [4.6, 3.2],\n",
       "       [5.3, 3.7],\n",
       "       [5. , 3.3],\n",
       "       [7. , 3.2],\n",
       "       [6.4, 3.2],\n",
       "       [6.9, 3.1],\n",
       "       [5.5, 2.3],\n",
       "       [6.5, 2.8],\n",
       "       [5.7, 2.8],\n",
       "       [6.3, 3.3],\n",
       "       [4.9, 2.4],\n",
       "       [6.6, 2.9],\n",
       "       [5.2, 2.7],\n",
       "       [5. , 2. ],\n",
       "       [5.9, 3. ],\n",
       "       [6. , 2.2],\n",
       "       [6.1, 2.9],\n",
       "       [5.6, 2.9],\n",
       "       [6.7, 3.1],\n",
       "       [5.6, 3. ],\n",
       "       [5.8, 2.7],\n",
       "       [6.2, 2.2],\n",
       "       [5.6, 2.5],\n",
       "       [5.9, 3.2],\n",
       "       [6.1, 2.8],\n",
       "       [6.3, 2.5],\n",
       "       [6.1, 2.8],\n",
       "       [6.4, 2.9],\n",
       "       [6.6, 3. ],\n",
       "       [6.8, 2.8],\n",
       "       [6.7, 3. ],\n",
       "       [6. , 2.9],\n",
       "       [5.7, 2.6],\n",
       "       [5.5, 2.4],\n",
       "       [5.5, 2.4],\n",
       "       [5.8, 2.7],\n",
       "       [6. , 2.7],\n",
       "       [5.4, 3. ],\n",
       "       [6. , 3.4],\n",
       "       [6.7, 3.1],\n",
       "       [6.3, 2.3],\n",
       "       [5.6, 3. ],\n",
       "       [5.5, 2.5],\n",
       "       [5.5, 2.6],\n",
       "       [6.1, 3. ],\n",
       "       [5.8, 2.6],\n",
       "       [5. , 2.3],\n",
       "       [5.6, 2.7],\n",
       "       [5.7, 3. ],\n",
       "       [5.7, 2.9],\n",
       "       [6.2, 2.9],\n",
       "       [5.1, 2.5],\n",
       "       [5.7, 2.8],\n",
       "       [6.3, 3.3],\n",
       "       [5.8, 2.7],\n",
       "       [7.1, 3. ],\n",
       "       [6.3, 2.9],\n",
       "       [6.5, 3. ],\n",
       "       [7.6, 3. ],\n",
       "       [4.9, 2.5],\n",
       "       [7.3, 2.9],\n",
       "       [6.7, 2.5],\n",
       "       [7.2, 3.6],\n",
       "       [6.5, 3.2],\n",
       "       [6.4, 2.7],\n",
       "       [6.8, 3. ],\n",
       "       [5.7, 2.5],\n",
       "       [5.8, 2.8],\n",
       "       [6.4, 3.2],\n",
       "       [6.5, 3. ],\n",
       "       [7.7, 3.8],\n",
       "       [7.7, 2.6],\n",
       "       [6. , 2.2],\n",
       "       [6.9, 3.2],\n",
       "       [5.6, 2.8],\n",
       "       [7.7, 2.8],\n",
       "       [6.3, 2.7],\n",
       "       [6.7, 3.3],\n",
       "       [7.2, 3.2],\n",
       "       [6.2, 2.8],\n",
       "       [6.1, 3. ],\n",
       "       [6.4, 2.8],\n",
       "       [7.2, 3. ],\n",
       "       [7.4, 2.8],\n",
       "       [7.9, 3.8],\n",
       "       [6.4, 2.8],\n",
       "       [6.3, 2.8],\n",
       "       [6.1, 2.6],\n",
       "       [7.7, 3. ],\n",
       "       [6.3, 3.4],\n",
       "       [6.4, 3.1],\n",
       "       [6. , 3. ],\n",
       "       [6.9, 3.1],\n",
       "       [6.7, 3.1],\n",
       "       [6.9, 3.1],\n",
       "       [5.8, 2.7],\n",
       "       [6.8, 3.2],\n",
       "       [6.7, 3.3],\n",
       "       [6.7, 3. ],\n",
       "       [6.3, 2.5],\n",
       "       [6.5, 3. ],\n",
       "       [6.2, 3.4],\n",
       "       [5.9, 3. ]])"
      ]
     },
     "execution_count": 124,
     "metadata": {},
     "output_type": "execute_result"
    }
   ],
   "source": [
    "data"
   ]
  },
  {
   "cell_type": "code",
   "execution_count": 125,
   "metadata": {},
   "outputs": [
    {
     "data": {
      "text/plain": [
       "(4, 2)"
      ]
     },
     "execution_count": 125,
     "metadata": {},
     "output_type": "execute_result"
    }
   ],
   "source": [
    "irisCluster.cluster_centers_.shape"
   ]
  },
  {
   "cell_type": "code",
   "execution_count": null,
   "metadata": {},
   "outputs": [],
   "source": []
  },
  {
   "cell_type": "code",
   "execution_count": 126,
   "metadata": {},
   "outputs": [
    {
     "data": {
      "image/png": "[encoded data removed]",
      "text/plain": [
       "<Figure size 640x480 with 1 Axes>"
      ]
     },
     "metadata": {},
     "output_type": "display_data"
    }
   ],
   "source": [
    "plt.scatter(data[:,0],data[:,1], c=irisCluster.labels_)\n",
    "for i in range(4):\n",
    "    plt.plot(irisCluster.cluster_centers_[i][0], irisCluster.cluster_centers_[i][1], 'ro')\n",
    "# plt.plot(irisCluster.cluster_centers_[1][0], irisCluster.cluster_centers_[1][1], 'bo', label='c1')\n",
    "# plt.plot(irisCluster.cluster_centers_[2][0], irisCluster.cluster_centers_[2][1], 'go', label='c1')\n",
    "# plt.plot(irisCluster.cluster_centers_[3][0], irisCluster.cluster_centers_[3][1], 'o', label='c1')\n",
    "plt.show()"
   ]
  },
  {
   "cell_type": "code",
   "execution_count": null,
   "metadata": {},
   "outputs": [],
   "source": [
    "# plt.scatter(transiris[:,0],transiris[:,1])"
   ]
  },
  {
   "cell_type": "markdown",
   "metadata": {},
   "source": [
    "## 군집화 성능체크\n",
    "---\n",
    " - 라벨과 데이터를 가지고 지도학습 분류로 성능체크"
   ]
  },
  {
   "cell_type": "code",
   "execution_count": 127,
   "metadata": {},
   "outputs": [
    {
     "data": {
      "text/plain": [
       "0.4248889536419921"
      ]
     },
     "execution_count": 127,
     "metadata": {},
     "output_type": "execute_result"
    }
   ],
   "source": [
    "from sklearn.metrics import silhouette_score\n",
    "\n",
    "# -1~1사이값, 1이 잘된것 최소 0.5는 넘어야...\n",
    "silhouette_score(data, irisCluster.labels_, metric='euclidean')"
   ]
  },
  {
   "cell_type": "code",
   "execution_count": 128,
   "metadata": {},
   "outputs": [],
   "source": [
    "from sklearn.linear_model import LogisticRegression"
   ]
  },
  {
   "cell_type": "code",
   "execution_count": 131,
   "metadata": {},
   "outputs": [
    {
     "data": {
      "text/plain": [
       "((150, 1), (150, 2))"
      ]
     },
     "execution_count": 131,
     "metadata": {},
     "output_type": "execute_result"
    }
   ],
   "source": [
    "# 군집화로 생성된 데이터\n",
    "target=irisCluster.labels_.reshape(-1,1)\n",
    "target.shape, data.shape"
   ]
  },
  {
   "cell_type": "code",
   "execution_count": 134,
   "metadata": {},
   "outputs": [
    {
     "data": {
      "text/html": [
       "<style>#sk-container-id-7 {color: black;background-color: white;}#sk-container-id-7 pre{padding: 0;}#sk-container-id-7 div.sk-toggleable {background-color: white;}#sk-container-id-7 label.sk-toggleable__label {cursor: pointer;display: block;width: 100%;margin-bottom: 0;padding: 0.3em;box-sizing: border-box;text-align: center;}#sk-container-id-7 label.sk-toggleable__label-arrow:before {content: \"▸\";float: left;margin-right: 0.25em;color: #696969;}#sk-container-id-7 label.sk-toggleable__label-arrow:hover:before {color: black;}#sk-container-id-7 div.sk-estimator:hover label.sk-toggleable__label-arrow:before {color: black;}#sk-container-id-7 div.sk-toggleable__content {max-height: 0;max-width: 0;overflow: hidden;text-align: left;background-color: #f0f8ff;}#sk-container-id-7 div.sk-toggleable__content pre {margin: 0.2em;color: black;border-radius: 0.25em;background-color: #f0f8ff;}#sk-container-id-7 input.sk-toggleable__control:checked~div.sk-toggleable__content {max-height: 200px;max-width: 100%;overflow: auto;}#sk-container-id-7 input.sk-toggleable__control:checked~label.sk-toggleable__label-arrow:before {content: \"▾\";}#sk-container-id-7 div.sk-estimator input.sk-toggleable__control:checked~label.sk-toggleable__label {background-color: #d4ebff;}#sk-container-id-7 div.sk-label input.sk-toggleable__control:checked~label.sk-toggleable__label {background-color: #d4ebff;}#sk-container-id-7 input.sk-hidden--visually {border: 0;clip: rect(1px 1px 1px 1px);clip: rect(1px, 1px, 1px, 1px);height: 1px;margin: -1px;overflow: hidden;padding: 0;position: absolute;width: 1px;}#sk-container-id-7 div.sk-estimator {font-family: monospace;background-color: #f0f8ff;border: 1px dotted black;border-radius: 0.25em;box-sizing: border-box;margin-bottom: 0.5em;}#sk-container-id-7 div.sk-estimator:hover {background-color: #d4ebff;}#sk-container-id-7 div.sk-parallel-item::after {content: \"\";width: 100%;border-bottom: 1px solid gray;flex-grow: 1;}#sk-container-id-7 div.sk-label:hover label.sk-toggleable__label {background-color: #d4ebff;}#sk-container-id-7 div.sk-serial::before {content: \"\";position: absolute;border-left: 1px solid gray;box-sizing: border-box;top: 0;bottom: 0;left: 50%;z-index: 0;}#sk-container-id-7 div.sk-serial {display: flex;flex-direction: column;align-items: center;background-color: white;padding-right: 0.2em;padding-left: 0.2em;position: relative;}#sk-container-id-7 div.sk-item {position: relative;z-index: 1;}#sk-container-id-7 div.sk-parallel {display: flex;align-items: stretch;justify-content: center;background-color: white;position: relative;}#sk-container-id-7 div.sk-item::before, #sk-container-id-7 div.sk-parallel-item::before {content: \"\";position: absolute;border-left: 1px solid gray;box-sizing: border-box;top: 0;bottom: 0;left: 50%;z-index: -1;}#sk-container-id-7 div.sk-parallel-item {display: flex;flex-direction: column;z-index: 1;position: relative;background-color: white;}#sk-container-id-7 div.sk-parallel-item:first-child::after {align-self: flex-end;width: 50%;}#sk-container-id-7 div.sk-parallel-item:last-child::after {align-self: flex-start;width: 50%;}#sk-container-id-7 div.sk-parallel-item:only-child::after {width: 0;}#sk-container-id-7 div.sk-dashed-wrapped {border: 1px dashed gray;margin: 0 0.4em 0.5em 0.4em;box-sizing: border-box;padding-bottom: 0.4em;background-color: white;}#sk-container-id-7 div.sk-label label {font-family: monospace;font-weight: bold;display: inline-block;line-height: 1.2em;}#sk-container-id-7 div.sk-label-container {text-align: center;}#sk-container-id-7 div.sk-container {/* jupyter's `normalize.less` sets `[hidden] { display: none; }` but bootstrap.min.css set `[hidden] { display: none !important; }` so we also need the `!important` here to be able to override the default hidden behavior on the sphinx rendered scikit-learn.org. See: https://github.com/scikit-learn/scikit-learn/issues/21755 */display: inline-block !important;position: relative;}#sk-container-id-7 div.sk-text-repr-fallback {display: none;}</style><div id=\"sk-container-id-7\" class=\"sk-top-container\"><div class=\"sk-text-repr-fallback\"><pre>LogisticRegression(max_iter=500, random_state=11)</pre><b>In a Jupyter environment, please rerun this cell to show the HTML representation or trust the notebook. <br />On GitHub, the HTML representation is unable to render, please try loading this page with nbviewer.org.</b></div><div class=\"sk-container\" hidden><div class=\"sk-item\"><div class=\"sk-estimator sk-toggleable\"><input class=\"sk-toggleable__control sk-hidden--visually\" id=\"sk-estimator-id-7\" type=\"checkbox\" checked><label for=\"sk-estimator-id-7\" class=\"sk-toggleable__label sk-toggleable__label-arrow\">LogisticRegression</label><div class=\"sk-toggleable__content\"><pre>LogisticRegression(max_iter=500, random_state=11)</pre></div></div></div></div></div>"
      ],
      "text/plain": [
       "LogisticRegression(max_iter=500, random_state=11)"
      ]
     },
     "execution_count": 134,
     "metadata": {},
     "output_type": "execute_result"
    }
   ],
   "source": [
    "lrModel=LogisticRegression(random_state=11, max_iter=500)\n",
    "lrModel.fit(data, irisCluster.labels_)"
   ]
  },
  {
   "cell_type": "code",
   "execution_count": 135,
   "metadata": {},
   "outputs": [],
   "source": [
    "pre_label=lrModel.predict(data)"
   ]
  },
  {
   "cell_type": "code",
   "execution_count": 142,
   "metadata": {},
   "outputs": [
    {
     "data": {
      "image/png": "[encoded data removed]",
      "text/plain": [
       "<Figure size 1500x500 with 1 Axes>"
      ]
     },
     "metadata": {},
     "output_type": "display_data"
    }
   ],
   "source": [
    "plt.figure(figsize=(15,5))\n",
    "plt.plot(pre_label, 'ro')\n",
    "plt.plot(irisCluster.labels_, 'b^')\n",
    "plt.axis([0,150,0,3])\n",
    "plt.show()"
   ]
  },
  {
   "cell_type": "code",
   "execution_count": null,
   "metadata": {},
   "outputs": [],
   "source": []
  },
  {
   "cell_type": "code",
   "execution_count": null,
   "metadata": {},
   "outputs": [],
   "source": []
  }
 ],
 "metadata": {
  "kernelspec": {
   "display_name": "Python 3.9.13 ('base')",
   "language": "python",
   "name": "python3"
  },
  "language_info": {
   "codemirror_mode": {
    "name": "ipython",
    "version": 3
   },
   "file_extension": ".py",
   "mimetype": "text/x-python",
   "name": "python",
   "nbconvert_exporter": "python",
   "pygments_lexer": "ipython3",
   "version": "3.9.13"
  },
  "orig_nbformat": 4,
  "vscode": {
   "interpreter": {
    "hash": "ad2bdc8ecc057115af97d19610ffacc2b4e99fae6737bb82f5d7fb13d2f2c186"
   }
  }
 },
 "nbformat": 4,
 "nbformat_minor": 2
}
