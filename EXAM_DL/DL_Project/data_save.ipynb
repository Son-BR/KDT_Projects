{
 "cells": [
  {
   "cell_type": "code",
   "execution_count": 1,
   "metadata": {},
   "outputs": [],
   "source": [
    "from skimage.transform import resize\n",
    "import matplotlib.pyplot as plt\n",
    "import numpy as np\n",
    "import os"
   ]
  },
  {
   "cell_type": "code",
   "execution_count": 2,
   "metadata": {},
   "outputs": [],
   "source": [
    "# 이미지 흑백 변환\n",
    "def grayImg(dir):\n",
    "        \n",
    "    file_path=f'./Data/{dir}/'\n",
    "    x_train=[]\n",
    "    y_train=[]\n",
    "\n",
    "    img_list=os.listdir(file_path)\n",
    "\n",
    "    for i in img_list:\n",
    "        img = plt.imread(file_path+i)\n",
    "        R, G, B = img[:,:,0], img[:,:,1], img[:,:,2]\n",
    "        img=resize(img, (150, 150))\n",
    "        y_train.append(np.array(img))\n",
    "        \n",
    "        imgGray = 0.2989 * R + 0.5870 * G + 0.1140 * B\n",
    "        imgGray=resize(imgGray, (150, 150))\n",
    "        x_train.append(np.array(imgGray))\n",
    "        \n",
    "    return x_train, y_train"
   ]
  },
  {
   "cell_type": "code",
   "execution_count": 3,
   "metadata": {},
   "outputs": [],
   "source": [
    "all_data=os.listdir('./Data/')\n",
    "x=[]\n",
    "y=[]\n",
    "for i in all_data:\n",
    "    data=grayImg(i)\n",
    "    x.append(np.array(data[0]))\n",
    "    y.append(np.array(data[1]))"
   ]
  },
  {
   "cell_type": "code",
   "execution_count": 7,
   "metadata": {},
   "outputs": [],
   "source": [
    "# 메모리 에러남\n",
    "# import os\n",
    "# os.environ[\"KMP_DUPLICATE_LIB_OK\"]=\"TRUE\""
   ]
  },
  {
   "cell_type": "code",
   "execution_count": 4,
   "metadata": {},
   "outputs": [
    {
     "data": {
      "text/plain": [
       "((9461, 150, 150), (9461, 150, 150, 3))"
      ]
     },
     "execution_count": 4,
     "metadata": {},
     "output_type": "execute_result"
    }
   ],
   "source": [
    "x_train=x[0]\n",
    "y_train=y[0]\n",
    "for i in range(1,4):\n",
    "    x_train=np.vstack([x_train,x[i]])\n",
    "    y_train=np.vstack([y_train,y[i]])\n",
    "\n",
    "x_train.shape, y_train.shape"
   ]
  },
  {
   "cell_type": "code",
   "execution_count": 5,
   "metadata": {},
   "outputs": [],
   "source": [
    "x_train=x_train.reshape(-1,150,150,1)"
   ]
  },
  {
   "cell_type": "code",
   "execution_count": 6,
   "metadata": {},
   "outputs": [],
   "source": [
    "# 데이터셋 나누기\n",
    "from sklearn.model_selection import train_test_split\n",
    "x_train, x_test, y_train, y_test = train_test_split(x_train, y_train, random_state=11)"
   ]
  },
  {
   "cell_type": "code",
   "execution_count": 7,
   "metadata": {},
   "outputs": [],
   "source": [
    "# 데이터셋 넘파이 배열 저장\n",
    "np.save('x_train', x_train)\n",
    "np.save('x_test', x_test)\n",
    "np.save('y_train', y_train)\n",
    "np.save('y_test', y_test)"
   ]
  },
  {
   "cell_type": "code",
   "execution_count": null,
   "metadata": {},
   "outputs": [],
   "source": [
    "# 데이터셋 넘파이 배열 npy파일 불러오기\n",
    "x_train=np.load('x_train.npy')\n",
    "y_train=np.load('y_train.npy')\n",
    "x_test=np.load('x_test.npy')\n",
    "y_test=np.load('y_test.npy')"
   ]
  }
 ],
 "metadata": {
  "kernelspec": {
   "display_name": "Python 3.9.13 ('base')",
   "language": "python",
   "name": "python3"
  },
  "language_info": {
   "codemirror_mode": {
    "name": "ipython",
    "version": 3
   },
   "file_extension": ".py",
   "mimetype": "text/x-python",
   "name": "python",
   "nbconvert_exporter": "python",
   "pygments_lexer": "ipython3",
   "version": "3.9.13"
  },
  "orig_nbformat": 4,
  "vscode": {
   "interpreter": {
    "hash": "ad2bdc8ecc057115af97d19610ffacc2b4e99fae6737bb82f5d7fb13d2f2c186"
   }
  }
 },
 "nbformat": 4,
 "nbformat_minor": 2
}
