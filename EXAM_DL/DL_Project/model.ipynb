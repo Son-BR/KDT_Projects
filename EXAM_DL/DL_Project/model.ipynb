{
 "cells": [
  {
   "cell_type": "code",
   "execution_count": 1,
   "metadata": {},
   "outputs": [],
   "source": [
    "from keras.utils import set_random_seed\n",
    "from keras import Sequential\n",
    "from keras.layers import Conv2D\n",
    "\n",
    "import matplotlib.pyplot as plt\n",
    "import numpy as np"
   ]
  },
  {
   "cell_type": "code",
   "execution_count": 2,
   "metadata": {},
   "outputs": [],
   "source": [
    "set_random_seed(11)"
   ]
  },
  {
   "cell_type": "code",
   "execution_count": 3,
   "metadata": {},
   "outputs": [],
   "source": [
    "# 데이터셋 넘파이 배열 npy파일 불러오기\n",
    "x_train=np.load('x_train.npy')\n",
    "y_train=np.load('y_train.npy')\n",
    "x_test=np.load('x_test.npy')\n",
    "y_test=np.load('y_test.npy')"
   ]
  },
  {
   "cell_type": "code",
   "execution_count": 4,
   "metadata": {},
   "outputs": [],
   "source": [
    "# 스케일링\n",
    "x_train=x_train/255.0\n",
    "x_test=x_test/255.0"
   ]
  },
  {
   "cell_type": "code",
   "execution_count": 34,
   "metadata": {},
   "outputs": [],
   "source": [
    "def createModel():\n",
    "    \n",
    "    model=Sequential()\n",
    "    \n",
    "    # 입력\n",
    "    model.add(Conv2D(1, kernel_size=3, padding='same', input_shape=(150,150,1)))\n",
    "    \n",
    "    model.add(Conv2D(16, kernel_size=3, padding='same', activation='relu'))\n",
    "    model.add(Conv2D(32, kernel_size=3, padding='same', activation='relu'))\n",
    "    model.add(Conv2D(64, kernel_size=3, padding='same', activation='relu'))\n",
    "    model.add(Conv2D(128, kernel_size=3, padding='same', activation='relu'))\n",
    "    model.add(Conv2D(64, kernel_size=3, padding='same', activation='relu'))\n",
    "    model.add(Conv2D(32, kernel_size=3, padding='same', activation='relu'))\n",
    "    model.add(Conv2D(16, kernel_size=3, padding='same', activation='relu'))\n",
    "    \n",
    "    \n",
    "    # 출력\n",
    "    model.add(Conv2D(3,kernel_size=3, padding='same', activation='sigmoid'))\n",
    "    \n",
    "    model.compile(loss='mean_squared_error', optimizer='adam')\n",
    "    \n",
    "    return model\n"
   ]
  },
  {
   "cell_type": "code",
   "execution_count": 35,
   "metadata": {},
   "outputs": [
    {
     "name": "stdout",
     "output_type": "stream",
     "text": [
      "Model: \"sequential_1\"\n",
      "_________________________________________________________________\n",
      " Layer (type)                Output Shape              Param #   \n",
      "=================================================================\n",
      " conv2d_7 (Conv2D)           (None, 150, 150, 1)       10        \n",
      "                                                                 \n",
      " conv2d_8 (Conv2D)           (None, 150, 150, 16)      160       \n",
      "                                                                 \n",
      " conv2d_9 (Conv2D)           (None, 150, 150, 32)      4640      \n",
      "                                                                 \n",
      " conv2d_10 (Conv2D)          (None, 150, 150, 64)      18496     \n",
      "                                                                 \n",
      " conv2d_11 (Conv2D)          (None, 150, 150, 128)     73856     \n",
      "                                                                 \n",
      " conv2d_12 (Conv2D)          (None, 150, 150, 64)      73792     \n",
      "                                                                 \n",
      " conv2d_13 (Conv2D)          (None, 150, 150, 32)      18464     \n",
      "                                                                 \n",
      " conv2d_14 (Conv2D)          (None, 150, 150, 16)      4624      \n",
      "                                                                 \n",
      " conv2d_15 (Conv2D)          (None, 150, 150, 3)       435       \n",
      "                                                                 \n",
      "=================================================================\n",
      "Total params: 194,477\n",
      "Trainable params: 194,477\n",
      "Non-trainable params: 0\n",
      "_________________________________________________________________\n"
     ]
    }
   ],
   "source": [
    "model=createModel()\n",
    "model.summary()"
   ]
  },
  {
   "cell_type": "code",
   "execution_count": 36,
   "metadata": {},
   "outputs": [],
   "source": [
    "from keras.callbacks import ModelCheckpoint\n",
    "\n",
    "path='./{epoch:02d}-{val_loss:.4f}.hdf5'\n",
    "model_ckpt = ModelCheckpoint(path)"
   ]
  },
  {
   "cell_type": "code",
   "execution_count": 37,
   "metadata": {},
   "outputs": [
    {
     "name": "stdout",
     "output_type": "stream",
     "text": [
      "Epoch 1/10\n",
      "45/45 [==============================] - 1663s 37s/step - loss: 0.0434 - val_loss: 0.0188\n",
      "Epoch 2/10\n",
      "45/45 [==============================] - 1659s 37s/step - loss: 0.0164 - val_loss: 0.0143\n",
      "Epoch 3/10\n",
      "45/45 [==============================] - 1673s 37s/step - loss: 0.0131 - val_loss: 0.0112\n",
      "Epoch 4/10\n",
      "45/45 [==============================] - 1662s 37s/step - loss: 0.0108 - val_loss: 0.0096\n",
      "Epoch 5/10\n",
      "45/45 [==============================] - 1665s 37s/step - loss: 0.0091 - val_loss: 0.0081\n",
      "Epoch 6/10\n",
      "45/45 [==============================] - 1653s 37s/step - loss: 0.0082 - val_loss: 0.0074\n",
      "Epoch 7/10\n",
      "45/45 [==============================] - 1669s 37s/step - loss: 0.0075 - val_loss: 0.0069\n",
      "Epoch 8/10\n",
      "45/45 [==============================] - 1667s 37s/step - loss: 0.0073 - val_loss: 0.0073\n",
      "Epoch 9/10\n",
      " 1/45 [..............................] - ETA: 25:41 - loss: 0.0064"
     ]
    }
   ],
   "source": [
    "# 메모리 에러남\n",
    "import os\n",
    "os.environ[\"KMP_DUPLICATE_LIB_OK\"]=\"TRUE\"\n",
    "\n",
    "model.fit(x_train, y_train, epochs=10, batch_size=128, validation_split=0.2, callbacks=[model_ckpt])"
   ]
  },
  {
   "cell_type": "code",
   "execution_count": 1,
   "metadata": {},
   "outputs": [],
   "source": [
    "def test_plt(i):\n",
    "    plt.figure(figsize=(18,5))\n",
    "\n",
    "    plt.subplot(131)\n",
    "    plt.imshow(x_test[i].reshape(150,150,1), cmap='gray')\n",
    "    plt.xticks([], [])\n",
    "    plt.yticks([], [])\n",
    "\n",
    "    plt.subplot(132)\n",
    "    pre_out=model.predict(x_test[i].reshape(-1,150,150,1), verbose='False')\n",
    "    plt.imshow(pre_out.reshape(150,150,3))\n",
    "    plt.xticks([], [])\n",
    "    plt.yticks([], [])\n",
    "\n",
    "    plt.subplot(133)\n",
    "    plt.imshow(y_test[i])\n",
    "    plt.xticks([], [])\n",
    "    plt.yticks([], [])\n",
    "\n",
    "    plt.tight_layout()\n",
    "    plt.show()"
   ]
  },
  {
   "cell_type": "code",
   "execution_count": 2,
   "metadata": {},
   "outputs": [
    {
     "ename": "NameError",
     "evalue": "name 'plt' is not defined",
     "output_type": "error",
     "traceback": [
      "\u001b[1;31m---------------------------------------------------------------------------\u001b[0m",
      "\u001b[1;31mNameError\u001b[0m                                 Traceback (most recent call last)",
      "\u001b[1;32mc:\\Users\\User\\PycharmProjects\\EXAM_DL\\DL_Project\\model.ipynb 셀 10\u001b[0m in \u001b[0;36m<cell line: 1>\u001b[1;34m()\u001b[0m\n\u001b[1;32m----> <a href='vscode-notebook-cell:/c%3A/Users/User/PycharmProjects/EXAM_DL/DL_Project/model.ipynb#X12sZmlsZQ%3D%3D?line=0'>1</a>\u001b[0m test_plt(\u001b[39m100\u001b[39;49m)\n",
      "\u001b[1;32mc:\\Users\\User\\PycharmProjects\\EXAM_DL\\DL_Project\\model.ipynb 셀 10\u001b[0m in \u001b[0;36mtest_plt\u001b[1;34m(i)\u001b[0m\n\u001b[0;32m      <a href='vscode-notebook-cell:/c%3A/Users/User/PycharmProjects/EXAM_DL/DL_Project/model.ipynb#X12sZmlsZQ%3D%3D?line=0'>1</a>\u001b[0m \u001b[39mdef\u001b[39;00m \u001b[39mtest_plt\u001b[39m(i):\n\u001b[1;32m----> <a href='vscode-notebook-cell:/c%3A/Users/User/PycharmProjects/EXAM_DL/DL_Project/model.ipynb#X12sZmlsZQ%3D%3D?line=1'>2</a>\u001b[0m     plt\u001b[39m.\u001b[39mfigure(figsize\u001b[39m=\u001b[39m(\u001b[39m18\u001b[39m,\u001b[39m5\u001b[39m))\n\u001b[0;32m      <a href='vscode-notebook-cell:/c%3A/Users/User/PycharmProjects/EXAM_DL/DL_Project/model.ipynb#X12sZmlsZQ%3D%3D?line=3'>4</a>\u001b[0m     plt\u001b[39m.\u001b[39msubplot(\u001b[39m131\u001b[39m)\n\u001b[0;32m      <a href='vscode-notebook-cell:/c%3A/Users/User/PycharmProjects/EXAM_DL/DL_Project/model.ipynb#X12sZmlsZQ%3D%3D?line=4'>5</a>\u001b[0m     plt\u001b[39m.\u001b[39mimshow(x_test[i]\u001b[39m.\u001b[39mreshape(\u001b[39m150\u001b[39m,\u001b[39m150\u001b[39m,\u001b[39m1\u001b[39m), cmap\u001b[39m=\u001b[39m\u001b[39m'\u001b[39m\u001b[39mgray\u001b[39m\u001b[39m'\u001b[39m)\n",
      "\u001b[1;31mNameError\u001b[0m: name 'plt' is not defined"
     ]
    }
   ],
   "source": [
    "test_plt(100)\n",
    "#for i in range(15,2365,180):\n",
    "#    test_plt(i)"
   ]
  },
  {
   "cell_type": "code",
   "execution_count": 26,
   "metadata": {},
   "outputs": [
    {
     "data": {
      "text/plain": [
       "(2366, 150, 150, 1)"
      ]
     },
     "execution_count": 26,
     "metadata": {},
     "output_type": "execute_result"
    }
   ],
   "source": [
    "x_test.shape"
   ]
  },
  {
   "cell_type": "code",
   "execution_count": null,
   "metadata": {},
   "outputs": [],
   "source": []
  },
  {
   "cell_type": "code",
   "execution_count": null,
   "metadata": {},
   "outputs": [],
   "source": []
  }
 ],
 "metadata": {
  "kernelspec": {
   "display_name": "Python 3.9.13 ('base')",
   "language": "python",
   "name": "python3"
  },
  "language_info": {
   "codemirror_mode": {
    "name": "ipython",
    "version": 3
   },
   "file_extension": ".py",
   "mimetype": "text/x-python",
   "name": "python",
   "nbconvert_exporter": "python",
   "pygments_lexer": "ipython3",
   "version": "3.9.13"
  },
  "orig_nbformat": 4,
  "vscode": {
   "interpreter": {
    "hash": "ad2bdc8ecc057115af97d19610ffacc2b4e99fae6737bb82f5d7fb13d2f2c186"
   }
  }
 },
 "nbformat": 4,
 "nbformat_minor": 2
}
