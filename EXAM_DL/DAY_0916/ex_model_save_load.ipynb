{
 "cells": [
  {
   "cell_type": "markdown",
   "metadata": {},
   "source": [
    "## 모델 저장과 복원\n",
    "---\n",
    " - 방법1) 모델 전체 저장(모델 구조+가중치+변수)\n",
    "   - save_model()\n",
    "   - 복원시 추가 작업 필요 없이 모델 파일 로딩해서 사용 가능\n",
    "\n",
    " - 방법2) 가중치만 저장\n",
    "   - save_weights()\n",
    "   - 복원시 모델 구조(Architechture) 생성 후 가중치 적용\n",
    "\n",
    " - 방법3) 모델 전체 또는 자동 저장\n",
    "   - fit()에서 ModelCheckPoint Event에 대한 callbacks 등록\n",
    "   - save_best_only=True: 모니터링 기준에 따라서 좋은 성능의 모델만 저장\n",
    "   - save_weight_only=True: 가중치만 저장\n",
    " \n",
    " - 파일 또는 폴더\n",
    "   - 파일 확장자가 없으면 폴더로 저장\n",
    "   - 파일 확장자\n",
    "     - h5 / hdf5: HDF5 포맷으로 모델 또는 가중치 저장\n",
    "     - ckpf: 체크포인트파일형태로 저장\n",
    "     - pd: 모델 저장"
   ]
  },
  {
   "cell_type": "code",
   "execution_count": 1,
   "metadata": {},
   "outputs": [],
   "source": [
    "from sklearn.datasets import load_iris\n",
    "from keras import Sequential\n",
    "from keras.layers import Dense\n",
    "from keras.utils import set_random_seed, plot_model\n",
    "\n",
    "import numpy as np"
   ]
  },
  {
   "cell_type": "markdown",
   "metadata": {},
   "source": [
    "## [1] 데이터 준비 및 로딩"
   ]
  },
  {
   "cell_type": "code",
   "execution_count": 2,
   "metadata": {},
   "outputs": [
    {
     "data": {
      "text/plain": [
       "((150, 4), (150,))"
      ]
     },
     "execution_count": 2,
     "metadata": {},
     "output_type": "execute_result"
    }
   ],
   "source": [
    "iris=load_iris()\n",
    "x_train=iris.data\n",
    "y_train=iris.target\n",
    "x_train.shape, y_train.shape"
   ]
  },
  {
   "cell_type": "code",
   "execution_count": 3,
   "metadata": {},
   "outputs": [
    {
     "data": {
      "text/plain": [
       "(array(['setosa', 'versicolor', 'virginica'], dtype='<U10'),\n",
       " ['sepal length (cm)',\n",
       "  'sepal width (cm)',\n",
       "  'petal length (cm)',\n",
       "  'petal width (cm)'])"
      ]
     },
     "execution_count": 3,
     "metadata": {},
     "output_type": "execute_result"
    }
   ],
   "source": [
    "iris.target_names, iris.feature_names"
   ]
  },
  {
   "cell_type": "code",
   "execution_count": 4,
   "metadata": {},
   "outputs": [
    {
     "data": {
      "text/plain": [
       "(150, 2)"
      ]
     },
     "execution_count": 4,
     "metadata": {},
     "output_type": "execute_result"
    }
   ],
   "source": [
    "# Feature -> 꽃잎의 길이, 너비\n",
    "x_train=x_train[:,2:]\n",
    "x_train.shape"
   ]
  },
  {
   "cell_type": "code",
   "execution_count": 5,
   "metadata": {},
   "outputs": [
    {
     "data": {
      "text/plain": [
       "array([1.4, 0.2])"
      ]
     },
     "execution_count": 5,
     "metadata": {},
     "output_type": "execute_result"
    }
   ],
   "source": [
    "x_train[0]"
   ]
  },
  {
   "cell_type": "code",
   "execution_count": 10,
   "metadata": {},
   "outputs": [
    {
     "data": {
      "text/plain": [
       "numpy.ndarray"
      ]
     },
     "execution_count": 10,
     "metadata": {},
     "output_type": "execute_result"
    }
   ],
   "source": [
    "type(x_train)"
   ]
  },
  {
   "cell_type": "code",
   "execution_count": 6,
   "metadata": {},
   "outputs": [],
   "source": [
    "from sklearn.preprocessing import StandardScaler\n",
    "scaler=StandardScaler()\n",
    "scaler.fit(x_train)\n",
    "x_train_scaled=scaler.transform(x_train)"
   ]
  },
  {
   "cell_type": "code",
   "execution_count": 9,
   "metadata": {},
   "outputs": [
    {
     "data": {
      "text/plain": [
       "array([-1.34022653, -1.3154443 ])"
      ]
     },
     "execution_count": 9,
     "metadata": {},
     "output_type": "execute_result"
    }
   ],
   "source": [
    "x_train_scaled[0]"
   ]
  },
  {
   "cell_type": "code",
   "execution_count": 13,
   "metadata": {},
   "outputs": [
    {
     "data": {
      "text/plain": [
       "(150, 2)"
      ]
     },
     "execution_count": 13,
     "metadata": {},
     "output_type": "execute_result"
    }
   ],
   "source": [
    "x_train_scaled.shape"
   ]
  },
  {
   "cell_type": "code",
   "execution_count": 14,
   "metadata": {},
   "outputs": [],
   "source": [
    "# target: 문자 -> 수치화\n",
    "from sklearn.preprocessing import LabelEncoder, OneHotEncoder\n",
    "\n",
    "lencoder=LabelEncoder()\n",
    "y_train=lencoder.fit(y_train).transform(y_train)"
   ]
  },
  {
   "cell_type": "code",
   "execution_count": 15,
   "metadata": {},
   "outputs": [],
   "source": [
    "onencoder=OneHotEncoder()\n",
    "y_train=onencoder.fit(y_train.reshape(-1,1)).transform(y_train.reshape(-1,1))"
   ]
  },
  {
   "cell_type": "code",
   "execution_count": 16,
   "metadata": {},
   "outputs": [],
   "source": [
    "y_train=y_train.toarray()"
   ]
  },
  {
   "cell_type": "code",
   "execution_count": 17,
   "metadata": {},
   "outputs": [],
   "source": [
    "from sklearn.model_selection import train_test_split\n",
    "\n",
    "x_train, x_test, y_train, y_test= train_test_split(x_train_scaled,y_train)\n",
    "x_train, x_val, y_train, y_val= train_test_split(x_train,y_train)"
   ]
  },
  {
   "cell_type": "code",
   "execution_count": 18,
   "metadata": {},
   "outputs": [
    {
     "data": {
      "text/plain": [
       "((84, 2), (38, 2), (28, 2))"
      ]
     },
     "execution_count": 18,
     "metadata": {},
     "output_type": "execute_result"
    }
   ],
   "source": [
    "x_train.shape, x_test.shape, x_val.shape"
   ]
  },
  {
   "cell_type": "markdown",
   "metadata": {},
   "source": [
    "### [3] 모델 구성 및 생성"
   ]
  },
  {
   "cell_type": "code",
   "execution_count": 19,
   "metadata": {},
   "outputs": [],
   "source": [
    "irisModel=Sequential(name='irisModel')"
   ]
  },
  {
   "cell_type": "code",
   "execution_count": 20,
   "metadata": {},
   "outputs": [],
   "source": [
    "irisModel.add(Dense(150, activation='relu', input_shape=(2,)))\n",
    "irisModel.add(Dense(150, activation='relu'))\n",
    "irisModel.add(Dense(3, activation='softmax'))"
   ]
  },
  {
   "cell_type": "code",
   "execution_count": 21,
   "metadata": {},
   "outputs": [],
   "source": [
    "irisModel.compile(loss='categorical_crossentropy', optimizer='adam', metrics='accuracy')"
   ]
  },
  {
   "cell_type": "code",
   "execution_count": 23,
   "metadata": {},
   "outputs": [
    {
     "name": "stdout",
     "output_type": "stream",
     "text": [
      "Epoch 1/100\n",
      "3/3 [==============================] - 0s 51ms/step - loss: 0.0749 - accuracy: 0.9524 - val_loss: 0.0932 - val_accuracy: 0.9643\n",
      "Epoch 2/100\n",
      "3/3 [==============================] - 0s 25ms/step - loss: 0.0745 - accuracy: 0.9524 - val_loss: 0.0794 - val_accuracy: 0.9643\n",
      "Epoch 3/100\n",
      "3/3 [==============================] - 0s 26ms/step - loss: 0.0798 - accuracy: 0.9524 - val_loss: 0.0744 - val_accuracy: 0.9643\n",
      "Epoch 4/100\n",
      "3/3 [==============================] - 0s 26ms/step - loss: 0.0751 - accuracy: 0.9524 - val_loss: 0.0906 - val_accuracy: 0.9643\n",
      "Epoch 5/100\n",
      "3/3 [==============================] - 0s 26ms/step - loss: 0.0732 - accuracy: 0.9524 - val_loss: 0.1012 - val_accuracy: 0.9286\n",
      "Epoch 6/100\n",
      "3/3 [==============================] - 0s 23ms/step - loss: 0.0752 - accuracy: 0.9643 - val_loss: 0.1150 - val_accuracy: 0.9286\n",
      "Epoch 7/100\n",
      "3/3 [==============================] - 0s 27ms/step - loss: 0.0778 - accuracy: 0.9643 - val_loss: 0.1148 - val_accuracy: 0.9286\n",
      "Epoch 8/100\n",
      "3/3 [==============================] - 0s 72ms/step - loss: 0.0772 - accuracy: 0.9643 - val_loss: 0.0919 - val_accuracy: 0.9643\n",
      "Epoch 9/100\n",
      "3/3 [==============================] - 0s 27ms/step - loss: 0.0735 - accuracy: 0.9524 - val_loss: 0.0848 - val_accuracy: 0.9643\n",
      "Epoch 10/100\n",
      "3/3 [==============================] - 0s 27ms/step - loss: 0.0750 - accuracy: 0.9524 - val_loss: 0.0812 - val_accuracy: 0.9643\n",
      "Epoch 11/100\n",
      "3/3 [==============================] - 0s 25ms/step - loss: 0.0743 - accuracy: 0.9524 - val_loss: 0.0902 - val_accuracy: 0.9643\n",
      "Epoch 12/100\n",
      "3/3 [==============================] - 0s 26ms/step - loss: 0.0727 - accuracy: 0.9524 - val_loss: 0.0989 - val_accuracy: 0.9286\n",
      "Epoch 13/100\n",
      "3/3 [==============================] - 0s 26ms/step - loss: 0.0739 - accuracy: 0.9643 - val_loss: 0.1073 - val_accuracy: 0.9286\n",
      "Epoch 14/100\n",
      "3/3 [==============================] - 0s 27ms/step - loss: 0.0762 - accuracy: 0.9643 - val_loss: 0.1076 - val_accuracy: 0.9286\n",
      "Epoch 15/100\n",
      "3/3 [==============================] - 0s 27ms/step - loss: 0.0757 - accuracy: 0.9643 - val_loss: 0.0900 - val_accuracy: 0.9643\n",
      "Epoch 16/100\n",
      "3/3 [==============================] - 0s 25ms/step - loss: 0.0747 - accuracy: 0.9524 - val_loss: 0.0820 - val_accuracy: 0.9643\n",
      "Epoch 17/100\n",
      "3/3 [==============================] - 0s 26ms/step - loss: 0.0734 - accuracy: 0.9524 - val_loss: 0.0776 - val_accuracy: 0.9643\n",
      "Epoch 18/100\n",
      "3/3 [==============================] - 0s 25ms/step - loss: 0.0752 - accuracy: 0.9524 - val_loss: 0.0824 - val_accuracy: 0.9643\n",
      "Epoch 19/100\n",
      "3/3 [==============================] - 0s 26ms/step - loss: 0.0735 - accuracy: 0.9524 - val_loss: 0.0809 - val_accuracy: 0.9643\n",
      "Epoch 20/100\n",
      "3/3 [==============================] - 0s 25ms/step - loss: 0.0750 - accuracy: 0.9524 - val_loss: 0.0875 - val_accuracy: 0.9643\n",
      "Epoch 21/100\n",
      "3/3 [==============================] - 0s 24ms/step - loss: 0.0745 - accuracy: 0.9524 - val_loss: 0.0819 - val_accuracy: 0.9643\n",
      "Epoch 22/100\n",
      "3/3 [==============================] - 0s 24ms/step - loss: 0.0729 - accuracy: 0.9524 - val_loss: 0.0866 - val_accuracy: 0.9643\n",
      "Epoch 23/100\n",
      "3/3 [==============================] - 0s 24ms/step - loss: 0.0735 - accuracy: 0.9524 - val_loss: 0.0949 - val_accuracy: 0.9643\n",
      "Epoch 24/100\n",
      "3/3 [==============================] - 0s 25ms/step - loss: 0.0741 - accuracy: 0.9524 - val_loss: 0.0927 - val_accuracy: 0.9643\n",
      "Epoch 25/100\n",
      "3/3 [==============================] - 0s 26ms/step - loss: 0.0727 - accuracy: 0.9524 - val_loss: 0.0958 - val_accuracy: 0.9643\n",
      "Epoch 26/100\n",
      "3/3 [==============================] - 0s 25ms/step - loss: 0.0732 - accuracy: 0.9643 - val_loss: 0.0976 - val_accuracy: 0.9643\n",
      "Epoch 27/100\n",
      "3/3 [==============================] - 0s 28ms/step - loss: 0.0731 - accuracy: 0.9643 - val_loss: 0.0995 - val_accuracy: 0.9643\n",
      "Epoch 28/100\n",
      "3/3 [==============================] - 0s 25ms/step - loss: 0.0731 - accuracy: 0.9643 - val_loss: 0.0934 - val_accuracy: 0.9643\n",
      "Epoch 29/100\n",
      "3/3 [==============================] - 0s 25ms/step - loss: 0.0736 - accuracy: 0.9524 - val_loss: 0.0876 - val_accuracy: 0.9643\n",
      "Epoch 30/100\n",
      "3/3 [==============================] - 0s 26ms/step - loss: 0.0728 - accuracy: 0.9524 - val_loss: 0.0731 - val_accuracy: 0.9643\n",
      "Epoch 31/100\n",
      "3/3 [==============================] - 0s 25ms/step - loss: 0.0746 - accuracy: 0.9524 - val_loss: 0.0700 - val_accuracy: 0.9643\n",
      "Epoch 32/100\n",
      "3/3 [==============================] - 0s 26ms/step - loss: 0.0739 - accuracy: 0.9524 - val_loss: 0.0777 - val_accuracy: 0.9643\n",
      "Epoch 33/100\n",
      "3/3 [==============================] - 0s 29ms/step - loss: 0.0725 - accuracy: 0.9524 - val_loss: 0.0842 - val_accuracy: 0.9643\n",
      "Epoch 34/100\n",
      "3/3 [==============================] - 0s 32ms/step - loss: 0.0721 - accuracy: 0.9524 - val_loss: 0.0888 - val_accuracy: 0.9643\n",
      "Epoch 35/100\n",
      "3/3 [==============================] - 0s 28ms/step - loss: 0.0722 - accuracy: 0.9643 - val_loss: 0.0942 - val_accuracy: 0.9643\n",
      "Epoch 36/100\n",
      "3/3 [==============================] - 0s 27ms/step - loss: 0.0735 - accuracy: 0.9643 - val_loss: 0.0945 - val_accuracy: 0.9643\n",
      "Epoch 37/100\n",
      "3/3 [==============================] - 0s 42ms/step - loss: 0.0735 - accuracy: 0.9643 - val_loss: 0.0838 - val_accuracy: 0.9643\n",
      "Epoch 38/100\n",
      "3/3 [==============================] - 0s 33ms/step - loss: 0.0721 - accuracy: 0.9524 - val_loss: 0.0800 - val_accuracy: 0.9643\n",
      "Epoch 39/100\n",
      "3/3 [==============================] - 0s 26ms/step - loss: 0.0716 - accuracy: 0.9524 - val_loss: 0.0739 - val_accuracy: 0.9643\n",
      "Epoch 40/100\n",
      "3/3 [==============================] - 0s 24ms/step - loss: 0.0724 - accuracy: 0.9524 - val_loss: 0.0711 - val_accuracy: 0.9643\n",
      "Epoch 41/100\n",
      "3/3 [==============================] - 0s 24ms/step - loss: 0.0747 - accuracy: 0.9524 - val_loss: 0.0705 - val_accuracy: 0.9643\n",
      "Epoch 42/100\n",
      "3/3 [==============================] - 0s 23ms/step - loss: 0.0717 - accuracy: 0.9524 - val_loss: 0.0821 - val_accuracy: 0.9643\n",
      "Epoch 43/100\n",
      "3/3 [==============================] - 0s 24ms/step - loss: 0.0736 - accuracy: 0.9524 - val_loss: 0.0949 - val_accuracy: 0.9643\n",
      "Epoch 44/100\n",
      "3/3 [==============================] - 0s 25ms/step - loss: 0.0726 - accuracy: 0.9643 - val_loss: 0.0913 - val_accuracy: 0.9643\n",
      "Epoch 45/100\n",
      "3/3 [==============================] - 0s 24ms/step - loss: 0.0722 - accuracy: 0.9643 - val_loss: 0.0849 - val_accuracy: 0.9643\n",
      "Epoch 46/100\n",
      "3/3 [==============================] - 0s 22ms/step - loss: 0.0714 - accuracy: 0.9524 - val_loss: 0.0822 - val_accuracy: 0.9643\n",
      "Epoch 47/100\n",
      "3/3 [==============================] - 0s 24ms/step - loss: 0.0744 - accuracy: 0.9524 - val_loss: 0.0741 - val_accuracy: 0.9643\n",
      "Epoch 48/100\n",
      "3/3 [==============================] - 0s 22ms/step - loss: 0.0725 - accuracy: 0.9524 - val_loss: 0.0785 - val_accuracy: 0.9643\n",
      "Epoch 49/100\n",
      "3/3 [==============================] - 0s 23ms/step - loss: 0.0724 - accuracy: 0.9524 - val_loss: 0.0879 - val_accuracy: 0.9643\n",
      "Epoch 50/100\n",
      "3/3 [==============================] - 0s 23ms/step - loss: 0.0714 - accuracy: 0.9524 - val_loss: 0.0864 - val_accuracy: 0.9643\n",
      "Epoch 51/100\n",
      "3/3 [==============================] - 0s 23ms/step - loss: 0.0736 - accuracy: 0.9524 - val_loss: 0.0797 - val_accuracy: 0.9643\n",
      "Epoch 52/100\n",
      "3/3 [==============================] - 0s 23ms/step - loss: 0.0727 - accuracy: 0.9524 - val_loss: 0.0764 - val_accuracy: 0.9643\n",
      "Epoch 53/100\n",
      "3/3 [==============================] - 0s 23ms/step - loss: 0.0711 - accuracy: 0.9524 - val_loss: 0.0838 - val_accuracy: 0.9643\n",
      "Epoch 54/100\n",
      "3/3 [==============================] - 0s 25ms/step - loss: 0.0710 - accuracy: 0.9524 - val_loss: 0.0912 - val_accuracy: 0.9643\n",
      "Epoch 55/100\n",
      "3/3 [==============================] - 0s 25ms/step - loss: 0.0729 - accuracy: 0.9643 - val_loss: 0.0946 - val_accuracy: 0.9643\n",
      "Epoch 56/100\n",
      "3/3 [==============================] - 0s 24ms/step - loss: 0.0718 - accuracy: 0.9643 - val_loss: 0.0833 - val_accuracy: 0.9643\n",
      "Epoch 57/100\n",
      "3/3 [==============================] - 0s 22ms/step - loss: 0.0711 - accuracy: 0.9524 - val_loss: 0.0777 - val_accuracy: 0.9643\n",
      "Epoch 58/100\n",
      "3/3 [==============================] - 0s 28ms/step - loss: 0.0714 - accuracy: 0.9524 - val_loss: 0.0674 - val_accuracy: 0.9643\n",
      "Epoch 59/100\n",
      "3/3 [==============================] - 0s 24ms/step - loss: 0.0725 - accuracy: 0.9524 - val_loss: 0.0597 - val_accuracy: 0.9643\n",
      "Epoch 60/100\n",
      "3/3 [==============================] - 0s 23ms/step - loss: 0.0766 - accuracy: 0.9524 - val_loss: 0.0587 - val_accuracy: 0.9643\n",
      "Epoch 61/100\n",
      "3/3 [==============================] - 0s 22ms/step - loss: 0.0742 - accuracy: 0.9524 - val_loss: 0.0681 - val_accuracy: 0.9643\n",
      "Epoch 62/100\n",
      "3/3 [==============================] - 0s 23ms/step - loss: 0.0720 - accuracy: 0.9524 - val_loss: 0.0859 - val_accuracy: 0.9643\n",
      "Epoch 63/100\n",
      "3/3 [==============================] - 0s 24ms/step - loss: 0.0746 - accuracy: 0.9524 - val_loss: 0.1014 - val_accuracy: 0.9643\n",
      "Epoch 64/100\n",
      "3/3 [==============================] - 0s 23ms/step - loss: 0.0735 - accuracy: 0.9643 - val_loss: 0.0959 - val_accuracy: 0.9643\n",
      "Epoch 65/100\n",
      "3/3 [==============================] - 0s 23ms/step - loss: 0.0718 - accuracy: 0.9643 - val_loss: 0.0919 - val_accuracy: 0.9643\n",
      "Epoch 66/100\n",
      "3/3 [==============================] - 0s 24ms/step - loss: 0.0715 - accuracy: 0.9643 - val_loss: 0.0893 - val_accuracy: 0.9643\n",
      "Epoch 67/100\n",
      "3/3 [==============================] - 0s 24ms/step - loss: 0.0706 - accuracy: 0.9643 - val_loss: 0.0793 - val_accuracy: 0.9643\n",
      "Epoch 68/100\n",
      "3/3 [==============================] - 0s 23ms/step - loss: 0.0701 - accuracy: 0.9524 - val_loss: 0.0723 - val_accuracy: 0.9643\n",
      "Epoch 69/100\n",
      "3/3 [==============================] - 0s 24ms/step - loss: 0.0728 - accuracy: 0.9524 - val_loss: 0.0677 - val_accuracy: 0.9643\n",
      "Epoch 70/100\n",
      "3/3 [==============================] - 0s 25ms/step - loss: 0.0749 - accuracy: 0.9524 - val_loss: 0.0661 - val_accuracy: 0.9643\n",
      "Epoch 71/100\n",
      "3/3 [==============================] - 0s 24ms/step - loss: 0.0719 - accuracy: 0.9524 - val_loss: 0.0819 - val_accuracy: 0.9643\n",
      "Epoch 72/100\n",
      "3/3 [==============================] - 0s 24ms/step - loss: 0.0697 - accuracy: 0.9524 - val_loss: 0.0919 - val_accuracy: 0.9643\n",
      "Epoch 73/100\n",
      "3/3 [==============================] - 0s 22ms/step - loss: 0.0705 - accuracy: 0.9643 - val_loss: 0.0980 - val_accuracy: 0.9643\n",
      "Epoch 74/100\n",
      "3/3 [==============================] - 0s 22ms/step - loss: 0.0732 - accuracy: 0.9643 - val_loss: 0.1015 - val_accuracy: 0.9643\n",
      "Epoch 75/100\n",
      "3/3 [==============================] - 0s 23ms/step - loss: 0.0738 - accuracy: 0.9643 - val_loss: 0.0917 - val_accuracy: 0.9643\n",
      "Epoch 76/100\n",
      "3/3 [==============================] - 0s 23ms/step - loss: 0.0709 - accuracy: 0.9643 - val_loss: 0.0810 - val_accuracy: 0.9643\n",
      "Epoch 77/100\n",
      "3/3 [==============================] - 0s 23ms/step - loss: 0.0700 - accuracy: 0.9524 - val_loss: 0.0758 - val_accuracy: 0.9643\n",
      "Epoch 78/100\n",
      "3/3 [==============================] - 0s 23ms/step - loss: 0.0704 - accuracy: 0.9524 - val_loss: 0.0672 - val_accuracy: 0.9643\n",
      "Epoch 79/100\n",
      "3/3 [==============================] - 0s 23ms/step - loss: 0.0711 - accuracy: 0.9524 - val_loss: 0.0674 - val_accuracy: 0.9643\n",
      "Epoch 80/100\n",
      "3/3 [==============================] - 0s 27ms/step - loss: 0.0714 - accuracy: 0.9524 - val_loss: 0.0703 - val_accuracy: 0.9643\n",
      "Epoch 81/100\n",
      "3/3 [==============================] - 0s 23ms/step - loss: 0.0698 - accuracy: 0.9524 - val_loss: 0.0791 - val_accuracy: 0.9643\n",
      "Epoch 82/100\n",
      "3/3 [==============================] - 0s 24ms/step - loss: 0.0697 - accuracy: 0.9524 - val_loss: 0.0937 - val_accuracy: 0.9643\n",
      "Epoch 83/100\n",
      "3/3 [==============================] - 0s 22ms/step - loss: 0.0729 - accuracy: 0.9643 - val_loss: 0.1015 - val_accuracy: 0.9643\n",
      "Epoch 84/100\n",
      "3/3 [==============================] - 0s 21ms/step - loss: 0.0715 - accuracy: 0.9643 - val_loss: 0.0888 - val_accuracy: 0.9643\n",
      "Epoch 85/100\n",
      "3/3 [==============================] - 0s 21ms/step - loss: 0.0698 - accuracy: 0.9643 - val_loss: 0.0772 - val_accuracy: 0.9643\n",
      "Epoch 86/100\n",
      "3/3 [==============================] - 0s 23ms/step - loss: 0.0732 - accuracy: 0.9524 - val_loss: 0.0684 - val_accuracy: 0.9643\n",
      "Epoch 87/100\n",
      "3/3 [==============================] - 0s 23ms/step - loss: 0.0730 - accuracy: 0.9524 - val_loss: 0.0763 - val_accuracy: 0.9643\n",
      "Epoch 88/100\n",
      "3/3 [==============================] - 0s 23ms/step - loss: 0.0713 - accuracy: 0.9524 - val_loss: 0.0769 - val_accuracy: 0.9643\n",
      "Epoch 89/100\n",
      "3/3 [==============================] - 0s 21ms/step - loss: 0.0707 - accuracy: 0.9524 - val_loss: 0.0892 - val_accuracy: 0.9643\n",
      "Epoch 90/100\n",
      "3/3 [==============================] - 0s 24ms/step - loss: 0.0714 - accuracy: 0.9643 - val_loss: 0.0911 - val_accuracy: 0.9643\n",
      "Epoch 91/100\n",
      "3/3 [==============================] - 0s 23ms/step - loss: 0.0705 - accuracy: 0.9643 - val_loss: 0.0801 - val_accuracy: 0.9643\n",
      "Epoch 92/100\n",
      "3/3 [==============================] - 0s 22ms/step - loss: 0.0695 - accuracy: 0.9524 - val_loss: 0.0733 - val_accuracy: 0.9643\n",
      "Epoch 93/100\n",
      "3/3 [==============================] - 0s 23ms/step - loss: 0.0695 - accuracy: 0.9524 - val_loss: 0.0735 - val_accuracy: 0.9643\n",
      "Epoch 94/100\n",
      "3/3 [==============================] - 0s 23ms/step - loss: 0.0698 - accuracy: 0.9524 - val_loss: 0.0727 - val_accuracy: 0.9643\n",
      "Epoch 95/100\n",
      "3/3 [==============================] - 0s 23ms/step - loss: 0.0700 - accuracy: 0.9524 - val_loss: 0.0737 - val_accuracy: 0.9643\n",
      "Epoch 96/100\n",
      "3/3 [==============================] - 0s 23ms/step - loss: 0.0716 - accuracy: 0.9524 - val_loss: 0.0833 - val_accuracy: 0.9643\n",
      "Epoch 97/100\n",
      "3/3 [==============================] - 0s 25ms/step - loss: 0.0694 - accuracy: 0.9524 - val_loss: 0.0795 - val_accuracy: 0.9643\n",
      "Epoch 98/100\n",
      "3/3 [==============================] - 0s 25ms/step - loss: 0.0698 - accuracy: 0.9524 - val_loss: 0.0789 - val_accuracy: 0.9643\n",
      "Epoch 99/100\n",
      "3/3 [==============================] - 0s 30ms/step - loss: 0.0694 - accuracy: 0.9524 - val_loss: 0.0759 - val_accuracy: 0.9643\n",
      "Epoch 100/100\n",
      "3/3 [==============================] - 0s 24ms/step - loss: 0.0711 - accuracy: 0.9524 - val_loss: 0.0755 - val_accuracy: 0.9643\n"
     ]
    },
    {
     "data": {
      "text/plain": [
       "<keras.callbacks.History at 0x2aa46ac8d60>"
      ]
     },
     "execution_count": 23,
     "metadata": {},
     "output_type": "execute_result"
    }
   ],
   "source": [
    "irisModel.fit(x_train, y_train, epochs=100, validation_data=(x_val, y_val))"
   ]
  },
  {
   "cell_type": "markdown",
   "metadata": {},
   "source": [
    "## [5] 모델 저장"
   ]
  },
  {
   "cell_type": "code",
   "execution_count": 93,
   "metadata": {},
   "outputs": [
    {
     "name": "stdout",
     "output_type": "stream",
     "text": [
      "2/2 [==============================] - 0s 3ms/step - loss: 0.2577 - accuracy: 0.9211\n"
     ]
    }
   ],
   "source": [
    "lossv, accv=irisModel.evaluate(x_test, y_test)"
   ]
  },
  {
   "cell_type": "code",
   "execution_count": 94,
   "metadata": {},
   "outputs": [
    {
     "data": {
      "text/plain": [
       "0.9210526347160339"
      ]
     },
     "execution_count": 94,
     "metadata": {},
     "output_type": "execute_result"
    }
   ],
   "source": [
    "accv"
   ]
  },
  {
   "cell_type": "code",
   "execution_count": 97,
   "metadata": {},
   "outputs": [],
   "source": [
    "M_FILE='irisModel.h5'\n",
    "W_FILE='irisWeights.h5'"
   ]
  },
  {
   "cell_type": "code",
   "execution_count": 98,
   "metadata": {},
   "outputs": [],
   "source": [
    "from keras.models import save_model\n",
    "if accv >=0.9:\n",
    "    save_model(irisModel, M_FILE)\n",
    "    irisModel.save_weights(W_FILE)"
   ]
  },
  {
   "cell_type": "markdown",
   "metadata": {},
   "source": [
    "## [6] 복원\n",
    "---\n",
    " - 모델 또는 가중치 복원\n",
    " - load_model(모델 파일 또는 모델 폴더명)\n",
    " - Sequential.load_weights(가중치 파일 또는 폴더 명)\n"
   ]
  },
  {
   "cell_type": "markdown",
   "metadata": {},
   "source": [
    "### [6-1] 모델 복원"
   ]
  },
  {
   "cell_type": "code",
   "execution_count": 99,
   "metadata": {},
   "outputs": [],
   "source": [
    "from keras.models import load_model"
   ]
  },
  {
   "cell_type": "code",
   "execution_count": 100,
   "metadata": {},
   "outputs": [
    {
     "name": "stdout",
     "output_type": "stream",
     "text": [
      "2/2 [==============================] - 0s 2ms/step - loss: 0.2577 - accuracy: 0.9211\n"
     ]
    },
    {
     "data": {
      "text/plain": [
       "[0.2577494978904724, 0.9210526347160339]"
      ]
     },
     "execution_count": 100,
     "metadata": {},
     "output_type": "execute_result"
    }
   ],
   "source": [
    "reModel=load_model(M_FILE)\n",
    "reModel.evaluate(x_test, y_test)"
   ]
  },
  {
   "cell_type": "markdown",
   "metadata": {},
   "source": [
    "### [6-2] 가중치복원\n",
    " - 모델 구조 생성\n",
    " - 가중치 로딩"
   ]
  },
  {
   "cell_type": "code",
   "execution_count": 101,
   "metadata": {},
   "outputs": [],
   "source": [
    "# 모델 구조 구성\n",
    "newModel=Sequential(name='newirisModel')\n",
    "newModel.add(Dense(150, activation='relu', input_shape=(2,)))\n",
    "newModel.add(Dense(150, activation='relu'))\n",
    "newModel.add(Dense(3, activation='softmax'))"
   ]
  },
  {
   "cell_type": "code",
   "execution_count": 105,
   "metadata": {},
   "outputs": [],
   "source": [
    "# 모델 생성\n",
    "newModel.compile(loss='categorical_crossentropy', optimizer='adam', metrics='accuracy')"
   ]
  },
  {
   "cell_type": "code",
   "execution_count": 106,
   "metadata": {},
   "outputs": [],
   "source": [
    "# 가중치 로딩\n",
    "newModel.load_weights(W_FILE)"
   ]
  },
  {
   "cell_type": "code",
   "execution_count": 107,
   "metadata": {},
   "outputs": [
    {
     "name": "stdout",
     "output_type": "stream",
     "text": [
      "2/2 [==============================] - 0s 3ms/step - loss: 0.2577 - accuracy: 0.9211\n"
     ]
    },
    {
     "data": {
      "text/plain": [
       "[0.2577494978904724, 0.9210526347160339]"
      ]
     },
     "execution_count": 107,
     "metadata": {},
     "output_type": "execute_result"
    }
   ],
   "source": [
    "newModel.evaluate(x_test, y_test)"
   ]
  },
  {
   "cell_type": "code",
   "execution_count": null,
   "metadata": {},
   "outputs": [],
   "source": []
  },
  {
   "cell_type": "code",
   "execution_count": null,
   "metadata": {},
   "outputs": [],
   "source": []
  },
  {
   "cell_type": "code",
   "execution_count": null,
   "metadata": {},
   "outputs": [],
   "source": []
  }
 ],
 "metadata": {
  "kernelspec": {
   "display_name": "Python 3.9.13 ('base')",
   "language": "python",
   "name": "python3"
  },
  "language_info": {
   "codemirror_mode": {
    "name": "ipython",
    "version": 3
   },
   "file_extension": ".py",
   "mimetype": "text/x-python",
   "name": "python",
   "nbconvert_exporter": "python",
   "pygments_lexer": "ipython3",
   "version": "3.9.13"
  },
  "orig_nbformat": 4,
  "vscode": {
   "interpreter": {
    "hash": "ad2bdc8ecc057115af97d19610ffacc2b4e99fae6737bb82f5d7fb13d2f2c186"
   }
  }
 },
 "nbformat": 4,
 "nbformat_minor": 2
}
