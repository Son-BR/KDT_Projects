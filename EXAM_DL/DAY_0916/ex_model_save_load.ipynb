{
 "cells": [
  {
   "cell_type": "markdown",
   "metadata": {},
   "source": [
    "## 모델 저장과 복원\n",
    "---\n",
    " - 방법1) 모델 전체 저장(모델 구조+가중치+변수)\n",
    "   - save_model()\n",
    "   - 복원시 추가 작업 필요 없이 모델 파일 로딩해서 사용 가능\n",
    "\n",
    " - 방법2) 가중치만 저장\n",
    "   - save_weights()\n",
    "   - 복원시 모델 구조(Architechture) 생성 후 가중치 적용\n",
    "\n",
    " - 방법3) 모델 전체 또는 자동 저장\n",
    "   - fit()에서 ModelCheckPoint Event에 대한 callbacks 등록\n",
    "   - save_best_only=True: 모니터링 기준에 따라서 좋은 성능의 모델만 저장\n",
    "   - save_weight_only=True: 가중치만 저장\n",
    " \n",
    " - 파일 또는 폴더\n",
    "   - 파일 확장자가 없으면 폴더로 저장\n",
    "   - 파일 확장자\n",
    "     - h5 / hdf5: HDF5 포맷으로 모델 또는 가중치 저장\n",
    "     - ckpf: 체크포인트파일형태로 저장\n",
    "     - pd: 모델 저장"
   ]
  },
  {
   "cell_type": "code",
   "execution_count": 51,
   "metadata": {},
   "outputs": [],
   "source": [
    "from sklearn.datasets import load_iris\n",
    "from keras import Sequential\n",
    "from keras.layers import Dense\n",
    "from keras.utils import set_random_seed, plot_model\n",
    "\n",
    "import numpy as np"
   ]
  },
  {
   "cell_type": "markdown",
   "metadata": {},
   "source": [
    "## [1] 데이터 준비 및 로딩"
   ]
  },
  {
   "cell_type": "code",
   "execution_count": 59,
   "metadata": {},
   "outputs": [
    {
     "data": {
      "text/plain": [
       "((150, 4), (150,))"
      ]
     },
     "execution_count": 59,
     "metadata": {},
     "output_type": "execute_result"
    }
   ],
   "source": [
    "iris=load_iris()\n",
    "x_train=iris.data\n",
    "y_train=iris.target\n",
    "x_train.shape, y_train.shape"
   ]
  },
  {
   "cell_type": "code",
   "execution_count": 60,
   "metadata": {},
   "outputs": [
    {
     "data": {
      "text/plain": [
       "(array(['setosa', 'versicolor', 'virginica'], dtype='<U10'),\n",
       " ['sepal length (cm)',\n",
       "  'sepal width (cm)',\n",
       "  'petal length (cm)',\n",
       "  'petal width (cm)'])"
      ]
     },
     "execution_count": 60,
     "metadata": {},
     "output_type": "execute_result"
    }
   ],
   "source": [
    "iris.target_names, iris.feature_names"
   ]
  },
  {
   "cell_type": "code",
   "execution_count": 61,
   "metadata": {},
   "outputs": [
    {
     "data": {
      "text/plain": [
       "(150, 2)"
      ]
     },
     "execution_count": 61,
     "metadata": {},
     "output_type": "execute_result"
    }
   ],
   "source": [
    "# Feature -> 꽃잎의 길이, 너비\n",
    "x_train=x_train[:,2:]\n",
    "x_train.shape"
   ]
  },
  {
   "cell_type": "code",
   "execution_count": 62,
   "metadata": {},
   "outputs": [],
   "source": [
    "from sklearn.preprocessing import StandardScaler\n",
    "scaler=StandardScaler()\n",
    "scaler.fit(x_train)\n",
    "x_train_scaled=scaler.transform(x_train)"
   ]
  },
  {
   "cell_type": "code",
   "execution_count": 63,
   "metadata": {},
   "outputs": [],
   "source": [
    "# target: 문자 -> 수치화\n",
    "from sklearn.preprocessing import LabelEncoder, OneHotEncoder\n",
    "\n",
    "lencoder=LabelEncoder()\n",
    "y_train=lencoder.fit(y_train).transform(y_train)"
   ]
  },
  {
   "cell_type": "code",
   "execution_count": 64,
   "metadata": {},
   "outputs": [],
   "source": [
    "onencoder=OneHotEncoder()\n",
    "y_train=onencoder.fit(y_train.reshape(-1,1)).transform(y_train.reshape(-1,1))"
   ]
  },
  {
   "cell_type": "code",
   "execution_count": 65,
   "metadata": {},
   "outputs": [],
   "source": [
    "y_train=y_train.toarray()"
   ]
  },
  {
   "cell_type": "code",
   "execution_count": 66,
   "metadata": {},
   "outputs": [],
   "source": [
    "from sklearn.model_selection import train_test_split\n",
    "\n",
    "x_train, x_test, y_train, y_test= train_test_split(x_train,y_train)\n",
    "x_train, x_val, y_train, y_val= train_test_split(x_train,y_train)"
   ]
  },
  {
   "cell_type": "code",
   "execution_count": 67,
   "metadata": {},
   "outputs": [
    {
     "data": {
      "text/plain": [
       "((84, 2), (38, 2), (28, 2))"
      ]
     },
     "execution_count": 67,
     "metadata": {},
     "output_type": "execute_result"
    }
   ],
   "source": [
    "x_train.shape, x_test.shape, x_val.shape"
   ]
  },
  {
   "cell_type": "markdown",
   "metadata": {},
   "source": [
    "### [3] 모델 구성 및 생성"
   ]
  },
  {
   "cell_type": "code",
   "execution_count": 82,
   "metadata": {},
   "outputs": [],
   "source": [
    "irisModel=Sequential(name='irisModel')"
   ]
  },
  {
   "cell_type": "code",
   "execution_count": 83,
   "metadata": {},
   "outputs": [],
   "source": [
    "irisModel.add(Dense(150, activation='relu', input_shape=(2,)))\n",
    "irisModel.add(Dense(150, activation='relu'))\n",
    "irisModel.add(Dense(3, activation='softmax'))"
   ]
  },
  {
   "cell_type": "code",
   "execution_count": 84,
   "metadata": {},
   "outputs": [],
   "source": [
    "irisModel.compile(loss='categorical_crossentropy', optimizer='adam', metrics='accuracy')"
   ]
  },
  {
   "cell_type": "code",
   "execution_count": 85,
   "metadata": {},
   "outputs": [
    {
     "name": "stdout",
     "output_type": "stream",
     "text": [
      "Epoch 1/100\n",
      "3/3 [==============================] - 1s 172ms/step - loss: 1.2018 - accuracy: 0.2976 - val_loss: 1.0338 - val_accuracy: 0.2632\n",
      "Epoch 2/100\n",
      "3/3 [==============================] - 0s 24ms/step - loss: 1.0274 - accuracy: 0.3452 - val_loss: 1.0916 - val_accuracy: 0.2632\n",
      "Epoch 3/100\n",
      "3/3 [==============================] - 0s 26ms/step - loss: 1.0296 - accuracy: 0.3452 - val_loss: 1.1103 - val_accuracy: 0.2632\n",
      "Epoch 4/100\n",
      "3/3 [==============================] - 0s 30ms/step - loss: 1.0164 - accuracy: 0.3452 - val_loss: 1.0430 - val_accuracy: 0.2632\n",
      "Epoch 5/100\n",
      "3/3 [==============================] - 0s 32ms/step - loss: 0.9813 - accuracy: 0.3452 - val_loss: 0.9906 - val_accuracy: 0.2632\n",
      "Epoch 6/100\n",
      "3/3 [==============================] - 0s 32ms/step - loss: 0.9665 - accuracy: 0.3452 - val_loss: 0.9587 - val_accuracy: 0.2632\n",
      "Epoch 7/100\n",
      "3/3 [==============================] - 0s 32ms/step - loss: 0.9568 - accuracy: 0.3452 - val_loss: 0.9473 - val_accuracy: 0.2632\n",
      "Epoch 8/100\n",
      "3/3 [==============================] - 0s 32ms/step - loss: 0.9386 - accuracy: 0.3452 - val_loss: 0.9521 - val_accuracy: 0.2895\n",
      "Epoch 9/100\n",
      "3/3 [==============================] - 0s 31ms/step - loss: 0.9200 - accuracy: 0.3571 - val_loss: 0.9628 - val_accuracy: 0.3421\n",
      "Epoch 10/100\n",
      "3/3 [==============================] - 0s 30ms/step - loss: 0.9067 - accuracy: 0.4524 - val_loss: 0.9610 - val_accuracy: 0.5000\n",
      "Epoch 11/100\n",
      "3/3 [==============================] - 0s 29ms/step - loss: 0.8942 - accuracy: 0.5833 - val_loss: 0.9421 - val_accuracy: 0.5000\n",
      "Epoch 12/100\n",
      "3/3 [==============================] - 0s 33ms/step - loss: 0.8763 - accuracy: 0.6310 - val_loss: 0.9228 - val_accuracy: 0.5263\n",
      "Epoch 13/100\n",
      "3/3 [==============================] - 0s 35ms/step - loss: 0.8562 - accuracy: 0.6310 - val_loss: 0.8952 - val_accuracy: 0.5526\n",
      "Epoch 14/100\n",
      "3/3 [==============================] - 0s 34ms/step - loss: 0.8376 - accuracy: 0.6548 - val_loss: 0.8675 - val_accuracy: 0.5526\n",
      "Epoch 15/100\n",
      "3/3 [==============================] - 0s 31ms/step - loss: 0.8229 - accuracy: 0.6786 - val_loss: 0.8473 - val_accuracy: 0.5526\n",
      "Epoch 16/100\n",
      "3/3 [==============================] - 0s 33ms/step - loss: 0.8059 - accuracy: 0.7024 - val_loss: 0.8328 - val_accuracy: 0.5789\n",
      "Epoch 17/100\n",
      "3/3 [==============================] - 0s 30ms/step - loss: 0.7843 - accuracy: 0.6905 - val_loss: 0.8260 - val_accuracy: 0.5789\n",
      "Epoch 18/100\n",
      "3/3 [==============================] - 0s 29ms/step - loss: 0.7625 - accuracy: 0.6905 - val_loss: 0.8146 - val_accuracy: 0.5789\n",
      "Epoch 19/100\n",
      "3/3 [==============================] - 0s 28ms/step - loss: 0.7409 - accuracy: 0.6905 - val_loss: 0.7979 - val_accuracy: 0.5789\n",
      "Epoch 20/100\n",
      "3/3 [==============================] - 0s 29ms/step - loss: 0.7194 - accuracy: 0.7024 - val_loss: 0.7694 - val_accuracy: 0.6053\n",
      "Epoch 21/100\n",
      "3/3 [==============================] - 0s 33ms/step - loss: 0.6970 - accuracy: 0.7143 - val_loss: 0.7453 - val_accuracy: 0.6316\n",
      "Epoch 22/100\n",
      "3/3 [==============================] - 0s 34ms/step - loss: 0.6700 - accuracy: 0.7381 - val_loss: 0.7288 - val_accuracy: 0.6316\n",
      "Epoch 23/100\n",
      "3/3 [==============================] - 0s 57ms/step - loss: 0.6493 - accuracy: 0.7143 - val_loss: 0.7155 - val_accuracy: 0.6053\n",
      "Epoch 24/100\n",
      "3/3 [==============================] - 0s 41ms/step - loss: 0.6249 - accuracy: 0.7143 - val_loss: 0.6881 - val_accuracy: 0.6316\n",
      "Epoch 25/100\n",
      "3/3 [==============================] - 0s 45ms/step - loss: 0.6003 - accuracy: 0.7500 - val_loss: 0.6663 - val_accuracy: 0.6316\n",
      "Epoch 26/100\n",
      "3/3 [==============================] - 0s 60ms/step - loss: 0.5815 - accuracy: 0.7738 - val_loss: 0.6396 - val_accuracy: 0.6579\n",
      "Epoch 27/100\n",
      "3/3 [==============================] - 0s 43ms/step - loss: 0.5571 - accuracy: 0.7976 - val_loss: 0.6290 - val_accuracy: 0.6579\n",
      "Epoch 28/100\n",
      "3/3 [==============================] - 0s 37ms/step - loss: 0.5376 - accuracy: 0.8333 - val_loss: 0.6019 - val_accuracy: 0.6842\n",
      "Epoch 29/100\n",
      "3/3 [==============================] - 0s 39ms/step - loss: 0.5152 - accuracy: 0.8333 - val_loss: 0.5900 - val_accuracy: 0.6579\n",
      "Epoch 30/100\n",
      "3/3 [==============================] - 0s 34ms/step - loss: 0.4935 - accuracy: 0.8333 - val_loss: 0.5672 - val_accuracy: 0.6842\n",
      "Epoch 31/100\n",
      "3/3 [==============================] - 0s 43ms/step - loss: 0.4764 - accuracy: 0.8690 - val_loss: 0.5528 - val_accuracy: 0.6842\n",
      "Epoch 32/100\n",
      "3/3 [==============================] - 0s 28ms/step - loss: 0.4571 - accuracy: 0.9048 - val_loss: 0.5285 - val_accuracy: 0.7632\n",
      "Epoch 33/100\n",
      "3/3 [==============================] - 0s 27ms/step - loss: 0.4429 - accuracy: 0.9286 - val_loss: 0.5124 - val_accuracy: 0.8947\n",
      "Epoch 34/100\n",
      "3/3 [==============================] - 0s 26ms/step - loss: 0.4187 - accuracy: 0.9286 - val_loss: 0.5125 - val_accuracy: 0.7105\n",
      "Epoch 35/100\n",
      "3/3 [==============================] - 0s 26ms/step - loss: 0.4083 - accuracy: 0.8452 - val_loss: 0.5117 - val_accuracy: 0.6579\n",
      "Epoch 36/100\n",
      "3/3 [==============================] - 0s 29ms/step - loss: 0.3937 - accuracy: 0.8452 - val_loss: 0.4838 - val_accuracy: 0.6842\n",
      "Epoch 37/100\n",
      "3/3 [==============================] - 0s 36ms/step - loss: 0.3775 - accuracy: 0.9405 - val_loss: 0.4615 - val_accuracy: 0.8684\n",
      "Epoch 38/100\n",
      "3/3 [==============================] - 0s 28ms/step - loss: 0.3649 - accuracy: 0.9405 - val_loss: 0.4536 - val_accuracy: 0.8947\n",
      "Epoch 39/100\n",
      "3/3 [==============================] - 0s 46ms/step - loss: 0.3492 - accuracy: 0.9286 - val_loss: 0.4455 - val_accuracy: 0.7632\n",
      "Epoch 40/100\n",
      "3/3 [==============================] - 0s 38ms/step - loss: 0.3366 - accuracy: 0.9286 - val_loss: 0.4360 - val_accuracy: 0.7632\n",
      "Epoch 41/100\n",
      "3/3 [==============================] - 0s 35ms/step - loss: 0.3305 - accuracy: 0.9167 - val_loss: 0.4259 - val_accuracy: 0.8947\n",
      "Epoch 42/100\n",
      "3/3 [==============================] - 0s 33ms/step - loss: 0.3169 - accuracy: 0.9167 - val_loss: 0.4113 - val_accuracy: 0.9211\n",
      "Epoch 43/100\n",
      "3/3 [==============================] - 0s 30ms/step - loss: 0.3090 - accuracy: 0.9286 - val_loss: 0.4069 - val_accuracy: 0.8947\n",
      "Epoch 44/100\n",
      "3/3 [==============================] - 0s 28ms/step - loss: 0.2963 - accuracy: 0.9405 - val_loss: 0.4035 - val_accuracy: 0.8947\n",
      "Epoch 45/100\n",
      "3/3 [==============================] - 0s 28ms/step - loss: 0.2875 - accuracy: 0.9405 - val_loss: 0.3922 - val_accuracy: 0.8947\n",
      "Epoch 46/100\n",
      "3/3 [==============================] - 0s 28ms/step - loss: 0.2818 - accuracy: 0.9405 - val_loss: 0.3865 - val_accuracy: 0.8947\n",
      "Epoch 47/100\n",
      "3/3 [==============================] - 0s 30ms/step - loss: 0.2726 - accuracy: 0.9405 - val_loss: 0.3777 - val_accuracy: 0.9211\n",
      "Epoch 48/100\n",
      "3/3 [==============================] - 0s 32ms/step - loss: 0.2670 - accuracy: 0.9405 - val_loss: 0.3730 - val_accuracy: 0.9211\n",
      "Epoch 49/100\n",
      "3/3 [==============================] - 0s 33ms/step - loss: 0.2584 - accuracy: 0.9405 - val_loss: 0.3681 - val_accuracy: 0.9211\n",
      "Epoch 50/100\n",
      "3/3 [==============================] - 0s 32ms/step - loss: 0.2548 - accuracy: 0.9405 - val_loss: 0.3741 - val_accuracy: 0.7632\n",
      "Epoch 51/100\n",
      "3/3 [==============================] - 0s 29ms/step - loss: 0.2459 - accuracy: 0.9524 - val_loss: 0.3606 - val_accuracy: 0.8947\n",
      "Epoch 52/100\n",
      "3/3 [==============================] - 0s 26ms/step - loss: 0.2441 - accuracy: 0.9286 - val_loss: 0.3525 - val_accuracy: 0.9211\n",
      "Epoch 53/100\n",
      "3/3 [==============================] - 0s 24ms/step - loss: 0.2321 - accuracy: 0.9405 - val_loss: 0.3520 - val_accuracy: 0.8947\n",
      "Epoch 54/100\n",
      "3/3 [==============================] - 0s 24ms/step - loss: 0.2267 - accuracy: 0.9405 - val_loss: 0.3606 - val_accuracy: 0.7632\n",
      "Epoch 55/100\n",
      "3/3 [==============================] - 0s 25ms/step - loss: 0.2279 - accuracy: 0.9405 - val_loss: 0.3458 - val_accuracy: 0.8947\n",
      "Epoch 56/100\n",
      "3/3 [==============================] - 0s 25ms/step - loss: 0.2164 - accuracy: 0.9405 - val_loss: 0.3362 - val_accuracy: 0.9211\n",
      "Epoch 57/100\n",
      "3/3 [==============================] - 0s 25ms/step - loss: 0.2158 - accuracy: 0.9405 - val_loss: 0.3383 - val_accuracy: 0.8947\n",
      "Epoch 58/100\n",
      "3/3 [==============================] - 0s 26ms/step - loss: 0.2192 - accuracy: 0.9286 - val_loss: 0.3300 - val_accuracy: 0.9211\n",
      "Epoch 59/100\n",
      "3/3 [==============================] - 0s 25ms/step - loss: 0.2057 - accuracy: 0.9524 - val_loss: 0.3459 - val_accuracy: 0.7632\n",
      "Epoch 60/100\n",
      "3/3 [==============================] - 0s 27ms/step - loss: 0.2117 - accuracy: 0.9405 - val_loss: 0.3327 - val_accuracy: 0.8947\n",
      "Epoch 61/100\n",
      "3/3 [==============================] - 0s 25ms/step - loss: 0.2045 - accuracy: 0.9524 - val_loss: 0.3199 - val_accuracy: 0.9474\n",
      "Epoch 62/100\n",
      "3/3 [==============================] - 0s 32ms/step - loss: 0.1937 - accuracy: 0.9405 - val_loss: 0.3175 - val_accuracy: 0.9474\n",
      "Epoch 63/100\n",
      "3/3 [==============================] - 0s 30ms/step - loss: 0.1896 - accuracy: 0.9405 - val_loss: 0.3176 - val_accuracy: 0.9211\n",
      "Epoch 64/100\n",
      "3/3 [==============================] - 0s 32ms/step - loss: 0.1892 - accuracy: 0.9405 - val_loss: 0.3144 - val_accuracy: 0.9211\n",
      "Epoch 65/100\n",
      "3/3 [==============================] - 0s 31ms/step - loss: 0.1822 - accuracy: 0.9405 - val_loss: 0.3104 - val_accuracy: 0.9211\n",
      "Epoch 66/100\n",
      "3/3 [==============================] - 0s 28ms/step - loss: 0.1858 - accuracy: 0.9643 - val_loss: 0.3085 - val_accuracy: 0.9211\n",
      "Epoch 67/100\n",
      "3/3 [==============================] - 0s 25ms/step - loss: 0.1817 - accuracy: 0.9405 - val_loss: 0.3109 - val_accuracy: 0.8947\n",
      "Epoch 68/100\n",
      "3/3 [==============================] - 0s 24ms/step - loss: 0.1787 - accuracy: 0.9524 - val_loss: 0.3043 - val_accuracy: 0.9211\n",
      "Epoch 69/100\n",
      "3/3 [==============================] - 0s 26ms/step - loss: 0.1840 - accuracy: 0.9405 - val_loss: 0.3003 - val_accuracy: 0.9474\n",
      "Epoch 70/100\n",
      "3/3 [==============================] - 0s 24ms/step - loss: 0.1698 - accuracy: 0.9524 - val_loss: 0.2994 - val_accuracy: 0.9211\n",
      "Epoch 71/100\n",
      "3/3 [==============================] - 0s 24ms/step - loss: 0.1716 - accuracy: 0.9405 - val_loss: 0.3063 - val_accuracy: 0.8947\n",
      "Epoch 72/100\n",
      "3/3 [==============================] - 0s 26ms/step - loss: 0.1723 - accuracy: 0.9405 - val_loss: 0.2938 - val_accuracy: 0.9474\n",
      "Epoch 73/100\n",
      "3/3 [==============================] - 0s 27ms/step - loss: 0.1714 - accuracy: 0.9405 - val_loss: 0.2936 - val_accuracy: 0.9474\n",
      "Epoch 74/100\n",
      "3/3 [==============================] - 0s 26ms/step - loss: 0.1603 - accuracy: 0.9405 - val_loss: 0.2938 - val_accuracy: 0.9211\n",
      "Epoch 75/100\n",
      "3/3 [==============================] - 0s 29ms/step - loss: 0.1624 - accuracy: 0.9524 - val_loss: 0.2939 - val_accuracy: 0.9211\n",
      "Epoch 76/100\n",
      "3/3 [==============================] - 0s 32ms/step - loss: 0.1592 - accuracy: 0.9524 - val_loss: 0.2865 - val_accuracy: 0.9474\n",
      "Epoch 77/100\n",
      "3/3 [==============================] - 0s 30ms/step - loss: 0.1537 - accuracy: 0.9524 - val_loss: 0.2909 - val_accuracy: 0.9211\n",
      "Epoch 78/100\n",
      "3/3 [==============================] - 0s 30ms/step - loss: 0.1594 - accuracy: 0.9524 - val_loss: 0.2849 - val_accuracy: 0.9474\n",
      "Epoch 79/100\n",
      "3/3 [==============================] - 0s 28ms/step - loss: 0.1549 - accuracy: 0.9524 - val_loss: 0.2813 - val_accuracy: 0.9474\n",
      "Epoch 80/100\n",
      "3/3 [==============================] - 0s 26ms/step - loss: 0.1535 - accuracy: 0.9405 - val_loss: 0.2853 - val_accuracy: 0.9211\n",
      "Epoch 81/100\n",
      "3/3 [==============================] - 0s 28ms/step - loss: 0.1546 - accuracy: 0.9524 - val_loss: 0.2776 - val_accuracy: 0.9474\n",
      "Epoch 82/100\n",
      "3/3 [==============================] - 0s 25ms/step - loss: 0.1493 - accuracy: 0.9405 - val_loss: 0.2765 - val_accuracy: 0.9474\n",
      "Epoch 83/100\n",
      "3/3 [==============================] - 0s 25ms/step - loss: 0.1544 - accuracy: 0.9524 - val_loss: 0.2802 - val_accuracy: 0.9211\n",
      "Epoch 84/100\n",
      "3/3 [==============================] - 0s 32ms/step - loss: 0.1443 - accuracy: 0.9524 - val_loss: 0.2743 - val_accuracy: 0.9211\n",
      "Epoch 85/100\n",
      "3/3 [==============================] - 0s 28ms/step - loss: 0.1514 - accuracy: 0.9524 - val_loss: 0.2791 - val_accuracy: 0.9211\n",
      "Epoch 86/100\n",
      "3/3 [==============================] - 0s 27ms/step - loss: 0.1447 - accuracy: 0.9524 - val_loss: 0.2700 - val_accuracy: 0.9474\n",
      "Epoch 87/100\n",
      "3/3 [==============================] - 0s 26ms/step - loss: 0.1428 - accuracy: 0.9524 - val_loss: 0.2757 - val_accuracy: 0.9474\n",
      "Epoch 88/100\n",
      "3/3 [==============================] - 0s 26ms/step - loss: 0.1399 - accuracy: 0.9524 - val_loss: 0.2672 - val_accuracy: 0.9474\n",
      "Epoch 89/100\n",
      "3/3 [==============================] - 0s 27ms/step - loss: 0.1352 - accuracy: 0.9524 - val_loss: 0.2696 - val_accuracy: 0.9211\n",
      "Epoch 90/100\n",
      "3/3 [==============================] - 0s 25ms/step - loss: 0.1403 - accuracy: 0.9524 - val_loss: 0.2692 - val_accuracy: 0.9211\n",
      "Epoch 91/100\n",
      "3/3 [==============================] - 0s 25ms/step - loss: 0.1476 - accuracy: 0.9405 - val_loss: 0.2654 - val_accuracy: 0.9474\n",
      "Epoch 92/100\n",
      "3/3 [==============================] - 0s 29ms/step - loss: 0.1346 - accuracy: 0.9524 - val_loss: 0.2618 - val_accuracy: 0.9474\n",
      "Epoch 93/100\n",
      "3/3 [==============================] - 0s 29ms/step - loss: 0.1325 - accuracy: 0.9405 - val_loss: 0.2608 - val_accuracy: 0.9474\n",
      "Epoch 94/100\n",
      "3/3 [==============================] - 0s 28ms/step - loss: 0.1310 - accuracy: 0.9643 - val_loss: 0.2593 - val_accuracy: 0.9474\n",
      "Epoch 95/100\n",
      "3/3 [==============================] - 0s 28ms/step - loss: 0.1341 - accuracy: 0.9405 - val_loss: 0.2601 - val_accuracy: 0.9474\n",
      "Epoch 96/100\n",
      "3/3 [==============================] - 0s 27ms/step - loss: 0.1334 - accuracy: 0.9405 - val_loss: 0.2571 - val_accuracy: 0.9474\n",
      "Epoch 97/100\n",
      "3/3 [==============================] - 0s 25ms/step - loss: 0.1285 - accuracy: 0.9524 - val_loss: 0.2561 - val_accuracy: 0.9474\n",
      "Epoch 98/100\n",
      "3/3 [==============================] - 0s 25ms/step - loss: 0.1344 - accuracy: 0.9524 - val_loss: 0.2576 - val_accuracy: 0.9474\n",
      "Epoch 99/100\n",
      "3/3 [==============================] - 0s 26ms/step - loss: 0.1242 - accuracy: 0.9643 - val_loss: 0.2551 - val_accuracy: 0.9211\n",
      "Epoch 100/100\n",
      "3/3 [==============================] - 0s 24ms/step - loss: 0.1396 - accuracy: 0.9524 - val_loss: 0.2577 - val_accuracy: 0.9211\n"
     ]
    },
    {
     "data": {
      "text/plain": [
       "<keras.callbacks.History at 0x21eb28fc610>"
      ]
     },
     "execution_count": 85,
     "metadata": {},
     "output_type": "execute_result"
    }
   ],
   "source": [
    "irisModel.fit(x_train, y_train, epochs=100, validation_data=(x_test, y_test))"
   ]
  },
  {
   "cell_type": "markdown",
   "metadata": {},
   "source": [
    "## [5] 모델 저장"
   ]
  },
  {
   "cell_type": "code",
   "execution_count": 93,
   "metadata": {},
   "outputs": [
    {
     "name": "stdout",
     "output_type": "stream",
     "text": [
      "2/2 [==============================] - 0s 3ms/step - loss: 0.2577 - accuracy: 0.9211\n"
     ]
    }
   ],
   "source": [
    "lossv, accv=irisModel.evaluate(x_test, y_test)"
   ]
  },
  {
   "cell_type": "code",
   "execution_count": 94,
   "metadata": {},
   "outputs": [
    {
     "data": {
      "text/plain": [
       "0.9210526347160339"
      ]
     },
     "execution_count": 94,
     "metadata": {},
     "output_type": "execute_result"
    }
   ],
   "source": [
    "accv"
   ]
  },
  {
   "cell_type": "code",
   "execution_count": 97,
   "metadata": {},
   "outputs": [],
   "source": [
    "M_FILE='irisModel.h5'\n",
    "W_FILE='irisWeights.h5'"
   ]
  },
  {
   "cell_type": "code",
   "execution_count": 98,
   "metadata": {},
   "outputs": [],
   "source": [
    "from keras.models import save_model\n",
    "if accv >=0.9:\n",
    "    save_model(irisModel, M_FILE)\n",
    "    irisModel.save_weights(W_FILE)"
   ]
  },
  {
   "cell_type": "markdown",
   "metadata": {},
   "source": [
    "## [6] 복원\n",
    "---\n",
    " - 모델 또는 가중치 복원\n",
    " - load_model(모델 파일 또는 모델 폴더명)\n",
    " - Sequential.load_weights(가중치 파일 또는 폴더 명)\n"
   ]
  },
  {
   "cell_type": "markdown",
   "metadata": {},
   "source": [
    "### [6-1] 모델 복원"
   ]
  },
  {
   "cell_type": "code",
   "execution_count": 99,
   "metadata": {},
   "outputs": [],
   "source": [
    "from keras.models import load_model"
   ]
  },
  {
   "cell_type": "code",
   "execution_count": 100,
   "metadata": {},
   "outputs": [
    {
     "name": "stdout",
     "output_type": "stream",
     "text": [
      "2/2 [==============================] - 0s 2ms/step - loss: 0.2577 - accuracy: 0.9211\n"
     ]
    },
    {
     "data": {
      "text/plain": [
       "[0.2577494978904724, 0.9210526347160339]"
      ]
     },
     "execution_count": 100,
     "metadata": {},
     "output_type": "execute_result"
    }
   ],
   "source": [
    "reModel=load_model(M_FILE)\n",
    "reModel.evaluate(x_test, y_test)"
   ]
  },
  {
   "cell_type": "markdown",
   "metadata": {},
   "source": [
    "### [6-2] 가중치복원\n",
    " - 모델 구조 생성\n",
    " - 가중치 로딩"
   ]
  },
  {
   "cell_type": "code",
   "execution_count": 101,
   "metadata": {},
   "outputs": [],
   "source": [
    "# 모델 구조 구성\n",
    "newModel=Sequential(name='newirisModel')\n",
    "newModel.add(Dense(150, activation='relu', input_shape=(2,)))\n",
    "newModel.add(Dense(150, activation='relu'))\n",
    "newModel.add(Dense(3, activation='softmax'))"
   ]
  },
  {
   "cell_type": "code",
   "execution_count": 105,
   "metadata": {},
   "outputs": [],
   "source": [
    "# 모델 생성\n",
    "newModel.compile(loss='categorical_crossentropy', optimizer='adam', metrics='accuracy')"
   ]
  },
  {
   "cell_type": "code",
   "execution_count": 106,
   "metadata": {},
   "outputs": [],
   "source": [
    "# 가중치 로딩\n",
    "newModel.load_weights(W_FILE)"
   ]
  },
  {
   "cell_type": "code",
   "execution_count": 107,
   "metadata": {},
   "outputs": [
    {
     "name": "stdout",
     "output_type": "stream",
     "text": [
      "2/2 [==============================] - 0s 3ms/step - loss: 0.2577 - accuracy: 0.9211\n"
     ]
    },
    {
     "data": {
      "text/plain": [
       "[0.2577494978904724, 0.9210526347160339]"
      ]
     },
     "execution_count": 107,
     "metadata": {},
     "output_type": "execute_result"
    }
   ],
   "source": [
    "newModel.evaluate(x_test, y_test)"
   ]
  },
  {
   "cell_type": "code",
   "execution_count": null,
   "metadata": {},
   "outputs": [],
   "source": []
  },
  {
   "cell_type": "code",
   "execution_count": null,
   "metadata": {},
   "outputs": [],
   "source": []
  },
  {
   "cell_type": "code",
   "execution_count": null,
   "metadata": {},
   "outputs": [],
   "source": []
  }
 ],
 "metadata": {
  "kernelspec": {
   "display_name": "Python 3.9.13 ('base')",
   "language": "python",
   "name": "python3"
  },
  "language_info": {
   "codemirror_mode": {
    "name": "ipython",
    "version": 3
   },
   "file_extension": ".py",
   "mimetype": "text/x-python",
   "name": "python",
   "nbconvert_exporter": "python",
   "pygments_lexer": "ipython3",
   "version": "3.9.13"
  },
  "orig_nbformat": 4,
  "vscode": {
   "interpreter": {
    "hash": "ad2bdc8ecc057115af97d19610ffacc2b4e99fae6737bb82f5d7fb13d2f2c186"
   }
  }
 },
 "nbformat": 4,
 "nbformat_minor": 2
}
