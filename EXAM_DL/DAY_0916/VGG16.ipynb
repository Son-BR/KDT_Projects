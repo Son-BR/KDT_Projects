{
 "cells": [
  {
   "cell_type": "markdown",
   "metadata": {},
   "source": [
    "## VGG16 모델 활용 이미지 식별(CIFAR10 데이터셋)"
   ]
  },
  {
   "cell_type": "code",
   "execution_count": 5,
   "metadata": {},
   "outputs": [],
   "source": [
    "from keras.utils import set_random_seed\n",
    "from keras import Sequential\n",
    "from keras.layers import Dense, Conv2D, Flatten, MaxPool2D, Dropout\n",
    "from keras.datasets.cifar10 import load_data\n",
    "\n",
    "from keras.applications import VGG16\n",
    "\n",
    "import numpy as np\n",
    "import matplotlib.pyplot as plt"
   ]
  },
  {
   "cell_type": "code",
   "execution_count": 3,
   "metadata": {},
   "outputs": [],
   "source": [
    "set_random_seed(11)"
   ]
  },
  {
   "cell_type": "code",
   "execution_count": 4,
   "metadata": {},
   "outputs": [],
   "source": [
    "# 학습용 : 테스트용 = 8 : 2\n",
    "(x_train, y_train), (x_test, y_test) = load_data()"
   ]
  },
  {
   "cell_type": "code",
   "execution_count": 8,
   "metadata": {},
   "outputs": [],
   "source": [
    "# 스케일링\n",
    "x_train=x_train/255.0\n",
    "x_test=x_test/255.0"
   ]
  },
  {
   "cell_type": "code",
   "execution_count": 9,
   "metadata": {},
   "outputs": [
    {
     "data": {
      "text/plain": [
       "(50000, 32, 32, 3)"
      ]
     },
     "execution_count": 9,
     "metadata": {},
     "output_type": "execute_result"
    }
   ],
   "source": [
    "x_train.shape"
   ]
  },
  {
   "cell_type": "code",
   "execution_count": 28,
   "metadata": {},
   "outputs": [],
   "source": [
    "# 원핫인코딩으로 변환\n",
    "from sklearn.preprocessing import OneHotEncoder\n",
    "\n",
    "# y_train\n",
    "encoder=OneHotEncoder()\n",
    "encoder.fit(y_train.reshape(-1,1))\n",
    "y_train=encoder.transform(y_train.reshape(-1,1))\n",
    "y_train=y_train.toarray()\n",
    "\n",
    "# y_test\n",
    "encoder.fit(y_test.reshape(-1,1))\n",
    "y_test=encoder.transform(y_test.reshape(-1,1))\n",
    "y_test=y_test.toarray()"
   ]
  },
  {
   "cell_type": "code",
   "execution_count": 20,
   "metadata": {},
   "outputs": [
    {
     "name": "stdout",
     "output_type": "stream",
     "text": [
      "Model: \"vgg16\"\n",
      "_________________________________________________________________\n",
      " Layer (type)                Output Shape              Param #   \n",
      "=================================================================\n",
      " input_5 (InputLayer)        [(None, 32, 32, 3)]       0         \n",
      "                                                                 \n",
      " block1_conv1 (Conv2D)       (None, 32, 32, 64)        1792      \n",
      "                                                                 \n",
      " block1_conv2 (Conv2D)       (None, 32, 32, 64)        36928     \n",
      "                                                                 \n",
      " block1_pool (MaxPooling2D)  (None, 16, 16, 64)        0         \n",
      "                                                                 \n",
      " block2_conv1 (Conv2D)       (None, 16, 16, 128)       73856     \n",
      "                                                                 \n",
      " block2_conv2 (Conv2D)       (None, 16, 16, 128)       147584    \n",
      "                                                                 \n",
      " block2_pool (MaxPooling2D)  (None, 8, 8, 128)         0         \n",
      "                                                                 \n",
      " block3_conv1 (Conv2D)       (None, 8, 8, 256)         295168    \n",
      "                                                                 \n",
      " block3_conv2 (Conv2D)       (None, 8, 8, 256)         590080    \n",
      "                                                                 \n",
      " block3_conv3 (Conv2D)       (None, 8, 8, 256)         590080    \n",
      "                                                                 \n",
      " block3_pool (MaxPooling2D)  (None, 4, 4, 256)         0         \n",
      "                                                                 \n",
      " block4_conv1 (Conv2D)       (None, 4, 4, 512)         1180160   \n",
      "                                                                 \n",
      " block4_conv2 (Conv2D)       (None, 4, 4, 512)         2359808   \n",
      "                                                                 \n",
      " block4_conv3 (Conv2D)       (None, 4, 4, 512)         2359808   \n",
      "                                                                 \n",
      " block4_pool (MaxPooling2D)  (None, 2, 2, 512)         0         \n",
      "                                                                 \n",
      " block5_conv1 (Conv2D)       (None, 2, 2, 512)         2359808   \n",
      "                                                                 \n",
      " block5_conv2 (Conv2D)       (None, 2, 2, 512)         2359808   \n",
      "                                                                 \n",
      " block5_conv3 (Conv2D)       (None, 2, 2, 512)         2359808   \n",
      "                                                                 \n",
      " block5_pool (MaxPooling2D)  (None, 1, 1, 512)         0         \n",
      "                                                                 \n",
      "=================================================================\n",
      "Total params: 14,714,688\n",
      "Trainable params: 0\n",
      "Non-trainable params: 14,714,688\n",
      "_________________________________________________________________\n"
     ]
    }
   ],
   "source": [
    "# VGG16 모델\n",
    "\n",
    "# 모델 생성(이미지넷으로 학습된 모델, 입력 형태 변경)\n",
    "model_vgg=VGG16(weights='imagenet', include_top=False, input_shape=(32,32,3))\n",
    "\n",
    "# 이미지넷으로 학습된 값 그대로 사용\n",
    "model_vgg.trainable = False \n",
    "\n",
    "model_vgg.summary()"
   ]
  },
  {
   "cell_type": "code",
   "execution_count": 48,
   "metadata": {},
   "outputs": [
    {
     "name": "stdout",
     "output_type": "stream",
     "text": [
      "Model: \"sequential_8\"\n",
      "_________________________________________________________________\n",
      " Layer (type)                Output Shape              Param #   \n",
      "=================================================================\n",
      " vgg16 (Functional)          (None, 1, 1, 512)         14714688  \n",
      "                                                                 \n",
      " flatten_8 (Flatten)         (None, 512)               0         \n",
      "                                                                 \n",
      " dense_21 (Dense)            (None, 2000)              1026000   \n",
      "                                                                 \n",
      " dense_22 (Dense)            (None, 1000)              2001000   \n",
      "                                                                 \n",
      " dropout_2 (Dropout)         (None, 1000)              0         \n",
      "                                                                 \n",
      " dense_23 (Dense)            (None, 500)               500500    \n",
      "                                                                 \n",
      " dense_24 (Dense)            (None, 100)               50100     \n",
      "                                                                 \n",
      " dense_25 (Dense)            (None, 10)                1010      \n",
      "                                                                 \n",
      "=================================================================\n",
      "Total params: 18,293,298\n",
      "Trainable params: 3,578,610\n",
      "Non-trainable params: 14,714,688\n",
      "_________________________________________________________________\n"
     ]
    }
   ],
   "source": [
    "# 모델 생성\n",
    "model=Sequential()\n",
    "\n",
    "# vgg16모델 \n",
    "model.add(model_vgg)\n",
    "\n",
    "# 형태 변환\n",
    "model.add(Flatten())\n",
    "\n",
    "model.add(Dense(2000, activation='relu'))\n",
    "model.add(Dense(1000, activation='relu'))\n",
    "model.add(Dropout(0.5))\n",
    "model.add(Dense(500, activation='relu'))\n",
    "model.add(Dense(100, activation='relu'))\n",
    "\n",
    "# 출력층\n",
    "model.add(Dense(10, activation='softmax'))\n",
    "\n",
    "model.summary()"
   ]
  },
  {
   "cell_type": "code",
   "execution_count": 49,
   "metadata": {},
   "outputs": [],
   "source": [
    "# 모델 생성\n",
    "model.compile(loss='categorical_crossentropy', optimizer='adam', metrics='accuracy')"
   ]
  },
  {
   "cell_type": "code",
   "execution_count": 55,
   "metadata": {},
   "outputs": [],
   "source": [
    "from keras.callbacks import EarlyStopping, ModelCheckpoint\n",
    "\n",
    "# 검증 데이터에 대한 loss값 2번 연속 개선되지 않으면 학습 중지\n",
    "stopCB=EarlyStopping(monitor='val_loss', patience=3)"
   ]
  },
  {
   "cell_type": "code",
   "execution_count": 58,
   "metadata": {},
   "outputs": [
    {
     "name": "stdout",
     "output_type": "stream",
     "text": [
      "Epoch 1/10\n",
      "1563/1563 [==============================] - 457s 292ms/step - loss: 0.6881 - accuracy: 0.7566 - val_loss: 1.2495 - val_accuracy: 0.6176\n",
      "Epoch 2/10\n",
      "1563/1563 [==============================] - 420s 269ms/step - loss: 0.6574 - accuracy: 0.7660 - val_loss: 1.3326 - val_accuracy: 0.6152\n",
      "Epoch 3/10\n",
      "1563/1563 [==============================] - 478s 306ms/step - loss: 0.6351 - accuracy: 0.7749 - val_loss: 1.3391 - val_accuracy: 0.6195\n",
      "Epoch 4/10\n",
      "1563/1563 [==============================] - 476s 305ms/step - loss: 0.6075 - accuracy: 0.7848 - val_loss: 1.3725 - val_accuracy: 0.6111\n"
     ]
    },
    {
     "data": {
      "text/plain": [
       "<keras.callbacks.History at 0x23ec7b13730>"
      ]
     },
     "execution_count": 58,
     "metadata": {},
     "output_type": "execute_result"
    }
   ],
   "source": [
    "# 모델 학습\n",
    "model.fit(x_train, y_train, epochs=10, validation_data=(x_test, y_test), callbacks=[stopCB])"
   ]
  },
  {
   "cell_type": "code",
   "execution_count": 59,
   "metadata": {},
   "outputs": [
    {
     "name": "stdout",
     "output_type": "stream",
     "text": [
      "313/313 [==============================] - 51s 163ms/step - loss: 1.3725 - accuracy: 0.6111\n"
     ]
    },
    {
     "data": {
      "text/plain": [
       "[1.3724864721298218, 0.6111000180244446]"
      ]
     },
     "execution_count": 59,
     "metadata": {},
     "output_type": "execute_result"
    }
   ],
   "source": [
    "model.evaluate(x_test, y_test)"
   ]
  },
  {
   "cell_type": "code",
   "execution_count": 46,
   "metadata": {},
   "outputs": [],
   "source": [
    "# # 모델 저장\n",
    "# from keras.models import save_model\n",
    "# model061='cifar10/Model061.h5'\n",
    "# save_model(model, model061)"
   ]
  },
  {
   "cell_type": "code",
   "execution_count": 47,
   "metadata": {},
   "outputs": [],
   "source": [
    "# # 모델 복원\n",
    "# from keras.models import load_model\n",
    "# reModel=load_model(model061)"
   ]
  },
  {
   "cell_type": "code",
   "execution_count": null,
   "metadata": {},
   "outputs": [],
   "source": [
    "# 모델 학습\n",
    "# reModel.fit(x_train, y_train, epochs=10)"
   ]
  },
  {
   "cell_type": "code",
   "execution_count": null,
   "metadata": {},
   "outputs": [],
   "source": []
  },
  {
   "cell_type": "code",
   "execution_count": null,
   "metadata": {},
   "outputs": [],
   "source": []
  },
  {
   "cell_type": "code",
   "execution_count": null,
   "metadata": {},
   "outputs": [],
   "source": []
  },
  {
   "cell_type": "code",
   "execution_count": 60,
   "metadata": {},
   "outputs": [
    {
     "name": "stdout",
     "output_type": "stream",
     "text": [
      "Model: \"sequential_9\"\n",
      "_________________________________________________________________\n",
      " Layer (type)                Output Shape              Param #   \n",
      "=================================================================\n",
      " vgg16 (Functional)          (None, 1, 1, 512)         14714688  \n",
      "                                                                 \n",
      " flatten_9 (Flatten)         (None, 512)               0         \n",
      "                                                                 \n",
      " dense_26 (Dense)            (None, 10)                5130      \n",
      "                                                                 \n",
      "=================================================================\n",
      "Total params: 14,719,818\n",
      "Trainable params: 5,130\n",
      "Non-trainable params: 14,714,688\n",
      "_________________________________________________________________\n"
     ]
    }
   ],
   "source": [
    "# 모델 생성\n",
    "model2=Sequential()\n",
    "\n",
    "# vgg16모델 \n",
    "model2.add(model_vgg)\n",
    "\n",
    "# 형태 변환\n",
    "model2.add(Flatten())\n",
    "\n",
    "# 출력층\n",
    "model2.add(Dense(10, activation='softmax'))\n",
    "\n",
    "model2.summary()"
   ]
  },
  {
   "cell_type": "code",
   "execution_count": 63,
   "metadata": {},
   "outputs": [],
   "source": [
    "# 모델 생성\n",
    "model2.compile(loss='categorical_crossentropy', optimizer='adam', metrics='accuracy')"
   ]
  },
  {
   "cell_type": "code",
   "execution_count": 64,
   "metadata": {},
   "outputs": [],
   "source": [
    "# 검증 데이터에 대한 loss값 2번 연속 개선되지 않으면 학습 중지\n",
    "stopCB2=EarlyStopping(monitor='val_loss', patience=5)"
   ]
  },
  {
   "cell_type": "code",
   "execution_count": 65,
   "metadata": {},
   "outputs": [
    {
     "name": "stdout",
     "output_type": "stream",
     "text": [
      "Epoch 1/250\n",
      "196/196 [==============================] - 340s 2s/step - loss: 1.2038 - accuracy: 0.5900 - val_loss: 1.2417 - val_accuracy: 0.5709\n",
      "Epoch 2/250\n",
      "196/196 [==============================] - 342s 2s/step - loss: 1.1947 - accuracy: 0.5923 - val_loss: 1.2375 - val_accuracy: 0.5701\n",
      "Epoch 3/250\n",
      "196/196 [==============================] - 352s 2s/step - loss: 1.1876 - accuracy: 0.5931 - val_loss: 1.2301 - val_accuracy: 0.5738\n",
      "Epoch 4/250\n",
      "196/196 [==============================] - 321s 2s/step - loss: 1.1816 - accuracy: 0.5962 - val_loss: 1.2244 - val_accuracy: 0.5777\n",
      "Epoch 5/250\n",
      "196/196 [==============================] - 322s 2s/step - loss: 1.1757 - accuracy: 0.5978 - val_loss: 1.2208 - val_accuracy: 0.5767\n",
      "Epoch 6/250\n",
      "196/196 [==============================] - 303s 2s/step - loss: 1.1710 - accuracy: 0.5995 - val_loss: 1.2176 - val_accuracy: 0.5782\n",
      "Epoch 7/250\n",
      "196/196 [==============================] - 325s 2s/step - loss: 1.1657 - accuracy: 0.6007 - val_loss: 1.2154 - val_accuracy: 0.5784\n",
      "Epoch 8/250\n",
      "196/196 [==============================] - ETA: 0s - loss: 1.1620 - accuracy: 0.6024"
     ]
    }
   ],
   "source": [
    "# 모델 학습\n",
    "model2.fit(x_train, y_train, epochs=250, batch_size=256, validation_data=(x_test, y_test), callbacks=[stopCB2])"
   ]
  },
  {
   "cell_type": "code",
   "execution_count": null,
   "metadata": {},
   "outputs": [],
   "source": []
  }
 ],
 "metadata": {
  "kernelspec": {
   "display_name": "Python 3.9.13 ('base')",
   "language": "python",
   "name": "python3"
  },
  "language_info": {
   "codemirror_mode": {
    "name": "ipython",
    "version": 3
   },
   "file_extension": ".py",
   "mimetype": "text/x-python",
   "name": "python",
   "nbconvert_exporter": "python",
   "pygments_lexer": "ipython3",
   "version": "3.9.13"
  },
  "orig_nbformat": 4,
  "vscode": {
   "interpreter": {
    "hash": "ad2bdc8ecc057115af97d19610ffacc2b4e99fae6737bb82f5d7fb13d2f2c186"
   }
  }
 },
 "nbformat": 4,
 "nbformat_minor": 2
}
