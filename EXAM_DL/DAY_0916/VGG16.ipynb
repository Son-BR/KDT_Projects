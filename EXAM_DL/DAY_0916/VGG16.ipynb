{
 "cells": [
  {
   "cell_type": "markdown",
   "metadata": {},
   "source": [
    "## VGG16 모델 활용 이미지 식별(CIFAR10 데이터셋)"
   ]
  },
  {
   "cell_type": "code",
   "execution_count": 5,
   "metadata": {},
   "outputs": [],
   "source": [
    "from keras.utils import set_random_seed\n",
    "from keras import Sequential\n",
    "from keras.layers import Dense, Conv2D, Flatten, MaxPool2D, Dropout\n",
    "from keras.datasets.cifar10 import load_data\n",
    "\n",
    "from keras.applications import VGG16\n",
    "\n",
    "import numpy as np\n",
    "import matplotlib.pyplot as plt"
   ]
  },
  {
   "cell_type": "code",
   "execution_count": 3,
   "metadata": {},
   "outputs": [],
   "source": [
    "set_random_seed(11)"
   ]
  },
  {
   "cell_type": "code",
   "execution_count": 4,
   "metadata": {},
   "outputs": [],
   "source": [
    "# 학습용 : 테스트용 = 8 : 2\n",
    "(x_train, y_train), (x_test, y_test) = load_data()"
   ]
  },
  {
   "cell_type": "code",
   "execution_count": 8,
   "metadata": {},
   "outputs": [],
   "source": [
    "# 스케일링\n",
    "x_train=x_train/255.0\n",
    "x_test=x_test/255.0"
   ]
  },
  {
   "cell_type": "code",
   "execution_count": 9,
   "metadata": {},
   "outputs": [
    {
     "data": {
      "text/plain": [
       "(50000, 32, 32, 3)"
      ]
     },
     "execution_count": 9,
     "metadata": {},
     "output_type": "execute_result"
    }
   ],
   "source": [
    "x_train.shape"
   ]
  },
  {
   "cell_type": "code",
   "execution_count": 28,
   "metadata": {},
   "outputs": [],
   "source": [
    "# 원핫인코딩으로 변환\n",
    "from sklearn.preprocessing import OneHotEncoder\n",
    "\n",
    "# y_train\n",
    "encoder=OneHotEncoder()\n",
    "encoder.fit(y_train.reshape(-1,1))\n",
    "y_train=encoder.transform(y_train.reshape(-1,1))\n",
    "y_train=y_train.toarray()\n",
    "\n",
    "# y_test\n",
    "encoder.fit(y_test.reshape(-1,1))\n",
    "y_test=encoder.transform(y_test.reshape(-1,1))\n",
    "y_test=y_test.toarray()"
   ]
  },
  {
   "cell_type": "code",
   "execution_count": 20,
   "metadata": {},
   "outputs": [
    {
     "name": "stdout",
     "output_type": "stream",
     "text": [
      "Model: \"vgg16\"\n",
      "_________________________________________________________________\n",
      " Layer (type)                Output Shape              Param #   \n",
      "=================================================================\n",
      " input_5 (InputLayer)        [(None, 32, 32, 3)]       0         \n",
      "                                                                 \n",
      " block1_conv1 (Conv2D)       (None, 32, 32, 64)        1792      \n",
      "                                                                 \n",
      " block1_conv2 (Conv2D)       (None, 32, 32, 64)        36928     \n",
      "                                                                 \n",
      " block1_pool (MaxPooling2D)  (None, 16, 16, 64)        0         \n",
      "                                                                 \n",
      " block2_conv1 (Conv2D)       (None, 16, 16, 128)       73856     \n",
      "                                                                 \n",
      " block2_conv2 (Conv2D)       (None, 16, 16, 128)       147584    \n",
      "                                                                 \n",
      " block2_pool (MaxPooling2D)  (None, 8, 8, 128)         0         \n",
      "                                                                 \n",
      " block3_conv1 (Conv2D)       (None, 8, 8, 256)         295168    \n",
      "                                                                 \n",
      " block3_conv2 (Conv2D)       (None, 8, 8, 256)         590080    \n",
      "                                                                 \n",
      " block3_conv3 (Conv2D)       (None, 8, 8, 256)         590080    \n",
      "                                                                 \n",
      " block3_pool (MaxPooling2D)  (None, 4, 4, 256)         0         \n",
      "                                                                 \n",
      " block4_conv1 (Conv2D)       (None, 4, 4, 512)         1180160   \n",
      "                                                                 \n",
      " block4_conv2 (Conv2D)       (None, 4, 4, 512)         2359808   \n",
      "                                                                 \n",
      " block4_conv3 (Conv2D)       (None, 4, 4, 512)         2359808   \n",
      "                                                                 \n",
      " block4_pool (MaxPooling2D)  (None, 2, 2, 512)         0         \n",
      "                                                                 \n",
      " block5_conv1 (Conv2D)       (None, 2, 2, 512)         2359808   \n",
      "                                                                 \n",
      " block5_conv2 (Conv2D)       (None, 2, 2, 512)         2359808   \n",
      "                                                                 \n",
      " block5_conv3 (Conv2D)       (None, 2, 2, 512)         2359808   \n",
      "                                                                 \n",
      " block5_pool (MaxPooling2D)  (None, 1, 1, 512)         0         \n",
      "                                                                 \n",
      "=================================================================\n",
      "Total params: 14,714,688\n",
      "Trainable params: 0\n",
      "Non-trainable params: 14,714,688\n",
      "_________________________________________________________________\n"
     ]
    }
   ],
   "source": [
    "# VGG16 모델\n",
    "\n",
    "# 모델 생성(이미지넷으로 학습된 모델, 입력 형태 변경)\n",
    "model_vgg=VGG16(weights='imagenet', include_top=False, input_shape=(32,32,3))\n",
    "\n",
    "# 이미지넷으로 학습된 값 그대로 사용\n",
    "model_vgg.trainable = False \n",
    "\n",
    "model_vgg.summary()"
   ]
  },
  {
   "cell_type": "code",
   "execution_count": 40,
   "metadata": {},
   "outputs": [
    {
     "name": "stdout",
     "output_type": "stream",
     "text": [
      "Model: \"sequential_7\"\n",
      "_________________________________________________________________\n",
      " Layer (type)                Output Shape              Param #   \n",
      "=================================================================\n",
      " vgg16 (Functional)          (None, 1, 1, 512)         14714688  \n",
      "                                                                 \n",
      " flatten_7 (Flatten)         (None, 512)               0         \n",
      "                                                                 \n",
      " dense_17 (Dense)            (None, 1000)              513000    \n",
      "                                                                 \n",
      " dropout_1 (Dropout)         (None, 1000)              0         \n",
      "                                                                 \n",
      " dense_18 (Dense)            (None, 500)               500500    \n",
      "                                                                 \n",
      " dense_19 (Dense)            (None, 100)               50100     \n",
      "                                                                 \n",
      " dense_20 (Dense)            (None, 10)                1010      \n",
      "                                                                 \n",
      "=================================================================\n",
      "Total params: 15,779,298\n",
      "Trainable params: 1,064,610\n",
      "Non-trainable params: 14,714,688\n",
      "_________________________________________________________________\n"
     ]
    }
   ],
   "source": [
    "# 모델 생성\n",
    "model=Sequential()\n",
    "\n",
    "# vgg16모델 \n",
    "model.add(model_vgg)\n",
    "\n",
    "# 형태 변환\n",
    "model.add(Flatten())\n",
    "\n",
    "model.add(Dense(2000, activation='relu'))\n",
    "model.add(Dense(1000, activation='relu'))\n",
    "model.add(Dropout(0.5))\n",
    "model.add(Dense(500, activation='relu'))\n",
    "model.add(Dense(100, activation='relu'))\n",
    "\n",
    "# 출력층\n",
    "model.add(Dense(10, activation='softmax'))\n",
    "\n",
    "model.summary()"
   ]
  },
  {
   "cell_type": "code",
   "execution_count": 41,
   "metadata": {},
   "outputs": [],
   "source": [
    "# 모델 생성\n",
    "model.compile(loss='categorical_crossentropy', optimizer='adam', metrics='accuracy')"
   ]
  },
  {
   "cell_type": "code",
   "execution_count": 43,
   "metadata": {},
   "outputs": [],
   "source": [
    "from keras.callbacks import EarlyStopping, ModelCheckpoint\n",
    "\n",
    "# 검증 데이터에 대한 loss값 2번 연속 개선되지 않으면 학습 중지\n",
    "stopCB=EarlyStopping(monitor='val_loss', patience=2)"
   ]
  },
  {
   "cell_type": "code",
   "execution_count": 44,
   "metadata": {},
   "outputs": [
    {
     "name": "stdout",
     "output_type": "stream",
     "text": [
      "Epoch 1/10\n",
      "1563/1563 [==============================] - 407s 260ms/step - loss: 1.4502 - accuracy: 0.4874 - val_loss: 1.2815 - val_accuracy: 0.5469\n",
      "Epoch 2/10\n",
      "1563/1563 [==============================] - 398s 255ms/step - loss: 1.2855 - accuracy: 0.5474 - val_loss: 1.2223 - val_accuracy: 0.5699\n",
      "Epoch 3/10\n",
      "1563/1563 [==============================] - 442s 283ms/step - loss: 1.2275 - accuracy: 0.5696 - val_loss: 1.2162 - val_accuracy: 0.5809\n",
      "Epoch 4/10\n",
      "1563/1563 [==============================] - 469s 300ms/step - loss: 1.1884 - accuracy: 0.5844 - val_loss: 1.1762 - val_accuracy: 0.5861\n",
      "Epoch 5/10\n",
      "1563/1563 [==============================] - 463s 296ms/step - loss: 1.1586 - accuracy: 0.5939 - val_loss: 1.1502 - val_accuracy: 0.5947\n",
      "Epoch 6/10\n",
      "1563/1563 [==============================] - 446s 286ms/step - loss: 1.1302 - accuracy: 0.6049 - val_loss: 1.1336 - val_accuracy: 0.6062\n",
      "Epoch 7/10\n",
      "1563/1563 [==============================] - 453s 290ms/step - loss: 1.1065 - accuracy: 0.6146 - val_loss: 1.1340 - val_accuracy: 0.6012\n",
      "Epoch 8/10\n",
      "1563/1563 [==============================] - 459s 293ms/step - loss: 1.0845 - accuracy: 0.6187 - val_loss: 1.1292 - val_accuracy: 0.6085\n",
      "Epoch 9/10\n",
      "1563/1563 [==============================] - 469s 300ms/step - loss: 1.0682 - accuracy: 0.6237 - val_loss: 1.1143 - val_accuracy: 0.6141\n",
      "Epoch 10/10\n",
      "1563/1563 [==============================] - 454s 290ms/step - loss: 1.0445 - accuracy: 0.6322 - val_loss: 1.1195 - val_accuracy: 0.6101\n"
     ]
    },
    {
     "data": {
      "text/plain": [
       "<keras.callbacks.History at 0x23f4a3d8760>"
      ]
     },
     "execution_count": 44,
     "metadata": {},
     "output_type": "execute_result"
    }
   ],
   "source": [
    "# 모델 학습\n",
    "model.fit(x_train, y_train, epochs=10, validation_data=(x_test, y_test), callbacks=[stopCB])"
   ]
  },
  {
   "cell_type": "code",
   "execution_count": 45,
   "metadata": {},
   "outputs": [
    {
     "name": "stdout",
     "output_type": "stream",
     "text": [
      "313/313 [==============================] - 54s 171ms/step - loss: 1.1195 - accuracy: 0.6101\n"
     ]
    },
    {
     "data": {
      "text/plain": [
       "[1.119463324546814, 0.6100999712944031]"
      ]
     },
     "execution_count": 45,
     "metadata": {},
     "output_type": "execute_result"
    }
   ],
   "source": [
    "model.evaluate(x_test, y_test)"
   ]
  },
  {
   "cell_type": "code",
   "execution_count": 46,
   "metadata": {},
   "outputs": [],
   "source": [
    "# # 모델 저장\n",
    "# from keras.models import save_model\n",
    "# model061='cifar10/Model061.h5'\n",
    "# save_model(model, model061)"
   ]
  },
  {
   "cell_type": "code",
   "execution_count": 47,
   "metadata": {},
   "outputs": [],
   "source": [
    "# # 모델 복원\n",
    "# from keras.models import load_model\n",
    "# reModel=load_model(model061)"
   ]
  },
  {
   "cell_type": "code",
   "execution_count": 36,
   "metadata": {},
   "outputs": [
    {
     "name": "stdout",
     "output_type": "stream",
     "text": [
      "Epoch 1/10\n",
      "1563/1563 [==============================] - 321s 205ms/step - loss: 0.5981 - accuracy: 0.7834\n",
      "Epoch 2/10\n",
      "1563/1563 [==============================] - 349s 223ms/step - loss: 0.5443 - accuracy: 0.8032\n",
      "Epoch 3/10\n",
      "1563/1563 [==============================] - 345s 221ms/step - loss: 0.4994 - accuracy: 0.8190\n",
      "Epoch 4/10\n",
      "1563/1563 [==============================] - 348s 223ms/step - loss: 0.4449 - accuracy: 0.8382\n",
      "Epoch 5/10\n",
      "1563/1563 [==============================] - 329s 211ms/step - loss: 0.4073 - accuracy: 0.8512\n",
      "Epoch 6/10\n",
      "1563/1563 [==============================] - 360s 230ms/step - loss: 0.3691 - accuracy: 0.8671\n",
      "Epoch 7/10\n",
      "1563/1563 [==============================] - 365s 233ms/step - loss: 0.3275 - accuracy: 0.8810\n",
      "Epoch 8/10\n",
      "1563/1563 [==============================] - 380s 243ms/step - loss: 0.3090 - accuracy: 0.8880\n",
      "Epoch 9/10\n",
      "1563/1563 [==============================] - 385s 246ms/step - loss: 0.2861 - accuracy: 0.8972\n",
      "Epoch 10/10\n",
      "1563/1563 [==============================] - 377s 241ms/step - loss: 0.2555 - accuracy: 0.9067\n"
     ]
    },
    {
     "data": {
      "text/plain": [
       "<keras.callbacks.History at 0x23f46b8c1f0>"
      ]
     },
     "execution_count": 36,
     "metadata": {},
     "output_type": "execute_result"
    }
   ],
   "source": [
    "# 모델 학습\n",
    "# reModel.fit(x_train, y_train, epochs=10)"
   ]
  },
  {
   "cell_type": "code",
   "execution_count": null,
   "metadata": {},
   "outputs": [],
   "source": []
  },
  {
   "cell_type": "code",
   "execution_count": null,
   "metadata": {},
   "outputs": [],
   "source": []
  },
  {
   "cell_type": "code",
   "execution_count": null,
   "metadata": {},
   "outputs": [],
   "source": []
  },
  {
   "cell_type": "code",
   "execution_count": null,
   "metadata": {},
   "outputs": [],
   "source": []
  }
 ],
 "metadata": {
  "kernelspec": {
   "display_name": "Python 3.9.13 ('base')",
   "language": "python",
   "name": "python3"
  },
  "language_info": {
   "codemirror_mode": {
    "name": "ipython",
    "version": 3
   },
   "file_extension": ".py",
   "mimetype": "text/x-python",
   "name": "python",
   "nbconvert_exporter": "python",
   "pygments_lexer": "ipython3",
   "version": "3.9.13"
  },
  "orig_nbformat": 4,
  "vscode": {
   "interpreter": {
    "hash": "ad2bdc8ecc057115af97d19610ffacc2b4e99fae6737bb82f5d7fb13d2f2c186"
   }
  }
 },
 "nbformat": 4,
 "nbformat_minor": 2
}
