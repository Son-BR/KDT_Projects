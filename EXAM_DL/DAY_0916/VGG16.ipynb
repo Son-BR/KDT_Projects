{
 "cells": [
  {
   "cell_type": "markdown",
   "metadata": {},
   "source": [
    "## VGG16 모델 활용 이미지 식별(CIFAR10 데이터셋)"
   ]
  },
  {
   "cell_type": "code",
   "execution_count": 5,
   "metadata": {},
   "outputs": [],
   "source": [
    "from keras.utils import set_random_seed\n",
    "from keras import Sequential\n",
    "from keras.layers import Dense, Conv2D, Flatten, MaxPool2D, Dropout\n",
    "from keras.datasets.cifar10 import load_data\n",
    "\n",
    "from keras.applications import VGG16\n",
    "\n",
    "import numpy as np\n",
    "import matplotlib.pyplot as plt"
   ]
  },
  {
   "cell_type": "code",
   "execution_count": 3,
   "metadata": {},
   "outputs": [],
   "source": [
    "set_random_seed(11)"
   ]
  },
  {
   "cell_type": "code",
   "execution_count": 4,
   "metadata": {},
   "outputs": [],
   "source": [
    "# 학습용 : 테스트용 = 8 : 2\n",
    "(x_train, y_train), (x_test, y_test) = load_data()"
   ]
  },
  {
   "cell_type": "code",
   "execution_count": 8,
   "metadata": {},
   "outputs": [],
   "source": [
    "# 스케일링\n",
    "x_train=x_train/255.0\n",
    "x_test=x_test/255.0"
   ]
  },
  {
   "cell_type": "code",
   "execution_count": 9,
   "metadata": {},
   "outputs": [
    {
     "data": {
      "text/plain": [
       "(50000, 32, 32, 3)"
      ]
     },
     "execution_count": 9,
     "metadata": {},
     "output_type": "execute_result"
    }
   ],
   "source": [
    "x_train.shape"
   ]
  },
  {
   "cell_type": "code",
   "execution_count": 28,
   "metadata": {},
   "outputs": [],
   "source": [
    "# 원핫인코딩으로 변환\n",
    "from sklearn.preprocessing import OneHotEncoder\n",
    "\n",
    "# y_train\n",
    "encoder=OneHotEncoder()\n",
    "encoder.fit(y_train.reshape(-1,1))\n",
    "y_train=encoder.transform(y_train.reshape(-1,1))\n",
    "y_train=y_train.toarray()\n",
    "\n",
    "# y_test\n",
    "encoder.fit(y_test.reshape(-1,1))\n",
    "y_test=encoder.transform(y_test.reshape(-1,1))\n",
    "y_test=y_test.toarray()"
   ]
  },
  {
   "cell_type": "code",
   "execution_count": 20,
   "metadata": {},
   "outputs": [
    {
     "name": "stdout",
     "output_type": "stream",
     "text": [
      "Model: \"vgg16\"\n",
      "_________________________________________________________________\n",
      " Layer (type)                Output Shape              Param #   \n",
      "=================================================================\n",
      " input_5 (InputLayer)        [(None, 32, 32, 3)]       0         \n",
      "                                                                 \n",
      " block1_conv1 (Conv2D)       (None, 32, 32, 64)        1792      \n",
      "                                                                 \n",
      " block1_conv2 (Conv2D)       (None, 32, 32, 64)        36928     \n",
      "                                                                 \n",
      " block1_pool (MaxPooling2D)  (None, 16, 16, 64)        0         \n",
      "                                                                 \n",
      " block2_conv1 (Conv2D)       (None, 16, 16, 128)       73856     \n",
      "                                                                 \n",
      " block2_conv2 (Conv2D)       (None, 16, 16, 128)       147584    \n",
      "                                                                 \n",
      " block2_pool (MaxPooling2D)  (None, 8, 8, 128)         0         \n",
      "                                                                 \n",
      " block3_conv1 (Conv2D)       (None, 8, 8, 256)         295168    \n",
      "                                                                 \n",
      " block3_conv2 (Conv2D)       (None, 8, 8, 256)         590080    \n",
      "                                                                 \n",
      " block3_conv3 (Conv2D)       (None, 8, 8, 256)         590080    \n",
      "                                                                 \n",
      " block3_pool (MaxPooling2D)  (None, 4, 4, 256)         0         \n",
      "                                                                 \n",
      " block4_conv1 (Conv2D)       (None, 4, 4, 512)         1180160   \n",
      "                                                                 \n",
      " block4_conv2 (Conv2D)       (None, 4, 4, 512)         2359808   \n",
      "                                                                 \n",
      " block4_conv3 (Conv2D)       (None, 4, 4, 512)         2359808   \n",
      "                                                                 \n",
      " block4_pool (MaxPooling2D)  (None, 2, 2, 512)         0         \n",
      "                                                                 \n",
      " block5_conv1 (Conv2D)       (None, 2, 2, 512)         2359808   \n",
      "                                                                 \n",
      " block5_conv2 (Conv2D)       (None, 2, 2, 512)         2359808   \n",
      "                                                                 \n",
      " block5_conv3 (Conv2D)       (None, 2, 2, 512)         2359808   \n",
      "                                                                 \n",
      " block5_pool (MaxPooling2D)  (None, 1, 1, 512)         0         \n",
      "                                                                 \n",
      "=================================================================\n",
      "Total params: 14,714,688\n",
      "Trainable params: 0\n",
      "Non-trainable params: 14,714,688\n",
      "_________________________________________________________________\n"
     ]
    }
   ],
   "source": [
    "# VGG16 모델\n",
    "\n",
    "# 모델 생성(이미지넷으로 학습된 모델, 입력 형태 변경)\n",
    "model_vgg=VGG16(weights='imagenet', include_top=False, input_shape=(32,32,3))\n",
    "\n",
    "# 이미지넷으로 학습된 값 그대로 사용\n",
    "model_vgg.trainable = False \n",
    "\n",
    "model_vgg.summary()"
   ]
  },
  {
   "cell_type": "code",
   "execution_count": 48,
   "metadata": {},
   "outputs": [
    {
     "name": "stdout",
     "output_type": "stream",
     "text": [
      "Model: \"sequential_8\"\n",
      "_________________________________________________________________\n",
      " Layer (type)                Output Shape              Param #   \n",
      "=================================================================\n",
      " vgg16 (Functional)          (None, 1, 1, 512)         14714688  \n",
      "                                                                 \n",
      " flatten_8 (Flatten)         (None, 512)               0         \n",
      "                                                                 \n",
      " dense_21 (Dense)            (None, 2000)              1026000   \n",
      "                                                                 \n",
      " dense_22 (Dense)            (None, 1000)              2001000   \n",
      "                                                                 \n",
      " dropout_2 (Dropout)         (None, 1000)              0         \n",
      "                                                                 \n",
      " dense_23 (Dense)            (None, 500)               500500    \n",
      "                                                                 \n",
      " dense_24 (Dense)            (None, 100)               50100     \n",
      "                                                                 \n",
      " dense_25 (Dense)            (None, 10)                1010      \n",
      "                                                                 \n",
      "=================================================================\n",
      "Total params: 18,293,298\n",
      "Trainable params: 3,578,610\n",
      "Non-trainable params: 14,714,688\n",
      "_________________________________________________________________\n"
     ]
    }
   ],
   "source": [
    "# 모델 생성\n",
    "model=Sequential()\n",
    "\n",
    "# vgg16모델 \n",
    "model.add(model_vgg)\n",
    "\n",
    "# 형태 변환\n",
    "model.add(Flatten())\n",
    "\n",
    "model.add(Dense(2000, activation='relu'))\n",
    "model.add(Dense(1000, activation='relu'))\n",
    "model.add(Dropout(0.5))\n",
    "model.add(Dense(500, activation='relu'))\n",
    "model.add(Dense(100, activation='relu'))\n",
    "\n",
    "# 출력층\n",
    "model.add(Dense(10, activation='softmax'))\n",
    "\n",
    "model.summary()"
   ]
  },
  {
   "cell_type": "code",
   "execution_count": 49,
   "metadata": {},
   "outputs": [],
   "source": [
    "# 모델 생성\n",
    "model.compile(loss='categorical_crossentropy', optimizer='adam', metrics='accuracy')"
   ]
  },
  {
   "cell_type": "code",
   "execution_count": 55,
   "metadata": {},
   "outputs": [],
   "source": [
    "from keras.callbacks import EarlyStopping, ModelCheckpoint\n",
    "\n",
    "# 검증 데이터에 대한 loss값 2번 연속 개선되지 않으면 학습 중지\n",
    "stopCB=EarlyStopping(monitor='val_loss', patience=3)"
   ]
  },
  {
   "cell_type": "code",
   "execution_count": 58,
   "metadata": {},
   "outputs": [
    {
     "name": "stdout",
     "output_type": "stream",
     "text": [
      "Epoch 1/10\n",
      "1563/1563 [==============================] - 457s 292ms/step - loss: 0.6881 - accuracy: 0.7566 - val_loss: 1.2495 - val_accuracy: 0.6176\n",
      "Epoch 2/10\n",
      "1563/1563 [==============================] - 420s 269ms/step - loss: 0.6574 - accuracy: 0.7660 - val_loss: 1.3326 - val_accuracy: 0.6152\n",
      "Epoch 3/10\n",
      "1563/1563 [==============================] - 478s 306ms/step - loss: 0.6351 - accuracy: 0.7749 - val_loss: 1.3391 - val_accuracy: 0.6195\n",
      "Epoch 4/10\n",
      "1563/1563 [==============================] - 476s 305ms/step - loss: 0.6075 - accuracy: 0.7848 - val_loss: 1.3725 - val_accuracy: 0.6111\n"
     ]
    },
    {
     "data": {
      "text/plain": [
       "<keras.callbacks.History at 0x23ec7b13730>"
      ]
     },
     "execution_count": 58,
     "metadata": {},
     "output_type": "execute_result"
    }
   ],
   "source": [
    "# 모델 학습\n",
    "model.fit(x_train, y_train, epochs=10, validation_data=(x_test, y_test), callbacks=[stopCB])"
   ]
  },
  {
   "cell_type": "code",
   "execution_count": 59,
   "metadata": {},
   "outputs": [
    {
     "name": "stdout",
     "output_type": "stream",
     "text": [
      "313/313 [==============================] - 51s 163ms/step - loss: 1.3725 - accuracy: 0.6111\n"
     ]
    },
    {
     "data": {
      "text/plain": [
       "[1.3724864721298218, 0.6111000180244446]"
      ]
     },
     "execution_count": 59,
     "metadata": {},
     "output_type": "execute_result"
    }
   ],
   "source": [
    "model.evaluate(x_test, y_test)"
   ]
  },
  {
   "cell_type": "code",
   "execution_count": 46,
   "metadata": {},
   "outputs": [],
   "source": [
    "# # 모델 저장\n",
    "# from keras.models import save_model\n",
    "# model061='cifar10/Model061.h5'\n",
    "# save_model(model, model061)"
   ]
  },
  {
   "cell_type": "code",
   "execution_count": 47,
   "metadata": {},
   "outputs": [],
   "source": [
    "# # 모델 복원\n",
    "# from keras.models import load_model\n",
    "# reModel=load_model(model061)"
   ]
  },
  {
   "cell_type": "code",
   "execution_count": null,
   "metadata": {},
   "outputs": [],
   "source": [
    "# 모델 학습\n",
    "# reModel.fit(x_train, y_train, epochs=10)"
   ]
  },
  {
   "cell_type": "code",
   "execution_count": null,
   "metadata": {},
   "outputs": [],
   "source": []
  },
  {
   "cell_type": "code",
   "execution_count": null,
   "metadata": {},
   "outputs": [],
   "source": []
  },
  {
   "cell_type": "code",
   "execution_count": null,
   "metadata": {},
   "outputs": [],
   "source": []
  },
  {
   "cell_type": "code",
   "execution_count": 60,
   "metadata": {},
   "outputs": [
    {
     "name": "stdout",
     "output_type": "stream",
     "text": [
      "Model: \"sequential_9\"\n",
      "_________________________________________________________________\n",
      " Layer (type)                Output Shape              Param #   \n",
      "=================================================================\n",
      " vgg16 (Functional)          (None, 1, 1, 512)         14714688  \n",
      "                                                                 \n",
      " flatten_9 (Flatten)         (None, 512)               0         \n",
      "                                                                 \n",
      " dense_26 (Dense)            (None, 10)                5130      \n",
      "                                                                 \n",
      "=================================================================\n",
      "Total params: 14,719,818\n",
      "Trainable params: 5,130\n",
      "Non-trainable params: 14,714,688\n",
      "_________________________________________________________________\n"
     ]
    }
   ],
   "source": [
    "# 모델 생성\n",
    "model2=Sequential()\n",
    "\n",
    "# vgg16모델 \n",
    "model2.add(model_vgg)\n",
    "\n",
    "# 형태 변환\n",
    "model2.add(Flatten())\n",
    "\n",
    "# 출력층\n",
    "model2.add(Dense(10, activation='softmax'))\n",
    "\n",
    "model2.summary()"
   ]
  },
  {
   "cell_type": "code",
   "execution_count": 63,
   "metadata": {},
   "outputs": [],
   "source": [
    "# 모델 생성\n",
    "model2.compile(loss='categorical_crossentropy', optimizer='adam', metrics='accuracy')"
   ]
  },
  {
   "cell_type": "code",
   "execution_count": 64,
   "metadata": {},
   "outputs": [],
   "source": [
    "# 검증 데이터에 대한 loss값 2번 연속 개선되지 않으면 학습 중지\n",
    "stopCB2=EarlyStopping(monitor='val_loss', patience=5)"
   ]
  },
  {
   "cell_type": "code",
   "execution_count": 65,
   "metadata": {},
   "outputs": [
    {
     "name": "stdout",
     "output_type": "stream",
     "text": [
      "Epoch 1/250\n",
      "196/196 [==============================] - 340s 2s/step - loss: 1.2038 - accuracy: 0.5900 - val_loss: 1.2417 - val_accuracy: 0.5709\n",
      "Epoch 2/250\n",
      "196/196 [==============================] - 342s 2s/step - loss: 1.1947 - accuracy: 0.5923 - val_loss: 1.2375 - val_accuracy: 0.5701\n",
      "Epoch 3/250\n",
      "196/196 [==============================] - 352s 2s/step - loss: 1.1876 - accuracy: 0.5931 - val_loss: 1.2301 - val_accuracy: 0.5738\n",
      "Epoch 4/250\n",
      "196/196 [==============================] - 321s 2s/step - loss: 1.1816 - accuracy: 0.5962 - val_loss: 1.2244 - val_accuracy: 0.5777\n",
      "Epoch 5/250\n",
      "196/196 [==============================] - 322s 2s/step - loss: 1.1757 - accuracy: 0.5978 - val_loss: 1.2208 - val_accuracy: 0.5767\n",
      "Epoch 6/250\n",
      "196/196 [==============================] - 303s 2s/step - loss: 1.1710 - accuracy: 0.5995 - val_loss: 1.2176 - val_accuracy: 0.5782\n",
      "Epoch 7/250\n",
      "196/196 [==============================] - 325s 2s/step - loss: 1.1657 - accuracy: 0.6007 - val_loss: 1.2154 - val_accuracy: 0.5784\n",
      "Epoch 8/250\n",
      "196/196 [==============================] - 327s 2s/step - loss: 1.1620 - accuracy: 0.6024 - val_loss: 1.2118 - val_accuracy: 0.5809\n",
      "Epoch 9/250\n",
      "196/196 [==============================] - 266s 1s/step - loss: 1.1587 - accuracy: 0.6028 - val_loss: 1.2091 - val_accuracy: 0.5799\n",
      "Epoch 10/250\n",
      "196/196 [==============================] - 277s 1s/step - loss: 1.1548 - accuracy: 0.6026 - val_loss: 1.2071 - val_accuracy: 0.5808\n",
      "Epoch 11/250\n",
      "196/196 [==============================] - 280s 1s/step - loss: 1.1518 - accuracy: 0.6057 - val_loss: 1.2064 - val_accuracy: 0.5827\n",
      "Epoch 12/250\n",
      "196/196 [==============================] - 284s 1s/step - loss: 1.1488 - accuracy: 0.6060 - val_loss: 1.2029 - val_accuracy: 0.5820\n",
      "Epoch 13/250\n",
      "196/196 [==============================] - 282s 1s/step - loss: 1.1462 - accuracy: 0.6067 - val_loss: 1.2011 - val_accuracy: 0.5837\n",
      "Epoch 14/250\n",
      "196/196 [==============================] - 285s 1s/step - loss: 1.1435 - accuracy: 0.6079 - val_loss: 1.2007 - val_accuracy: 0.5841\n",
      "Epoch 15/250\n",
      "196/196 [==============================] - 287s 1s/step - loss: 1.1406 - accuracy: 0.6080 - val_loss: 1.1984 - val_accuracy: 0.5833\n",
      "Epoch 16/250\n",
      "196/196 [==============================] - 291s 1s/step - loss: 1.1383 - accuracy: 0.6099 - val_loss: 1.1981 - val_accuracy: 0.5853\n",
      "Epoch 17/250\n",
      "196/196 [==============================] - 287s 1s/step - loss: 1.1367 - accuracy: 0.6095 - val_loss: 1.1958 - val_accuracy: 0.5857\n",
      "Epoch 18/250\n",
      "196/196 [==============================] - 290s 1s/step - loss: 1.1345 - accuracy: 0.6102 - val_loss: 1.1947 - val_accuracy: 0.5865\n",
      "Epoch 19/250\n",
      "196/196 [==============================] - 291s 1s/step - loss: 1.1322 - accuracy: 0.6116 - val_loss: 1.1939 - val_accuracy: 0.5869\n",
      "Epoch 20/250\n",
      "196/196 [==============================] - 287s 1s/step - loss: 1.1303 - accuracy: 0.6117 - val_loss: 1.1940 - val_accuracy: 0.5866\n",
      "Epoch 21/250\n",
      "196/196 [==============================] - 293s 1s/step - loss: 1.1291 - accuracy: 0.6125 - val_loss: 1.1937 - val_accuracy: 0.5874\n",
      "Epoch 22/250\n",
      "196/196 [==============================] - 291s 1s/step - loss: 1.1275 - accuracy: 0.6123 - val_loss: 1.1908 - val_accuracy: 0.5859\n",
      "Epoch 23/250\n",
      "196/196 [==============================] - 288s 1s/step - loss: 1.1258 - accuracy: 0.6117 - val_loss: 1.1900 - val_accuracy: 0.5873\n",
      "Epoch 24/250\n",
      "196/196 [==============================] - 291s 1s/step - loss: 1.1252 - accuracy: 0.6134 - val_loss: 1.1901 - val_accuracy: 0.5880\n",
      "Epoch 25/250\n",
      "196/196 [==============================] - 293s 1s/step - loss: 1.1229 - accuracy: 0.6143 - val_loss: 1.1886 - val_accuracy: 0.5877\n",
      "Epoch 26/250\n",
      "196/196 [==============================] - 291s 1s/step - loss: 1.1215 - accuracy: 0.6149 - val_loss: 1.1893 - val_accuracy: 0.5875\n",
      "Epoch 27/250\n",
      "196/196 [==============================] - 293s 1s/step - loss: 1.1202 - accuracy: 0.6153 - val_loss: 1.1889 - val_accuracy: 0.5872\n",
      "Epoch 28/250\n",
      "196/196 [==============================] - 293s 1s/step - loss: 1.1192 - accuracy: 0.6151 - val_loss: 1.1882 - val_accuracy: 0.5886\n",
      "Epoch 29/250\n",
      "196/196 [==============================] - 292s 1s/step - loss: 1.1186 - accuracy: 0.6154 - val_loss: 1.1874 - val_accuracy: 0.5878\n",
      "Epoch 30/250\n",
      "196/196 [==============================] - 297s 2s/step - loss: 1.1174 - accuracy: 0.6166 - val_loss: 1.1867 - val_accuracy: 0.5876\n",
      "Epoch 31/250\n",
      "196/196 [==============================] - 301s 2s/step - loss: 1.1160 - accuracy: 0.6162 - val_loss: 1.1869 - val_accuracy: 0.5897\n",
      "Epoch 32/250\n",
      "196/196 [==============================] - 304s 2s/step - loss: 1.1150 - accuracy: 0.6171 - val_loss: 1.1854 - val_accuracy: 0.5890\n",
      "Epoch 33/250\n",
      "196/196 [==============================] - 302s 2s/step - loss: 1.1141 - accuracy: 0.6170 - val_loss: 1.1856 - val_accuracy: 0.5888\n",
      "Epoch 34/250\n",
      "196/196 [==============================] - 304s 2s/step - loss: 1.1132 - accuracy: 0.6186 - val_loss: 1.1853 - val_accuracy: 0.5874\n",
      "Epoch 35/250\n",
      "196/196 [==============================] - 305s 2s/step - loss: 1.1123 - accuracy: 0.6183 - val_loss: 1.1863 - val_accuracy: 0.5890\n",
      "Epoch 36/250\n",
      "196/196 [==============================] - 300s 2s/step - loss: 1.1116 - accuracy: 0.6174 - val_loss: 1.1852 - val_accuracy: 0.5879\n",
      "Epoch 37/250\n",
      "196/196 [==============================] - 301s 2s/step - loss: 1.1104 - accuracy: 0.6175 - val_loss: 1.1847 - val_accuracy: 0.5894\n",
      "Epoch 38/250\n",
      "196/196 [==============================] - 299s 2s/step - loss: 1.1101 - accuracy: 0.6180 - val_loss: 1.1870 - val_accuracy: 0.5877\n",
      "Epoch 39/250\n",
      "196/196 [==============================] - 299s 2s/step - loss: 1.1094 - accuracy: 0.6184 - val_loss: 1.1839 - val_accuracy: 0.5892\n",
      "Epoch 40/250\n",
      "196/196 [==============================] - 298s 2s/step - loss: 1.1086 - accuracy: 0.6172 - val_loss: 1.1844 - val_accuracy: 0.5872\n",
      "Epoch 41/250\n",
      "196/196 [==============================] - 298s 2s/step - loss: 1.1080 - accuracy: 0.6191 - val_loss: 1.1852 - val_accuracy: 0.5898\n",
      "Epoch 42/250\n",
      "196/196 [==============================] - 296s 2s/step - loss: 1.1067 - accuracy: 0.6197 - val_loss: 1.1856 - val_accuracy: 0.5896\n",
      "Epoch 43/250\n",
      "196/196 [==============================] - 298s 2s/step - loss: 1.1067 - accuracy: 0.6193 - val_loss: 1.1854 - val_accuracy: 0.5874\n",
      "Epoch 44/250\n",
      "196/196 [==============================] - 295s 2s/step - loss: 1.1062 - accuracy: 0.6192 - val_loss: 1.1867 - val_accuracy: 0.5888\n"
     ]
    },
    {
     "data": {
      "text/plain": [
       "<keras.callbacks.History at 0x23ec6a66190>"
      ]
     },
     "execution_count": 65,
     "metadata": {},
     "output_type": "execute_result"
    }
   ],
   "source": [
    "# 모델 학습\n",
    "model2.fit(x_train, y_train, epochs=250, batch_size=256, validation_data=(x_test, y_test), callbacks=[stopCB2])"
   ]
  },
  {
   "cell_type": "code",
   "execution_count": 66,
   "metadata": {},
   "outputs": [
    {
     "name": "stdout",
     "output_type": "stream",
     "text": [
      "313/313 [==============================] - 56s 177ms/step - loss: 1.1867 - accuracy: 0.5888\n"
     ]
    },
    {
     "data": {
      "text/plain": [
       "[1.1867142915725708, 0.5888000130653381]"
      ]
     },
     "execution_count": 66,
     "metadata": {},
     "output_type": "execute_result"
    }
   ],
   "source": [
    "model2.evaluate(x_test, y_test)"
   ]
  }
 ],
 "metadata": {
  "kernelspec": {
   "display_name": "Python 3.9.13 ('base')",
   "language": "python",
   "name": "python3"
  },
  "language_info": {
   "codemirror_mode": {
    "name": "ipython",
    "version": 3
   },
   "file_extension": ".py",
   "mimetype": "text/x-python",
   "name": "python",
   "nbconvert_exporter": "python",
   "pygments_lexer": "ipython3",
   "version": "3.9.13"
  },
  "orig_nbformat": 4,
  "vscode": {
   "interpreter": {
    "hash": "ad2bdc8ecc057115af97d19610ffacc2b4e99fae6737bb82f5d7fb13d2f2c186"
   }
  }
 },
 "nbformat": 4,
 "nbformat_minor": 2
}
