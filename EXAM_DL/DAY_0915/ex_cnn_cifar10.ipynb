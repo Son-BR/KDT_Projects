{
 "cells": [
  {
   "cell_type": "markdown",
   "metadata": {},
   "source": [
    "## CIFAR 이미지 분류 모델 구현\n",
    "---\n",
    " - 데이터: cifar10\n",
    " - 학습방법: 10가지 이미지 종류 분류 -> 다중분류\n",
    " - 이미지: DNN(MLP), CNN적용"
   ]
  },
  {
   "cell_type": "code",
   "execution_count": 45,
   "metadata": {},
   "outputs": [],
   "source": [
    "from keras.utils import set_random_seed, plot_model\n",
    "from keras import Sequential\n",
    "from keras.layers import Dense, Conv2D, Flatten, MaxPool2D, Dropout\n",
    "from keras.datasets.cifar10 import load_data\n",
    "\n",
    "import numpy as np\n",
    "import matplotlib.pyplot as plt"
   ]
  },
  {
   "cell_type": "code",
   "execution_count": 4,
   "metadata": {},
   "outputs": [],
   "source": [
    "# W,b고정하도록 seed 설정\n",
    "set_random_seed(11)"
   ]
  },
  {
   "cell_type": "code",
   "execution_count": 5,
   "metadata": {},
   "outputs": [],
   "source": [
    "# 데이터 불러오기\n",
    "(x_train, y_train), (x_test, y_test) = load_data()"
   ]
  },
  {
   "cell_type": "code",
   "execution_count": 6,
   "metadata": {},
   "outputs": [
    {
     "data": {
      "text/plain": [
       "((50000, 32, 32, 3), (10000, 32, 32, 3))"
      ]
     },
     "execution_count": 6,
     "metadata": {},
     "output_type": "execute_result"
    }
   ],
   "source": [
    "x_train.shape, x_test.shape"
   ]
  },
  {
   "cell_type": "markdown",
   "metadata": {},
   "source": [
    "## 데이터 전처리"
   ]
  },
  {
   "cell_type": "code",
   "execution_count": 8,
   "metadata": {},
   "outputs": [],
   "source": [
    "# 스케일링 -> 픽셀 / 255.0\n",
    "x_train=x_train/255.0\n",
    "x_test=x_test/255.0"
   ]
  },
  {
   "cell_type": "code",
   "execution_count": 9,
   "metadata": {},
   "outputs": [],
   "source": [
    "# 검증용 데이터 준비\n",
    "from sklearn.model_selection import train_test_split\n",
    "\n",
    "x_train, x_val, y_train, y_val = train_test_split(x_train, y_train, stratify=y_train, random_state=11)"
   ]
  },
  {
   "cell_type": "code",
   "execution_count": 10,
   "metadata": {},
   "outputs": [
    {
     "data": {
      "text/plain": [
       "((37500, 32, 32, 3), (12500, 32, 32, 3))"
      ]
     },
     "execution_count": 10,
     "metadata": {},
     "output_type": "execute_result"
    }
   ],
   "source": [
    "x_train.shape, x_val.shape"
   ]
  },
  {
   "cell_type": "markdown",
   "metadata": {},
   "source": [
    "## 모델 구성 및 생성"
   ]
  },
  {
   "cell_type": "code",
   "execution_count": 53,
   "metadata": {},
   "outputs": [],
   "source": [
    "# 모델 구성\n",
    "model=Sequential()"
   ]
  },
  {
   "cell_type": "code",
   "execution_count": 54,
   "metadata": {},
   "outputs": [
    {
     "name": "stdout",
     "output_type": "stream",
     "text": [
      "Model: \"sequential_9\"\n",
      "_________________________________________________________________\n",
      " Layer (type)                Output Shape              Param #   \n",
      "=================================================================\n",
      " conv2d_12 (Conv2D)          (None, 32, 32, 50)        1400      \n",
      "                                                                 \n",
      " max_pooling2d_12 (MaxPoolin  (None, 16, 16, 50)       0         \n",
      " g2D)                                                            \n",
      "                                                                 \n",
      " flatten_9 (Flatten)         (None, 12800)             0         \n",
      "                                                                 \n",
      " dense_23 (Dense)            (None, 50)                640050    \n",
      "                                                                 \n",
      " dropout_3 (Dropout)         (None, 50)                0         \n",
      "                                                                 \n",
      " dense_24 (Dense)            (None, 50)                2550      \n",
      "                                                                 \n",
      " dense_25 (Dense)            (None, 10)                510       \n",
      "                                                                 \n",
      "=================================================================\n",
      "Total params: 644,510\n",
      "Trainable params: 644,510\n",
      "Non-trainable params: 0\n",
      "_________________________________________________________________\n"
     ]
    }
   ],
   "source": [
    "# 이미지 특징 추출 Layer -> 첫번째 입력값 설정\n",
    "model.add(Conv2D(50, kernel_size=3, padding='same', input_shape=(32,32,3)))\n",
    "\n",
    "# 이미지 특징 다운샘플링(다운사이즈) Layer -> MaxPool2D: 기본값(2,2) -> 가로세로 반으로 줌\n",
    "model.add(MaxPool2D())\n",
    "\n",
    "\n",
    "# model.add(Conv2D(250, kernel_size=3, padding='same', input_shape=(32,32,3)))\n",
    "# model.add(MaxPool2D())\n",
    "\n",
    "\n",
    "\n",
    "# 1차원으로 데이터 형태 변환 Layer -> Flatten\n",
    "model.add(Flatten())\n",
    "\n",
    "model.add(Dense(50, activation='relu'))\n",
    "model.add(Dropout(0.5))\n",
    "\n",
    "model.add(Dense(50, activation='relu'))\n",
    "\n",
    "# 출력층 -> Node: 10개(0~9), activation:softmax\n",
    "model.add(Dense(10, activation='softmax'))\n",
    "\n",
    "model.summary()"
   ]
  },
  {
   "cell_type": "code",
   "execution_count": 55,
   "metadata": {},
   "outputs": [],
   "source": [
    "# 모델 생성\n",
    "model.compile(loss='sparse_categorical_crossentropy', optimizer='adam', metrics='accuracy')"
   ]
  },
  {
   "cell_type": "code",
   "execution_count": 56,
   "metadata": {},
   "outputs": [
    {
     "name": "stdout",
     "output_type": "stream",
     "text": [
      "Epoch 1/30\n",
      "1172/1172 [==============================] - 43s 36ms/step - loss: 1.8817 - accuracy: 0.3095 - val_loss: 1.5624 - val_accuracy: 0.4498\n",
      "Epoch 2/30\n",
      "1172/1172 [==============================] - 39s 33ms/step - loss: 1.6554 - accuracy: 0.3989 - val_loss: 1.5555 - val_accuracy: 0.4653\n",
      "Epoch 3/30\n",
      "1172/1172 [==============================] - 44s 37ms/step - loss: 1.5533 - accuracy: 0.4363 - val_loss: 1.4367 - val_accuracy: 0.4965\n",
      "Epoch 4/30\n",
      "1172/1172 [==============================] - 41s 35ms/step - loss: 1.4840 - accuracy: 0.4650 - val_loss: 1.3599 - val_accuracy: 0.5291\n",
      "Epoch 5/30\n",
      "1172/1172 [==============================] - 45s 38ms/step - loss: 1.4192 - accuracy: 0.4890 - val_loss: 1.3254 - val_accuracy: 0.5456\n",
      "Epoch 6/30\n",
      "1172/1172 [==============================] - 36s 31ms/step - loss: 1.3655 - accuracy: 0.5052 - val_loss: 1.2797 - val_accuracy: 0.5502\n",
      "Epoch 7/30\n",
      "1172/1172 [==============================] - 46s 39ms/step - loss: 1.3236 - accuracy: 0.5224 - val_loss: 1.2546 - val_accuracy: 0.5740\n",
      "Epoch 8/30\n",
      "1172/1172 [==============================] - 44s 38ms/step - loss: 1.2879 - accuracy: 0.5369 - val_loss: 1.2548 - val_accuracy: 0.5783\n",
      "Epoch 9/30\n",
      "1172/1172 [==============================] - 43s 37ms/step - loss: 1.2515 - accuracy: 0.5476 - val_loss: 1.1945 - val_accuracy: 0.5865\n",
      "Epoch 10/30\n",
      "1172/1172 [==============================] - 40s 34ms/step - loss: 1.2187 - accuracy: 0.5626 - val_loss: 1.2182 - val_accuracy: 0.5766\n",
      "Epoch 11/30\n",
      "1172/1172 [==============================] - 41s 35ms/step - loss: 1.1959 - accuracy: 0.5716 - val_loss: 1.1786 - val_accuracy: 0.5929\n",
      "Epoch 12/30\n",
      "1172/1172 [==============================] - 25s 21ms/step - loss: 1.1698 - accuracy: 0.5837 - val_loss: 1.2173 - val_accuracy: 0.5811\n",
      "Epoch 13/30\n",
      "1172/1172 [==============================] - 36s 31ms/step - loss: 1.1531 - accuracy: 0.5877 - val_loss: 1.2349 - val_accuracy: 0.5750\n",
      "Epoch 14/30\n",
      "1172/1172 [==============================] - 42s 36ms/step - loss: 1.1327 - accuracy: 0.5924 - val_loss: 1.1765 - val_accuracy: 0.5962\n",
      "Epoch 15/30\n",
      "1172/1172 [==============================] - 44s 38ms/step - loss: 1.1136 - accuracy: 0.5990 - val_loss: 1.2291 - val_accuracy: 0.5704\n",
      "Epoch 16/30\n",
      "1172/1172 [==============================] - 47s 40ms/step - loss: 1.0953 - accuracy: 0.6083 - val_loss: 1.1698 - val_accuracy: 0.5950\n",
      "Epoch 17/30\n",
      "1172/1172 [==============================] - 46s 40ms/step - loss: 1.0751 - accuracy: 0.6143 - val_loss: 1.1807 - val_accuracy: 0.5874\n",
      "Epoch 18/30\n",
      "1172/1172 [==============================] - 46s 39ms/step - loss: 1.0665 - accuracy: 0.6179 - val_loss: 1.1965 - val_accuracy: 0.5962\n",
      "Epoch 19/30\n",
      "1172/1172 [==============================] - 48s 41ms/step - loss: 1.0534 - accuracy: 0.6200 - val_loss: 1.2104 - val_accuracy: 0.5814\n",
      "Epoch 20/30\n",
      "1172/1172 [==============================] - 27s 23ms/step - loss: 1.0397 - accuracy: 0.6265 - val_loss: 1.1741 - val_accuracy: 0.5977\n",
      "Epoch 21/30\n",
      "1172/1172 [==============================] - 45s 38ms/step - loss: 1.0247 - accuracy: 0.6308 - val_loss: 1.2004 - val_accuracy: 0.5830\n",
      "Epoch 22/30\n",
      "1172/1172 [==============================] - 46s 40ms/step - loss: 1.0125 - accuracy: 0.6337 - val_loss: 1.1932 - val_accuracy: 0.5910\n",
      "Epoch 23/30\n",
      "1172/1172 [==============================] - 37s 32ms/step - loss: 0.9946 - accuracy: 0.6408 - val_loss: 1.1799 - val_accuracy: 0.5945\n",
      "Epoch 24/30\n",
      "1172/1172 [==============================] - 37s 31ms/step - loss: 0.9858 - accuracy: 0.6460 - val_loss: 1.1721 - val_accuracy: 0.5910\n",
      "Epoch 25/30\n",
      "1172/1172 [==============================] - 35s 30ms/step - loss: 0.9767 - accuracy: 0.6503 - val_loss: 1.1770 - val_accuracy: 0.5970\n",
      "Epoch 26/30\n",
      "1172/1172 [==============================] - 37s 31ms/step - loss: 0.9667 - accuracy: 0.6525 - val_loss: 1.2019 - val_accuracy: 0.5884\n",
      "Epoch 27/30\n",
      "1172/1172 [==============================] - 28s 24ms/step - loss: 0.9525 - accuracy: 0.6579 - val_loss: 1.1694 - val_accuracy: 0.5986\n",
      "Epoch 28/30\n",
      "1172/1172 [==============================] - 38s 32ms/step - loss: 0.9438 - accuracy: 0.6617 - val_loss: 1.1646 - val_accuracy: 0.5991\n",
      "Epoch 29/30\n",
      "1172/1172 [==============================] - 27s 23ms/step - loss: 0.9335 - accuracy: 0.6642 - val_loss: 1.1785 - val_accuracy: 0.5899\n",
      "Epoch 30/30\n",
      "1172/1172 [==============================] - 38s 33ms/step - loss: 0.9243 - accuracy: 0.6669 - val_loss: 1.1789 - val_accuracy: 0.5935\n"
     ]
    },
    {
     "data": {
      "text/plain": [
       "<keras.callbacks.History at 0x23eb6261130>"
      ]
     },
     "execution_count": 56,
     "metadata": {},
     "output_type": "execute_result"
    }
   ],
   "source": [
    "# 모델 학습\n",
    "model.fit(x_train, y_train, epochs=30, validation_data=(x_val, y_val))"
   ]
  },
  {
   "cell_type": "code",
   "execution_count": 57,
   "metadata": {},
   "outputs": [
    {
     "name": "stdout",
     "output_type": "stream",
     "text": [
      "313/313 [==============================] - 6s 18ms/step - loss: 1.1707 - accuracy: 0.6010\n"
     ]
    },
    {
     "data": {
      "text/plain": [
       "[1.1706732511520386, 0.6010000109672546]"
      ]
     },
     "execution_count": 57,
     "metadata": {},
     "output_type": "execute_result"
    }
   ],
   "source": [
    "# 평가\n",
    "model.evaluate(x_test, y_test)"
   ]
  },
  {
   "cell_type": "code",
   "execution_count": 58,
   "metadata": {},
   "outputs": [
    {
     "name": "stdout",
     "output_type": "stream",
     "text": [
      "1/1 [==============================] - 0s 73ms/step\n"
     ]
    }
   ],
   "source": [
    "pre_y=model.predict(x_test[0].reshape(-1,32,32,3))"
   ]
  },
  {
   "cell_type": "code",
   "execution_count": 59,
   "metadata": {},
   "outputs": [
    {
     "data": {
      "text/plain": [
       "array([[0.12, 0.01, 0.16, 0.36, 0.04, 0.09, 0.02, 0.01, 0.17, 0.01]],\n",
       "      dtype=float32)"
      ]
     },
     "execution_count": 59,
     "metadata": {},
     "output_type": "execute_result"
    }
   ],
   "source": [
    "pre_y.round(2)"
   ]
  },
  {
   "cell_type": "code",
   "execution_count": 60,
   "metadata": {},
   "outputs": [
    {
     "data": {
      "text/plain": [
       "array([3], dtype=uint8)"
      ]
     },
     "execution_count": 60,
     "metadata": {},
     "output_type": "execute_result"
    }
   ],
   "source": [
    "y_test[0]"
   ]
  },
  {
   "cell_type": "code",
   "execution_count": 61,
   "metadata": {},
   "outputs": [
    {
     "data": {
      "image/png": "[encoded data removed]",
      "text/plain": [
       "<Figure size 640x480 with 1 Axes>"
      ]
     },
     "metadata": {},
     "output_type": "display_data"
    }
   ],
   "source": [
    "plt.imshow(x_test[0].reshape(32,32,3))\n",
    "plt.title(f'Label - {y_test[0]}')\n",
    "plt.show()"
   ]
  },
  {
   "cell_type": "code",
   "execution_count": null,
   "metadata": {},
   "outputs": [],
   "source": []
  }
 ],
 "metadata": {
  "kernelspec": {
   "display_name": "Python 3.9.13 ('base')",
   "language": "python",
   "name": "python3"
  },
  "language_info": {
   "codemirror_mode": {
    "name": "ipython",
    "version": 3
   },
   "file_extension": ".py",
   "mimetype": "text/x-python",
   "name": "python",
   "nbconvert_exporter": "python",
   "pygments_lexer": "ipython3",
   "version": "3.9.13"
  },
  "orig_nbformat": 4,
  "vscode": {
   "interpreter": {
    "hash": "ad2bdc8ecc057115af97d19610ffacc2b4e99fae6737bb82f5d7fb13d2f2c186"
   }
  }
 },
 "nbformat": 4,
 "nbformat_minor": 2
}
