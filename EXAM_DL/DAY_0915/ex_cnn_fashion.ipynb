{
 "cells": [
  {
   "cell_type": "markdown",
   "metadata": {},
   "source": [
    "# CNN(Convolution Neural Network)\n",
    "---\n",
    " - 이미지, 영상 처리에 사용되는 신경망 모델\n",
    " - DNN의 한 분야\n",
    " - 텍스트 처리에도 사용되는 모델\n",
    " - 사용되는 Layer\n",
    "   - ConvXD: 이미지 형태 그대로 입력받아 특징을 추출하는 레이어\n",
    "   - Polling: 특징맵에서 특징을 다시 추출하여 다운샘플링하는 레이어, 크기를 반으로 줄임\n"
   ]
  },
  {
   "cell_type": "code",
   "execution_count": 23,
   "metadata": {},
   "outputs": [],
   "source": [
    "from keras.utils import set_random_seed, plot_model\n",
    "from keras import Sequential\n",
    "from keras.layers import Dense, Conv2D, Flatten, MaxPool2D\n",
    "from keras.datasets.fashion_mnist import load_data\n",
    "\n",
    "import numpy as np\n",
    "import matplotlib.pyplot as plt"
   ]
  },
  {
   "cell_type": "code",
   "execution_count": 2,
   "metadata": {},
   "outputs": [],
   "source": [
    "# W,b고정하도록 seed 설정\n",
    "set_random_seed(11)"
   ]
  },
  {
   "cell_type": "markdown",
   "metadata": {},
   "source": [
    "## [1] 데이터 준비 및 로딩"
   ]
  },
  {
   "cell_type": "code",
   "execution_count": 8,
   "metadata": {},
   "outputs": [],
   "source": [
    "(x_train, y_train), (x_test, y_test) = load_data()"
   ]
  },
  {
   "cell_type": "code",
   "execution_count": 9,
   "metadata": {},
   "outputs": [
    {
     "data": {
      "text/plain": [
       "((60000, 28, 28), (10000, 28, 28))"
      ]
     },
     "execution_count": 9,
     "metadata": {},
     "output_type": "execute_result"
    }
   ],
   "source": [
    "x_train.shape, x_test.shape"
   ]
  },
  {
   "cell_type": "markdown",
   "metadata": {},
   "source": [
    "## [2] 데이터 전처리 및 학습형태로 변환"
   ]
  },
  {
   "cell_type": "code",
   "execution_count": 10,
   "metadata": {},
   "outputs": [],
   "source": [
    "# 스케일링 -> 픽셀 / 255.0\n",
    "x_train=x_train/255.0\n",
    "x_test=x_test/255.0"
   ]
  },
  {
   "cell_type": "code",
   "execution_count": 11,
   "metadata": {},
   "outputs": [],
   "source": [
    "# Conv 레이어는 이미지의 채널 정보까지 입력\n",
    "# .reshape(샘플수, 이미지가로, 이미지세로, 채널정보)\n",
    "x_train=x_train.reshape(-1, 28, 28, 1)\n",
    "x_test=x_test.reshape(-1, 28, 28, 1)"
   ]
  },
  {
   "cell_type": "code",
   "execution_count": 12,
   "metadata": {},
   "outputs": [
    {
     "data": {
      "text/plain": [
       "((60000, 28, 28, 1), (10000, 28, 28, 1))"
      ]
     },
     "execution_count": 12,
     "metadata": {},
     "output_type": "execute_result"
    }
   ],
   "source": [
    "x_train.shape, x_test.shape"
   ]
  },
  {
   "cell_type": "code",
   "execution_count": 13,
   "metadata": {},
   "outputs": [],
   "source": [
    "# 검증용 데이터 준비\n",
    "from sklearn.model_selection import train_test_split\n",
    "\n",
    "x_train, x_val, y_train, y_val = train_test_split(x_train, y_train, stratify=y_train, random_state=11)"
   ]
  },
  {
   "cell_type": "code",
   "execution_count": 15,
   "metadata": {},
   "outputs": [
    {
     "data": {
      "text/plain": [
       "((45000, 28, 28, 1), (15000, 28, 28, 1))"
      ]
     },
     "execution_count": 15,
     "metadata": {},
     "output_type": "execute_result"
    }
   ],
   "source": [
    "x_train.shape, x_val.shape"
   ]
  },
  {
   "cell_type": "markdown",
   "metadata": {},
   "source": [
    "## [3] 모델 구성 및 생성\n",
    "---\n",
    " - 입력 형태: 채널정보까지 포함해서 3차원(28, 28, 1)\n",
    " - 출력 형태: 0~9정수 확률값 10개출력\n",
    " - 학습 방식: 분류 - 다중분류\n",
    " - 전반부\n",
    "   - 이미지 특징 추출\n",
    "     - Conv2D, MaxPool2D\n",
    " - 후반부\n",
    "   - 이미지 데이터 학습\n",
    "     - Flatten, Dense"
   ]
  },
  {
   "cell_type": "markdown",
   "metadata": {},
   "source": [
    "### [3-1] 모델 구상"
   ]
  },
  {
   "cell_type": "code",
   "execution_count": 24,
   "metadata": {},
   "outputs": [],
   "source": [
    "model=Sequential()"
   ]
  },
  {
   "cell_type": "code",
   "execution_count": 25,
   "metadata": {},
   "outputs": [],
   "source": [
    "# 이미지 특징 추출 Layer -> 첫번째 입력값 설정\n",
    "model.add(Conv2D(10,kernel_size=3, padding='same', input_shape=(28,28,1)))"
   ]
  },
  {
   "cell_type": "code",
   "execution_count": 26,
   "metadata": {},
   "outputs": [],
   "source": [
    "# 이미지 특징 다운샘플링(다운사이즈) Layer -> MaxPool2D: 기본값(2,2) -> 가로세로 반으로 줌\n",
    "model.add(MaxPool2D())"
   ]
  },
  {
   "cell_type": "code",
   "execution_count": 27,
   "metadata": {},
   "outputs": [],
   "source": [
    "# 1차원으로 데이터 형태 변환 Layer -> Flatten\n",
    "model.add(Flatten())"
   ]
  },
  {
   "cell_type": "code",
   "execution_count": 28,
   "metadata": {},
   "outputs": [],
   "source": [
    "# 출력층 -> Node: 10개(0~9), activation:softmax\n",
    "model.add(Dense(10, activation='softmax'))"
   ]
  },
  {
   "cell_type": "code",
   "execution_count": 29,
   "metadata": {},
   "outputs": [
    {
     "name": "stdout",
     "output_type": "stream",
     "text": [
      "Model: \"sequential_1\"\n",
      "_________________________________________________________________\n",
      " Layer (type)                Output Shape              Param #   \n",
      "=================================================================\n",
      " conv2d_1 (Conv2D)           (None, 28, 28, 10)        100       \n",
      "                                                                 \n",
      " max_pooling2d_1 (MaxPooling  (None, 14, 14, 10)       0         \n",
      " 2D)                                                             \n",
      "                                                                 \n",
      " flatten_1 (Flatten)         (None, 1960)              0         \n",
      "                                                                 \n",
      " dense_1 (Dense)             (None, 10)                19610     \n",
      "                                                                 \n",
      "=================================================================\n",
      "Total params: 19,710\n",
      "Trainable params: 19,710\n",
      "Non-trainable params: 0\n",
      "_________________________________________________________________\n"
     ]
    }
   ],
   "source": [
    "model.summary()"
   ]
  },
  {
   "cell_type": "code",
   "execution_count": 31,
   "metadata": {},
   "outputs": [
    {
     "data": {
      "image/png": "[encoded data removed]",
      "text/plain": [
       "<IPython.core.display.Image object>"
      ]
     },
     "execution_count": 31,
     "metadata": {},
     "output_type": "execute_result"
    }
   ],
   "source": [
    "# plot_model(model, show_shapes=True, to_file='cnn.png')"
   ]
  },
  {
   "cell_type": "markdown",
   "metadata": {},
   "source": [
    "### [3-2] 모델 생성\n",
    "---\n",
    " - compile 메서드\n",
    "   - loss 손실 함수 -> sparse_categorical_crossentropy\n",
    "   - optimzer 최적화 방식 -> adam\n",
    "   - metrics 평가항목 -> accuracy"
   ]
  },
  {
   "cell_type": "code",
   "execution_count": 32,
   "metadata": {},
   "outputs": [],
   "source": [
    "model.compile(loss='sparse_categorical_crossentropy', optimizer='adam', metrics='accuracy')"
   ]
  },
  {
   "cell_type": "markdown",
   "metadata": {},
   "source": [
    "### [3-3] 모델 학습\n",
    "---\n",
    " - fit 메서드\n",
    "   - 학습 데이터, 라벨\n",
    "   - epochs 학습횟수\n",
    "   - batch_size 학습분량\n",
    "   - 검증 방법\n",
    "     - validation_data (검증데이터, 검증라벨)\n",
    "     - validation_split 학습데이터의 일부 비율 설정(예:0.2)\n",
    "   - callbacks\n",
    "   - verbose: 학습 진행도 화면 출력 여부 설정"
   ]
  },
  {
   "cell_type": "code",
   "execution_count": 35,
   "metadata": {},
   "outputs": [
    {
     "name": "stdout",
     "output_type": "stream",
     "text": [
      "Epoch 1/30\n",
      "1407/1407 [==============================] - 7s 5ms/step - loss: 0.3125 - accuracy: 0.8899 - val_loss: 0.3329 - val_accuracy: 0.8849\n",
      "Epoch 2/30\n",
      "1407/1407 [==============================] - 10s 7ms/step - loss: 0.2985 - accuracy: 0.8959 - val_loss: 0.3228 - val_accuracy: 0.8887\n",
      "Epoch 3/30\n",
      "1407/1407 [==============================] - 8s 6ms/step - loss: 0.2843 - accuracy: 0.8997 - val_loss: 0.3158 - val_accuracy: 0.8916\n",
      "Epoch 4/30\n",
      "1407/1407 [==============================] - 9s 7ms/step - loss: 0.2738 - accuracy: 0.9029 - val_loss: 0.3147 - val_accuracy: 0.8914\n",
      "Epoch 5/30\n",
      "1407/1407 [==============================] - 8s 6ms/step - loss: 0.2637 - accuracy: 0.9068 - val_loss: 0.3070 - val_accuracy: 0.8970\n",
      "Epoch 6/30\n",
      "1407/1407 [==============================] - 8s 6ms/step - loss: 0.2542 - accuracy: 0.9112 - val_loss: 0.3090 - val_accuracy: 0.8946\n",
      "Epoch 7/30\n",
      "1407/1407 [==============================] - 9s 6ms/step - loss: 0.2463 - accuracy: 0.9131 - val_loss: 0.3065 - val_accuracy: 0.8957\n",
      "Epoch 8/30\n",
      "1407/1407 [==============================] - 9s 6ms/step - loss: 0.2393 - accuracy: 0.9165 - val_loss: 0.3087 - val_accuracy: 0.8963\n",
      "Epoch 9/30\n",
      "1407/1407 [==============================] - 8s 5ms/step - loss: 0.2338 - accuracy: 0.9175 - val_loss: 0.3074 - val_accuracy: 0.8975\n",
      "Epoch 10/30\n",
      "1407/1407 [==============================] - 9s 6ms/step - loss: 0.2273 - accuracy: 0.9202 - val_loss: 0.3049 - val_accuracy: 0.8967\n",
      "Epoch 11/30\n",
      "1407/1407 [==============================] - 8s 6ms/step - loss: 0.2217 - accuracy: 0.9214 - val_loss: 0.3019 - val_accuracy: 0.8987\n",
      "Epoch 12/30\n",
      "1407/1407 [==============================] - 8s 5ms/step - loss: 0.2171 - accuracy: 0.9240 - val_loss: 0.3041 - val_accuracy: 0.8996\n",
      "Epoch 13/30\n",
      "1407/1407 [==============================] - 8s 6ms/step - loss: 0.2123 - accuracy: 0.9250 - val_loss: 0.3071 - val_accuracy: 0.8976\n",
      "Epoch 14/30\n",
      "1407/1407 [==============================] - 14s 10ms/step - loss: 0.2086 - accuracy: 0.9261 - val_loss: 0.3197 - val_accuracy: 0.8906\n",
      "Epoch 15/30\n",
      "1407/1407 [==============================] - 8s 6ms/step - loss: 0.2059 - accuracy: 0.9272 - val_loss: 0.3113 - val_accuracy: 0.8969\n",
      "Epoch 16/30\n",
      "1407/1407 [==============================] - 8s 6ms/step - loss: 0.2023 - accuracy: 0.9278 - val_loss: 0.3162 - val_accuracy: 0.8997\n",
      "Epoch 17/30\n",
      "1407/1407 [==============================] - 8s 6ms/step - loss: 0.1992 - accuracy: 0.9302 - val_loss: 0.3083 - val_accuracy: 0.9010\n",
      "Epoch 18/30\n",
      "1407/1407 [==============================] - 7s 5ms/step - loss: 0.1950 - accuracy: 0.9314 - val_loss: 0.3089 - val_accuracy: 0.9001\n",
      "Epoch 19/30\n",
      "1407/1407 [==============================] - 7s 5ms/step - loss: 0.1928 - accuracy: 0.9318 - val_loss: 0.3135 - val_accuracy: 0.8983\n",
      "Epoch 20/30\n",
      "1407/1407 [==============================] - 8s 5ms/step - loss: 0.1904 - accuracy: 0.9328 - val_loss: 0.3147 - val_accuracy: 0.8981\n",
      "Epoch 21/30\n",
      "1407/1407 [==============================] - 7s 5ms/step - loss: 0.1868 - accuracy: 0.9343 - val_loss: 0.3330 - val_accuracy: 0.8950\n",
      "Epoch 22/30\n",
      "1407/1407 [==============================] - 8s 5ms/step - loss: 0.1855 - accuracy: 0.9351 - val_loss: 0.3221 - val_accuracy: 0.8968\n",
      "Epoch 23/30\n",
      "1407/1407 [==============================] - 7s 5ms/step - loss: 0.1834 - accuracy: 0.9349 - val_loss: 0.3237 - val_accuracy: 0.8975\n",
      "Epoch 24/30\n",
      "1407/1407 [==============================] - 7s 5ms/step - loss: 0.1801 - accuracy: 0.9366 - val_loss: 0.3408 - val_accuracy: 0.8930\n",
      "Epoch 25/30\n",
      "1407/1407 [==============================] - 7s 5ms/step - loss: 0.1781 - accuracy: 0.9374 - val_loss: 0.3266 - val_accuracy: 0.9005\n",
      "Epoch 26/30\n",
      "1407/1407 [==============================] - 8s 6ms/step - loss: 0.1759 - accuracy: 0.9376 - val_loss: 0.3356 - val_accuracy: 0.8949\n",
      "Epoch 27/30\n",
      "1407/1407 [==============================] - 9s 6ms/step - loss: 0.1734 - accuracy: 0.9391 - val_loss: 0.3352 - val_accuracy: 0.8954\n",
      "Epoch 28/30\n",
      "1407/1407 [==============================] - 7s 5ms/step - loss: 0.1728 - accuracy: 0.9390 - val_loss: 0.3365 - val_accuracy: 0.8969\n",
      "Epoch 29/30\n",
      "1407/1407 [==============================] - 7s 5ms/step - loss: 0.1709 - accuracy: 0.9395 - val_loss: 0.3367 - val_accuracy: 0.8965\n",
      "Epoch 30/30\n",
      "1407/1407 [==============================] - 7s 5ms/step - loss: 0.1685 - accuracy: 0.9407 - val_loss: 0.3425 - val_accuracy: 0.8961\n"
     ]
    },
    {
     "data": {
      "text/plain": [
       "<keras.callbacks.History at 0x29f84219070>"
      ]
     },
     "execution_count": 35,
     "metadata": {},
     "output_type": "execute_result"
    }
   ],
   "source": [
    "model.fit(x_train, y_train, epochs=30, validation_data=(x_val, y_val))"
   ]
  },
  {
   "cell_type": "markdown",
   "metadata": {},
   "source": [
    "## [4] 평가\n",
    "---\n",
    " - evaluate 메서드\n",
    " - 테스트 데이터, 테스트 라벨"
   ]
  },
  {
   "cell_type": "code",
   "execution_count": 36,
   "metadata": {},
   "outputs": [
    {
     "name": "stdout",
     "output_type": "stream",
     "text": [
      "313/313 [==============================] - 1s 4ms/step - loss: 0.3525 - accuracy: 0.8919\n"
     ]
    },
    {
     "data": {
      "text/plain": [
       "[0.3525281250476837, 0.8919000029563904]"
      ]
     },
     "execution_count": 36,
     "metadata": {},
     "output_type": "execute_result"
    }
   ],
   "source": [
    "model.evaluate(x_test, y_test)"
   ]
  },
  {
   "cell_type": "markdown",
   "metadata": {},
   "source": [
    "## [5] 테스트\n",
    "---\n",
    " - 새로운 데이터"
   ]
  },
  {
   "cell_type": "code",
   "execution_count": 41,
   "metadata": {},
   "outputs": [
    {
     "data": {
      "text/plain": [
       "(28, 28, 1)"
      ]
     },
     "execution_count": 41,
     "metadata": {},
     "output_type": "execute_result"
    }
   ],
   "source": [
    "x_test[0].shape"
   ]
  },
  {
   "cell_type": "code",
   "execution_count": 43,
   "metadata": {},
   "outputs": [
    {
     "name": "stdout",
     "output_type": "stream",
     "text": [
      "1/1 [==============================] - 0s 21ms/step\n"
     ]
    }
   ],
   "source": [
    "pre_y=model.predict(x_test[0].reshape(-1,28,28,1))"
   ]
  },
  {
   "cell_type": "code",
   "execution_count": 44,
   "metadata": {},
   "outputs": [
    {
     "data": {
      "text/plain": [
       "array([[0., 0., 0., 0., 0., 0., 0., 0., 0., 1.]], dtype=float32)"
      ]
     },
     "execution_count": 44,
     "metadata": {},
     "output_type": "execute_result"
    }
   ],
   "source": [
    "pre_y.round(2)"
   ]
  },
  {
   "cell_type": "code",
   "execution_count": 46,
   "metadata": {},
   "outputs": [
    {
     "data": {
      "text/plain": [
       "9"
      ]
     },
     "execution_count": 46,
     "metadata": {},
     "output_type": "execute_result"
    }
   ],
   "source": [
    "y_test[0]"
   ]
  },
  {
   "cell_type": "code",
   "execution_count": 52,
   "metadata": {},
   "outputs": [
    {
     "data": {
      "image/png": "[encoded data removed]",
      "text/plain": [
       "<Figure size 640x480 with 1 Axes>"
      ]
     },
     "metadata": {},
     "output_type": "display_data"
    }
   ],
   "source": [
    "plt.imshow(x_test[0].reshape(28,28), cmap='gray_r')\n",
    "plt.title(f'Label - {y_test[0]}')\n",
    "plt.show()"
   ]
  }
 ],
 "metadata": {
  "kernelspec": {
   "display_name": "Python 3.9.13 ('base')",
   "language": "python",
   "name": "python3"
  },
  "language_info": {
   "codemirror_mode": {
    "name": "ipython",
    "version": 3
   },
   "file_extension": ".py",
   "mimetype": "text/x-python",
   "name": "python",
   "nbconvert_exporter": "python",
   "pygments_lexer": "ipython3",
   "version": "3.9.13"
  },
  "orig_nbformat": 4,
  "vscode": {
   "interpreter": {
    "hash": "ad2bdc8ecc057115af97d19610ffacc2b4e99fae6737bb82f5d7fb13d2f2c186"
   }
  }
 },
 "nbformat": 4,
 "nbformat_minor": 2
}
