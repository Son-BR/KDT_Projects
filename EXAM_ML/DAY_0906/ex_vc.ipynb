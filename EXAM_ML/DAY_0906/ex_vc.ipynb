{
 "cells": [
  {
   "cell_type": "markdown",
   "metadata": {},
   "source": [
    "## 다양한 교차검증\n",
    "---\n",
    " - model_selection 모듈\n",
    "   - cross_validate()\n",
    "   - cross_val_score()\n",
    "   - cross_val_predict()"
   ]
  },
  {
   "cell_type": "code",
   "execution_count": 8,
   "metadata": {},
   "outputs": [],
   "source": [
    "from sklearn.model_selection import cross_val_score, cross_validate\n",
    "from sklearn.linear_model import LogisticRegression\n",
    "from sklearn.datasets import load_iris\n",
    "import numpy as np\n",
    "import pandas as pd"
   ]
  },
  {
   "cell_type": "markdown",
   "metadata": {},
   "source": [
    "### [1] 데이터 로딩"
   ]
  },
  {
   "cell_type": "code",
   "execution_count": 3,
   "metadata": {},
   "outputs": [],
   "source": [
    "iris=load_iris()"
   ]
  },
  {
   "cell_type": "code",
   "execution_count": 4,
   "metadata": {},
   "outputs": [],
   "source": [
    "# Bunch타입(dict와 유사)\n",
    "data=iris['data']\n",
    "target=iris['target']\n",
    "featureName=iris['feature_names'] # 컬럼명\n",
    "className=iris['target_names']    # 클래스명"
   ]
  },
  {
   "cell_type": "code",
   "execution_count": 7,
   "metadata": {},
   "outputs": [
    {
     "data": {
      "text/plain": [
       "(['sepal length (cm)',\n",
       "  'sepal width (cm)',\n",
       "  'petal length (cm)',\n",
       "  'petal width (cm)'],\n",
       " array(['setosa', 'versicolor', 'virginica'], dtype='<U10'))"
      ]
     },
     "execution_count": 7,
     "metadata": {},
     "output_type": "execute_result"
    }
   ],
   "source": [
    "featureName, className"
   ]
  },
  {
   "cell_type": "markdown",
   "metadata": {},
   "source": [
    "### [2] 모델 생성"
   ]
  },
  {
   "cell_type": "code",
   "execution_count": 11,
   "metadata": {},
   "outputs": [],
   "source": [
    "# max_iter=100(기본): 처음~끝까지 샘플데이터 학슴 => 에포크(epoch) 횟수 지정\n",
    "lrModel=LogisticRegression(max_iter=500)"
   ]
  },
  {
   "cell_type": "code",
   "execution_count": 24,
   "metadata": {},
   "outputs": [
    {
     "data": {
      "text/plain": [
       "array([1.        , 0.93333333, 1.        , 1.        , 0.93333333,\n",
       "       0.93333333, 0.93333333, 1.        , 1.        , 1.        ])"
      ]
     },
     "execution_count": 24,
     "metadata": {},
     "output_type": "execute_result"
    }
   ],
   "source": [
    "# 교차검증으로 모델 학습 진행\n",
    "# => 학습 데이터 기반 5개 Fold로 학습 & 검증 진행\n",
    "# cv=5(기본): 데이터를 몇개로 나눠 교차검증할지\n",
    "result=cross_val_score(lrModel, data, target, cv=10)\n",
    "\n",
    "# cv개 모델에 대한 정확도(accuracy)\n",
    "result"
   ]
  },
  {
   "cell_type": "code",
   "execution_count": 27,
   "metadata": {},
   "outputs": [
    {
     "data": {
      "text/plain": [
       "{'fit_time': array([0.06582332, 0.0602386 , 0.06482911, 0.04488301, 0.04590487,\n",
       "        0.07798314, 0.05884552, 0.04488039, 0.04088974, 0.02992225]),\n",
       " 'score_time': array([0.00099754, 0.00099421, 0.00099778, 0.00099421, 0.00099707,\n",
       "        0.0009973 , 0.00199151, 0.00099707, 0.00099945, 0.00099587]),\n",
       " 'test_score': array([1.        , 0.93333333, 1.        , 1.        , 0.93333333,\n",
       "        0.93333333, 0.93333333, 1.        , 1.        , 1.        ]),\n",
       " 'train_score': array([0.97037037, 0.97777778, 0.97037037, 0.97037037, 0.97777778,\n",
       "        0.97777778, 0.98518519, 0.97037037, 0.97037037, 0.97777778])}"
      ]
     },
     "execution_count": 27,
     "metadata": {},
     "output_type": "execute_result"
    }
   ],
   "source": [
    "allResult=cross_validate(lrModel, data, target, return_train_score=True, cv=10)\n",
    "allResult"
   ]
  },
  {
   "cell_type": "code",
   "execution_count": 28,
   "metadata": {},
   "outputs": [
    {
     "data": {
      "text/html": [
       "<div>\n",
       "<style scoped>\n",
       "    .dataframe tbody tr th:only-of-type {\n",
       "        vertical-align: middle;\n",
       "    }\n",
       "\n",
       "    .dataframe tbody tr th {\n",
       "        vertical-align: top;\n",
       "    }\n",
       "\n",
       "    .dataframe thead th {\n",
       "        text-align: right;\n",
       "    }\n",
       "</style>\n",
       "<table border=\"1\" class=\"dataframe\">\n",
       "  <thead>\n",
       "    <tr style=\"text-align: right;\">\n",
       "      <th></th>\n",
       "      <th>fit_time</th>\n",
       "      <th>score_time</th>\n",
       "      <th>test_score</th>\n",
       "      <th>train_score</th>\n",
       "    </tr>\n",
       "  </thead>\n",
       "  <tbody>\n",
       "    <tr>\n",
       "      <th>0</th>\n",
       "      <td>0.065823</td>\n",
       "      <td>0.000998</td>\n",
       "      <td>1.000000</td>\n",
       "      <td>0.970370</td>\n",
       "    </tr>\n",
       "    <tr>\n",
       "      <th>1</th>\n",
       "      <td>0.060239</td>\n",
       "      <td>0.000994</td>\n",
       "      <td>0.933333</td>\n",
       "      <td>0.977778</td>\n",
       "    </tr>\n",
       "    <tr>\n",
       "      <th>2</th>\n",
       "      <td>0.064829</td>\n",
       "      <td>0.000998</td>\n",
       "      <td>1.000000</td>\n",
       "      <td>0.970370</td>\n",
       "    </tr>\n",
       "    <tr>\n",
       "      <th>3</th>\n",
       "      <td>0.044883</td>\n",
       "      <td>0.000994</td>\n",
       "      <td>1.000000</td>\n",
       "      <td>0.970370</td>\n",
       "    </tr>\n",
       "    <tr>\n",
       "      <th>4</th>\n",
       "      <td>0.045905</td>\n",
       "      <td>0.000997</td>\n",
       "      <td>0.933333</td>\n",
       "      <td>0.977778</td>\n",
       "    </tr>\n",
       "    <tr>\n",
       "      <th>5</th>\n",
       "      <td>0.077983</td>\n",
       "      <td>0.000997</td>\n",
       "      <td>0.933333</td>\n",
       "      <td>0.977778</td>\n",
       "    </tr>\n",
       "    <tr>\n",
       "      <th>6</th>\n",
       "      <td>0.058846</td>\n",
       "      <td>0.001992</td>\n",
       "      <td>0.933333</td>\n",
       "      <td>0.985185</td>\n",
       "    </tr>\n",
       "    <tr>\n",
       "      <th>7</th>\n",
       "      <td>0.044880</td>\n",
       "      <td>0.000997</td>\n",
       "      <td>1.000000</td>\n",
       "      <td>0.970370</td>\n",
       "    </tr>\n",
       "    <tr>\n",
       "      <th>8</th>\n",
       "      <td>0.040890</td>\n",
       "      <td>0.000999</td>\n",
       "      <td>1.000000</td>\n",
       "      <td>0.970370</td>\n",
       "    </tr>\n",
       "    <tr>\n",
       "      <th>9</th>\n",
       "      <td>0.029922</td>\n",
       "      <td>0.000996</td>\n",
       "      <td>1.000000</td>\n",
       "      <td>0.977778</td>\n",
       "    </tr>\n",
       "  </tbody>\n",
       "</table>\n",
       "</div>"
      ],
      "text/plain": [
       "   fit_time  score_time  test_score  train_score\n",
       "0  0.065823    0.000998    1.000000     0.970370\n",
       "1  0.060239    0.000994    0.933333     0.977778\n",
       "2  0.064829    0.000998    1.000000     0.970370\n",
       "3  0.044883    0.000994    1.000000     0.970370\n",
       "4  0.045905    0.000997    0.933333     0.977778\n",
       "5  0.077983    0.000997    0.933333     0.977778\n",
       "6  0.058846    0.001992    0.933333     0.985185\n",
       "7  0.044880    0.000997    1.000000     0.970370\n",
       "8  0.040890    0.000999    1.000000     0.970370\n",
       "9  0.029922    0.000996    1.000000     0.977778"
      ]
     },
     "execution_count": 28,
     "metadata": {},
     "output_type": "execute_result"
    }
   ],
   "source": [
    "pd.DataFrame(allResult)"
   ]
  },
  {
   "cell_type": "code",
   "execution_count": 32,
   "metadata": {},
   "outputs": [
    {
     "data": {
      "text/html": [
       "<div>\n",
       "<style scoped>\n",
       "    .dataframe tbody tr th:only-of-type {\n",
       "        vertical-align: middle;\n",
       "    }\n",
       "\n",
       "    .dataframe tbody tr th {\n",
       "        vertical-align: top;\n",
       "    }\n",
       "\n",
       "    .dataframe thead th {\n",
       "        text-align: right;\n",
       "    }\n",
       "</style>\n",
       "<table border=\"1\" class=\"dataframe\">\n",
       "  <thead>\n",
       "    <tr style=\"text-align: right;\">\n",
       "      <th></th>\n",
       "      <th>fit_time</th>\n",
       "      <th>score_time</th>\n",
       "      <th>estimator</th>\n",
       "      <th>test_score</th>\n",
       "      <th>train_score</th>\n",
       "    </tr>\n",
       "  </thead>\n",
       "  <tbody>\n",
       "    <tr>\n",
       "      <th>0</th>\n",
       "      <td>0.036899</td>\n",
       "      <td>0.000998</td>\n",
       "      <td>LogisticRegression(max_iter=500)</td>\n",
       "      <td>0.954545</td>\n",
       "      <td>0.976562</td>\n",
       "    </tr>\n",
       "    <tr>\n",
       "      <th>1</th>\n",
       "      <td>0.033911</td>\n",
       "      <td>0.000998</td>\n",
       "      <td>LogisticRegression(max_iter=500)</td>\n",
       "      <td>1.000000</td>\n",
       "      <td>0.976562</td>\n",
       "    </tr>\n",
       "    <tr>\n",
       "      <th>2</th>\n",
       "      <td>0.043881</td>\n",
       "      <td>0.000999</td>\n",
       "      <td>LogisticRegression(max_iter=500)</td>\n",
       "      <td>0.954545</td>\n",
       "      <td>0.976562</td>\n",
       "    </tr>\n",
       "    <tr>\n",
       "      <th>3</th>\n",
       "      <td>0.036901</td>\n",
       "      <td>0.000998</td>\n",
       "      <td>LogisticRegression(max_iter=500)</td>\n",
       "      <td>0.952381</td>\n",
       "      <td>0.968992</td>\n",
       "    </tr>\n",
       "    <tr>\n",
       "      <th>4</th>\n",
       "      <td>0.036899</td>\n",
       "      <td>0.000998</td>\n",
       "      <td>LogisticRegression(max_iter=500)</td>\n",
       "      <td>0.952381</td>\n",
       "      <td>0.968992</td>\n",
       "    </tr>\n",
       "    <tr>\n",
       "      <th>5</th>\n",
       "      <td>0.035905</td>\n",
       "      <td>0.000996</td>\n",
       "      <td>LogisticRegression(max_iter=500)</td>\n",
       "      <td>0.952381</td>\n",
       "      <td>0.984496</td>\n",
       "    </tr>\n",
       "    <tr>\n",
       "      <th>6</th>\n",
       "      <td>0.041926</td>\n",
       "      <td>0.000991</td>\n",
       "      <td>LogisticRegression(max_iter=500)</td>\n",
       "      <td>0.952381</td>\n",
       "      <td>0.976744</td>\n",
       "    </tr>\n",
       "  </tbody>\n",
       "</table>\n",
       "</div>"
      ],
      "text/plain": [
       "   fit_time  score_time                         estimator  test_score  \\\n",
       "0  0.036899    0.000998  LogisticRegression(max_iter=500)    0.954545   \n",
       "1  0.033911    0.000998  LogisticRegression(max_iter=500)    1.000000   \n",
       "2  0.043881    0.000999  LogisticRegression(max_iter=500)    0.954545   \n",
       "3  0.036901    0.000998  LogisticRegression(max_iter=500)    0.952381   \n",
       "4  0.036899    0.000998  LogisticRegression(max_iter=500)    0.952381   \n",
       "5  0.035905    0.000996  LogisticRegression(max_iter=500)    0.952381   \n",
       "6  0.041926    0.000991  LogisticRegression(max_iter=500)    0.952381   \n",
       "\n",
       "   train_score  \n",
       "0     0.976562  \n",
       "1     0.976562  \n",
       "2     0.976562  \n",
       "3     0.968992  \n",
       "4     0.968992  \n",
       "5     0.984496  \n",
       "6     0.976744  "
      ]
     },
     "execution_count": 32,
     "metadata": {},
     "output_type": "execute_result"
    }
   ],
   "source": [
    "# splitter 객체 생성 - kFold()\n",
    "# cv를 균등하게 데이터분배하도록 설정\n",
    "from sklearn.model_selection import KFold, StratifiedKFold\n",
    "kSplitter=KFold(n_splits=7, shuffle=True)\n",
    "\n",
    "\n",
    "# return_train_score=False: 학습 데이터 평가 결과 반환여부 설정\n",
    "# return_estimator=False: 모델객체명 반환여부 설정\n",
    "allResult=cross_validate(lrModel, data, target, return_train_score=True, cv=kSplitter, return_estimator=True)\n",
    "pd.DataFrame(allResult)"
   ]
  },
  {
   "cell_type": "code",
   "execution_count": null,
   "metadata": {},
   "outputs": [],
   "source": []
  },
  {
   "cell_type": "code",
   "execution_count": null,
   "metadata": {},
   "outputs": [],
   "source": []
  },
  {
   "cell_type": "code",
   "execution_count": null,
   "metadata": {},
   "outputs": [],
   "source": []
  },
  {
   "cell_type": "code",
   "execution_count": null,
   "metadata": {},
   "outputs": [],
   "source": []
  },
  {
   "cell_type": "code",
   "execution_count": null,
   "metadata": {},
   "outputs": [],
   "source": []
  },
  {
   "cell_type": "code",
   "execution_count": null,
   "metadata": {},
   "outputs": [],
   "source": []
  },
  {
   "cell_type": "code",
   "execution_count": null,
   "metadata": {},
   "outputs": [],
   "source": []
  },
  {
   "cell_type": "code",
   "execution_count": null,
   "metadata": {},
   "outputs": [],
   "source": []
  }
 ],
 "metadata": {
  "kernelspec": {
   "display_name": "Python 3.9.10 64-bit",
   "language": "python",
   "name": "python3"
  },
  "language_info": {
   "codemirror_mode": {
    "name": "ipython",
    "version": 3
   },
   "file_extension": ".py",
   "mimetype": "text/x-python",
   "name": "python",
   "nbconvert_exporter": "python",
   "pygments_lexer": "ipython3",
   "version": "3.9.10"
  },
  "orig_nbformat": 4,
  "vscode": {
   "interpreter": {
    "hash": "cf92aa13fedf815d5c8dd192b8d835913fde3e8bc926b2a0ad6cc74ef2ba3ca2"
   }
  }
 },
 "nbformat": 4,
 "nbformat_minor": 2
}
