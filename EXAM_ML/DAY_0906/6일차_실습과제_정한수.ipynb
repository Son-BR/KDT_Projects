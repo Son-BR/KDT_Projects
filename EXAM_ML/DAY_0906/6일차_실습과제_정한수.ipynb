{
 "cells": [
  {
   "cell_type": "code",
   "execution_count": 29,
   "id": "4837bc52",
   "metadata": {},
   "outputs": [
    {
     "data": {
      "text/plain": [
       "GridSearchCV(cv=10, estimator=RandomForestClassifier(),\n",
       "             param_grid={'criterion': ['gini'], 'max_depth': [8, 9],\n",
       "                         'max_features': [5, 6], 'min_samples_split': [3, 4],\n",
       "                         'random_state': [493]},\n",
       "             return_train_score=True)"
      ]
     },
     "execution_count": 29,
     "metadata": {},
     "output_type": "execute_result"
    }
   ],
   "source": [
    "import pandas as pd\n",
    "import numpy as np\n",
    "from sklearn.model_selection import train_test_split,GridSearchCV\n",
    "from sklearn.preprocessing import OneHotEncoder\n",
    "from sklearn.ensemble import RandomForestClassifier\n",
    "\n",
    "data = pd.read_csv('./mushroom.csv')\n",
    "input_data, target = data.drop('p',axis = 1), data['p']\n",
    "train_x, test_x, train_y, test_y = train_test_split(input_data, target, stratify= target, random_state=493)\n",
    "encoder = OneHotEncoder()\n",
    "train_x = encoder.fit_transform(train_x)\n",
    "test_x = encoder.transform(test_x)\n",
    "\n",
    "param_grid = {'criterion':['gini'],\n",
    "              'max_depth':[8,9],\n",
    "              'min_samples_split':[3,4],\n",
    "              'max_features':[5,6],\n",
    "              'random_state':[493]\n",
    "             }\n",
    "rf = RandomForestClassifier()\n",
    "gs = GridSearchCV(rf, param_grid=param_grid,cv = 10, return_train_score=True)\n",
    "gs.fit(train_x, train_y)"
   ]
  },
  {
   "cell_type": "code",
   "execution_count": 30,
   "id": "427cb243",
   "metadata": {},
   "outputs": [
    {
     "data": {
      "text/plain": [
       "{'criterion': 'gini',\n",
       " 'max_depth': 8,\n",
       " 'max_features': 5,\n",
       " 'min_samples_split': 3,\n",
       " 'random_state': 493}"
      ]
     },
     "execution_count": 30,
     "metadata": {},
     "output_type": "execute_result"
    }
   ],
   "source": [
    "gs.best_params_"
   ]
  },
  {
   "cell_type": "code",
   "execution_count": 31,
   "id": "d2bd7c22",
   "metadata": {},
   "outputs": [],
   "source": [
    "rf = gs.best_estimator_"
   ]
  },
  {
   "cell_type": "code",
   "execution_count": 32,
   "id": "24efe228",
   "metadata": {},
   "outputs": [
    {
     "name": "stdout",
     "output_type": "stream",
     "text": [
      "1.0 1.0\n"
     ]
    }
   ],
   "source": [
    "rf = gs.best_estimator_\n",
    "rf.fit(train_x, train_y)\n",
    "\n",
    "train_score = rf.score(train_x, train_y)\n",
    "test_score = rf.score(test_x, test_y)\n",
    "print(train_score, test_score)"
   ]
  },
  {
   "cell_type": "code",
   "execution_count": 26,
   "id": "1bcb4dfd",
   "metadata": {},
   "outputs": [
    {
     "data": {
      "text/html": [
       "<div>\n",
       "<style scoped>\n",
       "    .dataframe tbody tr th:only-of-type {\n",
       "        vertical-align: middle;\n",
       "    }\n",
       "\n",
       "    .dataframe tbody tr th {\n",
       "        vertical-align: top;\n",
       "    }\n",
       "\n",
       "    .dataframe thead th {\n",
       "        text-align: right;\n",
       "    }\n",
       "</style>\n",
       "<table border=\"1\" class=\"dataframe\">\n",
       "  <thead>\n",
       "    <tr style=\"text-align: right;\">\n",
       "      <th></th>\n",
       "      <th>x</th>\n",
       "      <th>s</th>\n",
       "      <th>n</th>\n",
       "      <th>t</th>\n",
       "      <th>p.1</th>\n",
       "      <th>f</th>\n",
       "      <th>c</th>\n",
       "      <th>n.1</th>\n",
       "      <th>k</th>\n",
       "      <th>e</th>\n",
       "      <th>...</th>\n",
       "      <th>s.2</th>\n",
       "      <th>w</th>\n",
       "      <th>w.1</th>\n",
       "      <th>p.2</th>\n",
       "      <th>w.2</th>\n",
       "      <th>o</th>\n",
       "      <th>p.3</th>\n",
       "      <th>k.1</th>\n",
       "      <th>s.3</th>\n",
       "      <th>u</th>\n",
       "    </tr>\n",
       "  </thead>\n",
       "  <tbody>\n",
       "    <tr>\n",
       "      <th>6190</th>\n",
       "      <td>x</td>\n",
       "      <td>s</td>\n",
       "      <td>n</td>\n",
       "      <td>f</td>\n",
       "      <td>f</td>\n",
       "      <td>f</td>\n",
       "      <td>c</td>\n",
       "      <td>n</td>\n",
       "      <td>b</td>\n",
       "      <td>t</td>\n",
       "      <td>...</td>\n",
       "      <td>k</td>\n",
       "      <td>p</td>\n",
       "      <td>w</td>\n",
       "      <td>p</td>\n",
       "      <td>w</td>\n",
       "      <td>o</td>\n",
       "      <td>e</td>\n",
       "      <td>w</td>\n",
       "      <td>v</td>\n",
       "      <td>l</td>\n",
       "    </tr>\n",
       "    <tr>\n",
       "      <th>5988</th>\n",
       "      <td>x</td>\n",
       "      <td>y</td>\n",
       "      <td>n</td>\n",
       "      <td>f</td>\n",
       "      <td>s</td>\n",
       "      <td>f</td>\n",
       "      <td>c</td>\n",
       "      <td>n</td>\n",
       "      <td>b</td>\n",
       "      <td>t</td>\n",
       "      <td>...</td>\n",
       "      <td>k</td>\n",
       "      <td>w</td>\n",
       "      <td>w</td>\n",
       "      <td>p</td>\n",
       "      <td>w</td>\n",
       "      <td>o</td>\n",
       "      <td>e</td>\n",
       "      <td>w</td>\n",
       "      <td>v</td>\n",
       "      <td>d</td>\n",
       "    </tr>\n",
       "    <tr>\n",
       "      <th>6554</th>\n",
       "      <td>k</td>\n",
       "      <td>s</td>\n",
       "      <td>e</td>\n",
       "      <td>f</td>\n",
       "      <td>f</td>\n",
       "      <td>f</td>\n",
       "      <td>c</td>\n",
       "      <td>n</td>\n",
       "      <td>b</td>\n",
       "      <td>t</td>\n",
       "      <td>...</td>\n",
       "      <td>k</td>\n",
       "      <td>w</td>\n",
       "      <td>p</td>\n",
       "      <td>p</td>\n",
       "      <td>w</td>\n",
       "      <td>o</td>\n",
       "      <td>e</td>\n",
       "      <td>w</td>\n",
       "      <td>v</td>\n",
       "      <td>p</td>\n",
       "    </tr>\n",
       "    <tr>\n",
       "      <th>3131</th>\n",
       "      <td>f</td>\n",
       "      <td>y</td>\n",
       "      <td>g</td>\n",
       "      <td>t</td>\n",
       "      <td>n</td>\n",
       "      <td>f</td>\n",
       "      <td>c</td>\n",
       "      <td>b</td>\n",
       "      <td>p</td>\n",
       "      <td>t</td>\n",
       "      <td>...</td>\n",
       "      <td>s</td>\n",
       "      <td>w</td>\n",
       "      <td>p</td>\n",
       "      <td>p</td>\n",
       "      <td>w</td>\n",
       "      <td>o</td>\n",
       "      <td>p</td>\n",
       "      <td>k</td>\n",
       "      <td>y</td>\n",
       "      <td>d</td>\n",
       "    </tr>\n",
       "    <tr>\n",
       "      <th>3767</th>\n",
       "      <td>f</td>\n",
       "      <td>y</td>\n",
       "      <td>e</td>\n",
       "      <td>t</td>\n",
       "      <td>n</td>\n",
       "      <td>f</td>\n",
       "      <td>c</td>\n",
       "      <td>b</td>\n",
       "      <td>w</td>\n",
       "      <td>t</td>\n",
       "      <td>...</td>\n",
       "      <td>s</td>\n",
       "      <td>w</td>\n",
       "      <td>p</td>\n",
       "      <td>p</td>\n",
       "      <td>w</td>\n",
       "      <td>o</td>\n",
       "      <td>p</td>\n",
       "      <td>n</td>\n",
       "      <td>y</td>\n",
       "      <td>d</td>\n",
       "    </tr>\n",
       "    <tr>\n",
       "      <th>...</th>\n",
       "      <td>...</td>\n",
       "      <td>...</td>\n",
       "      <td>...</td>\n",
       "      <td>...</td>\n",
       "      <td>...</td>\n",
       "      <td>...</td>\n",
       "      <td>...</td>\n",
       "      <td>...</td>\n",
       "      <td>...</td>\n",
       "      <td>...</td>\n",
       "      <td>...</td>\n",
       "      <td>...</td>\n",
       "      <td>...</td>\n",
       "      <td>...</td>\n",
       "      <td>...</td>\n",
       "      <td>...</td>\n",
       "      <td>...</td>\n",
       "      <td>...</td>\n",
       "      <td>...</td>\n",
       "      <td>...</td>\n",
       "      <td>...</td>\n",
       "    </tr>\n",
       "    <tr>\n",
       "      <th>7059</th>\n",
       "      <td>x</td>\n",
       "      <td>s</td>\n",
       "      <td>e</td>\n",
       "      <td>f</td>\n",
       "      <td>y</td>\n",
       "      <td>f</td>\n",
       "      <td>c</td>\n",
       "      <td>n</td>\n",
       "      <td>b</td>\n",
       "      <td>t</td>\n",
       "      <td>...</td>\n",
       "      <td>s</td>\n",
       "      <td>w</td>\n",
       "      <td>w</td>\n",
       "      <td>p</td>\n",
       "      <td>w</td>\n",
       "      <td>o</td>\n",
       "      <td>e</td>\n",
       "      <td>w</td>\n",
       "      <td>v</td>\n",
       "      <td>d</td>\n",
       "    </tr>\n",
       "    <tr>\n",
       "      <th>3348</th>\n",
       "      <td>x</td>\n",
       "      <td>f</td>\n",
       "      <td>g</td>\n",
       "      <td>f</td>\n",
       "      <td>f</td>\n",
       "      <td>f</td>\n",
       "      <td>c</td>\n",
       "      <td>b</td>\n",
       "      <td>h</td>\n",
       "      <td>e</td>\n",
       "      <td>...</td>\n",
       "      <td>k</td>\n",
       "      <td>n</td>\n",
       "      <td>b</td>\n",
       "      <td>p</td>\n",
       "      <td>w</td>\n",
       "      <td>o</td>\n",
       "      <td>l</td>\n",
       "      <td>h</td>\n",
       "      <td>y</td>\n",
       "      <td>p</td>\n",
       "    </tr>\n",
       "    <tr>\n",
       "      <th>2655</th>\n",
       "      <td>x</td>\n",
       "      <td>y</td>\n",
       "      <td>e</td>\n",
       "      <td>t</td>\n",
       "      <td>n</td>\n",
       "      <td>f</td>\n",
       "      <td>c</td>\n",
       "      <td>b</td>\n",
       "      <td>u</td>\n",
       "      <td>t</td>\n",
       "      <td>...</td>\n",
       "      <td>s</td>\n",
       "      <td>w</td>\n",
       "      <td>w</td>\n",
       "      <td>p</td>\n",
       "      <td>w</td>\n",
       "      <td>o</td>\n",
       "      <td>p</td>\n",
       "      <td>k</td>\n",
       "      <td>y</td>\n",
       "      <td>d</td>\n",
       "    </tr>\n",
       "    <tr>\n",
       "      <th>1841</th>\n",
       "      <td>x</td>\n",
       "      <td>y</td>\n",
       "      <td>g</td>\n",
       "      <td>t</td>\n",
       "      <td>n</td>\n",
       "      <td>f</td>\n",
       "      <td>c</td>\n",
       "      <td>b</td>\n",
       "      <td>p</td>\n",
       "      <td>t</td>\n",
       "      <td>...</td>\n",
       "      <td>s</td>\n",
       "      <td>w</td>\n",
       "      <td>p</td>\n",
       "      <td>p</td>\n",
       "      <td>w</td>\n",
       "      <td>o</td>\n",
       "      <td>p</td>\n",
       "      <td>k</td>\n",
       "      <td>v</td>\n",
       "      <td>d</td>\n",
       "    </tr>\n",
       "    <tr>\n",
       "      <th>4475</th>\n",
       "      <td>x</td>\n",
       "      <td>y</td>\n",
       "      <td>y</td>\n",
       "      <td>f</td>\n",
       "      <td>f</td>\n",
       "      <td>f</td>\n",
       "      <td>c</td>\n",
       "      <td>b</td>\n",
       "      <td>p</td>\n",
       "      <td>e</td>\n",
       "      <td>...</td>\n",
       "      <td>k</td>\n",
       "      <td>b</td>\n",
       "      <td>n</td>\n",
       "      <td>p</td>\n",
       "      <td>w</td>\n",
       "      <td>o</td>\n",
       "      <td>l</td>\n",
       "      <td>h</td>\n",
       "      <td>v</td>\n",
       "      <td>p</td>\n",
       "    </tr>\n",
       "  </tbody>\n",
       "</table>\n",
       "<p>6092 rows × 22 columns</p>\n",
       "</div>"
      ],
      "text/plain": [
       "      x  s  n  t p.1  f  c n.1  k  e  ... s.2  w w.1 p.2 w.2  o p.3 k.1 s.3  u\n",
       "6190  x  s  n  f   f  f  c   n  b  t  ...   k  p   w   p   w  o   e   w   v  l\n",
       "5988  x  y  n  f   s  f  c   n  b  t  ...   k  w   w   p   w  o   e   w   v  d\n",
       "6554  k  s  e  f   f  f  c   n  b  t  ...   k  w   p   p   w  o   e   w   v  p\n",
       "3131  f  y  g  t   n  f  c   b  p  t  ...   s  w   p   p   w  o   p   k   y  d\n",
       "3767  f  y  e  t   n  f  c   b  w  t  ...   s  w   p   p   w  o   p   n   y  d\n",
       "...  .. .. .. ..  .. .. ..  .. .. ..  ...  .. ..  ..  ..  .. ..  ..  ..  .. ..\n",
       "7059  x  s  e  f   y  f  c   n  b  t  ...   s  w   w   p   w  o   e   w   v  d\n",
       "3348  x  f  g  f   f  f  c   b  h  e  ...   k  n   b   p   w  o   l   h   y  p\n",
       "2655  x  y  e  t   n  f  c   b  u  t  ...   s  w   w   p   w  o   p   k   y  d\n",
       "1841  x  y  g  t   n  f  c   b  p  t  ...   s  w   p   p   w  o   p   k   v  d\n",
       "4475  x  y  y  f   f  f  c   b  p  e  ...   k  b   n   p   w  o   l   h   v  p\n",
       "\n",
       "[6092 rows x 22 columns]"
      ]
     },
     "execution_count": 26,
     "metadata": {},
     "output_type": "execute_result"
    }
   ],
   "source": [
    "train_x"
   ]
  },
  {
   "cell_type": "markdown",
   "id": "0d7ab7f4",
   "metadata": {},
   "source": [
    "## 이미지 분류 모델\n",
    "- Fashioin-mnist\n",
    "- 교차검증, 최적의 하이퍼 파라미터 설정, 새로운 데이터로 예측"
   ]
  },
  {
   "cell_type": "code",
   "execution_count": 34,
   "id": "808c80ca",
   "metadata": {},
   "outputs": [
    {
     "name": "stdout",
     "output_type": "stream",
     "text": [
      "Downloading data from https://storage.googleapis.com/tensorflow/tf-keras-datasets/train-labels-idx1-ubyte.gz\n",
      "29515/29515 [==============================] - 0s 1us/step\n",
      "Downloading data from https://storage.googleapis.com/tensorflow/tf-keras-datasets/train-images-idx3-ubyte.gz\n",
      "26421880/26421880 [==============================] - 8s 0us/step\n",
      "Downloading data from https://storage.googleapis.com/tensorflow/tf-keras-datasets/t10k-labels-idx1-ubyte.gz\n",
      "5148/5148 [==============================] - 0s 0s/step\n",
      "Downloading data from https://storage.googleapis.com/tensorflow/tf-keras-datasets/t10k-images-idx3-ubyte.gz\n",
      "4422102/4422102 [==============================] - 2s 0us/step\n"
     ]
    },
    {
     "data": {
      "text/plain": [
       "((array([[[0, 0, 0, ..., 0, 0, 0],\n",
       "          [0, 0, 0, ..., 0, 0, 0],\n",
       "          [0, 0, 0, ..., 0, 0, 0],\n",
       "          ...,\n",
       "          [0, 0, 0, ..., 0, 0, 0],\n",
       "          [0, 0, 0, ..., 0, 0, 0],\n",
       "          [0, 0, 0, ..., 0, 0, 0]],\n",
       "  \n",
       "         [[0, 0, 0, ..., 0, 0, 0],\n",
       "          [0, 0, 0, ..., 0, 0, 0],\n",
       "          [0, 0, 0, ..., 0, 0, 0],\n",
       "          ...,\n",
       "          [0, 0, 0, ..., 0, 0, 0],\n",
       "          [0, 0, 0, ..., 0, 0, 0],\n",
       "          [0, 0, 0, ..., 0, 0, 0]],\n",
       "  \n",
       "         [[0, 0, 0, ..., 0, 0, 0],\n",
       "          [0, 0, 0, ..., 0, 0, 0],\n",
       "          [0, 0, 0, ..., 0, 0, 0],\n",
       "          ...,\n",
       "          [0, 0, 0, ..., 0, 0, 0],\n",
       "          [0, 0, 0, ..., 0, 0, 0],\n",
       "          [0, 0, 0, ..., 0, 0, 0]],\n",
       "  \n",
       "         ...,\n",
       "  \n",
       "         [[0, 0, 0, ..., 0, 0, 0],\n",
       "          [0, 0, 0, ..., 0, 0, 0],\n",
       "          [0, 0, 0, ..., 0, 0, 0],\n",
       "          ...,\n",
       "          [0, 0, 0, ..., 0, 0, 0],\n",
       "          [0, 0, 0, ..., 0, 0, 0],\n",
       "          [0, 0, 0, ..., 0, 0, 0]],\n",
       "  \n",
       "         [[0, 0, 0, ..., 0, 0, 0],\n",
       "          [0, 0, 0, ..., 0, 0, 0],\n",
       "          [0, 0, 0, ..., 0, 0, 0],\n",
       "          ...,\n",
       "          [0, 0, 0, ..., 0, 0, 0],\n",
       "          [0, 0, 0, ..., 0, 0, 0],\n",
       "          [0, 0, 0, ..., 0, 0, 0]],\n",
       "  \n",
       "         [[0, 0, 0, ..., 0, 0, 0],\n",
       "          [0, 0, 0, ..., 0, 0, 0],\n",
       "          [0, 0, 0, ..., 0, 0, 0],\n",
       "          ...,\n",
       "          [0, 0, 0, ..., 0, 0, 0],\n",
       "          [0, 0, 0, ..., 0, 0, 0],\n",
       "          [0, 0, 0, ..., 0, 0, 0]]], dtype=uint8),\n",
       "  array([9, 0, 0, ..., 3, 0, 5], dtype=uint8)),\n",
       " (array([[[0, 0, 0, ..., 0, 0, 0],\n",
       "          [0, 0, 0, ..., 0, 0, 0],\n",
       "          [0, 0, 0, ..., 0, 0, 0],\n",
       "          ...,\n",
       "          [0, 0, 0, ..., 0, 0, 0],\n",
       "          [0, 0, 0, ..., 0, 0, 0],\n",
       "          [0, 0, 0, ..., 0, 0, 0]],\n",
       "  \n",
       "         [[0, 0, 0, ..., 0, 0, 0],\n",
       "          [0, 0, 0, ..., 0, 0, 0],\n",
       "          [0, 0, 0, ..., 0, 0, 0],\n",
       "          ...,\n",
       "          [0, 0, 0, ..., 0, 0, 0],\n",
       "          [0, 0, 0, ..., 0, 0, 0],\n",
       "          [0, 0, 0, ..., 0, 0, 0]],\n",
       "  \n",
       "         [[0, 0, 0, ..., 0, 0, 0],\n",
       "          [0, 0, 0, ..., 0, 0, 0],\n",
       "          [0, 0, 0, ..., 0, 0, 0],\n",
       "          ...,\n",
       "          [0, 0, 0, ..., 0, 0, 0],\n",
       "          [0, 0, 0, ..., 0, 0, 0],\n",
       "          [0, 0, 0, ..., 0, 0, 0]],\n",
       "  \n",
       "         ...,\n",
       "  \n",
       "         [[0, 0, 0, ..., 0, 0, 0],\n",
       "          [0, 0, 0, ..., 0, 0, 0],\n",
       "          [0, 0, 0, ..., 0, 0, 0],\n",
       "          ...,\n",
       "          [0, 0, 0, ..., 0, 0, 0],\n",
       "          [0, 0, 0, ..., 0, 0, 0],\n",
       "          [0, 0, 0, ..., 0, 0, 0]],\n",
       "  \n",
       "         [[0, 0, 0, ..., 0, 0, 0],\n",
       "          [0, 0, 0, ..., 0, 0, 0],\n",
       "          [0, 0, 0, ..., 0, 0, 0],\n",
       "          ...,\n",
       "          [0, 0, 0, ..., 0, 0, 0],\n",
       "          [0, 0, 0, ..., 0, 0, 0],\n",
       "          [0, 0, 0, ..., 0, 0, 0]],\n",
       "  \n",
       "         [[0, 0, 0, ..., 0, 0, 0],\n",
       "          [0, 0, 0, ..., 0, 0, 0],\n",
       "          [0, 0, 0, ..., 0, 0, 0],\n",
       "          ...,\n",
       "          [0, 0, 0, ..., 0, 0, 0],\n",
       "          [0, 0, 0, ..., 0, 0, 0],\n",
       "          [0, 0, 0, ..., 0, 0, 0]]], dtype=uint8),\n",
       "  array([9, 2, 1, ..., 8, 1, 5], dtype=uint8)))"
      ]
     },
     "execution_count": 34,
     "metadata": {},
     "output_type": "execute_result"
    }
   ],
   "source": [
    "import tensorflow as tf\n",
    "data = tf.keras.datasets.fashion_mnist.load_data()\n",
    "data"
   ]
  },
  {
   "cell_type": "code",
   "execution_count": 59,
   "id": "312c0c33",
   "metadata": {},
   "outputs": [],
   "source": [
    "train_x, train_y, test_x, test_y = data[0][0], data[0][1],data[1][0],data[1][1]"
   ]
  },
  {
   "cell_type": "code",
   "execution_count": 60,
   "id": "73852f14",
   "metadata": {},
   "outputs": [
    {
     "data": {
      "image/png": "[encoded data removed]",
      "text/plain": [
       "<Figure size 432x288 with 1 Axes>"
      ]
     },
     "metadata": {
      "needs_background": "light"
     },
     "output_type": "display_data"
    }
   ],
   "source": [
    "import matplotlib.pyplot as plt\n",
    "plt.imshow(train_x[0],cmap = 'gray')\n",
    "plt.show()"
   ]
  },
  {
   "cell_type": "code",
   "execution_count": 61,
   "id": "f836acd5",
   "metadata": {},
   "outputs": [
    {
     "data": {
      "image/png": "[encoded data removed]",
      "text/plain": [
       "<Figure size 432x288 with 1 Axes>"
      ]
     },
     "metadata": {
      "needs_background": "light"
     },
     "output_type": "display_data"
    }
   ],
   "source": [
    "plt.gray()\n",
    "plt.imshow(train_x[5])\n",
    "plt.show()"
   ]
  },
  {
   "cell_type": "code",
   "execution_count": 52,
   "id": "ff960cb0",
   "metadata": {},
   "outputs": [
    {
     "data": {
      "text/plain": [
       "28"
      ]
     },
     "execution_count": 52,
     "metadata": {},
     "output_type": "execute_result"
    }
   ],
   "source": [
    "len(train_x[0])"
   ]
  },
  {
   "cell_type": "code",
   "execution_count": null,
   "id": "e020a763",
   "metadata": {},
   "outputs": [],
   "source": []
  },
  {
   "cell_type": "code",
   "execution_count": 63,
   "id": "e5037e1a",
   "metadata": {},
   "outputs": [],
   "source": [
    "flat_train_x = train_x.reshape(-1,28**2)\n",
    "flat_test_x = test_x.reshape(-1,28**2)"
   ]
  },
  {
   "cell_type": "code",
   "execution_count": 72,
   "id": "be396c34",
   "metadata": {},
   "outputs": [],
   "source": [
    "np.random.seed(493)\n",
    "rand_ind = np.random.choice(len(flat_train_x),size = 500,replace = False)\n",
    "sample_train_x = flat_train_x[rand_ind]\n",
    "sample_train_y = train_y[rand_ind]"
   ]
  },
  {
   "cell_type": "code",
   "execution_count": 73,
   "id": "124669bf",
   "metadata": {},
   "outputs": [
    {
     "data": {
      "text/plain": [
       "array([0, 1, 2, 3, 4, 5, 6, 7, 8, 9], dtype=uint8)"
      ]
     },
     "execution_count": 73,
     "metadata": {},
     "output_type": "execute_result"
    }
   ],
   "source": [
    "np.unique(sample_train_y)"
   ]
  },
  {
   "cell_type": "code",
   "execution_count": 74,
   "id": "6f36b401",
   "metadata": {},
   "outputs": [
    {
     "name": "stdout",
     "output_type": "stream",
     "text": [
      "Fitting 5 folds for each of 16 candidates, totalling 80 fits\n",
      "[CV] END criterion=gini, max_depth=15, max_features=20, min_samples_split=10, random_state=493; total time=   0.6s\n",
      "[CV] END criterion=gini, max_depth=15, max_features=20, min_samples_split=10, random_state=493; total time=   1.2s\n",
      "[CV] END criterion=gini, max_depth=15, max_features=20, min_samples_split=10, random_state=493; total time=   0.6s\n",
      "[CV] END criterion=gini, max_depth=15, max_features=20, min_samples_split=10, random_state=493; total time=   0.5s\n",
      "[CV] END criterion=gini, max_depth=15, max_features=20, min_samples_split=10, random_state=493; total time=   0.6s\n",
      "[CV] END criterion=gini, max_depth=15, max_features=20, min_samples_split=15, random_state=493; total time=   0.7s\n",
      "[CV] END criterion=gini, max_depth=15, max_features=20, min_samples_split=15, random_state=493; total time=   0.5s\n",
      "[CV] END criterion=gini, max_depth=15, max_features=20, min_samples_split=15, random_state=493; total time=   0.5s\n",
      "[CV] END criterion=gini, max_depth=15, max_features=20, min_samples_split=15, random_state=493; total time=   0.5s\n",
      "[CV] END criterion=gini, max_depth=15, max_features=20, min_samples_split=15, random_state=493; total time=   0.6s\n",
      "[CV] END criterion=gini, max_depth=15, max_features=25, min_samples_split=10, random_state=493; total time=   0.8s\n",
      "[CV] END criterion=gini, max_depth=15, max_features=25, min_samples_split=10, random_state=493; total time=   0.7s\n",
      "[CV] END criterion=gini, max_depth=15, max_features=25, min_samples_split=10, random_state=493; total time=   0.6s\n",
      "[CV] END criterion=gini, max_depth=15, max_features=25, min_samples_split=10, random_state=493; total time=   0.7s\n",
      "[CV] END criterion=gini, max_depth=15, max_features=25, min_samples_split=10, random_state=493; total time=   0.6s\n",
      "[CV] END criterion=gini, max_depth=15, max_features=25, min_samples_split=15, random_state=493; total time=   0.6s\n",
      "[CV] END criterion=gini, max_depth=15, max_features=25, min_samples_split=15, random_state=493; total time=   0.6s\n",
      "[CV] END criterion=gini, max_depth=15, max_features=25, min_samples_split=15, random_state=493; total time=   0.6s\n",
      "[CV] END criterion=gini, max_depth=15, max_features=25, min_samples_split=15, random_state=493; total time=   0.7s\n",
      "[CV] END criterion=gini, max_depth=15, max_features=25, min_samples_split=15, random_state=493; total time=   0.6s\n",
      "[CV] END criterion=gini, max_depth=20, max_features=20, min_samples_split=10, random_state=493; total time=   0.5s\n",
      "[CV] END criterion=gini, max_depth=20, max_features=20, min_samples_split=10, random_state=493; total time=   0.5s\n",
      "[CV] END criterion=gini, max_depth=20, max_features=20, min_samples_split=10, random_state=493; total time=   0.6s\n",
      "[CV] END criterion=gini, max_depth=20, max_features=20, min_samples_split=10, random_state=493; total time=   0.6s\n",
      "[CV] END criterion=gini, max_depth=20, max_features=20, min_samples_split=10, random_state=493; total time=   0.7s\n",
      "[CV] END criterion=gini, max_depth=20, max_features=20, min_samples_split=15, random_state=493; total time=   0.6s\n",
      "[CV] END criterion=gini, max_depth=20, max_features=20, min_samples_split=15, random_state=493; total time=   0.6s\n",
      "[CV] END criterion=gini, max_depth=20, max_features=20, min_samples_split=15, random_state=493; total time=   0.6s\n",
      "[CV] END criterion=gini, max_depth=20, max_features=20, min_samples_split=15, random_state=493; total time=   0.7s\n",
      "[CV] END criterion=gini, max_depth=20, max_features=20, min_samples_split=15, random_state=493; total time=   0.5s\n",
      "[CV] END criterion=gini, max_depth=20, max_features=25, min_samples_split=10, random_state=493; total time=   0.6s\n",
      "[CV] END criterion=gini, max_depth=20, max_features=25, min_samples_split=10, random_state=493; total time=   0.6s\n",
      "[CV] END criterion=gini, max_depth=20, max_features=25, min_samples_split=10, random_state=493; total time=   0.6s\n",
      "[CV] END criterion=gini, max_depth=20, max_features=25, min_samples_split=10, random_state=493; total time=   0.6s\n",
      "[CV] END criterion=gini, max_depth=20, max_features=25, min_samples_split=10, random_state=493; total time=   0.7s\n",
      "[CV] END criterion=gini, max_depth=20, max_features=25, min_samples_split=15, random_state=493; total time=   0.6s\n",
      "[CV] END criterion=gini, max_depth=20, max_features=25, min_samples_split=15, random_state=493; total time=   0.6s\n",
      "[CV] END criterion=gini, max_depth=20, max_features=25, min_samples_split=15, random_state=493; total time=   0.6s\n",
      "[CV] END criterion=gini, max_depth=20, max_features=25, min_samples_split=15, random_state=493; total time=   0.6s\n",
      "[CV] END criterion=gini, max_depth=20, max_features=25, min_samples_split=15, random_state=493; total time=   0.6s\n",
      "[CV] END criterion=entropy, max_depth=15, max_features=20, min_samples_split=10, random_state=493; total time=   1.2s\n",
      "[CV] END criterion=entropy, max_depth=15, max_features=20, min_samples_split=10, random_state=493; total time=   1.2s\n",
      "[CV] END criterion=entropy, max_depth=15, max_features=20, min_samples_split=10, random_state=493; total time=   1.2s\n",
      "[CV] END criterion=entropy, max_depth=15, max_features=20, min_samples_split=10, random_state=493; total time=   1.2s\n",
      "[CV] END criterion=entropy, max_depth=15, max_features=20, min_samples_split=10, random_state=493; total time=   1.6s\n",
      "[CV] END criterion=entropy, max_depth=15, max_features=20, min_samples_split=15, random_state=493; total time=   1.0s\n",
      "[CV] END criterion=entropy, max_depth=15, max_features=20, min_samples_split=15, random_state=493; total time=   1.0s\n",
      "[CV] END criterion=entropy, max_depth=15, max_features=20, min_samples_split=15, random_state=493; total time=   0.9s\n",
      "[CV] END criterion=entropy, max_depth=15, max_features=20, min_samples_split=15, random_state=493; total time=   1.0s\n",
      "[CV] END criterion=entropy, max_depth=15, max_features=20, min_samples_split=15, random_state=493; total time=   1.0s\n",
      "[CV] END criterion=entropy, max_depth=15, max_features=25, min_samples_split=10, random_state=493; total time=   1.1s\n",
      "[CV] END criterion=entropy, max_depth=15, max_features=25, min_samples_split=10, random_state=493; total time=   1.1s\n",
      "[CV] END criterion=entropy, max_depth=15, max_features=25, min_samples_split=10, random_state=493; total time=   1.2s\n",
      "[CV] END criterion=entropy, max_depth=15, max_features=25, min_samples_split=10, random_state=493; total time=   1.2s\n",
      "[CV] END criterion=entropy, max_depth=15, max_features=25, min_samples_split=10, random_state=493; total time=   1.2s\n",
      "[CV] END criterion=entropy, max_depth=15, max_features=25, min_samples_split=15, random_state=493; total time=   1.1s\n",
      "[CV] END criterion=entropy, max_depth=15, max_features=25, min_samples_split=15, random_state=493; total time=   1.2s\n",
      "[CV] END criterion=entropy, max_depth=15, max_features=25, min_samples_split=15, random_state=493; total time=   1.1s\n",
      "[CV] END criterion=entropy, max_depth=15, max_features=25, min_samples_split=15, random_state=493; total time=   1.1s\n",
      "[CV] END criterion=entropy, max_depth=15, max_features=25, min_samples_split=15, random_state=493; total time=   1.2s\n",
      "[CV] END criterion=entropy, max_depth=20, max_features=20, min_samples_split=10, random_state=493; total time=   1.0s\n",
      "[CV] END criterion=entropy, max_depth=20, max_features=20, min_samples_split=10, random_state=493; total time=   1.0s\n",
      "[CV] END criterion=entropy, max_depth=20, max_features=20, min_samples_split=10, random_state=493; total time=   1.2s\n",
      "[CV] END criterion=entropy, max_depth=20, max_features=20, min_samples_split=10, random_state=493; total time=   1.0s\n",
      "[CV] END criterion=entropy, max_depth=20, max_features=20, min_samples_split=10, random_state=493; total time=   1.1s\n",
      "[CV] END criterion=entropy, max_depth=20, max_features=20, min_samples_split=15, random_state=493; total time=   0.9s\n",
      "[CV] END criterion=entropy, max_depth=20, max_features=20, min_samples_split=15, random_state=493; total time=   0.9s\n",
      "[CV] END criterion=entropy, max_depth=20, max_features=20, min_samples_split=15, random_state=493; total time=   1.0s\n",
      "[CV] END criterion=entropy, max_depth=20, max_features=20, min_samples_split=15, random_state=493; total time=   0.9s\n",
      "[CV] END criterion=entropy, max_depth=20, max_features=20, min_samples_split=15, random_state=493; total time=   1.3s\n"
     ]
    },
    {
     "name": "stdout",
     "output_type": "stream",
     "text": [
      "[CV] END criterion=entropy, max_depth=20, max_features=25, min_samples_split=10, random_state=493; total time=   1.4s\n",
      "[CV] END criterion=entropy, max_depth=20, max_features=25, min_samples_split=10, random_state=493; total time=   1.5s\n",
      "[CV] END criterion=entropy, max_depth=20, max_features=25, min_samples_split=10, random_state=493; total time=   1.4s\n",
      "[CV] END criterion=entropy, max_depth=20, max_features=25, min_samples_split=10, random_state=493; total time=   1.5s\n",
      "[CV] END criterion=entropy, max_depth=20, max_features=25, min_samples_split=10, random_state=493; total time=   1.2s\n",
      "[CV] END criterion=entropy, max_depth=20, max_features=25, min_samples_split=15, random_state=493; total time=   1.3s\n",
      "[CV] END criterion=entropy, max_depth=20, max_features=25, min_samples_split=15, random_state=493; total time=   1.3s\n",
      "[CV] END criterion=entropy, max_depth=20, max_features=25, min_samples_split=15, random_state=493; total time=   1.3s\n",
      "[CV] END criterion=entropy, max_depth=20, max_features=25, min_samples_split=15, random_state=493; total time=   1.5s\n",
      "[CV] END criterion=entropy, max_depth=20, max_features=25, min_samples_split=15, random_state=493; total time=   1.3s\n"
     ]
    },
    {
     "data": {
      "text/plain": [
       "GridSearchCV(cv=5, estimator=RandomForestClassifier(),\n",
       "             param_grid={'criterion': ['gini', 'entropy'],\n",
       "                         'max_depth': [15, 20], 'max_features': [20, 25],\n",
       "                         'min_samples_split': [10, 15], 'random_state': [493]},\n",
       "             return_train_score=True, verbose=2)"
      ]
     },
     "execution_count": 74,
     "metadata": {},
     "output_type": "execute_result"
    }
   ],
   "source": [
    "from sklearn.model_selection import GridSearchCV\n",
    "from sklearn.ensemble import RandomForestClassifier\n",
    "\n",
    "param_grid = {'criterion':['gini', 'entropy'],\n",
    "              'max_depth':[15,20],\n",
    "              'min_samples_split':[10,15],\n",
    "              'max_features':[20, 25],\n",
    "              'random_state':[493]\n",
    "             }\n",
    "rf = RandomForestClassifier()\n",
    "gs = GridSearchCV(rf,verbose=1, param_grid=param_grid,cv = 5, return_train_score=True)\n",
    "gs.fit(sample_train_x, sample_train_y)\n",
    "\n"
   ]
  },
  {
   "cell_type": "code",
   "execution_count": 75,
   "id": "9247a702",
   "metadata": {},
   "outputs": [
    {
     "data": {
      "text/plain": [
       "RandomForestClassifier(max_depth=15, max_features=20, min_samples_split=10,\n",
       "                       random_state=493)"
      ]
     },
     "execution_count": 75,
     "metadata": {},
     "output_type": "execute_result"
    }
   ],
   "source": [
    "gs.best_estimator_"
   ]
  },
  {
   "cell_type": "code",
   "execution_count": 76,
   "id": "d0d4c006",
   "metadata": {
    "scrolled": true
   },
   "outputs": [
    {
     "name": "stdout",
     "output_type": "stream",
     "text": [
      "Fitting 5 folds for each of 36 candidates, totalling 180 fits\n",
      "[CV] END criterion=gini, max_depth=9, max_features=5, min_samples_split=5, random_state=493; total time=   0.5s\n",
      "[CV] END criterion=gini, max_depth=9, max_features=5, min_samples_split=5, random_state=493; total time=   0.6s\n",
      "[CV] END criterion=gini, max_depth=9, max_features=5, min_samples_split=5, random_state=493; total time=   0.6s\n",
      "[CV] END criterion=gini, max_depth=9, max_features=5, min_samples_split=5, random_state=493; total time=   0.4s\n",
      "[CV] END criterion=gini, max_depth=9, max_features=5, min_samples_split=5, random_state=493; total time=   0.4s\n",
      "[CV] END criterion=gini, max_depth=9, max_features=5, min_samples_split=7, random_state=493; total time=   0.4s\n",
      "[CV] END criterion=gini, max_depth=9, max_features=5, min_samples_split=7, random_state=493; total time=   0.4s\n",
      "[CV] END criterion=gini, max_depth=9, max_features=5, min_samples_split=7, random_state=493; total time=   0.3s\n",
      "[CV] END criterion=gini, max_depth=9, max_features=5, min_samples_split=7, random_state=493; total time=   0.4s\n",
      "[CV] END criterion=gini, max_depth=9, max_features=5, min_samples_split=7, random_state=493; total time=   0.3s\n",
      "[CV] END criterion=gini, max_depth=9, max_features=7, min_samples_split=5, random_state=493; total time=   0.5s\n",
      "[CV] END criterion=gini, max_depth=9, max_features=7, min_samples_split=5, random_state=493; total time=   0.6s\n",
      "[CV] END criterion=gini, max_depth=9, max_features=7, min_samples_split=5, random_state=493; total time=   0.4s\n",
      "[CV] END criterion=gini, max_depth=9, max_features=7, min_samples_split=5, random_state=493; total time=   0.4s\n",
      "[CV] END criterion=gini, max_depth=9, max_features=7, min_samples_split=5, random_state=493; total time=   0.4s\n",
      "[CV] END criterion=gini, max_depth=9, max_features=7, min_samples_split=7, random_state=493; total time=   0.5s\n",
      "[CV] END criterion=gini, max_depth=9, max_features=7, min_samples_split=7, random_state=493; total time=   0.4s\n",
      "[CV] END criterion=gini, max_depth=9, max_features=7, min_samples_split=7, random_state=493; total time=   0.5s\n",
      "[CV] END criterion=gini, max_depth=9, max_features=7, min_samples_split=7, random_state=493; total time=   0.4s\n",
      "[CV] END criterion=gini, max_depth=9, max_features=7, min_samples_split=7, random_state=493; total time=   0.4s\n",
      "[CV] END criterion=gini, max_depth=9, max_features=10, min_samples_split=5, random_state=493; total time=   0.4s\n",
      "[CV] END criterion=gini, max_depth=9, max_features=10, min_samples_split=5, random_state=493; total time=   0.4s\n",
      "[CV] END criterion=gini, max_depth=9, max_features=10, min_samples_split=5, random_state=493; total time=   0.5s\n",
      "[CV] END criterion=gini, max_depth=9, max_features=10, min_samples_split=5, random_state=493; total time=   0.4s\n",
      "[CV] END criterion=gini, max_depth=9, max_features=10, min_samples_split=5, random_state=493; total time=   0.4s\n",
      "[CV] END criterion=gini, max_depth=9, max_features=10, min_samples_split=7, random_state=493; total time=   0.4s\n",
      "[CV] END criterion=gini, max_depth=9, max_features=10, min_samples_split=7, random_state=493; total time=   0.4s\n",
      "[CV] END criterion=gini, max_depth=9, max_features=10, min_samples_split=7, random_state=493; total time=   0.4s\n",
      "[CV] END criterion=gini, max_depth=9, max_features=10, min_samples_split=7, random_state=493; total time=   0.5s\n",
      "[CV] END criterion=gini, max_depth=9, max_features=10, min_samples_split=7, random_state=493; total time=   0.4s\n",
      "[CV] END criterion=gini, max_depth=11, max_features=5, min_samples_split=5, random_state=493; total time=   0.3s\n",
      "[CV] END criterion=gini, max_depth=11, max_features=5, min_samples_split=5, random_state=493; total time=   0.3s\n",
      "[CV] END criterion=gini, max_depth=11, max_features=5, min_samples_split=5, random_state=493; total time=   0.3s\n",
      "[CV] END criterion=gini, max_depth=11, max_features=5, min_samples_split=5, random_state=493; total time=   0.3s\n",
      "[CV] END criterion=gini, max_depth=11, max_features=5, min_samples_split=5, random_state=493; total time=   0.3s\n",
      "[CV] END criterion=gini, max_depth=11, max_features=5, min_samples_split=7, random_state=493; total time=   0.4s\n",
      "[CV] END criterion=gini, max_depth=11, max_features=5, min_samples_split=7, random_state=493; total time=   0.3s\n",
      "[CV] END criterion=gini, max_depth=11, max_features=5, min_samples_split=7, random_state=493; total time=   0.3s\n",
      "[CV] END criterion=gini, max_depth=11, max_features=5, min_samples_split=7, random_state=493; total time=   0.3s\n",
      "[CV] END criterion=gini, max_depth=11, max_features=5, min_samples_split=7, random_state=493; total time=   0.3s\n",
      "[CV] END criterion=gini, max_depth=11, max_features=7, min_samples_split=5, random_state=493; total time=   0.3s\n",
      "[CV] END criterion=gini, max_depth=11, max_features=7, min_samples_split=5, random_state=493; total time=   0.4s\n",
      "[CV] END criterion=gini, max_depth=11, max_features=7, min_samples_split=5, random_state=493; total time=   0.4s\n",
      "[CV] END criterion=gini, max_depth=11, max_features=7, min_samples_split=5, random_state=493; total time=   0.3s\n",
      "[CV] END criterion=gini, max_depth=11, max_features=7, min_samples_split=5, random_state=493; total time=   0.3s\n",
      "[CV] END criterion=gini, max_depth=11, max_features=7, min_samples_split=7, random_state=493; total time=   0.3s\n",
      "[CV] END criterion=gini, max_depth=11, max_features=7, min_samples_split=7, random_state=493; total time=   0.3s\n",
      "[CV] END criterion=gini, max_depth=11, max_features=7, min_samples_split=7, random_state=493; total time=   0.3s\n",
      "[CV] END criterion=gini, max_depth=11, max_features=7, min_samples_split=7, random_state=493; total time=   0.4s\n",
      "[CV] END criterion=gini, max_depth=11, max_features=7, min_samples_split=7, random_state=493; total time=   0.3s\n",
      "[CV] END criterion=gini, max_depth=11, max_features=10, min_samples_split=5, random_state=493; total time=   0.4s\n",
      "[CV] END criterion=gini, max_depth=11, max_features=10, min_samples_split=5, random_state=493; total time=   0.5s\n",
      "[CV] END criterion=gini, max_depth=11, max_features=10, min_samples_split=5, random_state=493; total time=   0.6s\n",
      "[CV] END criterion=gini, max_depth=11, max_features=10, min_samples_split=5, random_state=493; total time=   0.7s\n",
      "[CV] END criterion=gini, max_depth=11, max_features=10, min_samples_split=5, random_state=493; total time=   0.4s\n",
      "[CV] END criterion=gini, max_depth=11, max_features=10, min_samples_split=7, random_state=493; total time=   0.4s\n",
      "[CV] END criterion=gini, max_depth=11, max_features=10, min_samples_split=7, random_state=493; total time=   0.4s\n",
      "[CV] END criterion=gini, max_depth=11, max_features=10, min_samples_split=7, random_state=493; total time=   0.4s\n",
      "[CV] END criterion=gini, max_depth=11, max_features=10, min_samples_split=7, random_state=493; total time=   0.5s\n",
      "[CV] END criterion=gini, max_depth=11, max_features=10, min_samples_split=7, random_state=493; total time=   0.5s\n",
      "[CV] END criterion=gini, max_depth=13, max_features=5, min_samples_split=5, random_state=493; total time=   0.4s\n",
      "[CV] END criterion=gini, max_depth=13, max_features=5, min_samples_split=5, random_state=493; total time=   0.4s\n",
      "[CV] END criterion=gini, max_depth=13, max_features=5, min_samples_split=5, random_state=493; total time=   0.3s\n",
      "[CV] END criterion=gini, max_depth=13, max_features=5, min_samples_split=5, random_state=493; total time=   0.3s\n",
      "[CV] END criterion=gini, max_depth=13, max_features=5, min_samples_split=5, random_state=493; total time=   0.3s\n",
      "[CV] END criterion=gini, max_depth=13, max_features=5, min_samples_split=7, random_state=493; total time=   0.5s\n",
      "[CV] END criterion=gini, max_depth=13, max_features=5, min_samples_split=7, random_state=493; total time=   0.3s\n",
      "[CV] END criterion=gini, max_depth=13, max_features=5, min_samples_split=7, random_state=493; total time=   0.4s\n",
      "[CV] END criterion=gini, max_depth=13, max_features=5, min_samples_split=7, random_state=493; total time=   0.3s\n",
      "[CV] END criterion=gini, max_depth=13, max_features=5, min_samples_split=7, random_state=493; total time=   0.4s\n",
      "[CV] END criterion=gini, max_depth=13, max_features=7, min_samples_split=5, random_state=493; total time=   0.4s\n",
      "[CV] END criterion=gini, max_depth=13, max_features=7, min_samples_split=5, random_state=493; total time=   0.5s\n",
      "[CV] END criterion=gini, max_depth=13, max_features=7, min_samples_split=5, random_state=493; total time=   0.4s\n"
     ]
    },
    {
     "name": "stdout",
     "output_type": "stream",
     "text": [
      "[CV] END criterion=gini, max_depth=13, max_features=7, min_samples_split=5, random_state=493; total time=   0.4s\n",
      "[CV] END criterion=gini, max_depth=13, max_features=7, min_samples_split=5, random_state=493; total time=   0.4s\n",
      "[CV] END criterion=gini, max_depth=13, max_features=7, min_samples_split=7, random_state=493; total time=   0.3s\n",
      "[CV] END criterion=gini, max_depth=13, max_features=7, min_samples_split=7, random_state=493; total time=   0.3s\n",
      "[CV] END criterion=gini, max_depth=13, max_features=7, min_samples_split=7, random_state=493; total time=   0.5s\n",
      "[CV] END criterion=gini, max_depth=13, max_features=7, min_samples_split=7, random_state=493; total time=   0.4s\n",
      "[CV] END criterion=gini, max_depth=13, max_features=7, min_samples_split=7, random_state=493; total time=   0.4s\n",
      "[CV] END criterion=gini, max_depth=13, max_features=10, min_samples_split=5, random_state=493; total time=   0.4s\n",
      "[CV] END criterion=gini, max_depth=13, max_features=10, min_samples_split=5, random_state=493; total time=   0.4s\n",
      "[CV] END criterion=gini, max_depth=13, max_features=10, min_samples_split=5, random_state=493; total time=   0.4s\n",
      "[CV] END criterion=gini, max_depth=13, max_features=10, min_samples_split=5, random_state=493; total time=   0.7s\n",
      "[CV] END criterion=gini, max_depth=13, max_features=10, min_samples_split=5, random_state=493; total time=   0.5s\n",
      "[CV] END criterion=gini, max_depth=13, max_features=10, min_samples_split=7, random_state=493; total time=   0.4s\n",
      "[CV] END criterion=gini, max_depth=13, max_features=10, min_samples_split=7, random_state=493; total time=   0.5s\n",
      "[CV] END criterion=gini, max_depth=13, max_features=10, min_samples_split=7, random_state=493; total time=   0.8s\n",
      "[CV] END criterion=gini, max_depth=13, max_features=10, min_samples_split=7, random_state=493; total time=   0.4s\n",
      "[CV] END criterion=gini, max_depth=13, max_features=10, min_samples_split=7, random_state=493; total time=   0.5s\n",
      "[CV] END criterion=entropy, max_depth=9, max_features=5, min_samples_split=5, random_state=493; total time=   0.5s\n",
      "[CV] END criterion=entropy, max_depth=9, max_features=5, min_samples_split=5, random_state=493; total time=   0.5s\n",
      "[CV] END criterion=entropy, max_depth=9, max_features=5, min_samples_split=5, random_state=493; total time=   0.5s\n",
      "[CV] END criterion=entropy, max_depth=9, max_features=5, min_samples_split=5, random_state=493; total time=   0.4s\n",
      "[CV] END criterion=entropy, max_depth=9, max_features=5, min_samples_split=5, random_state=493; total time=   0.4s\n",
      "[CV] END criterion=entropy, max_depth=9, max_features=5, min_samples_split=7, random_state=493; total time=   0.4s\n",
      "[CV] END criterion=entropy, max_depth=9, max_features=5, min_samples_split=7, random_state=493; total time=   0.4s\n",
      "[CV] END criterion=entropy, max_depth=9, max_features=5, min_samples_split=7, random_state=493; total time=   0.5s\n",
      "[CV] END criterion=entropy, max_depth=9, max_features=5, min_samples_split=7, random_state=493; total time=   0.6s\n",
      "[CV] END criterion=entropy, max_depth=9, max_features=5, min_samples_split=7, random_state=493; total time=   0.5s\n",
      "[CV] END criterion=entropy, max_depth=9, max_features=7, min_samples_split=5, random_state=493; total time=   0.5s\n",
      "[CV] END criterion=entropy, max_depth=9, max_features=7, min_samples_split=5, random_state=493; total time=   0.6s\n",
      "[CV] END criterion=entropy, max_depth=9, max_features=7, min_samples_split=5, random_state=493; total time=   0.7s\n",
      "[CV] END criterion=entropy, max_depth=9, max_features=7, min_samples_split=5, random_state=493; total time=   0.6s\n",
      "[CV] END criterion=entropy, max_depth=9, max_features=7, min_samples_split=5, random_state=493; total time=   0.6s\n",
      "[CV] END criterion=entropy, max_depth=9, max_features=7, min_samples_split=7, random_state=493; total time=   0.6s\n",
      "[CV] END criterion=entropy, max_depth=9, max_features=7, min_samples_split=7, random_state=493; total time=   0.7s\n",
      "[CV] END criterion=entropy, max_depth=9, max_features=7, min_samples_split=7, random_state=493; total time=   0.5s\n",
      "[CV] END criterion=entropy, max_depth=9, max_features=7, min_samples_split=7, random_state=493; total time=   0.5s\n",
      "[CV] END criterion=entropy, max_depth=9, max_features=7, min_samples_split=7, random_state=493; total time=   0.5s\n",
      "[CV] END criterion=entropy, max_depth=9, max_features=10, min_samples_split=5, random_state=493; total time=   0.6s\n",
      "[CV] END criterion=entropy, max_depth=9, max_features=10, min_samples_split=5, random_state=493; total time=   0.6s\n",
      "[CV] END criterion=entropy, max_depth=9, max_features=10, min_samples_split=5, random_state=493; total time=   0.7s\n",
      "[CV] END criterion=entropy, max_depth=9, max_features=10, min_samples_split=5, random_state=493; total time=   0.6s\n",
      "[CV] END criterion=entropy, max_depth=9, max_features=10, min_samples_split=5, random_state=493; total time=   0.7s\n",
      "[CV] END criterion=entropy, max_depth=9, max_features=10, min_samples_split=7, random_state=493; total time=   0.6s\n",
      "[CV] END criterion=entropy, max_depth=9, max_features=10, min_samples_split=7, random_state=493; total time=   0.6s\n",
      "[CV] END criterion=entropy, max_depth=9, max_features=10, min_samples_split=7, random_state=493; total time=   0.6s\n",
      "[CV] END criterion=entropy, max_depth=9, max_features=10, min_samples_split=7, random_state=493; total time=   0.6s\n",
      "[CV] END criterion=entropy, max_depth=9, max_features=10, min_samples_split=7, random_state=493; total time=   0.7s\n",
      "[CV] END criterion=entropy, max_depth=11, max_features=5, min_samples_split=5, random_state=493; total time=   0.4s\n",
      "[CV] END criterion=entropy, max_depth=11, max_features=5, min_samples_split=5, random_state=493; total time=   0.4s\n",
      "[CV] END criterion=entropy, max_depth=11, max_features=5, min_samples_split=5, random_state=493; total time=   0.4s\n",
      "[CV] END criterion=entropy, max_depth=11, max_features=5, min_samples_split=5, random_state=493; total time=   0.4s\n",
      "[CV] END criterion=entropy, max_depth=11, max_features=5, min_samples_split=5, random_state=493; total time=   0.5s\n",
      "[CV] END criterion=entropy, max_depth=11, max_features=5, min_samples_split=7, random_state=493; total time=   0.4s\n",
      "[CV] END criterion=entropy, max_depth=11, max_features=5, min_samples_split=7, random_state=493; total time=   0.4s\n",
      "[CV] END criterion=entropy, max_depth=11, max_features=5, min_samples_split=7, random_state=493; total time=   0.4s\n",
      "[CV] END criterion=entropy, max_depth=11, max_features=5, min_samples_split=7, random_state=493; total time=   0.4s\n",
      "[CV] END criterion=entropy, max_depth=11, max_features=5, min_samples_split=7, random_state=493; total time=   0.5s\n",
      "[CV] END criterion=entropy, max_depth=11, max_features=7, min_samples_split=5, random_state=493; total time=   0.5s\n",
      "[CV] END criterion=entropy, max_depth=11, max_features=7, min_samples_split=5, random_state=493; total time=   0.5s\n",
      "[CV] END criterion=entropy, max_depth=11, max_features=7, min_samples_split=5, random_state=493; total time=   0.5s\n",
      "[CV] END criterion=entropy, max_depth=11, max_features=7, min_samples_split=5, random_state=493; total time=   0.5s\n",
      "[CV] END criterion=entropy, max_depth=11, max_features=7, min_samples_split=5, random_state=493; total time=   0.6s\n",
      "[CV] END criterion=entropy, max_depth=11, max_features=7, min_samples_split=7, random_state=493; total time=   0.5s\n",
      "[CV] END criterion=entropy, max_depth=11, max_features=7, min_samples_split=7, random_state=493; total time=   0.5s\n",
      "[CV] END criterion=entropy, max_depth=11, max_features=7, min_samples_split=7, random_state=493; total time=   0.5s\n",
      "[CV] END criterion=entropy, max_depth=11, max_features=7, min_samples_split=7, random_state=493; total time=   0.5s\n",
      "[CV] END criterion=entropy, max_depth=11, max_features=7, min_samples_split=7, random_state=493; total time=   0.5s\n",
      "[CV] END criterion=entropy, max_depth=11, max_features=10, min_samples_split=5, random_state=493; total time=   0.9s\n",
      "[CV] END criterion=entropy, max_depth=11, max_features=10, min_samples_split=5, random_state=493; total time=   0.7s\n",
      "[CV] END criterion=entropy, max_depth=11, max_features=10, min_samples_split=5, random_state=493; total time=   0.8s\n",
      "[CV] END criterion=entropy, max_depth=11, max_features=10, min_samples_split=5, random_state=493; total time=   0.6s\n",
      "[CV] END criterion=entropy, max_depth=11, max_features=10, min_samples_split=5, random_state=493; total time=   0.6s\n"
     ]
    },
    {
     "name": "stdout",
     "output_type": "stream",
     "text": [
      "[CV] END criterion=entropy, max_depth=11, max_features=10, min_samples_split=7, random_state=493; total time=   0.6s\n",
      "[CV] END criterion=entropy, max_depth=11, max_features=10, min_samples_split=7, random_state=493; total time=   0.7s\n",
      "[CV] END criterion=entropy, max_depth=11, max_features=10, min_samples_split=7, random_state=493; total time=   0.6s\n",
      "[CV] END criterion=entropy, max_depth=11, max_features=10, min_samples_split=7, random_state=493; total time=   0.6s\n",
      "[CV] END criterion=entropy, max_depth=11, max_features=10, min_samples_split=7, random_state=493; total time=   0.6s\n",
      "[CV] END criterion=entropy, max_depth=13, max_features=5, min_samples_split=5, random_state=493; total time=   0.4s\n",
      "[CV] END criterion=entropy, max_depth=13, max_features=5, min_samples_split=5, random_state=493; total time=   0.5s\n",
      "[CV] END criterion=entropy, max_depth=13, max_features=5, min_samples_split=5, random_state=493; total time=   0.4s\n",
      "[CV] END criterion=entropy, max_depth=13, max_features=5, min_samples_split=5, random_state=493; total time=   0.4s\n",
      "[CV] END criterion=entropy, max_depth=13, max_features=5, min_samples_split=5, random_state=493; total time=   0.4s\n",
      "[CV] END criterion=entropy, max_depth=13, max_features=5, min_samples_split=7, random_state=493; total time=   0.4s\n",
      "[CV] END criterion=entropy, max_depth=13, max_features=5, min_samples_split=7, random_state=493; total time=   0.5s\n",
      "[CV] END criterion=entropy, max_depth=13, max_features=5, min_samples_split=7, random_state=493; total time=   0.5s\n",
      "[CV] END criterion=entropy, max_depth=13, max_features=5, min_samples_split=7, random_state=493; total time=   0.4s\n",
      "[CV] END criterion=entropy, max_depth=13, max_features=5, min_samples_split=7, random_state=493; total time=   0.4s\n",
      "[CV] END criterion=entropy, max_depth=13, max_features=7, min_samples_split=5, random_state=493; total time=   0.5s\n",
      "[CV] END criterion=entropy, max_depth=13, max_features=7, min_samples_split=5, random_state=493; total time=   0.8s\n",
      "[CV] END criterion=entropy, max_depth=13, max_features=7, min_samples_split=5, random_state=493; total time=   0.6s\n",
      "[CV] END criterion=entropy, max_depth=13, max_features=7, min_samples_split=5, random_state=493; total time=   0.6s\n",
      "[CV] END criterion=entropy, max_depth=13, max_features=7, min_samples_split=5, random_state=493; total time=   0.5s\n",
      "[CV] END criterion=entropy, max_depth=13, max_features=7, min_samples_split=7, random_state=493; total time=   0.6s\n",
      "[CV] END criterion=entropy, max_depth=13, max_features=7, min_samples_split=7, random_state=493; total time=   0.5s\n",
      "[CV] END criterion=entropy, max_depth=13, max_features=7, min_samples_split=7, random_state=493; total time=   0.5s\n",
      "[CV] END criterion=entropy, max_depth=13, max_features=7, min_samples_split=7, random_state=493; total time=   0.5s\n",
      "[CV] END criterion=entropy, max_depth=13, max_features=7, min_samples_split=7, random_state=493; total time=   0.5s\n",
      "[CV] END criterion=entropy, max_depth=13, max_features=10, min_samples_split=5, random_state=493; total time=   0.8s\n",
      "[CV] END criterion=entropy, max_depth=13, max_features=10, min_samples_split=5, random_state=493; total time=   0.6s\n",
      "[CV] END criterion=entropy, max_depth=13, max_features=10, min_samples_split=5, random_state=493; total time=   0.6s\n",
      "[CV] END criterion=entropy, max_depth=13, max_features=10, min_samples_split=5, random_state=493; total time=   0.6s\n",
      "[CV] END criterion=entropy, max_depth=13, max_features=10, min_samples_split=5, random_state=493; total time=   0.7s\n",
      "[CV] END criterion=entropy, max_depth=13, max_features=10, min_samples_split=7, random_state=493; total time=   0.7s\n",
      "[CV] END criterion=entropy, max_depth=13, max_features=10, min_samples_split=7, random_state=493; total time=   0.7s\n",
      "[CV] END criterion=entropy, max_depth=13, max_features=10, min_samples_split=7, random_state=493; total time=   0.8s\n",
      "[CV] END criterion=entropy, max_depth=13, max_features=10, min_samples_split=7, random_state=493; total time=   0.6s\n",
      "[CV] END criterion=entropy, max_depth=13, max_features=10, min_samples_split=7, random_state=493; total time=   0.6s\n"
     ]
    },
    {
     "data": {
      "text/plain": [
       "GridSearchCV(cv=5, estimator=RandomForestClassifier(),\n",
       "             param_grid={'criterion': ['gini', 'entropy'],\n",
       "                         'max_depth': [9, 11, 13], 'max_features': [5, 7, 10],\n",
       "                         'min_samples_split': [5, 7], 'random_state': [493]},\n",
       "             return_train_score=True, verbose=2)"
      ]
     },
     "execution_count": 76,
     "metadata": {},
     "output_type": "execute_result"
    }
   ],
   "source": [
    "param_grid = {'criterion':['gini', 'entropy'],\n",
    "              'max_depth':[9,11,13],\n",
    "              'min_samples_split':[5,7],\n",
    "              'max_features':[5,7,10],\n",
    "              'random_state':[493]\n",
    "             }\n",
    "rf = RandomForestClassifier()\n",
    "gs = GridSearchCV(rf,verbose=1, param_grid=param_grid,cv = 5, return_train_score=True)\n",
    "gs.fit(sample_train_x, sample_train_y)\n"
   ]
  },
  {
   "cell_type": "code",
   "execution_count": 77,
   "id": "ac976e82",
   "metadata": {},
   "outputs": [
    {
     "data": {
      "text/plain": [
       "RandomForestClassifier(criterion='entropy', max_depth=13, max_features=10,\n",
       "                       min_samples_split=5, random_state=493)"
      ]
     },
     "execution_count": 77,
     "metadata": {},
     "output_type": "execute_result"
    }
   ],
   "source": [
    "gs.best_estimator_"
   ]
  },
  {
   "cell_type": "code",
   "execution_count": 78,
   "id": "9f97823a",
   "metadata": {
    "scrolled": true
   },
   "outputs": [
    {
     "name": "stdout",
     "output_type": "stream",
     "text": [
      "Fitting 5 folds for each of 36 candidates, totalling 180 fits\n"
     ]
    },
    {
     "data": {
      "text/plain": [
       "GridSearchCV(cv=5, estimator=RandomForestClassifier(),\n",
       "             param_grid={'criterion': ['gini', 'entropy'],\n",
       "                         'max_depth': [13, 14, 15], 'max_features': [10, 11],\n",
       "                         'min_samples_split': [3, 4, 5],\n",
       "                         'random_state': [493]},\n",
       "             return_train_score=True, verbose=1)"
      ]
     },
     "execution_count": 78,
     "metadata": {},
     "output_type": "execute_result"
    }
   ],
   "source": [
    "param_grid = {'criterion':['gini', 'entropy'],\n",
    "              'max_depth':[13, 14, 15],\n",
    "              'min_samples_split':[3,4,5],\n",
    "              'max_features':[10,11],\n",
    "              'random_state':[493]\n",
    "             }\n",
    "rf = RandomForestClassifier()\n",
    "gs = GridSearchCV(rf,verbose=1, param_grid=param_grid,cv = 5, return_train_score=True)\n",
    "gs.fit(sample_train_x, sample_train_y)\n"
   ]
  },
  {
   "cell_type": "code",
   "execution_count": 79,
   "id": "7e6ce397",
   "metadata": {},
   "outputs": [
    {
     "data": {
      "text/plain": [
       "RandomForestClassifier(criterion='entropy', max_depth=13, max_features=10,\n",
       "                       min_samples_split=5, random_state=493)"
      ]
     },
     "execution_count": 79,
     "metadata": {},
     "output_type": "execute_result"
    }
   ],
   "source": [
    "gs.best_estimator_"
   ]
  },
  {
   "cell_type": "code",
   "execution_count": 81,
   "id": "93788a04",
   "metadata": {},
   "outputs": [],
   "source": [
    "from sklearn.model_selection import cross_validate, StratifiedKFold\n",
    "randforest =  RandomForestClassifier(criterion='entropy', max_depth=13, max_features=10,\n",
    "                       min_samples_split=5, random_state=493)\n",
    "cv = StratifiedKFold(n_splits=5, shuffle=True, random_state=493)\n",
    "result = cross_validate(randforest,flat_train_x, train_y, cv = cv)\n",
    "val_score = np.mean(result['test_score'])\n",
    "\n"
   ]
  },
  {
   "cell_type": "code",
   "execution_count": 84,
   "id": "42237d82",
   "metadata": {},
   "outputs": [
    {
     "data": {
      "text/html": [
       "<div>\n",
       "<style scoped>\n",
       "    .dataframe tbody tr th:only-of-type {\n",
       "        vertical-align: middle;\n",
       "    }\n",
       "\n",
       "    .dataframe tbody tr th {\n",
       "        vertical-align: top;\n",
       "    }\n",
       "\n",
       "    .dataframe thead th {\n",
       "        text-align: right;\n",
       "    }\n",
       "</style>\n",
       "<table border=\"1\" class=\"dataframe\">\n",
       "  <thead>\n",
       "    <tr style=\"text-align: right;\">\n",
       "      <th></th>\n",
       "      <th>fit_time</th>\n",
       "      <th>score_time</th>\n",
       "      <th>test_score</th>\n",
       "    </tr>\n",
       "  </thead>\n",
       "  <tbody>\n",
       "    <tr>\n",
       "      <th>0</th>\n",
       "      <td>59.783178</td>\n",
       "      <td>1.246703</td>\n",
       "      <td>0.863750</td>\n",
       "    </tr>\n",
       "    <tr>\n",
       "      <th>1</th>\n",
       "      <td>60.595180</td>\n",
       "      <td>0.814860</td>\n",
       "      <td>0.864750</td>\n",
       "    </tr>\n",
       "    <tr>\n",
       "      <th>2</th>\n",
       "      <td>61.680727</td>\n",
       "      <td>0.792692</td>\n",
       "      <td>0.861917</td>\n",
       "    </tr>\n",
       "    <tr>\n",
       "      <th>3</th>\n",
       "      <td>58.251771</td>\n",
       "      <td>0.882160</td>\n",
       "      <td>0.864417</td>\n",
       "    </tr>\n",
       "    <tr>\n",
       "      <th>4</th>\n",
       "      <td>56.785636</td>\n",
       "      <td>0.817104</td>\n",
       "      <td>0.860333</td>\n",
       "    </tr>\n",
       "  </tbody>\n",
       "</table>\n",
       "</div>"
      ],
      "text/plain": [
       "    fit_time  score_time  test_score\n",
       "0  59.783178    1.246703    0.863750\n",
       "1  60.595180    0.814860    0.864750\n",
       "2  61.680727    0.792692    0.861917\n",
       "3  58.251771    0.882160    0.864417\n",
       "4  56.785636    0.817104    0.860333"
      ]
     },
     "execution_count": 84,
     "metadata": {},
     "output_type": "execute_result"
    }
   ],
   "source": [
    "pd.DataFrame(result)"
   ]
  },
  {
   "cell_type": "code",
   "execution_count": 87,
   "id": "a5ef0f65",
   "metadata": {},
   "outputs": [],
   "source": [
    "\n",
    "randforest.fit(flat_train_x, train_y)\n",
    "train_score = randforest.score(flat_train_x, train_y)\n",
    "test_score = randforest.score(flat_test_x, test_y)\n"
   ]
  },
  {
   "cell_type": "code",
   "execution_count": 88,
   "id": "000bd489",
   "metadata": {},
   "outputs": [
    {
     "data": {
      "text/html": [
       "<div>\n",
       "<style scoped>\n",
       "    .dataframe tbody tr th:only-of-type {\n",
       "        vertical-align: middle;\n",
       "    }\n",
       "\n",
       "    .dataframe tbody tr th {\n",
       "        vertical-align: top;\n",
       "    }\n",
       "\n",
       "    .dataframe thead th {\n",
       "        text-align: right;\n",
       "    }\n",
       "</style>\n",
       "<table border=\"1\" class=\"dataframe\">\n",
       "  <thead>\n",
       "    <tr style=\"text-align: right;\">\n",
       "      <th></th>\n",
       "      <th>train_score</th>\n",
       "      <th>val_score</th>\n",
       "      <th>test_score</th>\n",
       "    </tr>\n",
       "  </thead>\n",
       "  <tbody>\n",
       "    <tr>\n",
       "      <th>0</th>\n",
       "      <td>0.92695</td>\n",
       "      <td>0.863033</td>\n",
       "      <td>0.8553</td>\n",
       "    </tr>\n",
       "  </tbody>\n",
       "</table>\n",
       "</div>"
      ],
      "text/plain": [
       "   train_score  val_score  test_score\n",
       "0      0.92695   0.863033      0.8553"
      ]
     },
     "execution_count": 88,
     "metadata": {},
     "output_type": "execute_result"
    }
   ],
   "source": [
    "pd.DataFrame({'train_score':[train_score],\n",
    "              'val_score':[val_score],\n",
    "              'test_score':[test_score]})"
   ]
  },
  {
   "cell_type": "code",
   "execution_count": null,
   "id": "6754b663",
   "metadata": {},
   "outputs": [],
   "source": []
  }
 ],
 "metadata": {
  "kernelspec": {
   "display_name": "Python 3 (ipykernel)",
   "language": "python",
   "name": "python3"
  },
  "language_info": {
   "codemirror_mode": {
    "name": "ipython",
    "version": 3
   },
   "file_extension": ".py",
   "mimetype": "text/x-python",
   "name": "python",
   "nbconvert_exporter": "python",
   "pygments_lexer": "ipython3",
   "version": "3.9.12"
  }
 },
 "nbformat": 4,
 "nbformat_minor": 5
}
