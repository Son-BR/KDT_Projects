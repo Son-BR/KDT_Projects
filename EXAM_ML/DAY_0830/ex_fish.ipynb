{
 "cells": [
  {
   "cell_type": "markdown",
   "metadata": {},
   "source": [
    "# 머신러닝"
   ]
  },
  {
   "cell_type": "code",
   "execution_count": 1,
   "metadata": {},
   "outputs": [],
   "source": [
    "# 도미 데이터\n",
    "\n",
    "bream_length = [25.4, 26.3, 26.5, 29.0, 29.0, 29.7, 29.7, 30.0, 30.0, \n",
    "                30.7, 31.0, 31.0, 31.5, 32.0, 32.0, 32.0, 33.0, 33.0, \n",
    "                33.5, 33.5, 34.0, 34.0, 34.5, 35.0, 35.0, 35.0, 35.0, \n",
    "                36.0, 36.0, 37.0, 38.5, 38.5, 39.5, 41.0, 41.0]\n",
    "\n",
    "bream_weight = [242.0, 290.0, 340.0, 363.0, 430.0, 450.0, 500.0, 390.0, \n",
    "                450.0, 500.0, 475.0, 500.0, 500.0, 340.0, 600.0, 600.0, \n",
    "                700.0, 700.0, 610.0, 650.0, 575.0, 685.0, 620.0, 680.0,\n",
    "                700.0, 725.0, 720.0, 714.0, 850.0, 1000.0, 920.0, 955.0, \n",
    "                925.0, 975.0, 950.0]"
   ]
  },
  {
   "cell_type": "code",
   "execution_count": 3,
   "metadata": {},
   "outputs": [
    {
     "data": {
      "image/png": "[encoded data removed]",
      "text/plain": [
       "<Figure size 432x288 with 1 Axes>"
      ]
     },
     "metadata": {
      "needs_background": "light"
     },
     "output_type": "display_data"
    }
   ],
   "source": [
    "import matplotlib.pyplot as plt\n",
    "\n",
    "# 도미 데이터 산점도\n",
    "plt.scatter(bream_length, bream_weight)\n",
    "plt.xlabel('bream length') # x축은 길이\n",
    "plt.ylabel('bream weight') # y축은 무게\n",
    "plt.show()"
   ]
  },
  {
   "cell_type": "code",
   "execution_count": 4,
   "metadata": {},
   "outputs": [],
   "source": [
    "# 빙어 데이터\n",
    "\n",
    "smelt_length = [9.8, 10.5, 10.6, 11.0, 11.2, 11.3, 11.8, 11.8, 12.0, \n",
    "                12.2, 12.4, 13.0, 14.3, 15.0]\n",
    "\n",
    "smelt_weight = [6.7, 7.5, 7.0, 9.7, 9.8, 8.7, 10.0, 9.9, 9.8, 12.2, \n",
    "                13.4, 12.2, 19.7, 19.9]"
   ]
  },
  {
   "cell_type": "code",
   "execution_count": 5,
   "metadata": {},
   "outputs": [
    {
     "data": {
      "image/png": "[encoded data removed]",
      "text/plain": [
       "<Figure size 432x288 with 1 Axes>"
      ]
     },
     "metadata": {
      "needs_background": "light"
     },
     "output_type": "display_data"
    }
   ],
   "source": [
    "# 도미 데이터와 빙어 데이터 비교(산점도)\n",
    "\n",
    "plt.scatter(bream_length, bream_weight, label='bream')\n",
    "plt.scatter(smelt_length, smelt_weight, label='smelt')\n",
    "plt.xlabel('length')\n",
    "plt.ylabel('weight')\n",
    "plt.legend()\n",
    "plt.show()"
   ]
  },
  {
   "cell_type": "code",
   "execution_count": 14,
   "metadata": {},
   "outputs": [
    {
     "name": "stdout",
     "output_type": "stream",
     "text": [
      "[[25.4, 242.0], [26.3, 290.0], [26.5, 340.0], [29.0, 363.0], [29.0, 430.0], [29.7, 450.0], [29.7, 500.0], [30.0, 390.0], [30.0, 450.0], [30.7, 500.0], [31.0, 475.0], [31.0, 500.0], [31.5, 500.0], [32.0, 340.0], [32.0, 600.0], [32.0, 600.0], [33.0, 700.0], [33.0, 700.0], [33.5, 610.0], [33.5, 650.0], [34.0, 575.0], [34.0, 685.0], [34.5, 620.0], [35.0, 680.0], [35.0, 700.0], [35.0, 725.0], [35.0, 720.0], [36.0, 714.0], [36.0, 850.0], [37.0, 1000.0], [38.5, 920.0], [38.5, 955.0], [39.5, 925.0], [41.0, 975.0], [41.0, 950.0], [9.8, 6.7], [10.5, 7.5], [10.6, 7.0], [11.0, 9.7], [11.2, 9.8], [11.3, 8.7], [11.8, 10.0], [11.8, 9.9], [12.0, 9.8], [12.2, 12.2], [12.4, 13.4], [13.0, 12.2], [14.3, 19.7], [15.0, 19.9]]\n"
     ]
    }
   ],
   "source": [
    "# 도미 데이터와 빙어 데이터 합치기\n",
    "length = bream_length + smelt_length\n",
    "weight = bream_weight + smelt_weight\n",
    "\n",
    "# 데이터 변형\n",
    "# 1차원 리스트 2개를 2차원 리스트로 변경\n",
    "fish_data = [[l, w] for l, w in zip(length, weight)]\n",
    "print(fish_data)"
   ]
  },
  {
   "cell_type": "code",
   "execution_count": 9,
   "metadata": {},
   "outputs": [
    {
     "name": "stdout",
     "output_type": "stream",
     "text": [
      "(1, 'A')\n",
      "(2, 'B')\n",
      "(3, 'C')\n",
      "(4, 'D')\n",
      "[(1, 'A'), (2, 'B'), (3, 'C'), (4, 'D')]\n",
      "(1, 2, 3, 4) ('A', 'B', 'C', 'D')\n"
     ]
    }
   ],
   "source": [
    "# zip() 함수\n",
    "# 2개 이상의 리스트를 받아서 하나로 묶음(튜플)\n",
    "numbers = [ 1, 2, 3, 4 ]\n",
    "letters = ['A', 'B', 'C', 'D']\n",
    "for pair in zip(numbers, letters):\n",
    "    print(pair)\n",
    "\n",
    "pair = list(zip(numbers, letters))\n",
    "print(pair)\n",
    "\n",
    "n1, l1 = zip(*pair) # zip 해제 : *사용\n",
    "print(n1, l1)"
   ]
  },
  {
   "cell_type": "code",
   "execution_count": null,
   "metadata": {},
   "outputs": [],
   "source": []
  },
  {
   "cell_type": "code",
   "execution_count": 15,
   "metadata": {},
   "outputs": [
    {
     "name": "stdout",
     "output_type": "stream",
     "text": [
      "[1, 1, 1, 1, 1, 1, 1, 1, 1, 1, 1, 1, 1, 1, 1, 1, 1, 1, 1, 1, 1, 1, 1, 1, 1, 1, 1, 1, 1, 1, 1, 1, 1, 1, 1, 0, 0, 0, 0, 0, 0, 0, 0, 0, 0, 0, 0, 0, 0]\n"
     ]
    }
   ],
   "source": [
    "# 정답 데이터 준비\n",
    "# 도미를 1로 빙어를 0으로 설정\n",
    "fish_target = [1] * 35 + [0] * 14\n",
    "print(fish_target)"
   ]
  },
  {
   "cell_type": "code",
   "execution_count": null,
   "metadata": {},
   "outputs": [],
   "source": []
  },
  {
   "cell_type": "markdown",
   "metadata": {},
   "source": [
    "---"
   ]
  },
  {
   "cell_type": "markdown",
   "metadata": {},
   "source": [
    "## kNN(k-최근접 알고리즘, k-Nearest Neighbor)\n",
    "\n",
    " - 가장 간단한 분류 알고리즘(classification)\n",
    "   - “비슷한 특성을 가진 데이터는 비슷한 범주에 속한다”는 가정\n",
    "   - 주변의 가장 가까운 k개의 데이터를 보고, 데이터가 속할 그룹을 판단\n",
    " - 단점\n",
    "   - 모든 데이터를 가지고 있어야 됨\n",
    "   - 많은 메모리 소모, 거리 계산에 많은 시간이 소요\n",
    "\n",
    " - 과정\n",
    "\n",
    "   - 모델생성, 모델훈련(fit), 모델 평가(score), 새로운 데이터 예측(predict)"
   ]
  },
  {
   "cell_type": "code",
   "execution_count": 20,
   "metadata": {},
   "outputs": [],
   "source": [
    "# kNN 모델 생성\n",
    "from sklearn.neighbors import  KNeighborsClassifier\n",
    "kn = KNeighborsClassifier() # KNeighborClassifier(n_ngighbors=기본값5, …) 객체 생성"
   ]
  },
  {
   "cell_type": "code",
   "execution_count": 21,
   "metadata": {},
   "outputs": [
    {
     "data": {
      "text/html": [
       "<style>#sk-container-id-1 {color: black;background-color: white;}#sk-container-id-1 pre{padding: 0;}#sk-container-id-1 div.sk-toggleable {background-color: white;}#sk-container-id-1 label.sk-toggleable__label {cursor: pointer;display: block;width: 100%;margin-bottom: 0;padding: 0.3em;box-sizing: border-box;text-align: center;}#sk-container-id-1 label.sk-toggleable__label-arrow:before {content: \"▸\";float: left;margin-right: 0.25em;color: #696969;}#sk-container-id-1 label.sk-toggleable__label-arrow:hover:before {color: black;}#sk-container-id-1 div.sk-estimator:hover label.sk-toggleable__label-arrow:before {color: black;}#sk-container-id-1 div.sk-toggleable__content {max-height: 0;max-width: 0;overflow: hidden;text-align: left;background-color: #f0f8ff;}#sk-container-id-1 div.sk-toggleable__content pre {margin: 0.2em;color: black;border-radius: 0.25em;background-color: #f0f8ff;}#sk-container-id-1 input.sk-toggleable__control:checked~div.sk-toggleable__content {max-height: 200px;max-width: 100%;overflow: auto;}#sk-container-id-1 input.sk-toggleable__control:checked~label.sk-toggleable__label-arrow:before {content: \"▾\";}#sk-container-id-1 div.sk-estimator input.sk-toggleable__control:checked~label.sk-toggleable__label {background-color: #d4ebff;}#sk-container-id-1 div.sk-label input.sk-toggleable__control:checked~label.sk-toggleable__label {background-color: #d4ebff;}#sk-container-id-1 input.sk-hidden--visually {border: 0;clip: rect(1px 1px 1px 1px);clip: rect(1px, 1px, 1px, 1px);height: 1px;margin: -1px;overflow: hidden;padding: 0;position: absolute;width: 1px;}#sk-container-id-1 div.sk-estimator {font-family: monospace;background-color: #f0f8ff;border: 1px dotted black;border-radius: 0.25em;box-sizing: border-box;margin-bottom: 0.5em;}#sk-container-id-1 div.sk-estimator:hover {background-color: #d4ebff;}#sk-container-id-1 div.sk-parallel-item::after {content: \"\";width: 100%;border-bottom: 1px solid gray;flex-grow: 1;}#sk-container-id-1 div.sk-label:hover label.sk-toggleable__label {background-color: #d4ebff;}#sk-container-id-1 div.sk-serial::before {content: \"\";position: absolute;border-left: 1px solid gray;box-sizing: border-box;top: 0;bottom: 0;left: 50%;z-index: 0;}#sk-container-id-1 div.sk-serial {display: flex;flex-direction: column;align-items: center;background-color: white;padding-right: 0.2em;padding-left: 0.2em;position: relative;}#sk-container-id-1 div.sk-item {position: relative;z-index: 1;}#sk-container-id-1 div.sk-parallel {display: flex;align-items: stretch;justify-content: center;background-color: white;position: relative;}#sk-container-id-1 div.sk-item::before, #sk-container-id-1 div.sk-parallel-item::before {content: \"\";position: absolute;border-left: 1px solid gray;box-sizing: border-box;top: 0;bottom: 0;left: 50%;z-index: -1;}#sk-container-id-1 div.sk-parallel-item {display: flex;flex-direction: column;z-index: 1;position: relative;background-color: white;}#sk-container-id-1 div.sk-parallel-item:first-child::after {align-self: flex-end;width: 50%;}#sk-container-id-1 div.sk-parallel-item:last-child::after {align-self: flex-start;width: 50%;}#sk-container-id-1 div.sk-parallel-item:only-child::after {width: 0;}#sk-container-id-1 div.sk-dashed-wrapped {border: 1px dashed gray;margin: 0 0.4em 0.5em 0.4em;box-sizing: border-box;padding-bottom: 0.4em;background-color: white;}#sk-container-id-1 div.sk-label label {font-family: monospace;font-weight: bold;display: inline-block;line-height: 1.2em;}#sk-container-id-1 div.sk-label-container {text-align: center;}#sk-container-id-1 div.sk-container {/* jupyter's `normalize.less` sets `[hidden] { display: none; }` but bootstrap.min.css set `[hidden] { display: none !important; }` so we also need the `!important` here to be able to override the default hidden behavior on the sphinx rendered scikit-learn.org. See: https://github.com/scikit-learn/scikit-learn/issues/21755 */display: inline-block !important;position: relative;}#sk-container-id-1 div.sk-text-repr-fallback {display: none;}</style><div id=\"sk-container-id-1\" class=\"sk-top-container\"><div class=\"sk-text-repr-fallback\"><pre>KNeighborsClassifier()</pre><b>In a Jupyter environment, please rerun this cell to show the HTML representation or trust the notebook. <br />On GitHub, the HTML representation is unable to render, please try loading this page with nbviewer.org.</b></div><div class=\"sk-container\" hidden><div class=\"sk-item\"><div class=\"sk-estimator sk-toggleable\"><input class=\"sk-toggleable__control sk-hidden--visually\" id=\"sk-estimator-id-1\" type=\"checkbox\" checked><label for=\"sk-estimator-id-1\" class=\"sk-toggleable__label sk-toggleable__label-arrow\">KNeighborsClassifier</label><div class=\"sk-toggleable__content\"><pre>KNeighborsClassifier()</pre></div></div></div></div></div>"
      ],
      "text/plain": [
       "KNeighborsClassifier()"
      ]
     },
     "execution_count": 21,
     "metadata": {},
     "output_type": "execute_result"
    }
   ],
   "source": [
    "# 모델 훈련(학습): 객체.fit() 함수\n",
    "\n",
    "# fit(Training data, Target values) 함수\n",
    "# fish_data와 fish_target을 이용하여 모델 훈련\n",
    "\n",
    "kn.fit(fish_data, fish_target)"
   ]
  },
  {
   "cell_type": "code",
   "execution_count": 22,
   "metadata": {},
   "outputs": [
    {
     "data": {
      "text/plain": [
       "1.0"
      ]
     },
     "execution_count": 22,
     "metadata": {},
     "output_type": "execute_result"
    }
   ],
   "source": [
    "# 모델 평가: 객체.score() 함수\n",
    "\n",
    "# score(Test samples, Target values): 정확도의 평균값 리턴\n",
    "\n",
    "kn.score(fish_data, fish_target)"
   ]
  },
  {
   "cell_type": "code",
   "execution_count": 23,
   "metadata": {},
   "outputs": [
    {
     "data": {
      "text/plain": [
       "array([1])"
      ]
     },
     "execution_count": 23,
     "metadata": {},
     "output_type": "execute_result"
    }
   ],
   "source": [
    "# 새로운 데이터를 활용한 결과 예측: 객체.predict(X), X: 2차원 리스트 형태\n",
    "kn.predict([[30, 600]]) # class label 리턴(0, 1)"
   ]
  },
  {
   "cell_type": "code",
   "execution_count": null,
   "metadata": {},
   "outputs": [],
   "source": []
  },
  {
   "cell_type": "code",
   "execution_count": null,
   "metadata": {},
   "outputs": [],
   "source": [
    "# k-최근접 알고리즘 속성\n",
    "\n",
    "# 객체._fit_X : 훈련데이터\n",
    "print(kn._fit_X)\n",
    "# kn._y : 목표(target) 데이터\n",
    "print(kn._y)"
   ]
  },
  {
   "cell_type": "code",
   "execution_count": 27,
   "metadata": {},
   "outputs": [
    {
     "name": "stdout",
     "output_type": "stream",
     "text": [
      "0.7142857142857143\n",
      "0.7142857142857143\n"
     ]
    }
   ],
   "source": [
    "# n_neighbors 값 변경(49)\n",
    "kn49 = KNeighborsClassifier(n_neighbors=49)\n",
    "kn49.fit(fish_data, fish_target)\n",
    "print(kn49.score(fish_data, fish_target))\n",
    "\n",
    "# 35/49의 결과와 동일\n",
    "# 전체 데이터에서 도미 데이터가 35개라서 \n",
    "print(35/49)"
   ]
  },
  {
   "cell_type": "code",
   "execution_count": null,
   "metadata": {},
   "outputs": [],
   "source": []
  },
  {
   "cell_type": "markdown",
   "metadata": {},
   "source": [
    "---"
   ]
  },
  {
   "cell_type": "code",
   "execution_count": 29,
   "metadata": {},
   "outputs": [],
   "source": [
    "# 훈련 세트와 테스트 세트 만들기\n",
    "\n",
    "# 데이터 생성\n",
    "fish_length = [25.4, 26.3, 26.5, 29.0, 29.0, 29.7, 29.7, 30.0, 30.0, \n",
    "              30.7, 31.0, 31.0, 31.5, 32.0, 32.0, 32.0, 33.0, 33.0, \n",
    "              33.5, 33.5, 34.0, 34.0, 34.5, 35.0, 35.0, 35.0, 35.0,\n",
    "              36.0, 36.0, 37.0, 38.5, 38.5, 39.5, 41.0, 41.0, 9.8,  \n",
    "              10.5, 10.6, 11.0, 11.2, 11.3, 11.8, 11.8, 12.0, 12.2, \n",
    "              12.4, 13.0, 14.3, 15.0]\n",
    "fish_weight = [242.0, 290.0, 340.0, 363.0, 430.0, 450.0, 500.0, 390.0, \n",
    "               450.0, 500.0, 475.0, 500.0, 500.0, 340.0, 600.0, 600.0, \n",
    "               700.0, 700.0, 610.0, 650.0, 575.0, 685.0, 620.0, 680.0, \n",
    "               700.0, 725.0, 720.0, 714.0, 850.0, 1000.0, 920.0, 955.0, \n",
    "               925.0, 975.0, 950.0, 6.7,  7.5, 7.0, 9.7, 9.8, 8.7, \n",
    "               10.0, 9.9, 9.8, 12.2, 13.4, 12.2, 19.7, 19.9]\n",
    "\n",
    "fish_data = [[l, w] for l, w in zip(fish_length, fish_weight)] # 2차원 리스트[길이, 무게]\n",
    "fish_target = [1] * 35 + [0]*14 # target 값 생성"
   ]
  },
  {
   "cell_type": "code",
   "execution_count": null,
   "metadata": {},
   "outputs": [],
   "source": []
  },
  {
   "cell_type": "code",
   "execution_count": 30,
   "metadata": {},
   "outputs": [
    {
     "data": {
      "text/plain": [
       "0.0"
      ]
     },
     "execution_count": 30,
     "metadata": {},
     "output_type": "execute_result"
    }
   ],
   "source": [
    "# 잘못된 훈련 세트\n",
    "\n",
    "# 훈련 세트 생성(35개)\n",
    "train_input = fish_data[:35]\n",
    "train_target = fish_target[:35]\n",
    "\n",
    "# 테스트 세트 생성(14개)\n",
    "test_input = fish_data[35:]\n",
    "test_target = fish_target[35:]\n",
    "\n",
    "# 테스트 세트 평가\n",
    "from sklearn.neighbors import KNeighborsClassifier\n",
    "\n",
    "kn = KNeighborsClassifier() # 객체 생성\n",
    "kn = kn.fit(train_input, train_target) # 모델 훈련\n",
    "kn.score(test_input, test_target) # 테스트 세트로 평가 (정확도 출력)\n",
    "\n",
    "# => 훈련세트가 도미로만 구성, 잘못된 세트 분류"
   ]
  },
  {
   "cell_type": "code",
   "execution_count": 31,
   "metadata": {},
   "outputs": [
    {
     "name": "stdout",
     "output_type": "stream",
     "text": [
      "[[  25.4  242. ]\n",
      " [  26.3  290. ]\n",
      " [  26.5  340. ]\n",
      " [  29.   363. ]\n",
      " [  29.   430. ]\n",
      " [  29.7  450. ]\n",
      " [  29.7  500. ]\n",
      " [  30.   390. ]\n",
      " [  30.   450. ]\n",
      " [  30.7  500. ]\n",
      " [  31.   475. ]\n",
      " [  31.   500. ]\n",
      " [  31.5  500. ]\n",
      " [  32.   340. ]\n",
      " [  32.   600. ]\n",
      " [  32.   600. ]\n",
      " [  33.   700. ]\n",
      " [  33.   700. ]\n",
      " [  33.5  610. ]\n",
      " [  33.5  650. ]\n",
      " [  34.   575. ]\n",
      " [  34.   685. ]\n",
      " [  34.5  620. ]\n",
      " [  35.   680. ]\n",
      " [  35.   700. ]\n",
      " [  35.   725. ]\n",
      " [  35.   720. ]\n",
      " [  36.   714. ]\n",
      " [  36.   850. ]\n",
      " [  37.  1000. ]\n",
      " [  38.5  920. ]\n",
      " [  38.5  955. ]\n",
      " [  39.5  925. ]\n",
      " [  41.   975. ]\n",
      " [  41.   950. ]\n",
      " [   9.8    6.7]\n",
      " [  10.5    7.5]\n",
      " [  10.6    7. ]\n",
      " [  11.     9.7]\n",
      " [  11.2    9.8]\n",
      " [  11.3    8.7]\n",
      " [  11.8   10. ]\n",
      " [  11.8    9.9]\n",
      " [  12.     9.8]\n",
      " [  12.2   12.2]\n",
      " [  12.4   13.4]\n",
      " [  13.    12.2]\n",
      " [  14.3   19.7]\n",
      " [  15.    19.9]]\n",
      "(49, 2)\n"
     ]
    }
   ],
   "source": [
    "# Numpy를 활용한 배열 생성\n",
    "# 다차원 배열을 쉽게 조작할 수 있음: 고정된 크기, 동일한 자료형, 연속된 메모리 공간\n",
    "\n",
    "# 기존 fish_data와 fish_target를 Numpy 배열로 변경\n",
    "# Numpy.array(list): 파이썬의 list를 Numpy의 array로 변경\n",
    "import numpy as np\n",
    "\n",
    "input_arr= np.array(fish_data)\n",
    "target_arr = np.array(fish_target)\n",
    "print(input_arr)\n",
    "\n",
    "print(input_arr.shape) # shape: 배열의 크기 리턴"
   ]
  },
  {
   "cell_type": "markdown",
   "metadata": {},
   "source": [
    "---\n",
    "### Numpy 사용"
   ]
  },
  {
   "cell_type": "code",
   "execution_count": null,
   "metadata": {},
   "outputs": [],
   "source": [
    "# random.seed(seed) : 랜덤값 생성을 위한 초기값 지정\n",
    "# 초기값(seed)값이 같으면 동일한 랜덤값을 뽑을 수 있음\n",
    "\n",
    "# Numpy.arange(stop): stop-1까지 1의 간격으로 배열 생성\n",
    "# arange: array range\n",
    "\n",
    "# random.shuffle(x): 배열 x(ndarray 타입)를 무작위로 섞음"
   ]
  },
  {
   "cell_type": "code",
   "execution_count": 32,
   "metadata": {},
   "outputs": [
    {
     "name": "stdout",
     "output_type": "stream",
     "text": [
      "[ 0  1  2  3  4  5  6  7  8  9 10 11 12 13 14 15 16 17 18 19 20 21 22 23\n",
      " 24 25 26 27 28 29 30 31 32 33 34 35 36 37 38 39 40 41 42 43 44 45 46 47\n",
      " 48]\n",
      "[13 45 47 44 17 27 26 25 31 19 12  4 34  8  3  6 40 41 46 15  9 16 24 33\n",
      " 30  0 43 32  5 29 11 36  1 21  2 37 35 23 39 10 22 18 48 20  7 42 14 28\n",
      " 38]\n"
     ]
    }
   ],
   "source": [
    "import numpy as np\n",
    "\n",
    "np.random.seed(42) # 임의의 숫자\n",
    "index_list = np.arange(49) # 0~48까지 값을 가지는 배열 생성\n",
    "print(index_list)\n",
    "\n",
    "np.random.shuffle(index_list) # 배열 내용을 무작위로 섞음\n",
    "print(index_list)"
   ]
  },
  {
   "cell_type": "code",
   "execution_count": 33,
   "metadata": {},
   "outputs": [],
   "source": [
    "# 훈련 세트 생성\n",
    "train_input = input_arr[index_list[:35]]\n",
    "train_target = target_arr[index_list[:35]]\n",
    "# 테스트 세트 생성\n",
    "test_input = input_arr[index_list[35:]]\n",
    "test_target = target_arr[index_list[35:]]"
   ]
  },
  {
   "cell_type": "code",
   "execution_count": 34,
   "metadata": {},
   "outputs": [
    {
     "data": {
      "image/png": "[encoded data removed]",
      "text/plain": [
       "<Figure size 432x288 with 1 Axes>"
      ]
     },
     "metadata": {
      "needs_background": "light"
     },
     "output_type": "display_data"
    }
   ],
   "source": [
    "# 데이터 다시 확인\n",
    "import matplotlib.pyplot as plt\n",
    "\n",
    "# [:, 0]: 모든 행에서 0번째 -> length, [:, 1]: 모든 행에서 1번째 -> weight\n",
    "plt.scatter(train_input[:, 0], train_input[:, 1], label='train set')\n",
    "plt.scatter(test_input[:, 0], test_input[:, 1], label='test set')\n",
    "plt.xlabel('length')\n",
    "plt.ylabel('weight')\n",
    "plt.legend()\n",
    "plt.show()"
   ]
  },
  {
   "cell_type": "code",
   "execution_count": 36,
   "metadata": {},
   "outputs": [
    {
     "name": "stdout",
     "output_type": "stream",
     "text": [
      "score:  1.0\n",
      "predict:      [0 0 1 0 1 1 1 0 1 1 0 1 1 0]\n",
      "test_target:  [0 0 1 0 1 1 1 0 1 1 0 1 1 0]\n"
     ]
    }
   ],
   "source": [
    "kn = kn.fit(train_input, train_target)\n",
    "\n",
    "print(\"score: \", kn.score(test_input, test_target))\n",
    "print(\"predict:     \", kn.predict(test_input))\n",
    "print(\"test_target: \", test_target) # predict 결과값과 비교를 위해 출력"
   ]
  },
  {
   "cell_type": "code",
   "execution_count": 39,
   "metadata": {},
   "outputs": [
    {
     "name": "stdout",
     "output_type": "stream",
     "text": [
      "predict(길이 25cm, 무게 150g): [0]\n"
     ]
    }
   ],
   "source": [
    "# 문제점 발생\n",
    "# 샘플 데이터의 두 특성(길이, 무게)의 스케일이 다르기 때문\n",
    "# 스케일을 조정해야 됨: 표준점수(평균과의 거리)로 변환해야 됨\n",
    "print('predict(길이 25cm, 무게 150g):', kn.predict([[25, 150.0]])) # 2차원배열 형태로"
   ]
  },
  {
   "cell_type": "code",
   "execution_count": null,
   "metadata": {},
   "outputs": [],
   "source": []
  },
  {
   "cell_type": "markdown",
   "metadata": {},
   "source": [
    "---"
   ]
  },
  {
   "cell_type": "code",
   "execution_count": null,
   "metadata": {},
   "outputs": [],
   "source": [
    "# column_stack((list1, list2,,,))\n",
    "# Numpy 제공 함수: 리스트를 일렬로 세운 다음 차례대로 연결\n",
    "# Python에서 제공하는 zip()함수와 동일한 기능\n",
    "\n",
    "# numpy.hstack(): 리스트를 단순히 가로로 이어붙임\n",
    "# numpy.concatenate((a1, a2,,,,), axis=0): 설정한 축을따라 배열을 붙임 0:세로 1:가로"
   ]
  },
  {
   "cell_type": "code",
   "execution_count": 40,
   "metadata": {},
   "outputs": [
    {
     "name": "stdout",
     "output_type": "stream",
     "text": [
      "[[ 25.4 242. ]\n",
      " [ 26.3 290. ]\n",
      " [ 26.5 340. ]\n",
      " [ 29.  363. ]\n",
      " [ 29.  430. ]]\n"
     ]
    }
   ],
   "source": [
    "# column_stack((list1, list2)): 튜플 형태로 전달\n",
    "fish_data = np.column_stack((fish_length, fish_weight))\n",
    "print(fish_data[:5])"
   ]
  },
  {
   "cell_type": "code",
   "execution_count": 41,
   "metadata": {},
   "outputs": [
    {
     "name": "stdout",
     "output_type": "stream",
     "text": [
      "[1. 1. 1. 1. 1. 1. 1. 1. 1. 1. 1. 1. 1. 1. 1. 1. 1. 1. 1. 1. 1. 1. 1. 1.\n",
      " 1. 1. 1. 1. 1. 1. 1. 1. 1. 1. 1.]\n",
      "[0. 0. 0. 0. 0. 0. 0. 0. 0. 0. 0. 0. 0. 0.]\n"
     ]
    }
   ],
   "source": [
    "# ones(n), zeros(n)\n",
    "# 개수(n)만큼 각각 1과 0으로 채운 배열을 생성함\n",
    "print(np.ones(35))\n",
    "print(np.zeros(14))"
   ]
  },
  {
   "cell_type": "code",
   "execution_count": 44,
   "metadata": {},
   "outputs": [
    {
     "name": "stdout",
     "output_type": "stream",
     "text": [
      "[1. 1. 1. 1. 1. 1. 1. 1. 1. 1. 1. 1. 1. 1. 1. 1. 1. 1. 1. 1. 1. 1. 1. 1.\n",
      " 1. 1. 1. 1. 1. 1. 1. 1. 1. 1. 1. 0. 0. 0. 0. 0. 0. 0. 0. 0. 0. 0. 0. 0.\n",
      " 0.]\n"
     ]
    }
   ],
   "source": [
    "fish_target = np.concatenate((np.ones(35), np.zeros(14)))\n",
    "print(fish_target)"
   ]
  },
  {
   "cell_type": "code",
   "execution_count": null,
   "metadata": {},
   "outputs": [],
   "source": [
    "# 사이킷런으로 훈련 세트와 테스트 세트 나누기\n",
    "# train_test_split() 함수 원형\n",
    "'''sklearn.model_selection.train_test_split(*arrays, \n",
    "                                            test_size=None,    # 미입력시 25% 비율로 테스트 세트 생성\n",
    "                                            train_size=None,   # 미입력시 75% 비율로 훈련 세트 생성 \n",
    "                                            random_state=None, # 랜덤 시드 설정\n",
    "                                            shuffle=True,      \n",
    "                                            stratify=None)'''  # target 데이터를 전달하면, 클래스 비율(0,1)에 맞게 데이터를 나눔\n"
   ]
  },
  {
   "cell_type": "code",
   "execution_count": 49,
   "metadata": {},
   "outputs": [
    {
     "name": "stdout",
     "output_type": "stream",
     "text": [
      "train_input.shape: (36, 2) test_input.shape (13, 2)\n"
     ]
    }
   ],
   "source": [
    "# 4개의 데이터 셋을 리턴\n",
    "\n",
    "from sklearn.model_selection import train_test_split\n",
    "\n",
    "train_input, test_input, train_target, test_target=train_test_split(fish_data, fish_target, stratify=fish_target, random_state=42)\n",
    "print('train_input.shape:', train_input.shape,\n",
    "      'test_input.shape', test_input.shape)\n"
   ]
  },
  {
   "cell_type": "code",
   "execution_count": 53,
   "metadata": {},
   "outputs": [
    {
     "name": "stdout",
     "output_type": "stream",
     "text": [
      "train_target:  [1. 0. 1. 0. 1. 1. 1. 1. 1. 1. 1. 0. 1. 0. 1. 1. 1. 1. 1. 0. 1. 1. 0. 1.\n",
      " 0. 1. 0. 1. 1. 1. 0. 1. 1. 0. 1. 1.]\n"
     ]
    }
   ],
   "source": [
    "print('train_target: ', train_target)"
   ]
  },
  {
   "cell_type": "code",
   "execution_count": 54,
   "metadata": {},
   "outputs": [
    {
     "name": "stdout",
     "output_type": "stream",
     "text": [
      "test_target:  [0. 0. 1. 0. 1. 0. 1. 1. 1. 1. 1. 1. 1.]\n"
     ]
    }
   ],
   "source": [
    "print('test_target: ', test_target)"
   ]
  },
  {
   "cell_type": "code",
   "execution_count": 56,
   "metadata": {},
   "outputs": [
    {
     "name": "stdout",
     "output_type": "stream",
     "text": [
      "score:  1.0\n"
     ]
    }
   ],
   "source": [
    "# kNN모델 적용\n",
    "from sklearn.neighbors import KNeighborsClassifier\n",
    "kn = KNeighborsClassifier()\n",
    "kn.fit(train_input, train_target)\n",
    "print(\"score: \", kn.score(test_input, test_target))"
   ]
  },
  {
   "cell_type": "code",
   "execution_count": 57,
   "metadata": {},
   "outputs": [
    {
     "name": "stdout",
     "output_type": "stream",
     "text": [
      "[0.]\n"
     ]
    }
   ],
   "source": [
    "# 25cm, 150g의 생선 분류 (수상한 도미)\n",
    "print(kn.predict([[25, 150]]))"
   ]
  },
  {
   "cell_type": "code",
   "execution_count": 58,
   "metadata": {},
   "outputs": [
    {
     "data": {
      "image/png": "[encoded data removed]",
      "text/plain": [
       "<Figure size 432x288 with 1 Axes>"
      ]
     },
     "metadata": {
      "needs_background": "light"
     },
     "output_type": "display_data"
    }
   ],
   "source": [
    "# 길이 25cm, 무게 150g의 생선을 산점도로 표시\n",
    "import matplotlib.pyplot as plt\n",
    "plt.scatter(train_input[:,0], train_input[:,1])\n",
    "plt.scatter(25, 150, marker='^')\n",
    "plt.xlabel('length')\n",
    "plt.ylabel('weight')\n",
    "plt.show()"
   ]
  },
  {
   "cell_type": "code",
   "execution_count": 59,
   "metadata": {},
   "outputs": [
    {
     "name": "stdout",
     "output_type": "stream",
     "text": [
      "[[ 92.00086956 130.48375378 130.73859415 138.32150953 138.39320793]]\n",
      "[[21 33 19 30  1]]\n"
     ]
    }
   ],
   "source": [
    "# 가장 가까운 이웃과의 거리 계산\n",
    "\n",
    "# kneighbors(): n_neighbors(default값 5)개의 이웃을 찾음\n",
    "distances, indexes = kn.kneighbors([[25, 150]])\n",
    "print(distances)\n",
    "print(indexes) # 훈련데이터의 인덱스"
   ]
  },
  {
   "cell_type": "code",
   "execution_count": 60,
   "metadata": {},
   "outputs": [
    {
     "data": {
      "image/png": "[encoded data removed]",
      "text/plain": [
       "<Figure size 432x288 with 1 Axes>"
      ]
     },
     "metadata": {
      "needs_background": "light"
     },
     "output_type": "display_data"
    }
   ],
   "source": [
    "# 가장 가까운 이웃 5개를 산점도로 표시\n",
    "import matplotlib.pyplot as plt\n",
    "\n",
    "plt.scatter(train_input[:, 0], train_input[:, 1], label='train_data', color='b')\n",
    "plt.scatter(25, 150, marker='^', color='orange', label='Unknown')\n",
    "plt.scatter(train_input[indexes, 0], train_input[indexes, 1],\n",
    "marker='D', label='neighbors', color='r')\n",
    "plt.xlabel('length')\n",
    "plt.ylabel('weight')\n",
    "plt.legend()\n",
    "plt.show()"
   ]
  },
  {
   "cell_type": "code",
   "execution_count": 61,
   "metadata": {},
   "outputs": [
    {
     "name": "stdout",
     "output_type": "stream",
     "text": [
      "neighbors:  [[[ 25.4 242. ]\n",
      "  [ 15.   19.9]\n",
      "  [ 14.3  19.7]\n",
      "  [ 13.   12.2]\n",
      "  [ 12.2  12.2]]]\n",
      "target:  [[1. 0. 0. 0. 0.]]\n"
     ]
    }
   ],
   "source": [
    "print(\"neighbors: \", train_input[indexes])\n",
    "print(\"target: \", train_target[indexes]) # 훈련용 정답(25,150 이웃데이터 정답)"
   ]
  },
  {
   "cell_type": "code",
   "execution_count": null,
   "metadata": {},
   "outputs": [],
   "source": []
  },
  {
   "cell_type": "code",
   "execution_count": 62,
   "metadata": {},
   "outputs": [
    {
     "data": {
      "image/png": "[encoded data removed]",
      "text/plain": [
       "<Figure size 432x288 with 1 Axes>"
      ]
     },
     "metadata": {
      "needs_background": "light"
     },
     "output_type": "display_data"
    }
   ],
   "source": [
    "# Scale을 동일하게 수정: xlim(), ylim()함수: x, y축의 범위를 지정\n",
    "\n",
    "plt.scatter(train_input[:, 0], train_input[:, 1], label='train_data', color='b')\n",
    "plt.scatter(25, 150, marker='^', color='orange', label='Unknown')\n",
    "plt.scatter(train_input[indexes, 0], train_input[indexes, 1], marker='D', label='neighbors', color='r')\n",
    "\n",
    "plt.xlim((0, 1000)) # x축의 눈금 간격을 y축과 동일하게 변경\n",
    "\n",
    "plt.xlabel('length')\n",
    "plt.ylabel('weight')\n",
    "plt.legend()\n",
    "plt.show()"
   ]
  },
  {
   "cell_type": "code",
   "execution_count": null,
   "metadata": {},
   "outputs": [],
   "source": []
  },
  {
   "cell_type": "code",
   "execution_count": null,
   "metadata": {},
   "outputs": [],
   "source": [
    "# 브로드캐스팅(Broadcasting)\n",
    "\n",
    "# 특정 조건에 맞는 경우, 크기가 다른 형태의 배열끼리 연산을 수행\n",
    "# 크기가 작은 쪽의 배열을 큰 쪽의 배열 크기로 확장하여 연산\n",
    "\n",
    "# 조건\n",
    "# 각 배열의 차원의 크기가 일치하거나 \n",
    "# 둘 중 하나의 길이가 1인 경우"
   ]
  },
  {
   "cell_type": "code",
   "execution_count": null,
   "metadata": {},
   "outputs": [],
   "source": [
    "# 데이터 전처리\n",
    "# 특성값을 일정한 기준으로 맞춤\n",
    "\n",
    "# 표준점수(Standard Score, Z점수)\n",
    "# 각 특성(길이, 무게)의 값이 0에서 표준편차의 몇 배 만큼 떨어져 있는지를 나타냄\n",
    "# Z=(x-m)/std (x:특성값,m:평균,std:표준편차)"
   ]
  },
  {
   "cell_type": "code",
   "execution_count": 66,
   "metadata": {},
   "outputs": [
    {
     "name": "stdout",
     "output_type": "stream",
     "text": [
      "[ 27.29722222 454.09722222] [  9.98244253 323.29893931]\n",
      "[[ 0.24070039  0.14198246]\n",
      " [-1.51237757 -1.36683783]\n",
      " [ 0.5712808   0.76060496]]\n"
     ]
    }
   ],
   "source": [
    "# 평균 및 표준편차 계산\n",
    "mean = np.mean(train_input, axis=0) # axes=0: 각 컬럼의 평균 계산\n",
    "std = np.std(train_input, axis=0)\n",
    "print(mean, std) #[length평균 weight평균][length표준편차 weight표준편차]\n",
    "\n",
    "# 표준점수 계산\n",
    "train_scaled = (train_input - mean) / std # 표준 점수로 변환한 데이터\n",
    "print(train_scaled[:3]) # 데이터확인(3개만)"
   ]
  },
  {
   "cell_type": "code",
   "execution_count": 67,
   "metadata": {},
   "outputs": [
    {
     "data": {
      "image/png": "[encoded data removed]",
      "text/plain": [
       "<Figure size 432x288 with 1 Axes>"
      ]
     },
     "metadata": {
      "needs_background": "light"
     },
     "output_type": "display_data"
    }
   ],
   "source": [
    "# 표준 점수로 변환한 훈련 데이터 분포 확인\n",
    "plt.scatter(train_scaled[:, 0], train_scaled[:, 1], label='train_scaled')\n",
    "plt.scatter(25, 150, marker='^', label='unknown') # 표준화x\n",
    "plt.xlabel('length')\n",
    "plt.ylabel('weight')\n",
    "plt.legend()\n",
    "plt.show()"
   ]
  },
  {
   "cell_type": "code",
   "execution_count": 68,
   "metadata": {},
   "outputs": [
    {
     "name": "stdout",
     "output_type": "stream",
     "text": [
      "표준 점수 sample [-0.23012627 -0.94060693]\n"
     ]
    },
    {
     "data": {
      "image/png": "[encoded data removed]",
      "text/plain": [
       "<Figure size 432x288 with 1 Axes>"
      ]
     },
     "metadata": {
      "needs_background": "light"
     },
     "output_type": "display_data"
    }
   ],
   "source": [
    "# 샘플 데이터를 표준 점수로 변환\n",
    "new = ([25, 150] - mean) / std\n",
    "print(\"표준 점수 sample\", new)\n",
    "\n",
    "plt.scatter(train_scaled[:, 0], train_scaled[:, 1], label='train_scaled')\n",
    "plt.scatter(new[0], new[1], marker='^', label='unknown')\n",
    "plt.xlabel('length')\n",
    "plt.ylabel('weight')\n",
    "plt.legend()\n",
    "plt.show()"
   ]
  },
  {
   "cell_type": "code",
   "execution_count": 69,
   "metadata": {},
   "outputs": [
    {
     "name": "stdout",
     "output_type": "stream",
     "text": [
      "1.0\n",
      "[1.]\n"
     ]
    }
   ],
   "source": [
    "# 표준점수로 변환한 훈련 데이터로 k-NN 훈련\n",
    "kn.fit(train_scaled, train_target)\n",
    "\n",
    "# 테스트 세트를 표준 점수로 변환\n",
    "test_scaled = (test_input - mean) / std\n",
    "print(kn.score(test_scaled, test_target))\n",
    "\n",
    "# 표준 점수로 변환된 샘플 데이터를 가지고 예측\n",
    "print(kn.predict([new]))"
   ]
  },
  {
   "cell_type": "code",
   "execution_count": 70,
   "metadata": {},
   "outputs": [
    {
     "name": "stdout",
     "output_type": "stream",
     "text": [
      "[[0.2873737  0.7711188  0.89552179 0.91493515 0.95427626]]\n"
     ]
    },
    {
     "data": {
      "image/png": "[encoded data removed]",
      "text/plain": [
       "<Figure size 432x288 with 1 Axes>"
      ]
     },
     "metadata": {
      "needs_background": "light"
     },
     "output_type": "display_data"
    }
   ],
   "source": [
    "# 표준 점수로 변경된 샘플 데이터의 이웃 찾기 및 산점도\n",
    "distances, indexes = kn.kneighbors([new])\n",
    "print(distances)\n",
    "\n",
    "plt.scatter(train_scaled[:, 0], train_scaled[:, 1], label='train_scaled')\n",
    "plt.scatter(new[0], new[1], marker='^', label='sample')\n",
    "\n",
    "# 이웃 데이터 표시\n",
    "plt.scatter(train_scaled[indexes, 0], train_scaled[indexes, 1], marker='D', label='neighbors')\n",
    "\n",
    "plt.xlabel('length')\n",
    "plt.ylabel('weight')\n",
    "plt.legend()\n",
    "plt.show()"
   ]
  },
  {
   "cell_type": "code",
   "execution_count": null,
   "metadata": {},
   "outputs": [],
   "source": []
  },
  {
   "cell_type": "code",
   "execution_count": null,
   "metadata": {},
   "outputs": [],
   "source": []
  }
 ],
 "metadata": {
  "kernelspec": {
   "display_name": "Python 3.9.10 64-bit",
   "language": "python",
   "name": "python3"
  },
  "language_info": {
   "codemirror_mode": {
    "name": "ipython",
    "version": 3
   },
   "file_extension": ".py",
   "mimetype": "text/x-python",
   "name": "python",
   "nbconvert_exporter": "python",
   "pygments_lexer": "ipython3",
   "version": "3.9.10"
  },
  "orig_nbformat": 4,
  "vscode": {
   "interpreter": {
    "hash": "cf92aa13fedf815d5c8dd192b8d835913fde3e8bc926b2a0ad6cc74ef2ba3ca2"
   }
  }
 },
 "nbformat": 4,
 "nbformat_minor": 2
}
