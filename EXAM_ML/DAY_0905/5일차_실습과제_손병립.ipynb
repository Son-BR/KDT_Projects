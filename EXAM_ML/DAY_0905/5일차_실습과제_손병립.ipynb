{
 "cells": [
  {
   "cell_type": "markdown",
   "metadata": {},
   "source": [
    "# 언어 구분"
   ]
  },
  {
   "cell_type": "code",
   "execution_count": 1,
   "metadata": {},
   "outputs": [],
   "source": [
    "# 모듈 로딩\n",
    "import re\n",
    "import os\n",
    "import numpy as np\n",
    "from sklearn.model_selection import cross_validate\n",
    "from sklearn.linear_model import LogisticRegression"
   ]
  },
  {
   "cell_type": "code",
   "execution_count": 8,
   "metadata": {},
   "outputs": [],
   "source": [
    "# 파일 관련 변수\n",
    "path='../Data/lang/train/'\n",
    "\n",
    "files=os.listdir(path) "
   ]
  },
  {
   "cell_type": "code",
   "execution_count": 9,
   "metadata": {},
   "outputs": [],
   "source": [
    "# 함수 만들기\n",
    "\n",
    "# 파일불러와서 소문자 알파벳만 남기기\n",
    "def alphabet(text):\n",
    "    with open(path+text,mode=\"r\", encoding=\"utf-8\") as f:\n",
    "        text = f.read().lower()\n",
    "        text.replace('\\n', '')\n",
    "        text=re.sub('[^a-z]','', text)\n",
    "    return text\n",
    "\n",
    "\n",
    "# 각 알파벳의 비율 리스트로 반환\n",
    "def al_rate(text):\n",
    "    \n",
    "    alist = [chr(i) for i in range(ord('a'),ord('z')+1)]\n",
    "    \n",
    "    rate_list=[]\n",
    "    \n",
    "    for i in alist:\n",
    "        rate=round((text.count(i)/len(text))*100, 2)\n",
    "        rate_list.append(rate)\n",
    "        \n",
    "    return rate_list\n",
    "\n",
    "\n",
    "# train 데이터를 넘파이 배열로 반환\n",
    "def rate_np():\n",
    "    all_list=[]\n",
    "    for i in files:\n",
    "        al=alphabet(i)\n",
    "        rate=al_rate(al)\n",
    "        all_list.append(rate)\n",
    "    return np.array(all_list)\n",
    "\n",
    "    "
   ]
  },
  {
   "cell_type": "code",
   "execution_count": 10,
   "metadata": {},
   "outputs": [
    {
     "name": "stdout",
     "output_type": "stream",
     "text": [
      "{'fit_time': array([0.02795434, 0.03388047, 0.02194047, 0.04092693, 0.02496743]), 'score_time': array([0.0009973, 0.       , 0.       , 0.       , 0.       ]), 'test_score': array([1., 1., 1., 1., 1.]), 'train_score': array([1., 1., 1., 1., 1.])}\n"
     ]
    }
   ],
   "source": [
    "# 데이터와 타겟\n",
    "data=rate_np()\n",
    "target=np.repeat(['en','fr', 'id', 'tl'], 5)\n",
    "    \n",
    "# 모델 객체 생성 및 학습\n",
    "model=LogisticRegression(max_iter=500)\n",
    "model.fit(data, target)\n",
    "\n",
    "# 교차 검증(5-Fold로 5등분으로 나누어 학습/검증 모델 생성 진행): 기본값\n",
    "result=cross_validate(model, data, target, return_train_score=True)\n",
    "print(result)"
   ]
  },
  {
   "cell_type": "code",
   "execution_count": 12,
   "metadata": {},
   "outputs": [
    {
     "name": "stdout",
     "output_type": "stream",
     "text": [
      "en 예측 : ['en']\n",
      "en 예측 : ['en']\n",
      "fr 예측 : ['fr']\n",
      "fr 예측 : ['fr']\n",
      "id 예측 : ['id']\n",
      "id 예측 : ['id']\n",
      "tl 예측 : ['tl']\n",
      "tl 예측 : ['tl']\n"
     ]
    }
   ],
   "source": [
    "# 예측\n",
    "\n",
    "path='../Data/lang/test/'\n",
    "samples=os.listdir(path) \n",
    "\n",
    "for i in samples:\n",
    "    sample=np.array(al_rate(alphabet(i))).reshape(-1,26)\n",
    "    print(f'{i[:2]} 예측 : {model.predict(sample)}')"
   ]
  },
  {
   "cell_type": "code",
   "execution_count": null,
   "metadata": {},
   "outputs": [],
   "source": []
  }
 ],
 "metadata": {
  "kernelspec": {
   "display_name": "Python 3.9.10 64-bit",
   "language": "python",
   "name": "python3"
  },
  "language_info": {
   "codemirror_mode": {
    "name": "ipython",
    "version": 3
   },
   "file_extension": ".py",
   "mimetype": "text/x-python",
   "name": "python",
   "nbconvert_exporter": "python",
   "pygments_lexer": "ipython3",
   "version": "3.9.10"
  },
  "orig_nbformat": 4,
  "vscode": {
   "interpreter": {
    "hash": "cf92aa13fedf815d5c8dd192b8d835913fde3e8bc926b2a0ad6cc74ef2ba3ca2"
   }
  }
 },
 "nbformat": 4,
 "nbformat_minor": 2
}
