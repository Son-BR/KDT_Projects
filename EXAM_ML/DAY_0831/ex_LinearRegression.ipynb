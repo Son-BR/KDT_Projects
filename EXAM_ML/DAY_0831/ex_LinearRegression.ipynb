{
 "cells": [
  {
   "cell_type": "markdown",
   "metadata": {},
   "source": [
    "# 회귀 알고리즘과 모델 규제\n",
    "## 선형 회귀"
   ]
  },
  {
   "cell_type": "code",
   "execution_count": 66,
   "metadata": {},
   "outputs": [],
   "source": [
    "import numpy as np\n",
    "import matplotlib.pyplot as plt\n",
    "\n",
    "# 농어 데이터\n",
    "perch_length = np.array([8.4, 13.7, 15.0, 16.2, 17.4, 18.0, 18.7, 19.0, \n",
    "                        19.6, 20.0, 21.0, 21.0, 21.0, 21.3, 22.0, 22.0, \n",
    "                        22.0, 22.0, 22.0, 22.5, 22.5, 22.7, 23.0, 23.5, \n",
    "                        24.0, 24.0, 24.6, 25.0, 25.6, 26.5,\t27.3, 27.5, \n",
    "                        27.5, 27.5, 28.0, 28.7, 30.0, 32.8, 34.5, 35.0,\n",
    "                     \t36.5, 36.0, 37.0, 37.0, 39.0, 39.0, 39.0, 40.0, \n",
    "                        40.0, 40.0,\t40.0, 42.0, 43.0, 43.0, 43.5, 44.0])\n",
    "\n",
    "perch_weight = np.array([5.9, 32.0, 40.0, 51.5, 70.0, 100.0, 78.0, 80.0, \n",
    "                         85.0, 85.0, 110.0, 115.0, 125.0, 130.0, 120.0, \n",
    "                         120.0, 130.0, 135.0, 110.0, 130.0,150.0, 145.0,\n",
    "                         150.0, 170.0, 225.0, 145.0, 188.0, 180.0,197.0,\n",
    "                         218.0,300.0, 260.0, 265.0, 250.0, 250.0, 300.0,\n",
    "                         320.0, 514.0, 556.0, 840.0,685.0, 700.0, 700.0,\n",
    "                         690.0, 900.0, 650.0, 820.0, 850.0, 900.0,\n",
    "                         1015.0, 820.0, 1100.0, 1000.0, 1100.0, \n",
    "                         1000.0, 1000.0])"
   ]
  },
  {
   "cell_type": "code",
   "execution_count": 67,
   "metadata": {},
   "outputs": [
    {
     "name": "stdout",
     "output_type": "stream",
     "text": [
      "50cm: [1033.33333333]\n",
      "100cm: [1033.33333333]\n"
     ]
    }
   ],
   "source": [
    "# k-최근접 이웃 알고리즘의 문제점: 훈련 세트 밖의 샘플 예측\n",
    "\n",
    "# 50cm, 100cm 길이의 농어 무게 예측: 동일한 예측값\n",
    "# -> 최근접이웃 데이터가 같기때문에 생기는 문제\n",
    "from sklearn.model_selection import train_test_split\n",
    "\n",
    "# 훈련 세트와 테스트 세트로 나눔\n",
    "train_input, test_input, train_target, test_target = train_test_split(\n",
    "perch_length, perch_weight, random_state=42)\n",
    "\n",
    "# 훈련 세트와 테스트 세트를 2차원 배열로 변경\n",
    "train_input = train_input.reshape(-1, 1)\n",
    "test_input = test_input.reshape(-1, 1)\n",
    "\n",
    "# 객체 생성\n",
    "from sklearn.neighbors import KNeighborsRegressor\n",
    "knr = KNeighborsRegressor(n_neighbors=3)\n",
    "\n",
    "# k-최근접 이웃 회귀 모델을 훈련\n",
    "knr.fit(train_input, train_target)\n",
    "print('50cm:', knr.predict([[50]]))\n",
    "print('100cm:', knr.predict([[100]]))"
   ]
  },
  {
   "cell_type": "code",
   "execution_count": 68,
   "metadata": {},
   "outputs": [
    {
     "data": {
      "image/png": "[encoded data removed]",
      "text/plain": [
       "<Figure size 432x288 with 1 Axes>"
      ]
     },
     "metadata": {
      "needs_background": "light"
     },
     "output_type": "display_data"
    }
   ],
   "source": [
    "# 50cm, 100cm 길이의 농어의 이웃 및 산점도 비교\n",
    "\n",
    "# 50cm 농어의 이웃을 구함\n",
    "distances_50, indexes_50 = knr.kneighbors([[50]])\n",
    "# 100cm 농어의 이웃을 구함\n",
    "distances_100, indexes_100 = knr.kneighbors([[100]])\n",
    "\n",
    "# 훈련 세트의 산점도\n",
    "plt.scatter(train_input, train_target, label='train set')\n",
    "\n",
    "# 훈련 세트 중에서 50cm 농어의 이웃 데이터만 다시 그림\n",
    "plt.scatter(train_input[indexes_50], train_target[indexes_50], marker='D', label='50cm neighbors')\n",
    "# 50cm 농어 데이터\n",
    "plt.scatter(50, 1033, marker='^', label='50cm')\n",
    "\n",
    "# 훈련 세트 중에서 100cm 농어의 이웃 데이터만 다시 그림\n",
    "plt.scatter(train_input[indexes_50], train_target[indexes_50], marker='P', label='100cm neighbors')\n",
    "# 100cm 농어 데이터\n",
    "plt.scatter(100, 1033, marker='s', label='100cm')\n",
    "\n",
    "plt.xlim(0, 110)\n",
    "plt.legend(loc=5)\n",
    "plt.show()"
   ]
  },
  {
   "cell_type": "code",
   "execution_count": 69,
   "metadata": {},
   "outputs": [
    {
     "name": "stdout",
     "output_type": "stream",
     "text": [
      "50cm neighbor indexes: [[34  8 14]]\n",
      "100cm neighbor indexes: [[34  8 14]]\n"
     ]
    }
   ],
   "source": [
    "# 훈련데이터에서 이웃 데이터의 인덱스 확인\n",
    "print('50cm neighbor indexes:', indexes_50)\n",
    "print('100cm neighbor indexes:', indexes_100)"
   ]
  },
  {
   "cell_type": "code",
   "execution_count": 70,
   "metadata": {},
   "outputs": [
    {
     "name": "stdout",
     "output_type": "stream",
     "text": [
      "1033.3333333333333\n",
      "1033.3333333333333\n"
     ]
    }
   ],
   "source": [
    "# 이웃 데이터의 무게 평균 계산\n",
    "print(np.mean(train_target[indexes_50]))\n",
    "print(np.mean(train_target[indexes_100]))\n",
    "\n",
    "# k-최근접 이웃 회귀: 이웃의 평균을 구함\n",
    "# 50cm 농어와 100cm 농어의 이웃이 동일 -> 무게 예측값(1033g)이 동일한 문제점 발생\n",
    "# 해결방안: 선형 회귀(Linear Regression)"
   ]
  },
  {
   "cell_type": "code",
   "execution_count": null,
   "metadata": {},
   "outputs": [],
   "source": []
  },
  {
   "cell_type": "code",
   "execution_count": 71,
   "metadata": {},
   "outputs": [],
   "source": [
    "# 선형 회귀(Linear Regression)\n",
    "# 데이터를 가장 잘 표현할 수 있는 직선 방정식을 찾는 알고리즘\n",
    "# 특성과 타킷 사이의 관계를 가장 잘 나타내는 선형 방정식을 찾음\n",
    "# 특성과 타킷 사이의 관계: 선형 방정식의 계수(기울기) 와 절편에 저장\n",
    "\n",
    "# LinearRegression 클래스 사용\n",
    "# sklearn.linear_model 패키지\n",
    "# fit(), score(), predict() 메소드"
   ]
  },
  {
   "cell_type": "code",
   "execution_count": 75,
   "metadata": {},
   "outputs": [
    {
     "name": "stdout",
     "output_type": "stream",
     "text": [
      "50cm:  [1241.83860323]\n",
      "[39.01714496] -709.0186449535474\n"
     ]
    },
    {
     "data": {
      "text/plain": [
       "(42,)"
      ]
     },
     "execution_count": 75,
     "metadata": {},
     "output_type": "execute_result"
    }
   ],
   "source": [
    "from sklearn.linear_model import LinearRegression\n",
    "\n",
    "lr = LinearRegression()\n",
    "\n",
    "# 선형 회귀 모델 훈련\n",
    "lr.fit(train_input, train_target)\n",
    "\n",
    "# 50cm 농어에 대한 예측\n",
    "print('50cm: ', lr.predict([[50]]))\n",
    "\n",
    "# 기울기(a): coef_, 절편(bias): intercept_\n",
    "print(lr.coef_, lr.intercept_)\n",
    "\n",
    "# 하나의 특성(농어의 길이)만 사용했기 때문에 \"lr.coef_\" 배열의 원소는 1개\n"
   ]
  },
  {
   "cell_type": "code",
   "execution_count": 25,
   "metadata": {},
   "outputs": [
    {
     "data": {
      "image/png": "[encoded data removed]",
      "text/plain": [
       "<Figure size 432x288 with 1 Axes>"
      ]
     },
     "metadata": {
      "needs_background": "light"
     },
     "output_type": "display_data"
    }
   ],
   "source": [
    "# 기울기와 절편을 이용한 1차 방정식 그래프\n",
    "import matplotlib.pyplot as plt\n",
    "\n",
    "# 산점도\n",
    "plt.scatter(train_input, train_target)\n",
    "\n",
    "# 15에서 50까지 1차 방정식 그래프 그리기\n",
    "# plot([x축 데이터:시작, 끝], [y축 데이터:시작, 끝])\n",
    "plt.plot([15, 50], [15*lr.coef_ + lr.intercept_, 50*lr.coef_ + lr.intercept_], color='red', linestyle='--')\n",
    "\n",
    "# 50cm 농어 데이터\n",
    "plt.scatter(50, 1241.8, marker='^', color='orangered')\n",
    "\n",
    "plt.show()"
   ]
  },
  {
   "cell_type": "code",
   "execution_count": 26,
   "metadata": {},
   "outputs": [
    {
     "name": "stdout",
     "output_type": "stream",
     "text": [
      "train data score:  0.9398463339976041\n",
      "test data score:  0.824750312331356\n"
     ]
    }
   ],
   "source": [
    "print('train data score: ', lr.score(train_input, train_target))\n",
    "print('test data score: ', lr.score(test_input, test_target))\n",
    "\n",
    "# 전체적으로 과소 적합(훈련 세트와 테스트 세트의 점수가 모두 낮음)"
   ]
  },
  {
   "cell_type": "code",
   "execution_count": 31,
   "metadata": {},
   "outputs": [
    {
     "name": "stdout",
     "output_type": "stream",
     "text": [
      "[-123.7614705]\n",
      "[-6.71003561]\n"
     ]
    }
   ],
   "source": [
    "print(15*lr.coef_ + lr.intercept_)\n",
    "print(18*lr.coef_ + lr.intercept_)\n",
    "\n",
    "# 농어무게가 0이하로 내려갈 수 있는 문제점 발생"
   ]
  },
  {
   "cell_type": "code",
   "execution_count": null,
   "metadata": {},
   "outputs": [],
   "source": []
  },
  {
   "cell_type": "markdown",
   "metadata": {},
   "source": [
    "## 다항 회귀"
   ]
  },
  {
   "cell_type": "code",
   "execution_count": null,
   "metadata": {},
   "outputs": [],
   "source": [
    "# 다항 회귀(Polynomial Regression)\n",
    "\n",
    "# 농어의 길이와 무게에 대한 산점도: 일직선(1차 방정식)으로 표현하기 어려움\n",
    "# 무게가 0 이하일 가능성 발생 -> 모델이 더 복잡할 필요성이 있음\n",
    "\n",
    "# 최적의 곡선(2차 방정식)을 구함\n",
    "# 길이를 제곱한 항을 훈련 세트에 추가해야 됨"
   ]
  },
  {
   "cell_type": "code",
   "execution_count": 32,
   "metadata": {},
   "outputs": [
    {
     "name": "stdout",
     "output_type": "stream",
     "text": [
      "[[ 384.16   19.6 ]\n",
      " [ 484.     22.  ]\n",
      " [ 349.69   18.7 ]\n",
      " [ 302.76   17.4 ]\n",
      " [1296.     36.  ]]\n",
      "(42, 2) (14, 2)\n"
     ]
    }
   ],
   "source": [
    "# 길이를 제곱한 데이터를 훈련 세트에 추가\n",
    "# column_stack()사용(broadcasting 적용)\n",
    "\n",
    "# 훈련 데이터\n",
    "# 제곱한 input배열을 기존 input배열과 합치기(길이^2, 길이)\n",
    "train_poly = np.column_stack((train_input**2, train_input))\n",
    "test_poly = np.column_stack((test_input**2, test_input))\n",
    "\n",
    "print(train_poly[0:5])\n",
    "print(train_poly.shape, test_poly.shape)"
   ]
  },
  {
   "cell_type": "code",
   "execution_count": 33,
   "metadata": {},
   "outputs": [
    {
     "name": "stdout",
     "output_type": "stream",
     "text": [
      "[1573.98423528]\n",
      "[  1.01433211 -21.55792498] 116.0502107827827\n"
     ]
    }
   ],
   "source": [
    "# 선형 회귀 모델 재훈련\n",
    "# 제곱한 데이터를 이용하여 선형 회귀 모델을 다시 훈련, 타깃값은 그대로 사용함\n",
    "\n",
    "lr = LinearRegression()\n",
    "lr.fit(train_poly, train_target)\n",
    "\n",
    "print(lr.predict([[50**2, 50]])) # 50cm 농어의 무게 예측\n",
    "print(lr.coef_, lr.intercept_) # 순서대로 a, b, c로 사용"
   ]
  },
  {
   "cell_type": "code",
   "execution_count": 37,
   "metadata": {},
   "outputs": [
    {
     "data": {
      "image/png": "[encoded data removed]",
      "text/plain": [
       "<Figure size 432x288 with 1 Axes>"
      ]
     },
     "metadata": {
      "needs_background": "light"
     },
     "output_type": "display_data"
    }
   ],
   "source": [
    "# 훈련 세트의 산점도와 2차 방정식 그래프\n",
    " \n",
    "# 구간별 직선을 그리기 위해 15에서 50까지 정수 배열을 만듬\n",
    "point= np.arange(15, 51) # 농어의 길이 배열\n",
    "\n",
    "# 훈련 세트의 산점도 그리기\n",
    "plt.scatter(train_input, train_target)\n",
    "\n",
    "# 15에서 49까지 2차 방정식 그래프 그리기\n",
    "plt.plot(point, 1.01*point**2 - 21.6*point + 116.05, color='red', linestyle='--')\n",
    "\n",
    "# 50cm 농어 데이터(무게:1574g)\n",
    "plt.scatter([50], [1574], marker='^')\n",
    "plt.xlabel('length')\n",
    "plt.ylabel('weight')\n",
    "plt.show()"
   ]
  },
  {
   "cell_type": "code",
   "execution_count": 38,
   "metadata": {},
   "outputs": [
    {
     "name": "stdout",
     "output_type": "stream",
     "text": [
      "0.9706807451768623\n",
      "0.9775935108325122\n"
     ]
    }
   ],
   "source": [
    "print(lr.score(train_poly, train_target))\n",
    "print(lr.score(test_poly, test_target))\n",
    "\n",
    "# 과소 적합이 남아있긴하지만 테스트 세트의 점수가 높음"
   ]
  },
  {
   "cell_type": "code",
   "execution_count": null,
   "metadata": {},
   "outputs": [],
   "source": []
  },
  {
   "cell_type": "markdown",
   "metadata": {},
   "source": [
    "## 다중 회귀"
   ]
  },
  {
   "cell_type": "code",
   "execution_count": null,
   "metadata": {},
   "outputs": [],
   "source": [
    "# 다중 회귀 (Multiple Regression)\n",
    "# 여러 특성을 사용한 선형 회귀\n",
    "# 길이, 높이, 두께 사용\n",
    "# 다양한 특성의 조합을 생성\n",
    "\n",
    "# PolynomialFeatures 클래스 사용\n",
    "\n",
    "# 특성 공학 (Feature engineering)\n",
    "# 기존의 특성을 사용하여 새로운 특성을 뽑아내는 작업\n",
    "# 특성이 2개인 경우 평면을 학습"
   ]
  },
  {
   "cell_type": "code",
   "execution_count": 40,
   "metadata": {},
   "outputs": [
    {
     "name": "stdout",
     "output_type": "stream",
     "text": [
      "[[ 8.4   2.11  1.41]\n",
      " [13.7   3.53  2.  ]\n",
      " [15.    3.82  2.43]\n",
      " [16.2   4.59  2.63]\n",
      " [17.4   4.59  2.94]]\n",
      "(56, 3)\n"
     ]
    }
   ],
   "source": [
    "import pandas as pd\n",
    "\n",
    "# 데이터 불러오기\n",
    "df = pd.read_csv('https://bit.ly/perch_csv')\n",
    "\n",
    "# DataFrame을 Numpy의 array로 변환\n",
    "perch_full = df.to_numpy() \n",
    "print(perch_full[:5])\n",
    "print(perch_full.shape)\n",
    "\n",
    "# perch_full: length, height, width 데이터"
   ]
  },
  {
   "cell_type": "code",
   "execution_count": 41,
   "metadata": {},
   "outputs": [],
   "source": [
    "import numpy as np\n",
    "\n",
    "# 데이터(perch_weight)는 기존과 동일\n",
    "perch_weight = np.array(\n",
    "[5.9, 32.0, 40.0, 51.5, 70.0, 100.0, 78.0, 80.0, 85.0, 85.0,\n",
    "110.0, 115.0, 125.0, 130.0, 120.0, 120.0, 130.0, 135.0, 110.0,\n",
    "130.0, 150.0, 145.0, 150.0, 170.0, 225.0, 145.0, 188.0, 180.0,\n",
    "197.0, 218.0, 300.0, 260.0, 265.0, 250.0, 250.0, 300.0, 320.0,\n",
    "514.0, 556.0, 840.0, 685.0, 700.0, 700.0, 690.0, 900.0, 650.0,\n",
    "820.0, 850.0, 900.0, 1015.0, 820.0, 1100.0, 1000.0, 1100.0,\n",
    "1000.0, 1000.0])\n",
    "\n",
    "# perch_full, perch_weight를 훈련 세트와 테스트 세트로 분리\n",
    "from sklearn.model_selection import train_test_split\n",
    "\n",
    "train_input, test_input, train_target, test_target = train_test_split(perch_full, perch_weight, random_state = 42)"
   ]
  },
  {
   "cell_type": "code",
   "execution_count": null,
   "metadata": {},
   "outputs": [],
   "source": [
    "# 사이킷런의 변환기 (Transformer)\n",
    "\n",
    "# 다항 특성 만들기\n",
    "# PolynomialFeatures 클래스 사용\n",
    "# 각 특성을 제곱한 항을 추가하고, 특성끼리 서로 곱한 항을 추가\n",
    "\n",
    "# PloynomialFeatures(include_bias=True)\n",
    "# include_bias=True: bias(절편, 0차항) 추가\n",
    "# include_bias=False: bias 삭제\n",
    "\n",
    "# fit([a, b]): 특성 조합을 찾음\n",
    "# [1, a, b, a*b, a^2, b^2] 추가\n",
    "\n",
    "# transform([[a, b]]): 특성 조합을 실제 데이터로 변환\n",
    "# [1, a, b, a*b, a^2, b^2] 로 변환"
   ]
  },
  {
   "cell_type": "code",
   "execution_count": 42,
   "metadata": {},
   "outputs": [
    {
     "name": "stdout",
     "output_type": "stream",
     "text": [
      "[[1. 2. 3. 4. 6. 9.]]\n"
     ]
    }
   ],
   "source": [
    "# PolynomialFeatures(include_bias=True)\n",
    "\n",
    "from sklearn.preprocessing import PolynomialFeatures\n",
    "\n",
    "poly = PolynomialFeatures() # include_bias=True (기본값)\n",
    "\n",
    "poly.fit([[2, 3]]) # 2, 3의 조합을 찾음(2^2, 3^2, 2x3)\n",
    "print(poly.transform([[2, 3]])) # 특성 조합을 데이터로 변환"
   ]
  },
  {
   "cell_type": "code",
   "execution_count": 43,
   "metadata": {},
   "outputs": [
    {
     "name": "stdout",
     "output_type": "stream",
     "text": [
      "[[2. 3. 4. 6. 9.]]\n"
     ]
    }
   ],
   "source": [
    "# PolynomialFeatures(include_bias=False)\n",
    "\n",
    "from sklearn.preprocessing import PolynomialFeatures\n",
    "\n",
    "poly = PolynomialFeatures(include_bias=False) # include_bias=False: 1 제거\n",
    "\n",
    "poly.fit([[2, 3]])\n",
    "print(poly.transform([[2, 3]]))"
   ]
  },
  {
   "cell_type": "code",
   "execution_count": 45,
   "metadata": {},
   "outputs": [
    {
     "name": "stdout",
     "output_type": "stream",
     "text": [
      "[[ 19.6      5.14     3.04   384.16   100.744   59.584   26.4196  15.6256\n",
      "    9.2416]\n",
      " [ 22.       5.88     3.52   484.     129.36    77.44    34.5744  20.6976\n",
      "   12.3904]\n",
      " [ 18.7      5.2      3.12   349.69    97.24    58.344   27.04    16.224\n",
      "    9.7344]]\n",
      "(42, 9)\n"
     ]
    }
   ],
   "source": [
    "# 훈련 세트(train_input)을 사용하여 다항 특성 만들기\n",
    "\n",
    "from sklearn.preprocessing import PolynomialFeatures\n",
    "\n",
    "poly = PolynomialFeatures(include_bias=False)\n",
    "poly.fit(train_input)\n",
    "train_poly = poly.transform(train_input) # train_input 데이터를 이용하여 총 9개의 특성이 만들어짐\n",
    "\n",
    "print(train_poly[0:3])\n",
    "print(train_poly.shape)\n",
    "test_poly = poly.transform(test_input) # 테스트 세트 변환: fit()호출 안함\n",
    "# 훈련 세트를 기준으로 만들어진 특성을 이용하여 테스트 세트를 변환하기 위함"
   ]
  },
  {
   "cell_type": "code",
   "execution_count": 47,
   "metadata": {},
   "outputs": [
    {
     "name": "stdout",
     "output_type": "stream",
     "text": [
      "['x0' 'x1' 'x2' 'x0^2' 'x0 x1' 'x0 x2' 'x1^2' 'x1 x2' 'x2^2']\n"
     ]
    }
   ],
   "source": [
    "# get_feature_names(): 각 특성의 조합을 알려줌\n",
    "# x0:length x1:width x2:height\n",
    "print(poly.get_feature_names_out())\n",
    "# poly.get_feature_names() -> poly.get_feature_names_out() 메서드명 바뀜"
   ]
  },
  {
   "cell_type": "code",
   "execution_count": 48,
   "metadata": {},
   "outputs": [
    {
     "name": "stdout",
     "output_type": "stream",
     "text": [
      "0.9903183436982126\n"
     ]
    }
   ],
   "source": [
    "# 다중 회귀 모델 훈련\n",
    "# 선형 회귀 모델 훈련과 동일 (여러 개의 특성을 사용할 뿐임)\n",
    "# 특성이 늘어나면 선형 회귀의 정확도 증가\n",
    "\n",
    "from sklearn.linear_model import LinearRegression\n",
    "\n",
    "lr = LinearRegression()\n",
    "lr.fit(train_poly, train_target)\n",
    "\n",
    "# 훈련세트 점수\n",
    "print(lr.score(train_poly, train_target))"
   ]
  },
  {
   "cell_type": "code",
   "execution_count": 49,
   "metadata": {},
   "outputs": [
    {
     "name": "stdout",
     "output_type": "stream",
     "text": [
      "0.9714559911594125\n"
     ]
    }
   ],
   "source": [
    "# 테스트 세트 점수\n",
    "print(lr.score(test_poly, test_target))"
   ]
  },
  {
   "cell_type": "code",
   "execution_count": 50,
   "metadata": {},
   "outputs": [
    {
     "name": "stdout",
     "output_type": "stream",
     "text": [
      "(42, 55)\n"
     ]
    }
   ],
   "source": [
    "# degree 증가\n",
    "# 고차항의 최대 차수 지정\n",
    "# 3제곱, 4제곱, 5제곱 항 추가\n",
    "poly = PolynomialFeatures(degree=5, include_bias=False)\n",
    "\n",
    "poly.fit(train_input)\n",
    "train_poly = poly.transform(train_input)\n",
    "test_poly = poly.transform(test_input)\n",
    "print(train_poly.shape)"
   ]
  },
  {
   "cell_type": "code",
   "execution_count": 51,
   "metadata": {},
   "outputs": [
    {
     "name": "stdout",
     "output_type": "stream",
     "text": [
      "0.9999999999997232\n",
      "-144.40564483377855\n"
     ]
    }
   ],
   "source": [
    "# 선형 회귀 모델 훈련 및 훈련 세트 점수 계산\n",
    "lr.fit(train_poly, train_target)\n",
    "print(lr.score(train_poly, train_target))\n",
    "\n",
    "# 테스트 세트 점수 계산\n",
    "print(lr.score(test_poly, test_target))\n",
    "# 점수 마이너스: 훈련 세트에 과대 적합"
   ]
  },
  {
   "cell_type": "code",
   "execution_count": null,
   "metadata": {},
   "outputs": [],
   "source": [
    "# 규제 (Regularization)\n",
    "# 모델이 훈련 세트에 과대 적합되는 것을 방지\n",
    "# 선형 회귀 모델: 특성에 곱해지는 계수의 크기를 작게 줄임\n",
    "\n",
    "# 규제 전에 표준화 과정이 필요\n",
    "# 각 특성의 크기(스케일)가 다르기 때문에 표준화 과정이 필요\n",
    "# StandardScaler 클래스 사용\n",
    "\n",
    "# L1 규제 (L1 Regularization)\n",
    "# 계수(가중치)의 합을 더한 값에 규제 강도(ƛ)를 곱하여 오차에 더함\n",
    "# 어떤 가중치는 0이 됨: 일부 변수가 중요할때\n",
    "# 라쏘(Lasso) 모델: 계수(가중치)의 절대값을 기준으로 규제\n",
    "\n",
    "# L2 규제 (L2 Regularization)\n",
    "# 각 계수(가중치) 제곱의 합에 규제 강도(ƛ)를 곱합\n",
    "# ƛ를 크게 하면 가중치가 더 감소(규제 강화), ƛ를 작게 하면 가중치가 증가\n",
    "# 각각의 변수가 골고루 중요할때\n",
    "# 릿지(Ridge) 모델: 계수를 제곱한 값을 기준으로 규제\n"
   ]
  },
  {
   "cell_type": "code",
   "execution_count": 53,
   "metadata": {},
   "outputs": [],
   "source": [
    "# StandardScaler 클래스를 사용한 표준화\n",
    "# 평균과 표준 편차 사용\n",
    "# fit(), transform() 사용\n",
    "\n",
    "from sklearn.preprocessing import StandardScaler\n",
    "\n",
    "ss = StandardScaler()\n",
    "ss.fit(train_poly)\n",
    "train_scaled = ss.transform(train_poly)\n",
    "test_scaled = ss.transform(test_poly)"
   ]
  },
  {
   "cell_type": "code",
   "execution_count": 54,
   "metadata": {},
   "outputs": [
    {
     "name": "stdout",
     "output_type": "stream",
     "text": [
      "0.9896101671037343\n"
     ]
    }
   ],
   "source": [
    "# 릿지 회귀\n",
    "# sklearn.linear_model 패키지\n",
    "# fit()로 훈련, score()메소드로 평가\n",
    "# Ridge(alpha=1.0): alpha값이 크면 규제 강도가 세짐 (계수 값을 더 줄임)\n",
    "\n",
    "from sklearn.linear_model import Ridge\n",
    "\n",
    "ridge = Ridge() # alpha=1.0\n",
    "ridge.fit(train_scaled, train_target)\n",
    "print(ridge.score(train_scaled, train_target)) #훈련 세트 점수 확인"
   ]
  },
  {
   "cell_type": "code",
   "execution_count": 55,
   "metadata": {},
   "outputs": [
    {
     "name": "stdout",
     "output_type": "stream",
     "text": [
      "0.9790693977615387\n"
     ]
    }
   ],
   "source": [
    "# 테스트 세트의 점수가 정상으로 돌아옴\n",
    "print(ridge.score(test_scaled, test_target))"
   ]
  },
  {
   "cell_type": "code",
   "execution_count": 56,
   "metadata": {},
   "outputs": [
    {
     "data": {
      "image/png": "[encoded data removed]",
      "text/plain": [
       "<Figure size 432x288 with 1 Axes>"
      ]
     },
     "metadata": {
      "needs_background": "light"
     },
     "output_type": "display_data"
    }
   ],
   "source": [
    "# 적절한 alpha 값 찾기\n",
    "import matplotlib.pyplot as plt\n",
    "\n",
    "train_score = []\n",
    "test_score = []\n",
    "\n",
    "alpha_list = [0.001, 0.01, 0.1, 1, 10, 100]\n",
    "\n",
    "for alpha in alpha_list:\n",
    "    ridge = Ridge(alpha=alpha)\n",
    "    ridge.fit(train_scaled, train_target)\n",
    "    #훈련 세트와 테스트 세트 점수를 저장\n",
    "    train_score.append(ridge.score(train_scaled, train_target))\n",
    "    test_score.append(ridge.score(test_scaled, test_target))\n",
    "\n",
    "plt.plot(np.log10(alpha_list), train_score, label='train_set score', marker='o', markersize=3)\n",
    "plt.plot(np.log10(alpha_list), test_score, label='test_set score', marker='s', markersize=3)\n",
    "\n",
    "plt.xlabel('alpha')\n",
    "plt.ylabel('R^2')\n",
    "plt.legend()\n",
    "plt.show()\n",
    "\n",
    "# alpha값을 변경하면서 결정 계수(R2)의 값을 비교\n",
    "# alpha=0.1 (-1은 log 적용 10^-1/log10^-1=0.1)일 때, 두 그래프가 가장 가까움 => 적합"
   ]
  },
  {
   "cell_type": "code",
   "execution_count": 57,
   "metadata": {},
   "outputs": [
    {
     "name": "stdout",
     "output_type": "stream",
     "text": [
      "0.9903815817570367\n",
      "0.9827976465386928\n"
     ]
    }
   ],
   "source": [
    "# 릿지 회귀: 최적의 alpha적용\n",
    "# alpha=0.1 적용\n",
    "ridge = Ridge(alpha=0.1)\n",
    "ridge.fit(train_scaled, train_target)\n",
    "\n",
    "print(ridge.score(train_scaled, train_target))\n",
    "print(ridge.score(test_scaled, test_target))"
   ]
  },
  {
   "cell_type": "code",
   "execution_count": 64,
   "metadata": {},
   "outputs": [
    {
     "name": "stdout",
     "output_type": "stream",
     "text": [
      "0.989789897208096\n",
      "0.9800593698421883\n"
     ]
    }
   ],
   "source": [
    "# 라쏘(Lasso) 회귀\n",
    "# 불필요한 계수를 급격히 감소, 0으로 만들어 제거\n",
    "# sklearn.linear_model 패키지\n",
    "# fit()로 훈련, score()메소드로 평가\n",
    "# Lasso(alpha=1.0): alpha값이 크면 규제 강도가 세짐 (계수 값을 더 줄임)\n",
    "                  # alpha=0.0: 기존 선형 회귀와 동일\n",
    "                  \n",
    "from sklearn.linear_model import Lasso\n",
    "\n",
    "lasso = Lasso()\n",
    "lasso.fit(train_scaled, train_target)\n",
    "\n",
    "print(lasso.score(train_scaled, train_target))\n",
    "print(lasso.score(test_scaled, test_target))"
   ]
  },
  {
   "cell_type": "code",
   "execution_count": 62,
   "metadata": {},
   "outputs": [
    {
     "name": "stderr",
     "output_type": "stream",
     "text": [
      "c:\\Users\\User\\AppData\\Local\\Programs\\Python\\Python39\\lib\\site-packages\\sklearn\\linear_model\\_coordinate_descent.py:648: ConvergenceWarning: Objective did not converge. You might want to increase the number of iterations, check the scale of the features or consider increasing regularisation. Duality gap: 1.878e+04, tolerance: 5.183e+02\n",
      "  model = cd_fast.enet_coordinate_descent(\n",
      "c:\\Users\\User\\AppData\\Local\\Programs\\Python\\Python39\\lib\\site-packages\\sklearn\\linear_model\\_coordinate_descent.py:648: ConvergenceWarning: Objective did not converge. You might want to increase the number of iterations, check the scale of the features or consider increasing regularisation. Duality gap: 1.297e+04, tolerance: 5.183e+02\n",
      "  model = cd_fast.enet_coordinate_descent(\n"
     ]
    },
    {
     "data": {
      "image/png": "[encoded data removed]",
      "text/plain": [
       "<Figure size 432x288 with 1 Axes>"
      ]
     },
     "metadata": {
      "needs_background": "light"
     },
     "output_type": "display_data"
    }
   ],
   "source": [
    "# 라쏘 회귀: 적절한 규제 강도 찾기\n",
    "train_score = []\n",
    "test_score = []\n",
    "\n",
    "alpha_list = [0.001, 0.01, 0.1, 1, 10, 100]\n",
    "\n",
    "for alpha in alpha_list:\n",
    "    # 라쏘 모델을 만듭니다\n",
    "    lasso = Lasso(alpha=alpha, max_iter=10000)\n",
    "    # 라쏘 모델을 훈련합니다\n",
    "    lasso.fit(train_scaled, train_target)\n",
    "    # 훈련 점수와 테스트 점수를 저장합니다\n",
    "    train_score.append(lasso.score(train_scaled, train_target))\n",
    "    test_score.append(lasso.score(test_scaled, test_target))\n",
    "    \n",
    "plt.plot(np.log10(alpha_list), train_score, label='train_set score', marker='o', markersize=3)\n",
    "plt.plot(np.log10(alpha_list), test_score, label='test_set score', marker='s', markersize=3)\n",
    "plt.xlabel('alpha')\n",
    "plt.ylabel('R^2')\n",
    "plt.legend()\n",
    "plt.show()\n",
    "\n",
    "# alpha값을 변경하면서 결정 계수(R2)의 값을 비교\n",
    "# alpha=10일 때, 최적 (10^1=10)"
   ]
  },
  {
   "cell_type": "code",
   "execution_count": 63,
   "metadata": {},
   "outputs": [
    {
     "name": "stdout",
     "output_type": "stream",
     "text": [
      "0.9888067471131867\n",
      "0.9824470598706695\n"
     ]
    }
   ],
   "source": [
    "# 라쏘 회귀: 최적의 alpha적용\n",
    "lasso = Lasso(alpha=10)\n",
    "lasso.fit(train_scaled, train_target)\n",
    "\n",
    "print(lasso.score(train_scaled, train_target))\n",
    "print(lasso.score(test_scaled, test_target))"
   ]
  },
  {
   "cell_type": "code",
   "execution_count": null,
   "metadata": {},
   "outputs": [],
   "source": []
  }
 ],
 "metadata": {
  "kernelspec": {
   "display_name": "Python 3.9.10 64-bit",
   "language": "python",
   "name": "python3"
  },
  "language_info": {
   "codemirror_mode": {
    "name": "ipython",
    "version": 3
   },
   "file_extension": ".py",
   "mimetype": "text/x-python",
   "name": "python",
   "nbconvert_exporter": "python",
   "pygments_lexer": "ipython3",
   "version": "3.9.10"
  },
  "orig_nbformat": 4,
  "vscode": {
   "interpreter": {
    "hash": "cf92aa13fedf815d5c8dd192b8d835913fde3e8bc926b2a0ad6cc74ef2ba3ca2"
   }
  }
 },
 "nbformat": 4,
 "nbformat_minor": 2
}
