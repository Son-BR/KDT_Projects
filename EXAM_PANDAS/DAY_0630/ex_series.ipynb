{
 "cells": [
  {
   "cell_type": "markdown",
   "id": "6bdf15b4",
   "metadata": {},
   "source": [
    "# 시리즈(Series) 타입 실습 ----------------------------\n",
    " - Pandas 1종류(1차원 배열/세로 벡터) 데이터를 저장하는 데이터 타입(Type)\n",
    " \n",
    " - 생성 : Series 객체 생성"
   ]
  },
  {
   "cell_type": "code",
   "execution_count": 38,
   "id": "0c0baf27",
   "metadata": {},
   "outputs": [],
   "source": [
    "# 모듈로딩\n",
    "import pandas as pd\n",
    "\n",
    "# Series 객체 생성\n",
    "sr=pd.Series([1,2,3,4])"
   ]
  },
  {
   "cell_type": "code",
   "execution_count": 39,
   "id": "e932e46f",
   "metadata": {},
   "outputs": [
    {
     "data": {
      "text/plain": [
       "0    1\n",
       "1    2\n",
       "2    3\n",
       "3    4\n",
       "dtype: int64"
      ]
     },
     "execution_count": 39,
     "metadata": {},
     "output_type": "execute_result"
    }
   ],
   "source": [
    "# 생성된 Series 객체 데이터 확인하기\n",
    "sr"
   ]
  },
  {
   "cell_type": "code",
   "execution_count": 40,
   "id": "6499a110",
   "metadata": {},
   "outputs": [
    {
     "data": {
      "text/plain": [
       "RangeIndex(start=0, stop=4, step=1)"
      ]
     },
     "execution_count": 40,
     "metadata": {},
     "output_type": "execute_result"
    }
   ],
   "source": [
    "# Series 객체의 속성 Attribute => 객체변수명.속성명\n",
    "# 인덱스 속성\n",
    "sr.index"
   ]
  },
  {
   "cell_type": "code",
   "execution_count": 41,
   "id": "a39eefb6",
   "metadata": {},
   "outputs": [
    {
     "data": {
      "text/plain": [
       "array([1, 2, 3, 4], dtype=int64)"
      ]
     },
     "execution_count": 41,
     "metadata": {},
     "output_type": "execute_result"
    }
   ],
   "source": [
    "# 값 속성\n",
    "sr.values"
   ]
  },
  {
   "cell_type": "code",
   "execution_count": 42,
   "id": "8eae40e7",
   "metadata": {},
   "outputs": [
    {
     "data": {
      "text/plain": [
       "1"
      ]
     },
     "execution_count": 42,
     "metadata": {},
     "output_type": "execute_result"
    }
   ],
   "source": [
    "# 차원(Dimetion) 속성\n",
    "sr.ndim"
   ]
  },
  {
   "cell_type": "code",
   "execution_count": 43,
   "id": "d014c2cd",
   "metadata": {},
   "outputs": [
    {
     "data": {
      "text/plain": [
       "(4,)"
      ]
     },
     "execution_count": 43,
     "metadata": {},
     "output_type": "execute_result"
    }
   ],
   "source": [
    "# 형(shape) 속성\n",
    "sr.shape"
   ]
  },
  {
   "cell_type": "code",
   "execution_count": 44,
   "id": "68f5ac96",
   "metadata": {},
   "outputs": [
    {
     "data": {
      "text/plain": [
       "(32, 4)"
      ]
     },
     "execution_count": 44,
     "metadata": {},
     "output_type": "execute_result"
    }
   ],
   "source": [
    "# 실제 사용 메모리 byte, 데이터 개수\n",
    "sr.nbytes, sr.size"
   ]
  },
  {
   "cell_type": "code",
   "execution_count": 45,
   "id": "f307700b",
   "metadata": {},
   "outputs": [
    {
     "data": {
      "text/plain": [
       "0      1\n",
       "1      4\n",
       "2      A\n",
       "3    4.5\n",
       "dtype: object"
      ]
     },
     "execution_count": 45,
     "metadata": {},
     "output_type": "execute_result"
    }
   ],
   "source": [
    "# 여러 타입의 데이터로 Series 객체 생성\n",
    "sr2=pd.Series([1,4,'A',4.5])\n",
    "sr2"
   ]
  },
  {
   "cell_type": "code",
   "execution_count": 46,
   "id": "e2f19fed",
   "metadata": {},
   "outputs": [
    {
     "name": "stdout",
     "output_type": "stream",
     "text": [
      "index : RangeIndex(start=0, stop=4, step=1)\n",
      "values : [1 4 'A' 4.5]\n",
      "type : <class 'numpy.ndarray'>\n",
      "array : <PandasArray>\n",
      "[1, 4, 'A', 4.5]\n",
      "Length: 4, dtype: object\n",
      "0      1\n",
      "1      4\n",
      "2      A\n",
      "3    4.5\n",
      "dtype: object\n"
     ]
    }
   ],
   "source": [
    "# Series 객체 속성 읽기\n",
    "print(f'index : {sr2.index}')\n",
    "print(f'values : {sr2.values}'), print(f'type : {type(sr2.values)}')\n",
    "print(f'array : {sr2.array}')\n",
    "print(sr2)"
   ]
  },
  {
   "cell_type": "code",
   "execution_count": 47,
   "id": "9b4c83e4",
   "metadata": {},
   "outputs": [
    {
     "data": {
      "text/plain": [
       "name     HONG\n",
       "Age        12\n",
       "loc     Daegu\n",
       "dtype: object"
      ]
     },
     "execution_count": 47,
     "metadata": {},
     "output_type": "execute_result"
    }
   ],
   "source": [
    "# Dict 데이터로 Series 객체 생성\n",
    "sr3=pd.Series({'name':'HONG','Age':'12','loc':'Daegu'})\n",
    "sr3"
   ]
  },
  {
   "cell_type": "code",
   "execution_count": 48,
   "id": "45ac33ba",
   "metadata": {},
   "outputs": [
    {
     "data": {
      "text/plain": [
       "하나    a\n",
       "둘     b\n",
       "셋     c\n",
       "dtype: object"
      ]
     },
     "execution_count": 48,
     "metadata": {},
     "output_type": "execute_result"
    }
   ],
   "source": [
    "# Series 객체 생성\n",
    "sr=pd.Series(['a','b','c'], index=['하나','둘','셋'])\n",
    "sr"
   ]
  },
  {
   "cell_type": "code",
   "execution_count": 49,
   "id": "a4041342",
   "metadata": {},
   "outputs": [
    {
     "data": {
      "text/plain": [
       "0    a\n",
       "1    b\n",
       "2    c\n",
       "dtype: object"
      ]
     },
     "execution_count": 49,
     "metadata": {},
     "output_type": "execute_result"
    }
   ],
   "source": [
    "sr2=pd.Series(['a','b','c'])\n",
    "sr2"
   ]
  },
  {
   "cell_type": "code",
   "execution_count": 50,
   "id": "a2dde35e",
   "metadata": {},
   "outputs": [
    {
     "data": {
      "text/plain": [
       "11    a\n",
       "22    b\n",
       "33    c\n",
       "dtype: object"
      ]
     },
     "execution_count": 50,
     "metadata": {},
     "output_type": "execute_result"
    }
   ],
   "source": [
    "# 인덱스 새로운 값으로 설정 => 객체변수명.속성명=새로운값\n",
    "sr2.index=[11,22,33]\n",
    "sr2"
   ]
  },
  {
   "cell_type": "markdown",
   "id": "8f71b7b5",
   "metadata": {},
   "source": [
    "# 시리즈(Series) 객체의 원소/요소 다루기\n",
    "\n",
    " - 방법\n",
    "    - 시리즈 객체[인덱스 번호]\n",
    "    - 시리즈 객체[인덱스 라벨]"
   ]
  },
  {
   "cell_type": "code",
   "execution_count": 51,
   "id": "be42ce7e",
   "metadata": {},
   "outputs": [
    {
     "data": {
      "text/plain": [
       "'b'"
      ]
     },
     "execution_count": 51,
     "metadata": {},
     "output_type": "execute_result"
    }
   ],
   "source": [
    "# 1번원소 읽기\n",
    "sr2.index\n",
    "sr2[22]"
   ]
  },
  {
   "cell_type": "code",
   "execution_count": 52,
   "id": "e9c05cec",
   "metadata": {},
   "outputs": [
    {
     "data": {
      "text/plain": [
       "Index(['one', 'two', 'three'], dtype='object')"
      ]
     },
     "execution_count": 52,
     "metadata": {},
     "output_type": "execute_result"
    }
   ],
   "source": [
    "# 문자형 인덱스로 새롭게 설정 => 정수형인덱스와 함께 존재\n",
    "sr2.index=['one','two','three']\n",
    "sr2.index"
   ]
  },
  {
   "cell_type": "code",
   "execution_count": 53,
   "id": "ec13a144",
   "metadata": {},
   "outputs": [
    {
     "data": {
      "text/plain": [
       "('b', 'b', 'c', 'c')"
      ]
     },
     "execution_count": 53,
     "metadata": {},
     "output_type": "execute_result"
    }
   ],
   "source": [
    "sr2['two'], sr2[1], sr2['three'], sr2[2]"
   ]
  },
  {
   "cell_type": "code",
   "execution_count": 60,
   "id": "156c9225",
   "metadata": {},
   "outputs": [
    {
     "data": {
      "text/plain": [
       "name    HONG\n",
       "Age       12\n",
       "dtype: object"
      ]
     },
     "execution_count": 60,
     "metadata": {},
     "output_type": "execute_result"
    }
   ],
   "source": [
    "sr3=pd.Series({'name':'HONG','Age':'12'})\n",
    "sr3"
   ]
  },
  {
   "cell_type": "code",
   "execution_count": 57,
   "id": "3f837cb5",
   "metadata": {},
   "outputs": [
    {
     "data": {
      "text/plain": [
       "Index(['name', 'Age'], dtype='object')"
      ]
     },
     "execution_count": 57,
     "metadata": {},
     "output_type": "execute_result"
    }
   ],
   "source": [
    "sr3.index"
   ]
  },
  {
   "cell_type": "code",
   "execution_count": 61,
   "id": "bc049242",
   "metadata": {},
   "outputs": [
    {
     "data": {
      "text/plain": [
       "('12', 'HONG')"
      ]
     },
     "execution_count": 61,
     "metadata": {},
     "output_type": "execute_result"
    }
   ],
   "source": [
    "sr3['Age'],sr3['name']"
   ]
  },
  {
   "cell_type": "code",
   "execution_count": 62,
   "id": "37170f6d",
   "metadata": {},
   "outputs": [
    {
     "data": {
      "text/plain": [
       "('HONG', '12')"
      ]
     },
     "execution_count": 62,
     "metadata": {},
     "output_type": "execute_result"
    }
   ],
   "source": [
    "sr3[0], sr3[1]"
   ]
  },
  {
   "cell_type": "code",
   "execution_count": 63,
   "id": "8782939b",
   "metadata": {},
   "outputs": [
    {
     "data": {
      "text/plain": [
       "0    2022-06-30\n",
       "1        Pandas\n",
       "2          True\n",
       "3          4.55\n",
       "4       No Work\n",
       "dtype: object"
      ]
     },
     "execution_count": 63,
     "metadata": {},
     "output_type": "execute_result"
    }
   ],
   "source": [
    "sr4=pd.Series(('2022-06-30','Pandas',True,'4.55','No Work'))\n",
    "sr4"
   ]
  },
  {
   "cell_type": "code",
   "execution_count": 64,
   "id": "27f30434",
   "metadata": {},
   "outputs": [
    {
     "data": {
      "text/plain": [
       "날짜      2022-06-30\n",
       "과목          Pandas\n",
       "불린            True\n",
       "실수            4.55\n",
       "희망사항       No Work\n",
       "dtype: object"
      ]
     },
     "execution_count": 64,
     "metadata": {},
     "output_type": "execute_result"
    }
   ],
   "source": [
    "sr4.index=['날짜','과목','불린','실수','희망사항']\n",
    "sr4"
   ]
  },
  {
   "cell_type": "code",
   "execution_count": 76,
   "id": "a9b3c600",
   "metadata": {},
   "outputs": [
    {
     "name": "stdout",
     "output_type": "stream",
     "text": [
      "2022-06-30 4.55 No Work\n",
      "2022-06-30 4.55 No Work\n",
      "<class 'str'> <class 'str'> <class 'str'>\n",
      "날짜      2022-06-30\n",
      "실수            4.55\n",
      "희망사항       No Work\n",
      "dtype: object <class 'pandas.core.series.Series'>\n"
     ]
    }
   ],
   "source": [
    "# (1) 0번요소, 3번요소 4번요소 읽어서 출력\n",
    "print(sr4[0], sr4[3],sr4[4])\n",
    "print(sr4['날짜'],sr4['실수'],sr4['희망사항'])\n",
    "\n",
    "print(type(sr4[0]), type(sr4[3]),type(sr4[4]))\n",
    "print(sr4[[0,3,4]], type(sr4[[0,3,4]]))"
   ]
  },
  {
   "cell_type": "code",
   "execution_count": 77,
   "id": "9e357b1f",
   "metadata": {},
   "outputs": [
    {
     "name": "stdout",
     "output_type": "stream",
     "text": [
      "과목       Pandas\n",
      "불린         True\n",
      "실수         4.55\n",
      "희망사항    No Work\n",
      "dtype: object\n",
      "과목       Pandas\n",
      "불린         True\n",
      "실수         4.55\n",
      "희망사항    No Work\n",
      "dtype: object\n"
     ]
    }
   ],
   "source": [
    "# (2) 1번요소부터 끝까지 요소값 출력\n",
    "print(sr4[1:])\n",
    "print(sr4['과목':])"
   ]
  },
  {
   "cell_type": "code",
   "execution_count": 80,
   "id": "f2be9804",
   "metadata": {},
   "outputs": [
    {
     "name": "stdout",
     "output_type": "stream",
     "text": [
      "과목    Pandas\n",
      "불린      True\n",
      "실수      4.55\n",
      "dtype: object\n",
      "과목       Pandas\n",
      "불린         True\n",
      "실수         4.55\n",
      "희망사항    No Work\n",
      "dtype: object\n"
     ]
    }
   ],
   "source": [
    "# (2) 1번요소부터 3번요소까지 요소값 출력\n",
    "print(sr4[1:4])\n",
    "print(sr4['과목':'희망사항']) # 인덱스라벨은 끝원소로 포함"
   ]
  },
  {
   "cell_type": "code",
   "execution_count": null,
   "id": "1a457508",
   "metadata": {},
   "outputs": [],
   "source": []
  }
 ],
 "metadata": {
  "kernelspec": {
   "display_name": "Python 3 (ipykernel)",
   "language": "python",
   "name": "python3"
  },
  "language_info": {
   "codemirror_mode": {
    "name": "ipython",
    "version": 3
   },
   "file_extension": ".py",
   "mimetype": "text/x-python",
   "name": "python",
   "nbconvert_exporter": "python",
   "pygments_lexer": "ipython3",
   "version": "3.9.12"
  }
 },
 "nbformat": 4,
 "nbformat_minor": 5
}
