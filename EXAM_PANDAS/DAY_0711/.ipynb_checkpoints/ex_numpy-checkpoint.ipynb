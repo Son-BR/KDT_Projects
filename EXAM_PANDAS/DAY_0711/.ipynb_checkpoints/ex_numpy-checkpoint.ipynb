{
 "cells": [
  {
   "cell_type": "markdown",
   "id": "3416ff85",
   "metadata": {},
   "source": [
    "# Numpy 패키지\n",
    "\n",
    " - pandas에서 데이터를 저장 및 처리에 사용되는 패키지\n",
    " \n",
    " - 외부 패키지로 반드시 설치 필요\n",
    " \n",
    " - 고속 데이터 처리, 수치 계산 수행 패키지\n",
    " \n",
    " - 머신러닝/딥러닝용 패키지 Scikit-lern, Tensorflow, PyTorch, Keras 등에서도 내부 데이터 저장 및 수치 계산에 사용되는 패키지\n",
    " \n",
    " - [중요] 동일한 데이터 타입의 데이터를 저장하는 배열(Array) 타입!\n",
    " \n",
    " - 설치 : !pip install numpy"
   ]
  },
  {
   "cell_type": "code",
   "execution_count": 1,
   "id": "2001971c",
   "metadata": {},
   "outputs": [
    {
     "data": {
      "text/plain": [
       "'1.21.5'"
      ]
     },
     "execution_count": 1,
     "metadata": {},
     "output_type": "execute_result"
    }
   ],
   "source": [
    "# 버전 확인\n",
    "import numpy as np\n",
    "\n",
    "np.__version__"
   ]
  },
  {
   "cell_type": "code",
   "execution_count": 2,
   "id": "00855a88",
   "metadata": {},
   "outputs": [
    {
     "data": {
      "text/plain": [
       "array([1, 2, 3])"
      ]
     },
     "execution_count": 2,
     "metadata": {},
     "output_type": "execute_result"
    }
   ],
   "source": [
    "# ndarray 객체 생성 하기 ---> numpy.array()\n",
    "\n",
    "arr1=np.array([1,2,3])\n",
    "arr1"
   ]
  },
  {
   "cell_type": "code",
   "execution_count": 3,
   "id": "162167f8",
   "metadata": {},
   "outputs": [
    {
     "data": {
      "text/plain": [
       "numpy.ndarray"
      ]
     },
     "execution_count": 3,
     "metadata": {},
     "output_type": "execute_result"
    }
   ],
   "source": [
    "type(arr1)"
   ]
  },
  {
   "cell_type": "code",
   "execution_count": 7,
   "id": "8db7ed8b",
   "metadata": {},
   "outputs": [
    {
     "name": "stdout",
     "output_type": "stream",
     "text": [
      "1\n",
      "(3,)\n",
      "int32\n",
      "4\n",
      "3\n"
     ]
    }
   ],
   "source": [
    "# ndarray 객체 속성 확인하기\n",
    "# 객체변수명.속성명\n",
    "# ndim : 차원 (예 : 1,2,3....)\n",
    "# shape : 형태 (예 : 갯수, (행,열), (면,행,열))\n",
    "# dtype : 데이터 타입\n",
    "# itemsize : 배열 요소의 바이트 크기\n",
    "# size : 배열 요소 갯수\n",
    "print(arr1.ndim, arr1.shape, arr1.dtype,arr1.itemsize,arr1.size, sep='\\n')"
   ]
  },
  {
   "cell_type": "code",
   "execution_count": 10,
   "id": "1bdad145",
   "metadata": {
    "scrolled": true
   },
   "outputs": [
    {
     "name": "stdout",
     "output_type": "stream",
     "text": [
      "객체변수명 arr1 => [1 2 3] \n",
      "객체변수명 arr1[0] => 1 \n",
      "객체변수명 arr1[0] => 2 \n"
     ]
    }
   ],
   "source": [
    "# 배열의 요소 즉 아이템, 원소 접근하기\n",
    "# 0-base 인덱스 자동 지정 => 객체변수명[인덱스]\n",
    "print(f'객체변수명 arr1 => {arr1} ')\n",
    "print(f'객체변수명 arr1[0] => {arr1[0]} ')\n",
    "print(f'객체변수명 arr1[0] => {arr1[1]} ')"
   ]
  },
  {
   "cell_type": "code",
   "execution_count": 14,
   "id": "47bc0e2b",
   "metadata": {},
   "outputs": [
    {
     "data": {
      "text/plain": [
       "array([1, 1, 1, 1], dtype=int16)"
      ]
     },
     "execution_count": 14,
     "metadata": {},
     "output_type": "execute_result"
    }
   ],
   "source": [
    "# 모든 값을 1으로 채워서 ndarray 객체 생성 함수 => ones()\n",
    "arr2=np.array([1,1,1,1])\n",
    "arr2=np.ones(4,dtype=np.int16)\n",
    "arr2"
   ]
  },
  {
   "cell_type": "code",
   "execution_count": 15,
   "id": "6667ed24",
   "metadata": {},
   "outputs": [
    {
     "name": "stdout",
     "output_type": "stream",
     "text": [
      "1\n",
      "(4,)\n",
      "int16\n",
      "2\n",
      "4\n"
     ]
    }
   ],
   "source": [
    "print(arr2.ndim, arr2.shape, arr2.dtype,arr2.itemsize,arr2.size, sep='\\n')"
   ]
  },
  {
   "cell_type": "code",
   "execution_count": 16,
   "id": "c7fa8d29",
   "metadata": {},
   "outputs": [
    {
     "name": "stdout",
     "output_type": "stream",
     "text": [
      "객체변수명 arr2 => [1 1 1 1] \n",
      "객체변수명 arr2[0] => 1 \n",
      "객체변수명 arr2[0] => 1 \n"
     ]
    }
   ],
   "source": [
    "print(f'객체변수명 arr2 => {arr2} ')\n",
    "print(f'객체변수명 arr2[0] => {arr2[0]} ')\n",
    "print(f'객체변수명 arr2[0] => {arr2[1]} ')"
   ]
  },
  {
   "cell_type": "code",
   "execution_count": 19,
   "id": "07bde394",
   "metadata": {},
   "outputs": [
    {
     "data": {
      "text/plain": [
       "array([0, 0, 0, 0])"
      ]
     },
     "execution_count": 19,
     "metadata": {},
     "output_type": "execute_result"
    }
   ],
   "source": [
    "arr3=np.zeros(4,dtype=np.int32)\n",
    "arr3"
   ]
  },
  {
   "cell_type": "code",
   "execution_count": 20,
   "id": "7ac6f8c8",
   "metadata": {},
   "outputs": [
    {
     "data": {
      "text/plain": [
       "array([2, 2, 2, 2])"
      ]
     },
     "execution_count": 20,
     "metadata": {},
     "output_type": "execute_result"
    }
   ],
   "source": [
    "arr4=np.full(4,2)\n",
    "arr4"
   ]
  },
  {
   "cell_type": "code",
   "execution_count": null,
   "id": "b1f19acb",
   "metadata": {},
   "outputs": [],
   "source": []
  },
  {
   "cell_type": "code",
   "execution_count": 27,
   "id": "b2cf7227",
   "metadata": {},
   "outputs": [
    {
     "data": {
      "text/plain": [
       "array([[6.23042070e-307, 4.67296746e-307, 1.69121096e-306],\n",
       "       [9.34609111e-307, 1.42413555e-306, 1.78019082e-306]])"
      ]
     },
     "execution_count": 27,
     "metadata": {},
     "output_type": "execute_result"
    }
   ],
   "source": [
    "# 초기화하지 않고 ndarray 객체 생성 =>  numpy.empty()\n",
    "arr5=np.empty((2,3))\n",
    "arr5"
   ]
  },
  {
   "cell_type": "code",
   "execution_count": null,
   "id": "f6632ea7",
   "metadata": {},
   "outputs": [],
   "source": [
    "# 2차원 형태의 ndarray 객체 생성"
   ]
  },
  {
   "cell_type": "code",
   "execution_count": 32,
   "id": "ca06cb8d",
   "metadata": {},
   "outputs": [
    {
     "data": {
      "text/plain": [
       "array([[0, 0, 0],\n",
       "       [0, 0, 0],\n",
       "       [0, 0, 0]])"
      ]
     },
     "execution_count": 32,
     "metadata": {},
     "output_type": "execute_result"
    }
   ],
   "source": [
    "arr6=np.zeros((3,3),dtype=np.int32)\n",
    "arr6"
   ]
  },
  {
   "cell_type": "code",
   "execution_count": 33,
   "id": "97c8573c",
   "metadata": {},
   "outputs": [
    {
     "data": {
      "text/plain": [
       "((3, 3), 2)"
      ]
     },
     "execution_count": 33,
     "metadata": {},
     "output_type": "execute_result"
    }
   ],
   "source": [
    "arr6.shape, arr6.ndim"
   ]
  },
  {
   "cell_type": "code",
   "execution_count": 35,
   "id": "cc9b7ac0",
   "metadata": {},
   "outputs": [
    {
     "data": {
      "text/plain": [
       "array([0, 0, 0, 0, 0, 0, 0, 0, 0])"
      ]
     },
     "execution_count": 35,
     "metadata": {},
     "output_type": "execute_result"
    }
   ],
   "source": [
    "# 2차원 => 1차원\n",
    "arr7=arr6.flatten()\n",
    "arr7"
   ]
  },
  {
   "cell_type": "code",
   "execution_count": 38,
   "id": "5212383e",
   "metadata": {},
   "outputs": [
    {
     "data": {
      "text/plain": [
       "array([[0, 0, 0],\n",
       "       [0, 0, 0],\n",
       "       [0, 0, 0]])"
      ]
     },
     "execution_count": 38,
     "metadata": {},
     "output_type": "execute_result"
    }
   ],
   "source": [
    "# 1차원 => 다른 차원으로 변경 reshape()\n",
    "arr8=arr7.reshape((3,3))\n",
    "arr8"
   ]
  },
  {
   "cell_type": "code",
   "execution_count": 40,
   "id": "8d109f4c",
   "metadata": {},
   "outputs": [
    {
     "data": {
      "text/plain": [
       "array([[[0, 0, 0]],\n",
       "\n",
       "       [[0, 0, 0]],\n",
       "\n",
       "       [[0, 0, 0]]])"
      ]
     },
     "execution_count": 40,
     "metadata": {},
     "output_type": "execute_result"
    }
   ],
   "source": [
    "arr9=arr8.reshape((3,1,3))\n",
    "arr9"
   ]
  },
  {
   "cell_type": "code",
   "execution_count": 47,
   "id": "f150214b",
   "metadata": {},
   "outputs": [
    {
     "data": {
      "text/plain": [
       "array([1, 2, 3, 4, 5, 6, 7, 8])"
      ]
     },
     "execution_count": 47,
     "metadata": {},
     "output_type": "execute_result"
    }
   ],
   "source": [
    "arr10=np.array(([1,2,3,4],[5,6,7,8]))\n",
    "arr10.flatten()"
   ]
  },
  {
   "cell_type": "code",
   "execution_count": 49,
   "id": "5caf5eca",
   "metadata": {},
   "outputs": [
    {
     "data": {
      "text/plain": [
       "array([[1, 2, 3, 4],\n",
       "       [5, 6, 7, 8]])"
      ]
     },
     "execution_count": 49,
     "metadata": {},
     "output_type": "execute_result"
    }
   ],
   "source": [
    "arr10.reshape((2,4))"
   ]
  },
  {
   "cell_type": "code",
   "execution_count": 48,
   "id": "dad4234e",
   "metadata": {},
   "outputs": [
    {
     "data": {
      "text/plain": [
       "array([[1, 2],\n",
       "       [3, 4],\n",
       "       [5, 6],\n",
       "       [7, 8]])"
      ]
     },
     "execution_count": 48,
     "metadata": {},
     "output_type": "execute_result"
    }
   ],
   "source": [
    "arr10.reshape((4,2))"
   ]
  },
  {
   "cell_type": "code",
   "execution_count": 51,
   "id": "c1458af9",
   "metadata": {},
   "outputs": [
    {
     "data": {
      "text/plain": [
       "array([[[1],\n",
       "        [2],\n",
       "        [3],\n",
       "        [4]],\n",
       "\n",
       "       [[5],\n",
       "        [6],\n",
       "        [7],\n",
       "        [8]]])"
      ]
     },
     "execution_count": 51,
     "metadata": {},
     "output_type": "execute_result"
    }
   ],
   "source": [
    "arr10.reshape((2,4,1))"
   ]
  },
  {
   "cell_type": "code",
   "execution_count": 52,
   "id": "cc95e944",
   "metadata": {},
   "outputs": [
    {
     "data": {
      "text/plain": [
       "array([[[1],\n",
       "        [2]],\n",
       "\n",
       "       [[3],\n",
       "        [4]],\n",
       "\n",
       "       [[5],\n",
       "        [6]],\n",
       "\n",
       "       [[7],\n",
       "        [8]]])"
      ]
     },
     "execution_count": 52,
     "metadata": {},
     "output_type": "execute_result"
    }
   ],
   "source": [
    "arr10.reshape((4,2,1))"
   ]
  },
  {
   "cell_type": "code",
   "execution_count": 53,
   "id": "b2ebf26c",
   "metadata": {},
   "outputs": [
    {
     "data": {
      "text/plain": [
       "array([0, 1, 2, 3, 4, 5, 6, 7])"
      ]
     },
     "execution_count": 53,
     "metadata": {},
     "output_type": "execute_result"
    }
   ],
   "source": [
    "# 차원/형태 변환 => reshape(-1,n), reshape(n,-1)\n",
    "arr11=np.arange(8)\n",
    "arr11"
   ]
  },
  {
   "cell_type": "code",
   "execution_count": 55,
   "id": "dd27f434",
   "metadata": {},
   "outputs": [
    {
     "data": {
      "text/plain": [
       "array([[0, 1],\n",
       "       [2, 3],\n",
       "       [4, 5],\n",
       "       [6, 7]])"
      ]
     },
     "execution_count": 55,
     "metadata": {},
     "output_type": "execute_result"
    }
   ],
   "source": [
    "arr12=arr11.reshape(-1,2)\n",
    "arr12"
   ]
  },
  {
   "cell_type": "code",
   "execution_count": 57,
   "id": "691c5ed2",
   "metadata": {},
   "outputs": [],
   "source": [
    "# arr12=arr11.reshape(-1,3) => 에러 원소/행열 개수 안맞음 \n",
    "# arr12"
   ]
  },
  {
   "cell_type": "code",
   "execution_count": null,
   "id": "ce4164b2",
   "metadata": {},
   "outputs": [],
   "source": []
  }
 ],
 "metadata": {
  "kernelspec": {
   "display_name": "Python 3 (ipykernel)",
   "language": "python",
   "name": "python3"
  },
  "language_info": {
   "codemirror_mode": {
    "name": "ipython",
    "version": 3
   },
   "file_extension": ".py",
   "mimetype": "text/x-python",
   "name": "python",
   "nbconvert_exporter": "python",
   "pygments_lexer": "ipython3",
   "version": "3.9.12"
  }
 },
 "nbformat": 4,
 "nbformat_minor": 5
}
