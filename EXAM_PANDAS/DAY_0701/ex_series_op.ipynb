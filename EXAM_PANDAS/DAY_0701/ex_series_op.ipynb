{
 "cells": [
  {
   "cell_type": "markdown",
   "id": "4ccf3f05",
   "metadata": {},
   "source": [
    "# Series객체와 숫자 연산 수행\n",
    "\n",
    " - Series 객체의 모든 원소에 숫자 연산 적용 => 브로드캐스팅"
   ]
  },
  {
   "cell_type": "code",
   "execution_count": 1,
   "id": "8657f0ff",
   "metadata": {},
   "outputs": [
    {
     "data": {
      "text/plain": [
       "0    10\n",
       "1    20\n",
       "2    30\n",
       "3    40\n",
       "dtype: int64"
      ]
     },
     "execution_count": 1,
     "metadata": {},
     "output_type": "execute_result"
    }
   ],
   "source": [
    "# 모듈 로딩\n",
    "import pandas as pd\n",
    "\n",
    "# Series 객체 생성\n",
    "sr=pd.Series([10,20,30,40])\n",
    "\n",
    "# Series 객체 데이터 확인\n",
    "sr"
   ]
  },
  {
   "cell_type": "code",
   "execution_count": 3,
   "id": "fa37a0e0",
   "metadata": {},
   "outputs": [
    {
     "name": "stdout",
     "output_type": "stream",
     "text": [
      "result =>\n",
      "0    15\n",
      "1    25\n",
      "2    35\n",
      "3    45\n",
      "dtype: int64\n",
      "result type => <class 'pandas.core.series.Series'>\n"
     ]
    }
   ],
   "source": [
    "# 숫자 데이터와 연산 수행\n",
    "result=sr+5\n",
    "print(f'result =>\\n{result}',f'result type => {type(result)}',sep='\\n')"
   ]
  },
  {
   "cell_type": "markdown",
   "id": "6a3a8137",
   "metadata": {},
   "source": [
    "# Series 객체 + Series 객체 연산 수행"
   ]
  },
  {
   "cell_type": "code",
   "execution_count": 9,
   "id": "9905ff1d",
   "metadata": {},
   "outputs": [
    {
     "name": "stdout",
     "output_type": "stream",
     "text": [
      "sr1.index => Index(['국어', '영어', '수학'], dtype='object')\n",
      "sr2.index => Index(['수학', '국어', '영어'], dtype='object')\n",
      "sr3.index => Index(['국어', '영어'], dtype='object')\n"
     ]
    }
   ],
   "source": [
    "sr1=pd.Series({'국어':90,'영어':100,'수학':88})\n",
    "sr2=pd.Series({'수학':70,'국어':90,'영어':50})\n",
    "sr3=pd.Series({'국어':90,'영어':50})\n",
    "\n",
    "print(f'sr1.index => {sr1.index}',f'sr2.index => {sr2.index}',sep='\\n')\n",
    "print(f'sr3.index => {sr3.index}',sep='\\n')"
   ]
  },
  {
   "cell_type": "code",
   "execution_count": 10,
   "id": "4edc73d6",
   "metadata": {},
   "outputs": [
    {
     "data": {
      "text/plain": [
       "국어    180\n",
       "수학    158\n",
       "영어    150\n",
       "dtype: int64"
      ]
     },
     "execution_count": 10,
     "metadata": {},
     "output_type": "execute_result"
    }
   ],
   "source": [
    "# 인덱스 정렬 후 동일 인덱스끼리 연산 수행\n",
    "\n",
    "result=sr1+sr2\n",
    "result"
   ]
  },
  {
   "cell_type": "code",
   "execution_count": 11,
   "id": "9dcc52fc",
   "metadata": {},
   "outputs": [
    {
     "data": {
      "text/plain": [
       "국어    180.0\n",
       "수학      NaN\n",
       "영어    150.0\n",
       "dtype: float64"
      ]
     },
     "execution_count": 11,
     "metadata": {},
     "output_type": "execute_result"
    }
   ],
   "source": [
    "# 동일 인덱스가 없는 경우 연산 수행 안함 => NaN (빈칸의미)\n",
    "\n",
    "result=sr1+sr3\n",
    "result"
   ]
  },
  {
   "cell_type": "code",
   "execution_count": null,
   "id": "df6459b7",
   "metadata": {},
   "outputs": [],
   "source": []
  },
  {
   "cell_type": "code",
   "execution_count": null,
   "id": "50ca1c25",
   "metadata": {},
   "outputs": [],
   "source": []
  },
  {
   "cell_type": "code",
   "execution_count": null,
   "id": "10009bf0",
   "metadata": {},
   "outputs": [],
   "source": []
  },
  {
   "cell_type": "code",
   "execution_count": null,
   "id": "d3635f08",
   "metadata": {},
   "outputs": [],
   "source": []
  },
  {
   "cell_type": "code",
   "execution_count": null,
   "id": "9ac3e123",
   "metadata": {},
   "outputs": [],
   "source": []
  },
  {
   "cell_type": "code",
   "execution_count": null,
   "id": "ea8e0dab",
   "metadata": {},
   "outputs": [],
   "source": []
  },
  {
   "cell_type": "code",
   "execution_count": null,
   "id": "b9f069c6",
   "metadata": {},
   "outputs": [],
   "source": []
  }
 ],
 "metadata": {
  "kernelspec": {
   "display_name": "Python 3 (ipykernel)",
   "language": "python",
   "name": "python3"
  },
  "language_info": {
   "codemirror_mode": {
    "name": "ipython",
    "version": 3
   },
   "file_extension": ".py",
   "mimetype": "text/x-python",
   "name": "python",
   "nbconvert_exporter": "python",
   "pygments_lexer": "ipython3",
   "version": "3.9.12"
  }
 },
 "nbformat": 4,
 "nbformat_minor": 5
}
