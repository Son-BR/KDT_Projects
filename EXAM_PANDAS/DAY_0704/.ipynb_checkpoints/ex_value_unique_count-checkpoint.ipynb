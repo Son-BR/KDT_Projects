{
 "cells": [
  {
   "cell_type": "markdown",
   "id": "070abcf2",
   "metadata": {},
   "source": [
    "# 데이터 갯수와 고유값\n",
    "\n",
    " - 컬럼별 개  수 ==> count() 메서드\n",
    " \n",
    " - 컬럼별 고유값 ==> unique() 메서드\n",
    " \n",
    " - 컬럼별 값별 개수 ==> value_counts() 메서드"
   ]
  },
  {
   "cell_type": "code",
   "execution_count": 2,
   "id": "761f0fd5",
   "metadata": {},
   "outputs": [],
   "source": [
    "# 모듈 로딩\n",
    "import pandas as pd\n",
    "\n",
    "# 파일 관련 변수 선언\n",
    "DIR_PATH='../Data/'\n",
    "FILE_NAME=DIR_PATH+'iris.csv'"
   ]
  },
  {
   "cell_type": "code",
   "execution_count": 3,
   "id": "177fd66d",
   "metadata": {},
   "outputs": [],
   "source": [
    "# (1) File ==> DataFrame으로 가져오기\n",
    "irisDF=pd.read_csv(FILE_NAME)"
   ]
  },
  {
   "cell_type": "code",
   "execution_count": 4,
   "id": "159b7059",
   "metadata": {},
   "outputs": [
    {
     "name": "stdout",
     "output_type": "stream",
     "text": [
      "<class 'pandas.core.frame.DataFrame'>\n",
      "RangeIndex: 150 entries, 0 to 149\n",
      "Data columns (total 5 columns):\n",
      " #   Column       Non-Null Count  Dtype  \n",
      "---  ------       --------------  -----  \n",
      " 0   SepalLength  150 non-null    float64\n",
      " 1   SepalWidth   150 non-null    float64\n",
      " 2   PetalLength  150 non-null    float64\n",
      " 3   PetalWidth   150 non-null    float64\n",
      " 4   Name         150 non-null    object \n",
      "dtypes: float64(4), object(1)\n",
      "memory usage: 6.0+ KB\n"
     ]
    }
   ],
   "source": [
    "# (1) 데이터 확인하기\n",
    "\n",
    "# DF 요약 정보 ==> info() 메서드\n",
    "irisDF.info()"
   ]
  },
  {
   "cell_type": "code",
   "execution_count": 6,
   "id": "4aa4b8be",
   "metadata": {},
   "outputs": [
    {
     "data": {
      "text/plain": [
       "Index(['SepalLength', 'SepalWidth', 'PetalLength', 'PetalWidth', 'Name'], dtype='object')"
      ]
     },
     "execution_count": 6,
     "metadata": {},
     "output_type": "execute_result"
    }
   ],
   "source": [
    "# DF columns 정보 확인\n",
    "irisDF.columns"
   ]
  },
  {
   "cell_type": "code",
   "execution_count": 7,
   "id": "8f509147",
   "metadata": {},
   "outputs": [
    {
     "data": {
      "text/plain": [
       "((150, 5), 2)"
      ]
     },
     "execution_count": 7,
     "metadata": {},
     "output_type": "execute_result"
    }
   ],
   "source": [
    "# DF shape, ndim 정보 확인\n",
    "irisDF.shape, irisDF.ndim"
   ]
  },
  {
   "cell_type": "code",
   "execution_count": 18,
   "id": "6dd6b47a",
   "metadata": {},
   "outputs": [
    {
     "data": {
      "text/plain": [
       "0         Iris-setosa\n",
       "1         Iris-setosa\n",
       "2         Iris-setosa\n",
       "3         Iris-setosa\n",
       "4         Iris-setosa\n",
       "            ...      \n",
       "145    Iris-virginica\n",
       "146    Iris-virginica\n",
       "147    Iris-virginica\n",
       "148    Iris-virginica\n",
       "149    Iris-virginica\n",
       "Name: Name, Length: 150, dtype: object"
      ]
     },
     "execution_count": 18,
     "metadata": {},
     "output_type": "execute_result"
    }
   ],
   "source": [
    "# (2) 원하는 작업 수행\n",
    "# 'Name' 컬럼 추출 => DF객체변수명[컬럼명]\n",
    "irisName=irisDF['Name']\n",
    "irisName"
   ]
  },
  {
   "cell_type": "code",
   "execution_count": 19,
   "id": "5c9b5ae4",
   "metadata": {},
   "outputs": [
    {
     "data": {
      "text/plain": [
       "150"
      ]
     },
     "execution_count": 19,
     "metadata": {},
     "output_type": "execute_result"
    }
   ],
   "source": [
    "# 'Name' 컬럼의 데이터 갯수\n",
    "irisName.count()"
   ]
  },
  {
   "cell_type": "code",
   "execution_count": 20,
   "id": "a88bcbc0",
   "metadata": {},
   "outputs": [
    {
     "data": {
      "text/plain": [
       "array(['Iris-setosa', 'Iris-versicolor', 'Iris-virginica'], dtype=object)"
      ]
     },
     "execution_count": 20,
     "metadata": {},
     "output_type": "execute_result"
    }
   ],
   "source": [
    "# 'Name' 컬럼의 고유값 갯수 -> 값의 종류\n",
    "irisName.unique()"
   ]
  },
  {
   "cell_type": "code",
   "execution_count": 21,
   "id": "c97c7f1b",
   "metadata": {},
   "outputs": [
    {
     "data": {
      "text/plain": [
       "Iris-setosa        50\n",
       "Iris-versicolor    50\n",
       "Iris-virginica     50\n",
       "Name: Name, dtype: int64"
      ]
     },
     "execution_count": 21,
     "metadata": {},
     "output_type": "execute_result"
    }
   ],
   "source": [
    "# 'Name' 컬럼의 값별 갯수\n",
    "irisName.value_counts()"
   ]
  },
  {
   "cell_type": "code",
   "execution_count": 23,
   "id": "6ecc63d0",
   "metadata": {},
   "outputs": [
    {
     "data": {
      "text/plain": [
       "0      5.1\n",
       "1      4.9\n",
       "2      4.7\n",
       "3      4.6\n",
       "4      5.0\n",
       "      ... \n",
       "145    6.7\n",
       "146    6.3\n",
       "147    6.5\n",
       "148    6.2\n",
       "149    5.9\n",
       "Name: SepalLength, Length: 150, dtype: float64"
      ]
     },
     "execution_count": 23,
     "metadata": {},
     "output_type": "execute_result"
    }
   ],
   "source": [
    "# 'SepalLength' 컬럼의 데이터 갯수, 값의 종류, 값별 갯수 출력\n",
    "iris_Se=irisDF['SepalLength']\n",
    "iris_Se"
   ]
  },
  {
   "cell_type": "code",
   "execution_count": 25,
   "id": "854f630f",
   "metadata": {},
   "outputs": [
    {
     "data": {
      "text/plain": [
       "150"
      ]
     },
     "execution_count": 25,
     "metadata": {},
     "output_type": "execute_result"
    }
   ],
   "source": [
    "iris_Se.count()"
   ]
  },
  {
   "cell_type": "code",
   "execution_count": 26,
   "id": "05f8664f",
   "metadata": {},
   "outputs": [
    {
     "data": {
      "text/plain": [
       "array([5.1, 4.9, 4.7, 4.6, 5. , 5.4, 4.4, 4.8, 4.3, 5.8, 5.7, 5.2, 5.5,\n",
       "       4.5, 5.3, 7. , 6.4, 6.9, 6.5, 6.3, 6.6, 5.9, 6. , 6.1, 5.6, 6.7,\n",
       "       6.2, 6.8, 7.1, 7.6, 7.3, 7.2, 7.7, 7.4, 7.9])"
      ]
     },
     "execution_count": 26,
     "metadata": {},
     "output_type": "execute_result"
    }
   ],
   "source": [
    "iris_Se.unique()"
   ]
  },
  {
   "cell_type": "code",
   "execution_count": 27,
   "id": "c3296cda",
   "metadata": {},
   "outputs": [
    {
     "data": {
      "text/plain": [
       "5.0    10\n",
       "5.1     9\n",
       "6.3     9\n",
       "5.7     8\n",
       "6.7     8\n",
       "5.8     7\n",
       "5.5     7\n",
       "6.4     7\n",
       "4.9     6\n",
       "5.4     6\n",
       "6.1     6\n",
       "6.0     6\n",
       "5.6     6\n",
       "4.8     5\n",
       "6.5     5\n",
       "6.2     4\n",
       "7.7     4\n",
       "6.9     4\n",
       "4.6     4\n",
       "5.2     4\n",
       "5.9     3\n",
       "4.4     3\n",
       "7.2     3\n",
       "6.8     3\n",
       "6.6     2\n",
       "4.7     2\n",
       "7.6     1\n",
       "7.4     1\n",
       "7.3     1\n",
       "7.0     1\n",
       "7.1     1\n",
       "5.3     1\n",
       "4.3     1\n",
       "4.5     1\n",
       "7.9     1\n",
       "Name: SepalLength, dtype: int64"
      ]
     },
     "execution_count": 27,
     "metadata": {},
     "output_type": "execute_result"
    }
   ],
   "source": [
    "iris_Se.value_counts()"
   ]
  },
  {
   "cell_type": "code",
   "execution_count": 28,
   "id": "4c9d4508",
   "metadata": {},
   "outputs": [
    {
     "data": {
      "text/plain": [
       "10"
      ]
     },
     "execution_count": 28,
     "metadata": {},
     "output_type": "execute_result"
    }
   ],
   "source": [
    "# SR객체 안에서 최대값'\n",
    "# 빈도가 가장 많은 데이터의 빈도\n",
    "iris_Se.value_counts() .max()"
   ]
  },
  {
   "cell_type": "code",
   "execution_count": 29,
   "id": "15a7136d",
   "metadata": {},
   "outputs": [
    {
     "data": {
      "text/plain": [
       "0"
      ]
     },
     "execution_count": 29,
     "metadata": {},
     "output_type": "execute_result"
    }
   ],
   "source": [
    "# SR객체 안에서 최대값이 존재하는 인덱스 -> argmax()\n",
    "\n",
    "# iris_Se.value_counts() -> Series\n",
    "# 0번 인덱스에 해당하는 값이 제일 많다\n",
    "\n",
    "iris_Se.value_counts().argmax()"
   ]
  },
  {
   "cell_type": "code",
   "execution_count": 31,
   "id": "b02ddc2d",
   "metadata": {},
   "outputs": [
    {
     "data": {
      "text/plain": [
       "Float64Index([5.0, 5.1, 6.3, 5.7, 6.7, 5.8, 5.5, 6.4, 4.9, 5.4, 6.1, 6.0, 5.6,\n",
       "              4.8, 6.5, 6.2, 7.7, 6.9, 4.6, 5.2, 5.9, 4.4, 7.2, 6.8, 6.6, 4.7,\n",
       "              7.6, 7.4, 7.3, 7.0, 7.1, 5.3, 4.3, 4.5, 7.9],\n",
       "             dtype='float64')"
      ]
     },
     "execution_count": 31,
     "metadata": {},
     "output_type": "execute_result"
    }
   ],
   "source": [
    "# iris_Se.value_counts() -> Series\n",
    "iris_Se.value_counts().index"
   ]
  },
  {
   "cell_type": "code",
   "execution_count": 40,
   "id": "57ac1d8a",
   "metadata": {},
   "outputs": [
    {
     "data": {
      "text/plain": [
       "0"
      ]
     },
     "execution_count": 40,
     "metadata": {},
     "output_type": "execute_result"
    }
   ],
   "source": [
    "iris_Se.value_counts().argmax()"
   ]
  },
  {
   "cell_type": "code",
   "execution_count": 42,
   "id": "2c3ec537",
   "metadata": {},
   "outputs": [
    {
     "data": {
      "text/plain": [
       "5.0"
      ]
     },
     "execution_count": 42,
     "metadata": {},
     "output_type": "execute_result"
    }
   ],
   "source": [
    "iris_Se.value_counts().index[iris_Se.value_counts().argmax()]"
   ]
  },
  {
   "cell_type": "code",
   "execution_count": 47,
   "id": "e40d843e",
   "metadata": {},
   "outputs": [
    {
     "data": {
      "text/plain": [
       "7.6"
      ]
     },
     "execution_count": 47,
     "metadata": {},
     "output_type": "execute_result"
    }
   ],
   "source": [
    "iris_Se.value_counts().index[iris_Se.value_counts().argmin()]"
   ]
  }
 ],
 "metadata": {
  "kernelspec": {
   "display_name": "Python 3 (ipykernel)",
   "language": "python",
   "name": "python3"
  },
  "language_info": {
   "codemirror_mode": {
    "name": "ipython",
    "version": 3
   },
   "file_extension": ".py",
   "mimetype": "text/x-python",
   "name": "python",
   "nbconvert_exporter": "python",
   "pygments_lexer": "ipython3",
   "version": "3.9.12"
  }
 },
 "nbformat": 4,
 "nbformat_minor": 5
}
