{
 "cells": [
  {
   "cell_type": "markdown",
   "id": "e79550c6",
   "metadata": {},
   "source": [
    "# 날짜시간관련 패키지 다루기\n",
    "\n",
    " - 파이썬 => date, time, datetime 관련 클래스"
   ]
  },
  {
   "cell_type": "code",
   "execution_count": 4,
   "id": "f35e26d1",
   "metadata": {},
   "outputs": [
    {
     "data": {
      "text/plain": [
       "'3.5.1'"
      ]
     },
     "execution_count": 4,
     "metadata": {},
     "output_type": "execute_result"
    }
   ],
   "source": [
    "# 모듈로딩\n",
    "import time as tm\n",
    "import matplotlib as mp\n",
    "\n",
    "mp.__version__"
   ]
  },
  {
   "cell_type": "markdown",
   "id": "7b8de44b",
   "metadata": {},
   "source": [
    "# 시간 관련 클래스 ---> time 클래스"
   ]
  },
  {
   "cell_type": "code",
   "execution_count": 2,
   "id": "f53d035c",
   "metadata": {},
   "outputs": [
    {
     "name": "stdout",
     "output_type": "stream",
     "text": [
      "현재시간 : Thu Jul  7 09:39:20 2022\n"
     ]
    }
   ],
   "source": [
    "# 현재 시간 출력 메서드\n",
    "# (1) 보기 쉽게 변환되어서 가져오기\n",
    "currentTm=tm.ctime(tm.time())\n",
    "\n",
    "print(f'현재시간 : {currentTm}')"
   ]
  },
  {
   "cell_type": "code",
   "execution_count": 3,
   "id": "ad961e5a",
   "metadata": {},
   "outputs": [
    {
     "name": "stdout",
     "output_type": "stream",
     "text": [
      "현재시간구조체클래스 : time.struct_time(tm_year=2022, tm_mon=7, tm_mday=7, tm_hour=9, tm_min=40, tm_sec=16, tm_wday=3, tm_yday=188, tm_isdst=0)\n"
     ]
    }
   ],
   "source": [
    "# (2) 원하는 대로 변환할 수 있도록 구조체 객체\n",
    "localStruct=tm.localtime(tm.time())\n",
    "\n",
    "print(f'현재시간구조체클래스 : {localStruct}')"
   ]
  },
  {
   "cell_type": "markdown",
   "id": "d40dcdd3",
   "metadata": {},
   "source": [
    "# 날짜 관련 클래스 ---> datetime.date 클래스"
   ]
  },
  {
   "cell_type": "code",
   "execution_count": 6,
   "id": "d476da8f",
   "metadata": {},
   "outputs": [
    {
     "name": "stdout",
     "output_type": "stream",
     "text": [
      "<class 'datetime.date'> 2022-07-07\n"
     ]
    }
   ],
   "source": [
    "from datetime import date\n",
    "\n",
    "currentDT=date.today()\n",
    "\n",
    "print(type(currentDT), currentDT)"
   ]
  },
  {
   "cell_type": "code",
   "execution_count": 7,
   "id": "9109c82c",
   "metadata": {},
   "outputs": [
    {
     "name": "stdout",
     "output_type": "stream",
     "text": [
      "<class 'datetime.date'> 2022-12-24\n"
     ]
    }
   ],
   "source": [
    "d_day=date(2022,12,24)\n",
    "\n",
    "print(type(d_day), d_day)"
   ]
  },
  {
   "cell_type": "code",
   "execution_count": 9,
   "id": "fd80867e",
   "metadata": {},
   "outputs": [
    {
     "data": {
      "text/plain": [
       "(24, 12, 2022)"
      ]
     },
     "execution_count": 9,
     "metadata": {},
     "output_type": "execute_result"
    }
   ],
   "source": [
    "d_day.day, d_day.month, d_day.year"
   ]
  },
  {
   "cell_type": "markdown",
   "id": "fd1fab74",
   "metadata": {},
   "source": [
    "# 날짜시간 관련 클래스 ---> datetime.datetime"
   ]
  },
  {
   "cell_type": "code",
   "execution_count": 19,
   "id": "8af9f1ec",
   "metadata": {},
   "outputs": [
    {
     "data": {
      "text/plain": [
       "datetime.datetime(2022, 7, 7, 10, 5, 10, 730243)"
      ]
     },
     "execution_count": 19,
     "metadata": {},
     "output_type": "execute_result"
    }
   ],
   "source": [
    "from datetime import datetime as dt\n",
    "\n",
    "# 현재 날짜, 시간\n",
    "dt.today()"
   ]
  },
  {
   "cell_type": "code",
   "execution_count": 20,
   "id": "c3bde6b2",
   "metadata": {},
   "outputs": [
    {
     "data": {
      "text/plain": [
       "datetime.datetime(2022, 7, 7, 10, 5, 24, 548828)"
      ]
     },
     "execution_count": 20,
     "metadata": {},
     "output_type": "execute_result"
    }
   ],
   "source": [
    "dt.now()"
   ]
  },
  {
   "cell_type": "code",
   "execution_count": 21,
   "id": "7a934081",
   "metadata": {},
   "outputs": [
    {
     "data": {
      "text/plain": [
       "datetime.datetime(2022, 12, 24, 0, 0)"
      ]
     },
     "execution_count": 21,
     "metadata": {},
     "output_type": "execute_result"
    }
   ],
   "source": [
    "# 원하는 날짜시간 생성\n",
    "\n",
    "d_daytime=dt(2022,12,24)\n",
    "d_daytime"
   ]
  },
  {
   "cell_type": "code",
   "execution_count": 22,
   "id": "d439f54d",
   "metadata": {},
   "outputs": [
    {
     "data": {
      "text/plain": [
       "24"
      ]
     },
     "execution_count": 22,
     "metadata": {},
     "output_type": "execute_result"
    }
   ],
   "source": [
    "d_daytime.day"
   ]
  },
  {
   "cell_type": "markdown",
   "id": "f727ab54",
   "metadata": {},
   "source": []
  },
  {
   "cell_type": "code",
   "execution_count": null,
   "id": "5efb6acb",
   "metadata": {},
   "outputs": [],
   "source": []
  },
  {
   "cell_type": "code",
   "execution_count": null,
   "id": "2bd8dcd3",
   "metadata": {},
   "outputs": [],
   "source": []
  },
  {
   "cell_type": "code",
   "execution_count": null,
   "id": "a1f786fb",
   "metadata": {},
   "outputs": [],
   "source": []
  },
  {
   "cell_type": "code",
   "execution_count": null,
   "id": "6d6f5dbb",
   "metadata": {},
   "outputs": [],
   "source": []
  },
  {
   "cell_type": "code",
   "execution_count": null,
   "id": "f6864c5f",
   "metadata": {},
   "outputs": [],
   "source": []
  },
  {
   "cell_type": "code",
   "execution_count": null,
   "id": "d6114b46",
   "metadata": {},
   "outputs": [],
   "source": []
  },
  {
   "cell_type": "code",
   "execution_count": null,
   "id": "bdd46a87",
   "metadata": {},
   "outputs": [],
   "source": []
  },
  {
   "cell_type": "code",
   "execution_count": null,
   "id": "90bc4087",
   "metadata": {},
   "outputs": [],
   "source": []
  }
 ],
 "metadata": {
  "kernelspec": {
   "display_name": "Python 3 (ipykernel)",
   "language": "python",
   "name": "python3"
  },
  "language_info": {
   "codemirror_mode": {
    "name": "ipython",
    "version": 3
   },
   "file_extension": ".py",
   "mimetype": "text/x-python",
   "name": "python",
   "nbconvert_exporter": "python",
   "pygments_lexer": "ipython3",
   "version": "3.9.12"
  }
 },
 "nbformat": 4,
 "nbformat_minor": 5
}
