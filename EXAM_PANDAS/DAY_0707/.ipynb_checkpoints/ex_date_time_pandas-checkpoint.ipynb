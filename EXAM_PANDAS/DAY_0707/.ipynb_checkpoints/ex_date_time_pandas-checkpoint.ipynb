{
 "cells": [
  {
   "cell_type": "markdown",
   "id": "dff90189",
   "metadata": {},
   "source": [
    "# PANDAS DATE-TIME 다루기\n",
    "\n",
    "## 날짜시간 관련 PANDAS\n",
    "\n",
    " - 관련 자료형 : timestamp, datetime64, period\n",
    " \n",
    " - 관련 메서드: to_datetime(). date_range(), to_period(), period_range()"
   ]
  },
  {
   "cell_type": "code",
   "execution_count": 73,
   "id": "ae869ccd",
   "metadata": {},
   "outputs": [
    {
     "data": {
      "text/plain": [
       "<bound method DataFrame.info of    year  month  day\n",
       "0  2021     11    1\n",
       "1  2022     12   24>"
      ]
     },
     "execution_count": 73,
     "metadata": {},
     "output_type": "execute_result"
    }
   ],
   "source": [
    "# 모듈 로딩\n",
    "import pandas as pd\n",
    "\n",
    "# DF 객체 생성\n",
    "df=pd.DataFrame({'year':[2021,2022],\n",
    "                 'month':[11,12],\n",
    "                 'day':[1,24]})\n",
    "\n",
    "df.info"
   ]
  },
  {
   "cell_type": "code",
   "execution_count": 74,
   "id": "638d3644",
   "metadata": {},
   "outputs": [
    {
     "data": {
      "text/plain": [
       "year     int64\n",
       "month    int64\n",
       "day      int64\n",
       "dtype: object"
      ]
     },
     "execution_count": 74,
     "metadata": {},
     "output_type": "execute_result"
    }
   ],
   "source": [
    "# DF 객체 타입 정보\n",
    "df.dtypes"
   ]
  },
  {
   "cell_type": "code",
   "execution_count": 75,
   "id": "4302f9ea",
   "metadata": {},
   "outputs": [
    {
     "name": "stdout",
     "output_type": "stream",
     "text": [
      "<class 'pandas.core.series.Series'>\n",
      "0   2021-11-01\n",
      "1   2022-12-24\n",
      "dtype: datetime64[ns]\n"
     ]
    }
   ],
   "source": [
    "# DateTime으로 변환 => pandas.to_datetime()\n",
    "result=pd.to_datetime(df)\n",
    "\n",
    "print(type(result), result,sep='\\n')"
   ]
  },
  {
   "cell_type": "code",
   "execution_count": 76,
   "id": "be2b340c",
   "metadata": {},
   "outputs": [
    {
     "name": "stdout",
     "output_type": "stream",
     "text": [
      "<class 'pandas._libs.tslibs.timestamps.Timestamp'>\n",
      "2021-11-01 00:00:00\n"
     ]
    }
   ],
   "source": [
    "one=result[0]\n",
    "print(type(one),one,sep='\\n')"
   ]
  },
  {
   "cell_type": "code",
   "execution_count": 77,
   "id": "74e0d126",
   "metadata": {},
   "outputs": [
    {
     "data": {
      "text/plain": [
       "(1, 11, <function Timestamp.month_name>, 0)"
      ]
     },
     "execution_count": 77,
     "metadata": {},
     "output_type": "execute_result"
    }
   ],
   "source": [
    "one.day, one.month, one.month_name, one.hour"
   ]
  },
  {
   "cell_type": "code",
   "execution_count": null,
   "id": "8334d8c9",
   "metadata": {},
   "outputs": [],
   "source": []
  },
  {
   "cell_type": "markdown",
   "id": "6adb686d",
   "metadata": {},
   "source": [
    "# 타임 및 다른 포맷 변환 메서드들..... to_변환타입()"
   ]
  },
  {
   "cell_type": "code",
   "execution_count": 78,
   "id": "e6e5f33c",
   "metadata": {},
   "outputs": [
    {
     "data": {
      "text/html": [
       "<div>\n",
       "<style scoped>\n",
       "    .dataframe tbody tr th:only-of-type {\n",
       "        vertical-align: middle;\n",
       "    }\n",
       "\n",
       "    .dataframe tbody tr th {\n",
       "        vertical-align: top;\n",
       "    }\n",
       "\n",
       "    .dataframe thead th {\n",
       "        text-align: right;\n",
       "    }\n",
       "</style>\n",
       "<table border=\"1\" class=\"dataframe\">\n",
       "  <thead>\n",
       "    <tr style=\"text-align: right;\">\n",
       "      <th></th>\n",
       "      <th>0</th>\n",
       "    </tr>\n",
       "  </thead>\n",
       "  <tbody>\n",
       "    <tr>\n",
       "      <th>0</th>\n",
       "      <td>2021-11-01</td>\n",
       "    </tr>\n",
       "    <tr>\n",
       "      <th>1</th>\n",
       "      <td>2022-12-24</td>\n",
       "    </tr>\n",
       "  </tbody>\n",
       "</table>\n",
       "</div>"
      ],
      "text/plain": [
       "           0\n",
       "0 2021-11-01\n",
       "1 2022-12-24"
      ]
     },
     "execution_count": 78,
     "metadata": {},
     "output_type": "execute_result"
    }
   ],
   "source": [
    "result.to_frame()"
   ]
  },
  {
   "cell_type": "code",
   "execution_count": 79,
   "id": "60d56286",
   "metadata": {},
   "outputs": [
    {
     "data": {
      "text/plain": [
       "'0   2021-11-01\\n1   2022-12-24'"
      ]
     },
     "execution_count": 79,
     "metadata": {},
     "output_type": "execute_result"
    }
   ],
   "source": [
    "result.to_string()"
   ]
  },
  {
   "cell_type": "code",
   "execution_count": 80,
   "id": "0523c436",
   "metadata": {},
   "outputs": [],
   "source": [
    "# 파일 생성"
   ]
  },
  {
   "cell_type": "code",
   "execution_count": 81,
   "id": "cc2b903c",
   "metadata": {},
   "outputs": [],
   "source": [
    "result.to_csv('result.csv',index=False)"
   ]
  },
  {
   "cell_type": "code",
   "execution_count": 82,
   "id": "3a950459",
   "metadata": {},
   "outputs": [],
   "source": [
    "result.to_json('result.json')"
   ]
  },
  {
   "cell_type": "markdown",
   "id": "070e5084",
   "metadata": {},
   "source": [
    "## CSV 파일 활용 실습\n",
    "\n",
    " - 날짜 데이터가 있는 CSV 파일 처리하기"
   ]
  },
  {
   "cell_type": "code",
   "execution_count": 83,
   "id": "ad75d022",
   "metadata": {},
   "outputs": [
    {
     "name": "stdout",
     "output_type": "stream",
     "text": [
      "<class 'pandas.core.frame.DataFrame'>\n",
      "RangeIndex: 8 entries, 0 to 7\n",
      "Data columns (total 3 columns):\n",
      " #   Column  Non-Null Count  Dtype \n",
      "---  ------  --------------  ----- \n",
      " 0   ident   8 non-null      int64 \n",
      " 1   site    8 non-null      object\n",
      " 2   dated   8 non-null      object\n",
      "dtypes: int64(1), object(2)\n",
      "memory usage: 320.0+ bytes\n"
     ]
    },
    {
     "data": {
      "text/plain": [
       "(None,\n",
       "    ident   site       dated\n",
       " 0    619   DR-1  1927-02-08\n",
       " 1    622   DR-1  1927-02-10\n",
       " 2    734   DR-3  1939-01-07\n",
       " 3    735   DR-3  1930-01-12\n",
       " 4    751   DR-3  1930-02-26\n",
       " 5    752   DR-3  1930-02-26\n",
       " 6    837  MSK-4  1932-01-14\n",
       " 7    844   DR-1  1932-03-22)"
      ]
     },
     "execution_count": 83,
     "metadata": {},
     "output_type": "execute_result"
    }
   ],
   "source": [
    "# CSV FILE ==> DataFrame으로 가져오기\n",
    "vis=pd.read_csv('../Data/survey_visited.csv')\n",
    "\n",
    "# 결측치 처리\n",
    "vis.fillna(method='ffill',inplace=True)\n",
    "\n",
    "vis.info(), vis"
   ]
  },
  {
   "cell_type": "code",
   "execution_count": 84,
   "id": "0c1aeab4",
   "metadata": {},
   "outputs": [
    {
     "data": {
      "text/plain": [
       "0   1927-02-08\n",
       "1   1927-02-10\n",
       "2   1939-01-07\n",
       "3   1930-01-12\n",
       "4   1930-02-26\n",
       "5   1930-02-26\n",
       "6   1932-01-14\n",
       "7   1932-03-22\n",
       "Name: dated, dtype: datetime64[ns]"
      ]
     },
     "execution_count": 84,
     "metadata": {},
     "output_type": "execute_result"
    }
   ],
   "source": [
    "# 날짜 관련 데이터 ==> 자료형 변환하기\n",
    "vis['dated']=pd.to_datetime(vis['dated'])\n",
    "vis['dated']"
   ]
  },
  {
   "cell_type": "code",
   "execution_count": 85,
   "id": "d84340ab",
   "metadata": {},
   "outputs": [
    {
     "name": "stdout",
     "output_type": "stream",
     "text": [
      "<class 'pandas.core.frame.DataFrame'>\n",
      "RangeIndex: 8 entries, 0 to 7\n",
      "Data columns (total 3 columns):\n",
      " #   Column  Non-Null Count  Dtype         \n",
      "---  ------  --------------  -----         \n",
      " 0   ident   8 non-null      int64         \n",
      " 1   site    8 non-null      object        \n",
      " 2   dated   8 non-null      datetime64[ns]\n",
      "dtypes: datetime64[ns](1), int64(1), object(1)\n",
      "memory usage: 320.0+ bytes\n"
     ]
    }
   ],
   "source": [
    "vis.info()"
   ]
  },
  {
   "cell_type": "code",
   "execution_count": 94,
   "id": "533a00b8",
   "metadata": {},
   "outputs": [
    {
     "data": {
      "text/plain": [
       "(Timestamp('1927-02-08 00:00:00'), 1927, 2, 8)"
      ]
     },
     "execution_count": 94,
     "metadata": {},
     "output_type": "execute_result"
    }
   ],
   "source": [
    "vis['dated'][0], vis['dated'][0].year, vis['dated'][0].month, vis['dated'][0].day"
   ]
  },
  {
   "cell_type": "code",
   "execution_count": 96,
   "id": "2ddb3760",
   "metadata": {},
   "outputs": [
    {
     "data": {
      "text/plain": [
       "(pandas.core.series.Series, dtype('<M8[ns]'))"
      ]
     },
     "execution_count": 96,
     "metadata": {},
     "output_type": "execute_result"
    }
   ],
   "source": [
    "type(vis['dated']), vis['dated'].dtype"
   ]
  },
  {
   "cell_type": "code",
   "execution_count": 97,
   "id": "340af7ae",
   "metadata": {},
   "outputs": [
    {
     "data": {
      "text/plain": [
       "0    1927\n",
       "1    1927\n",
       "2    1939\n",
       "3    1930\n",
       "4    1930\n",
       "5    1930\n",
       "6    1932\n",
       "7    1932\n",
       "Name: dated, dtype: int64"
      ]
     },
     "execution_count": 97,
     "metadata": {},
     "output_type": "execute_result"
    }
   ],
   "source": [
    "vis['dated'].dt.year"
   ]
  },
  {
   "cell_type": "code",
   "execution_count": 98,
   "id": "d31c3d15",
   "metadata": {},
   "outputs": [
    {
     "data": {
      "text/plain": [
       "0    2\n",
       "1    2\n",
       "2    1\n",
       "3    1\n",
       "4    2\n",
       "5    2\n",
       "6    1\n",
       "7    3\n",
       "Name: dated, dtype: int64"
      ]
     },
     "execution_count": 98,
     "metadata": {},
     "output_type": "execute_result"
    }
   ],
   "source": [
    "vis['dated'].dt.month"
   ]
  },
  {
   "cell_type": "code",
   "execution_count": 102,
   "id": "9c035391",
   "metadata": {},
   "outputs": [],
   "source": [
    "dateSR=vis['dated']"
   ]
  },
  {
   "cell_type": "code",
   "execution_count": 103,
   "id": "c849b770",
   "metadata": {},
   "outputs": [
    {
     "data": {
      "text/plain": [
       "0   1927-02-08\n",
       "1   1927-02-10\n",
       "2   1939-01-07\n",
       "3   1930-01-12\n",
       "4   1930-02-26\n",
       "5   1930-02-26\n",
       "6   1932-01-14\n",
       "7   1932-03-22\n",
       "Name: dated, dtype: datetime64[ns]"
      ]
     },
     "execution_count": 103,
     "metadata": {},
     "output_type": "execute_result"
    }
   ],
   "source": [
    "dateSR"
   ]
  },
  {
   "cell_type": "code",
   "execution_count": 101,
   "id": "4d479e81",
   "metadata": {},
   "outputs": [
    {
     "data": {
      "text/plain": [
       "0    False\n",
       "1    False\n",
       "2     True\n",
       "3     True\n",
       "4     True\n",
       "5     True\n",
       "6     True\n",
       "7     True\n",
       "Name: dated, dtype: bool"
      ]
     },
     "execution_count": 101,
     "metadata": {},
     "output_type": "execute_result"
    }
   ],
   "source": [
    "dateSR.dt.year>=1930"
   ]
  },
  {
   "cell_type": "code",
   "execution_count": 104,
   "id": "b3233fea",
   "metadata": {},
   "outputs": [
    {
     "data": {
      "text/plain": [
       "2   1939-01-07\n",
       "3   1930-01-12\n",
       "4   1930-02-26\n",
       "5   1930-02-26\n",
       "6   1932-01-14\n",
       "7   1932-03-22\n",
       "Name: dated, dtype: datetime64[ns]"
      ]
     },
     "execution_count": 104,
     "metadata": {},
     "output_type": "execute_result"
    }
   ],
   "source": [
    "dateSR[dateSR.dt.year>=1930]"
   ]
  },
  {
   "cell_type": "code",
   "execution_count": 105,
   "id": "f9dc0c5f",
   "metadata": {},
   "outputs": [
    {
     "data": {
      "text/plain": [
       "0   1927-02-08\n",
       "1   1927-02-10\n",
       "4   1930-02-26\n",
       "5   1930-02-26\n",
       "7   1932-03-22\n",
       "Name: dated, dtype: datetime64[ns]"
      ]
     },
     "execution_count": 105,
     "metadata": {},
     "output_type": "execute_result"
    }
   ],
   "source": [
    "dateSR[dateSR.dt.month>=2]"
   ]
  },
  {
   "cell_type": "code",
   "execution_count": null,
   "id": "33f8df68",
   "metadata": {},
   "outputs": [],
   "source": []
  },
  {
   "cell_type": "code",
   "execution_count": null,
   "id": "28d4371e",
   "metadata": {},
   "outputs": [],
   "source": []
  },
  {
   "cell_type": "code",
   "execution_count": null,
   "id": "88c7fc7a",
   "metadata": {},
   "outputs": [],
   "source": []
  },
  {
   "cell_type": "code",
   "execution_count": null,
   "id": "f3fb6bab",
   "metadata": {},
   "outputs": [],
   "source": []
  },
  {
   "cell_type": "code",
   "execution_count": null,
   "id": "e1eef979",
   "metadata": {},
   "outputs": [],
   "source": []
  },
  {
   "cell_type": "code",
   "execution_count": null,
   "id": "8d614446",
   "metadata": {},
   "outputs": [],
   "source": []
  },
  {
   "cell_type": "code",
   "execution_count": null,
   "id": "59c85c2b",
   "metadata": {},
   "outputs": [],
   "source": []
  },
  {
   "cell_type": "code",
   "execution_count": null,
   "id": "982e9522",
   "metadata": {},
   "outputs": [],
   "source": []
  },
  {
   "cell_type": "code",
   "execution_count": null,
   "id": "c83b7301",
   "metadata": {},
   "outputs": [],
   "source": []
  },
  {
   "cell_type": "code",
   "execution_count": null,
   "id": "b7b6f9eb",
   "metadata": {},
   "outputs": [],
   "source": []
  }
 ],
 "metadata": {
  "kernelspec": {
   "display_name": "Python 3 (ipykernel)",
   "language": "python",
   "name": "python3"
  },
  "language_info": {
   "codemirror_mode": {
    "name": "ipython",
    "version": 3
   },
   "file_extension": ".py",
   "mimetype": "text/x-python",
   "name": "python",
   "nbconvert_exporter": "python",
   "pygments_lexer": "ipython3",
   "version": "3.9.12"
  }
 },
 "nbformat": 4,
 "nbformat_minor": 5
}
