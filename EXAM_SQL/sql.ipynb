{
 "cells": [
  {
   "cell_type": "markdown",
   "metadata": {},
   "source": [
    "# MySQL과 Python 연동하기\n",
    " - pymysql 설치"
   ]
  },
  {
   "cell_type": "markdown",
   "metadata": {},
   "source": [
    "---\n",
    "### 데이터 조회 순서\n",
    "database 접속 : 연결자 = pymysql.connect()  \n",
    "->cursor 생성 : 커서이름 = 연결자.cursor() -> 쿼리문에 의해 반환되는 결과값을 저장하는 공간  \n",
    "->sql문 실행 : 커서이름.execute(‘쿼리문장’,args=None)  \n",
    "　　　　　커서이름.executemany(‘쿼리문장’,튜플데이터)  \n",
    "->조회 결과 가져오기 : 연결자.fetchall() (fetchall(), fecthone(), fetchmany(n))  \n",
    "->MySQL 연결 종료 : 연결자.close()  커서.close()\n",
    "\n",
    "### 데이터 추가, 수정, 삭제 순서\n",
    "database 접속 -> cursor 생성 -> sql문 실행  \n",
    "-> 실행 결과 확정 : 연결자.commit() 데이터를 추가, 수정, 삭제 등의 작업을 수행한 다음에 commit() 실행  \n",
    "-> MySQL 연결 종료"
   ]
  },
  {
   "cell_type": "markdown",
   "metadata": {},
   "source": [
    "### connect() 함수\n",
    " - host: DB가 존재하는 서버의 주소(localhost 또는 IP주소)\n",
    " - user: 사용자 ID\n",
    " - db: 연결할 데이터베이스 이름"
   ]
  },
  {
   "cell_type": "code",
   "execution_count": 11,
   "metadata": {},
   "outputs": [
    {
     "name": "stdout",
     "output_type": "stream",
     "text": [
      "((1, 'English', datetime.datetime(2006, 2, 15, 5, 2, 19)), (2, 'Italian', datetime.datetime(2006, 2, 15, 5, 2, 19)), (3, 'Japanese', datetime.datetime(2006, 2, 15, 5, 2, 19)), (4, 'Mandarin', datetime.datetime(2006, 2, 15, 5, 2, 19)), (5, 'French', datetime.datetime(2006, 2, 15, 5, 2, 19)), (6, 'German', datetime.datetime(2006, 2, 15, 5, 2, 19)))\n",
      "   0         1                   2\n",
      "0  1   English 2006-02-15 05:02:19\n",
      "1  2   Italian 2006-02-15 05:02:19\n",
      "2  3  Japanese 2006-02-15 05:02:19\n",
      "3  4  Mandarin 2006-02-15 05:02:19\n",
      "4  5    French 2006-02-15 05:02:19\n",
      "5  6    German 2006-02-15 05:02:19\n"
     ]
    }
   ],
   "source": [
    "import pymysql\n",
    "import pandas as pd\n",
    "\n",
    "conn = pymysql.connect(host='localhost', user='root',password='950603', db = 'sakila', charset='utf8')\n",
    "                        # '127.0.0.1'\n",
    "# 커서 객체 생성\n",
    "cur=conn.cursor()\n",
    "\n",
    "# sql문 실행\n",
    "cur.execute('select * from language')\n",
    "\n",
    "# 모든 데이터를 가져옴\n",
    "rows = cur.fetchall()\n",
    "print(rows)\n",
    "\n",
    "# DataFrame 형태로 변환\n",
    "language_df = pd.DataFrame(rows)\n",
    "print(language_df)\n",
    "\n",
    "# 커서 객체 닫기\n",
    "cur.close() \n",
    "\n",
    "# DB연결 닫기\n",
    "conn.close()"
   ]
  },
  {
   "cell_type": "markdown",
   "metadata": {},
   "source": [
    "--- \n",
    "### 사용 함수\n",
    "#### cursor() 함수\n",
    "  - cursor 객체 생성\n",
    "  - cursor: 쿼리문에 의해 반환되는 결과값을 저장하는 공간\n",
    "\n",
    "#### cursor.execute(‘쿼리문장’, args=None) 함수\n",
    "  - 작성한 쿼리를 실행\n",
    "#### fetch 관련 함수\n",
    "  - fetchall(): 모든 데이터를 한 번에 가져옴\n",
    "  - fetchone(): 한 번 호출에 하나의 행만 가져옴\n",
    "  - fetchmany(n): n개 만큼의 데이터를 가져옴\n",
    "#### commit() 함수\n",
    "  - 데이터를 추가, 수정, 삭제 등의 작업을 수행한 다음에 실행\n",
    "#### close() 함수\n",
    "  - MySQL과의 연결 종료"
   ]
  },
  {
   "cell_type": "markdown",
   "metadata": {},
   "source": [
    "---\n",
    "## 복잡한 쿼리 실행"
   ]
  },
  {
   "cell_type": "code",
   "execution_count": 13,
   "metadata": {},
   "outputs": [
    {
     "name": "stdout",
     "output_type": "stream",
     "text": [
      "('CATHERINE.CAMPBELL@sakilacustomer.org',)\n",
      "('JOYCE.EDWARDS@sakilacustomer.org',)\n",
      "('AMBER.DIXON@sakilacustomer.org',)\n",
      "('JEANETTE.GREENE@sakilacustomer.org',)\n",
      "('MINNIE.ROMERO@sakilacustomer.org',)\n",
      "('GWENDOLYN.MAY@sakilacustomer.org',)\n",
      "('SONIA.GREGORY@sakilacustomer.org',)\n",
      "('MIRIAM.MCKINNEY@sakilacustomer.org',)\n",
      "('CHARLES.KOWALSKI@sakilacustomer.org',)\n",
      "('DANIEL.CABRAL@sakilacustomer.org',)\n",
      "('MATTHEW.MAHAN@sakilacustomer.org',)\n",
      "('JEFFERY.PINSON@sakilacustomer.org',)\n",
      "('HERMAN.DEVORE@sakilacustomer.org',)\n",
      "('ELMER.NOE@sakilacustomer.org',)\n",
      "('TERRANCE.ROUSH@sakilacustomer.org',)\n",
      "('TERRENCE.GUNDERSON@sakilacustomer.org',)\n"
     ]
    }
   ],
   "source": [
    "import pymysql\n",
    "conn = pymysql.connect(host='localhost', user='root', password='950603', db = 'sakila', charset='utf8')\n",
    "cur = conn.cursor()\n",
    "\n",
    "\n",
    "# 실제 쿼리와 동일한 문자열 전달 (따옴표 주의)\n",
    "query = \"\"\"\n",
    "select c.email\n",
    "from customer as c\n",
    "\n",
    "inner join rental as r\n",
    "on c.customer_id = r.customer_id\n",
    "\n",
    "where date(r.rental_date) = (%s)\"\"\"\n",
    "\n",
    "cur.execute(query, ('2005-06-14'))\n",
    "\n",
    "# 모든 데이터를 가져옴\n",
    "rows = cur.fetchall()\n",
    "\n",
    "for row in rows:\n",
    "    print(row)\n",
    "\n",
    "cur.close()\n",
    "conn.close()\n"
   ]
  },
  {
   "cell_type": "code",
   "execution_count": null,
   "metadata": {},
   "outputs": [],
   "source": []
  },
  {
   "cell_type": "code",
   "execution_count": null,
   "metadata": {},
   "outputs": [],
   "source": []
  },
  {
   "cell_type": "code",
   "execution_count": null,
   "metadata": {},
   "outputs": [],
   "source": []
  },
  {
   "cell_type": "code",
   "execution_count": null,
   "metadata": {},
   "outputs": [],
   "source": []
  },
  {
   "cell_type": "code",
   "execution_count": null,
   "metadata": {},
   "outputs": [],
   "source": []
  },
  {
   "cell_type": "code",
   "execution_count": null,
   "metadata": {},
   "outputs": [],
   "source": []
  }
 ],
 "metadata": {
  "kernelspec": {
   "display_name": "Python 3.9.10 ('venv': venv)",
   "language": "python",
   "name": "python3"
  },
  "language_info": {
   "codemirror_mode": {
    "name": "ipython",
    "version": 3
   },
   "file_extension": ".py",
   "mimetype": "text/x-python",
   "name": "python",
   "nbconvert_exporter": "python",
   "pygments_lexer": "ipython3",
   "version": "3.9.10"
  },
  "orig_nbformat": 4,
  "vscode": {
   "interpreter": {
    "hash": "a359e4cf962bb4bbe26ac4e41865fe9f9b6c0be3676dc98bb73a8a416a88b75a"
   }
  }
 },
 "nbformat": 4,
 "nbformat_minor": 2
}
