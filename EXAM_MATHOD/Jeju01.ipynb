{
 "cells": [
  {
   "cell_type": "markdown",
   "metadata": {},
   "source": [
    "# 제주도 교통량 예측"
   ]
  },
  {
   "cell_type": "code",
   "execution_count": 1,
   "metadata": {},
   "outputs": [],
   "source": [
    "# 모듈 로딩\n",
    "from keras import Sequential\n",
    "from keras.layers import Dense, Dropout\n",
    "import numpy as np"
   ]
  },
  {
   "cell_type": "markdown",
   "metadata": {},
   "source": [
    "## [1] 데이터 로딩 및 전처리"
   ]
  },
  {
   "cell_type": "code",
   "execution_count": 2,
   "metadata": {},
   "outputs": [],
   "source": [
    "train=np.load('./train_save.npy')\n",
    "target=np.load('./target_save.npy')\n",
    "test=np.load('./test_save.npy')"
   ]
  },
  {
   "cell_type": "code",
   "execution_count": 3,
   "metadata": {},
   "outputs": [
    {
     "data": {
      "text/plain": [
       "((4701217, 16), (4701217, 1))"
      ]
     },
     "execution_count": 3,
     "metadata": {},
     "output_type": "execute_result"
    }
   ],
   "source": [
    "train.shape, target.shape"
   ]
  },
  {
   "cell_type": "code",
   "execution_count": 4,
   "metadata": {},
   "outputs": [],
   "source": [
    "from sklearn.model_selection import train_test_split\n",
    "\n",
    "x_train, x_test, y_train, y_test = train_test_split(train, target, random_state=42)\n",
    "\n",
    "x_train, x_val, y_train, y_val = train_test_split(x_train, y_train, random_state=42)"
   ]
  },
  {
   "cell_type": "code",
   "execution_count": 5,
   "metadata": {},
   "outputs": [
    {
     "data": {
      "text/plain": [
       "((2644434, 16), (1175305, 16), (881478, 16))"
      ]
     },
     "execution_count": 5,
     "metadata": {},
     "output_type": "execute_result"
    }
   ],
   "source": [
    "x_train.shape, x_test.shape, x_val.shape"
   ]
  },
  {
   "cell_type": "markdown",
   "metadata": {},
   "source": [
    "## [2] 모델 만들기\n",
    "\n",
    "### [2-1] 모델 구상\n",
    "- 입력 데이터 -> 16개 Features\n",
    "- 출력 데이터 -> 1개 평균 속도(교통량)\n",
    "- 학슥 방법: 회귀  \n"
   ]
  },
  {
   "cell_type": "code",
   "execution_count": 6,
   "metadata": {},
   "outputs": [
    {
     "name": "stdout",
     "output_type": "stream",
     "text": [
      "Model: \"sequential\"\n",
      "_________________________________________________________________\n",
      " Layer (type)                Output Shape              Param #   \n",
      "=================================================================\n",
      " dense (Dense)               (None, 16)                272       \n",
      "                                                                 \n",
      " dense_1 (Dense)             (None, 32)                544       \n",
      "                                                                 \n",
      " dropout (Dropout)           (None, 32)                0         \n",
      "                                                                 \n",
      " dense_2 (Dense)             (None, 64)                2112      \n",
      "                                                                 \n",
      " dropout_1 (Dropout)         (None, 64)                0         \n",
      "                                                                 \n",
      " dense_3 (Dense)             (None, 128)               8320      \n",
      "                                                                 \n",
      " dropout_2 (Dropout)         (None, 128)               0         \n",
      "                                                                 \n",
      " dense_4 (Dense)             (None, 64)                8256      \n",
      "                                                                 \n",
      " dropout_3 (Dropout)         (None, 64)                0         \n",
      "                                                                 \n",
      " dense_5 (Dense)             (None, 32)                2080      \n",
      "                                                                 \n",
      " dropout_4 (Dropout)         (None, 32)                0         \n",
      "                                                                 \n",
      " dense_6 (Dense)             (None, 16)                528       \n",
      "                                                                 \n",
      " dense_7 (Dense)             (None, 1)                 17        \n",
      "                                                                 \n",
      "=================================================================\n",
      "Total params: 22,129\n",
      "Trainable params: 22,129\n",
      "Non-trainable params: 0\n",
      "_________________________________________________________________\n"
     ]
    }
   ],
   "source": [
    "# 모델 만들기\n",
    "\n",
    "model=Sequential()\n",
    "\n",
    "model.add(Dense(16, activation='relu', input_shape=(16,)))\n",
    "\n",
    "model.add(Dense(32, activation='relu'))\n",
    "model.add(Dropout(0.2))\n",
    "model.add(Dense(64, activation='relu'))\n",
    "model.add(Dropout(0.2))\n",
    "model.add(Dense(128, activation='relu'))\n",
    "model.add(Dropout(0.2))\n",
    "model.add(Dense(64, activation='relu'))\n",
    "model.add(Dropout(0.2))\n",
    "model.add(Dense(32, activation='relu'))\n",
    "model.add(Dropout(0.2))\n",
    "model.add(Dense(16, activation='relu'))\n",
    "\n",
    "# 회귀 출력층\n",
    "model.add(Dense(1, activation='linear'))\n",
    "          \n",
    "          \n",
    "# 모델 구성 확인\n",
    "model.summary()"
   ]
  },
  {
   "cell_type": "code",
   "execution_count": 7,
   "metadata": {},
   "outputs": [],
   "source": [
    "model.compile(loss='mse', optimizer='adam', metrics='mse')"
   ]
  },
  {
   "cell_type": "code",
   "execution_count": 8,
   "metadata": {},
   "outputs": [],
   "source": [
    "# 모델 체크포인트 생성\n",
    "from keras.callbacks import ModelCheckpoint\n",
    "\n",
    "path='./model/{epoch:02d}-{val_mse:.4f}.hdf5'\n",
    "model_ckpt = ModelCheckpoint(path)"
   ]
  },
  {
   "cell_type": "code",
   "execution_count": 10,
   "metadata": {},
   "outputs": [
    {
     "name": "stdout",
     "output_type": "stream",
     "text": [
      "Epoch 1/10\n",
      "82639/82639 [==============================] - 146s 2ms/step - loss: 0.5874 - mse: 0.5874 - val_loss: 0.5753 - val_mse: 0.5753\n",
      "Epoch 2/10\n",
      "82639/82639 [==============================] - 169s 2ms/step - loss: 0.6018 - mse: 0.6018 - val_loss: 0.6351 - val_mse: 0.6351\n",
      "Epoch 3/10\n",
      "82639/82639 [==============================] - 165s 2ms/step - loss: 0.6343 - mse: 0.6343 - val_loss: 1.2532 - val_mse: 1.2532\n",
      "Epoch 4/10\n",
      "82639/82639 [==============================] - 189s 2ms/step - loss: 0.6479 - mse: 0.6479 - val_loss: 1.2596 - val_mse: 1.2596\n",
      "Epoch 5/10\n",
      "82639/82639 [==============================] - 169s 2ms/step - loss: 0.6272 - mse: 0.6272 - val_loss: 1.2256 - val_mse: 1.2256\n",
      "Epoch 6/10\n",
      "82639/82639 [==============================] - 171s 2ms/step - loss: 0.6234 - mse: 0.6234 - val_loss: 1.1105 - val_mse: 1.1105\n",
      "Epoch 7/10\n",
      "82639/82639 [==============================] - 177s 2ms/step - loss: 0.6727 - mse: 0.6727 - val_loss: 1.6822 - val_mse: 1.6822\n",
      "Epoch 8/10\n",
      "82639/82639 [==============================] - 187s 2ms/step - loss: 0.6167 - mse: 0.6167 - val_loss: 2.2283 - val_mse: 2.2283\n",
      "Epoch 9/10\n",
      "82639/82639 [==============================] - 176s 2ms/step - loss: 0.6262 - mse: 0.6262 - val_loss: 1.8009 - val_mse: 1.8009\n",
      "Epoch 10/10\n",
      "82639/82639 [==============================] - 178s 2ms/step - loss: 0.6252 - mse: 0.6252 - val_loss: 1.7144 - val_mse: 1.7144\n"
     ]
    },
    {
     "data": {
      "text/plain": [
       "<keras.callbacks.History at 0x270e8fb5d30>"
      ]
     },
     "execution_count": 10,
     "metadata": {},
     "output_type": "execute_result"
    }
   ],
   "source": [
    "# 모델 학습\n",
    "model.fit(x_train, y_train, epochs=10, batch_size=32, validation_data=(x_val, y_val), callbacks=[model_ckpt])"
   ]
  },
  {
   "cell_type": "code",
   "execution_count": null,
   "metadata": {},
   "outputs": [],
   "source": []
  },
  {
   "cell_type": "markdown",
   "metadata": {},
   "source": [
    "## [3] 테스트 및 평가"
   ]
  },
  {
   "cell_type": "code",
   "execution_count": 11,
   "metadata": {},
   "outputs": [],
   "source": [
    "import os\n",
    "model_list=os.listdir('./model')"
   ]
  },
  {
   "cell_type": "code",
   "execution_count": 12,
   "metadata": {},
   "outputs": [
    {
     "name": "stdout",
     "output_type": "stream",
     "text": [
      "01-0.5753.hdf5:\n",
      "36729/36729 [==============================] - 23s 632us/step - loss: 0.5772 - mse: 0.5772\n",
      "01-0.5849.hdf5:\n",
      "36729/36729 [==============================] - 27s 741us/step - loss: 0.5867 - mse: 0.5867\n",
      "02-0.6351.hdf5:\n",
      "36729/36729 [==============================] - 31s 848us/step - loss: 0.6372 - mse: 0.6372\n",
      "03-1.2532.hdf5:\n",
      "36729/36729 [==============================] - 30s 819us/step - loss: 1.2549 - mse: 1.2549\n",
      "04-1.2596.hdf5:\n",
      "36729/36729 [==============================] - 30s 814us/step - loss: 1.2614 - mse: 1.2614\n",
      "05-1.2256.hdf5:\n",
      "36729/36729 [==============================] - 30s 822us/step - loss: 1.2274 - mse: 1.2274\n",
      "06-1.1105.hdf5:\n",
      "36729/36729 [==============================] - 31s 840us/step - loss: 1.1121 - mse: 1.1121\n",
      "07-1.6822.hdf5:\n",
      "36729/36729 [==============================] - 32s 853us/step - loss: 1.6845 - mse: 1.6845\n",
      "08-2.2283.hdf5:\n",
      "36729/36729 [==============================] - 31s 847us/step - loss: 2.2313 - mse: 2.2313\n",
      "09-1.8009.hdf5:\n",
      "36729/36729 [==============================] - 31s 836us/step - loss: 1.8028 - mse: 1.8028\n",
      "10-1.7144.hdf5:\n",
      "36729/36729 [==============================] - 31s 828us/step - loss: 1.7170 - mse: 1.7170\n",
      "best 02-0.5720.hdf5:\n",
      "36729/36729 [==============================] - 31s 830us/step - loss: 0.5738 - mse: 0.5738\n",
      "best 1.0930 model.h5:\n",
      "36729/36729 [==============================] - 29s 773us/step - loss: 1.0959 - mse: 1.0959\n"
     ]
    }
   ],
   "source": [
    "from keras.models import load_model\n",
    "\n",
    "for m in model_list:\n",
    "    model=load_model(f'./model/{m}')\n",
    "    print(f'{m}:')\n",
    "    model.evaluate(x_test, y_test)"
   ]
  },
  {
   "cell_type": "code",
   "execution_count": null,
   "metadata": {},
   "outputs": [],
   "source": []
  },
  {
   "cell_type": "markdown",
   "metadata": {},
   "source": [
    "### [데이콘]"
   ]
  },
  {
   "cell_type": "code",
   "execution_count": 13,
   "metadata": {},
   "outputs": [],
   "source": [
    "model=load_model('./model/01-0.5753.hdf5')"
   ]
  },
  {
   "cell_type": "code",
   "execution_count": 14,
   "metadata": {},
   "outputs": [
    {
     "name": "stdout",
     "output_type": "stream",
     "text": [
      "9102/9102 [==============================] - 6s 587us/step\n"
     ]
    }
   ],
   "source": [
    "pre=model.predict(test)"
   ]
  },
  {
   "cell_type": "code",
   "execution_count": 15,
   "metadata": {},
   "outputs": [
    {
     "data": {
      "text/plain": [
       "array([1.1066463], dtype=float32)"
      ]
     },
     "execution_count": 15,
     "metadata": {},
     "output_type": "execute_result"
    }
   ],
   "source": [
    "pre[0]"
   ]
  },
  {
   "cell_type": "code",
   "execution_count": 16,
   "metadata": {},
   "outputs": [],
   "source": [
    "import pandas as pd\n",
    "test_df=pd.read_csv('./Data/sample_submission.csv')"
   ]
  },
  {
   "cell_type": "code",
   "execution_count": 17,
   "metadata": {},
   "outputs": [
    {
     "name": "stdout",
     "output_type": "stream",
     "text": [
      "<class 'pandas.core.frame.DataFrame'>\n",
      "RangeIndex: 291241 entries, 0 to 291240\n",
      "Data columns (total 2 columns):\n",
      " #   Column  Non-Null Count   Dtype \n",
      "---  ------  --------------   ----- \n",
      " 0   id      291241 non-null  object\n",
      " 1   target  291241 non-null  int64 \n",
      "dtypes: int64(1), object(1)\n",
      "memory usage: 4.4+ MB\n"
     ]
    }
   ],
   "source": [
    "test_df.info()"
   ]
  },
  {
   "cell_type": "code",
   "execution_count": 18,
   "metadata": {},
   "outputs": [
    {
     "data": {
      "text/plain": [
       "(291241, 1)"
      ]
     },
     "execution_count": 18,
     "metadata": {},
     "output_type": "execute_result"
    }
   ],
   "source": [
    "pre.shape"
   ]
  },
  {
   "cell_type": "code",
   "execution_count": 19,
   "metadata": {},
   "outputs": [],
   "source": [
    "test_df['target']=pre"
   ]
  },
  {
   "cell_type": "code",
   "execution_count": 20,
   "metadata": {},
   "outputs": [
    {
     "data": {
      "text/html": [
       "<div>\n",
       "<style scoped>\n",
       "    .dataframe tbody tr th:only-of-type {\n",
       "        vertical-align: middle;\n",
       "    }\n",
       "\n",
       "    .dataframe tbody tr th {\n",
       "        vertical-align: top;\n",
       "    }\n",
       "\n",
       "    .dataframe thead th {\n",
       "        text-align: right;\n",
       "    }\n",
       "</style>\n",
       "<table border=\"1\" class=\"dataframe\">\n",
       "  <thead>\n",
       "    <tr style=\"text-align: right;\">\n",
       "      <th></th>\n",
       "      <th>id</th>\n",
       "      <th>target</th>\n",
       "    </tr>\n",
       "  </thead>\n",
       "  <tbody>\n",
       "    <tr>\n",
       "      <th>0</th>\n",
       "      <td>TEST_000000</td>\n",
       "      <td>1.106646</td>\n",
       "    </tr>\n",
       "    <tr>\n",
       "      <th>1</th>\n",
       "      <td>TEST_000001</td>\n",
       "      <td>5.971670</td>\n",
       "    </tr>\n",
       "    <tr>\n",
       "      <th>2</th>\n",
       "      <td>TEST_000002</td>\n",
       "      <td>0.006869</td>\n",
       "    </tr>\n",
       "    <tr>\n",
       "      <th>3</th>\n",
       "      <td>TEST_000003</td>\n",
       "      <td>1.157146</td>\n",
       "    </tr>\n",
       "    <tr>\n",
       "      <th>4</th>\n",
       "      <td>TEST_000004</td>\n",
       "      <td>1.894080</td>\n",
       "    </tr>\n",
       "  </tbody>\n",
       "</table>\n",
       "</div>"
      ],
      "text/plain": [
       "            id    target\n",
       "0  TEST_000000  1.106646\n",
       "1  TEST_000001  5.971670\n",
       "2  TEST_000002  0.006869\n",
       "3  TEST_000003  1.157146\n",
       "4  TEST_000004  1.894080"
      ]
     },
     "execution_count": 20,
     "metadata": {},
     "output_type": "execute_result"
    }
   ],
   "source": [
    "test_df.head()"
   ]
  },
  {
   "cell_type": "code",
   "execution_count": 21,
   "metadata": {},
   "outputs": [],
   "source": [
    "test_df.to_csv('sample_submission3.csv', index=False)"
   ]
  },
  {
   "cell_type": "code",
   "execution_count": null,
   "metadata": {},
   "outputs": [],
   "source": []
  }
 ],
 "metadata": {
  "kernelspec": {
   "display_name": "Python 3.9.13 ('conda3.9')",
   "language": "python",
   "name": "python3"
  },
  "language_info": {
   "codemirror_mode": {
    "name": "ipython",
    "version": 3
   },
   "file_extension": ".py",
   "mimetype": "text/x-python",
   "name": "python",
   "nbconvert_exporter": "python",
   "pygments_lexer": "ipython3",
   "version": "3.9.13"
  },
  "orig_nbformat": 4,
  "vscode": {
   "interpreter": {
    "hash": "0088ee2cbd7afdef503747ad15d8e9b92c4b3cb4dc2274aa1e35eb8b607389d9"
   }
  }
 },
 "nbformat": 4,
 "nbformat_minor": 2
}
