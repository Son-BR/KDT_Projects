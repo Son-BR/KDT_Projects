{
 "cells": [
  {
   "cell_type": "markdown",
   "metadata": {},
   "source": [
    "# 지하철 시간대별 자료 "
   ]
  },
  {
   "cell_type": "markdown",
   "metadata": {},
   "source": [
    "### 데이터 정수 변환\n",
    " - map() 함수 사용\n",
    " - 리스트의 요소를 지정된 함수로 처리\n",
    " - 원본 리ㅡ트를 변경하지 않고 새 리스트를 생성\n",
    " - map(function, iterable)\n",
    "   - 데이터에 적용할 함수, 함수를 적용할 데이터"
   ]
  },
  {
   "cell_type": "code",
   "execution_count": 3,
   "metadata": {},
   "outputs": [
    {
     "name": "stdout",
     "output_type": "stream",
     "text": [
      "[1, 4, 9, 16]\n",
      "[1, 2, 3, 4]\n"
     ]
    }
   ],
   "source": [
    "def func(x):\n",
    "    return x**2\n",
    "\n",
    "a=[1,2,3,4]\n",
    "a=list(map(func,a))\n",
    "print(a)\n",
    "\n",
    "data=['1','2','3','4']\n",
    "data=list(map(int,data))\n",
    "print(data)"
   ]
  },
  {
   "cell_type": "code",
   "execution_count": null,
   "metadata": {},
   "outputs": [],
   "source": []
  },
  {
   "cell_type": "markdown",
   "metadata": {},
   "source": [
    "#### 새벽 4시 지하철 승차 전체 인원"
   ]
  },
  {
   "cell_type": "code",
   "execution_count": 8,
   "metadata": {},
   "outputs": [
    {
     "name": "stdout",
     "output_type": "stream",
     "text": [
      "총 지하철 역의 수 :  615\n",
      "총 새벽 4시 승차인원 : 135,398\n"
     ]
    }
   ],
   "source": [
    "import csv\n",
    "\n",
    "result=[]\n",
    "total_number=0\n",
    "\n",
    "with open('../Data/subwaytime.csv') as f:\n",
    "    data=csv.reader(f)\n",
    "    next(data)\n",
    "    next(data)\n",
    "    \n",
    "    for row in data:\n",
    "        row[4:]=map(int, row[4:])\n",
    "        total_number+=row[4]\n",
    "        result.append(row[4])\n",
    "\n",
    "print('총 지하철 역의 수 : ',len(result))\n",
    "print('총 새벽 4시 승차인원 : {:,}'.format(total_number))"
   ]
  },
  {
   "cell_type": "code",
   "execution_count": null,
   "metadata": {},
   "outputs": [],
   "source": []
  },
  {
   "cell_type": "markdown",
   "metadata": {},
   "source": [
    "#### 새벽 4시 지하철 이용 인원수(그래프)"
   ]
  },
  {
   "cell_type": "code",
   "execution_count": 15,
   "metadata": {},
   "outputs": [
    {
     "name": "stdout",
     "output_type": "stream",
     "text": [
      "새벽 4시 승차 인원수 : 135,398\n",
      "최대 승차역 : 구로, 인원수 : 11,784\n"
     ]
    }
   ],
   "source": [
    "import matplotlib.pyplot as plt\n",
    "import platform\n",
    "\n",
    "with open('../Data/subwaytime.csv') as f:\n",
    "    data=csv.reader(f)\n",
    "    next(data)\n",
    "    next(data)\n",
    "\n",
    "    result=[]\n",
    "    total_number=0\n",
    "    max_num=0\n",
    "    max_station=''\n",
    "\n",
    "    for row in data:\n",
    "        row[4:]=map(int, row[4:])\n",
    "        total_number+=row[4]\n",
    "        result.append(row[4])\n",
    "        if (row[4]>max_num): \n",
    "            max_num=row[4]\n",
    "            max_station=row[3]\n",
    "\n",
    "print('새벽 4시 승차 인원수 : {:,}'.format(total_number))\n",
    "print('최대 승차역 : {0}, 인원수 : {1:,}'.format(max_station, max_num))"
   ]
  },
  {
   "cell_type": "markdown",
   "metadata": {},
   "source": [
    "#### 정렬\n",
    " - .sort() 원본바꿈. 오름차순으로 정렬 // 내림차순 : result.sort(reverse=True)\n",
    " - .sorted() 원본 바꾸지 않고 정렬"
   ]
  },
  {
   "cell_type": "code",
   "execution_count": 11,
   "metadata": {},
   "outputs": [
    {
     "data": {
      "text/plain": [
       "<BarContainer object of 615 artists>"
      ]
     },
     "execution_count": 11,
     "metadata": {},
     "output_type": "execute_result"
    },
    {
     "data": {
      "image/png": "[encoded data removed]",
      "text/plain": [
       "<Figure size 600x400 with 1 Axes>"
      ]
     },
     "metadata": {
      "needs_background": "light"
     },
     "output_type": "display_data"
    }
   ],
   "source": [
    "result.sort()\n",
    "plt.figure(dpi=100)\n",
    "plt.bar(range(len(result)),result)"
   ]
  },
  {
   "cell_type": "code",
   "execution_count": null,
   "metadata": {},
   "outputs": [],
   "source": []
  },
  {
   "cell_type": "markdown",
   "metadata": {},
   "source": [
    "#### 출근 시간대 지하철 이용 현황"
   ]
  },
  {
   "cell_type": "code",
   "execution_count": 13,
   "metadata": {},
   "outputs": [
    {
     "name": "stdout",
     "output_type": "stream",
     "text": [
      "최대 승차 인원역 : 신림(2호선) 638,753\n"
     ]
    },
    {
     "data": {
      "image/png": "[encoded data removed]",
      "text/plain": [
       "<Figure size 600x400 with 1 Axes>"
      ]
     },
     "metadata": {
      "needs_background": "light"
     },
     "output_type": "display_data"
    }
   ],
   "source": [
    "with open('../Data/subwaytime.csv') as f:\n",
    "    data=csv.reader(f)\n",
    "    next(data)\n",
    "    next(data)\n",
    "    result = []\n",
    "    total_number = 0\n",
    "    max_num = 0\n",
    "    max_station = ''\n",
    "\n",
    "    for row in data:\n",
    "        row[4:] = map(int, row[4:])\n",
    "        row_sum = sum(row[10:15:2])  # 10,12,14컬럼(7,8,9시 승차)\n",
    "        # row_sum = row[10] + row[12] + row[14]\n",
    "        result.append(row_sum)\n",
    "        if row_sum>max_num:\n",
    "            max_num=row_sum\n",
    "            max_station=row[3]+'('+row[1]+')'\n",
    "\n",
    "print('최대 승차 인원역 : {0} {1:,}'.format(max_station, max_num))\n",
    "result.sort(reverse=True)\n",
    "\n",
    "# 그래프 그리기\n",
    "plt.figure(dpi=100)\n",
    "plt.bar(range(len(result)),result)\n",
    "plt.show()"
   ]
  },
  {
   "cell_type": "code",
   "execution_count": null,
   "metadata": {},
   "outputs": [],
   "source": []
  },
  {
   "cell_type": "markdown",
   "metadata": {},
   "source": [
    "### 시간대별 가장 많이 승차하는 역 정보 분석\n",
    " - 시간대 : 새벽 4시 ~ 다음날 새벽 2시(23개 데이터)"
   ]
  },
  {
   "cell_type": "code",
   "execution_count": 17,
   "metadata": {},
   "outputs": [
    {
     "name": "stdout",
     "output_type": "stream",
     "text": [
      "4시 : 구로 : 11,784, 5시 : 신림 : 38,809, 6시 : 신림 : 73,523, 7시 : 신림 : 188,110, \n",
      "8시 : 신림 : 281,017, 9시 : 신림 : 169,626, 10시 : 신림 : 91,989, 11시 : 신림 : 77,496, \n",
      "12시 : 잠실(송파구청) : 84,383, 13시 : 강남 : 95,697, 14시 : 강남 : 106,394, 15시 : 강남 : 131,625, \n",
      "16시 : 강남 : 154,526, 17시 : 강남 : 231,839, 18시 : 강남 : 314,775, 19시 : 강남 : 196,425, \n",
      "20시 : 강남 : 155,347, 21시 : 강남 : 180,108, 22시 : 강남 : 176,473, 23시 : 강남 : 81,016, \n",
      "0시 : 강남 : 12,407, 1시 : 건대입구 : 8, 2시 : 동묘앞 : 1, "
     ]
    }
   ],
   "source": [
    "with open('../Data/subwaytime.csv') as f:\n",
    "    data=csv.reader(f)\n",
    "    next(data)\n",
    "    next(data)\n",
    "    \n",
    "    max=[0]*23\n",
    "    max_station = ['']*23\n",
    "    xtick_list=[]\n",
    "\n",
    "    for i in range(4,27):\n",
    "        n=i%24                     # 4,5,6....23,0,1,2시로 표시\n",
    "        xtick_list.append(str(n))  # x축 레이블\n",
    "\n",
    "    for row in data:\n",
    "        row[4:] = map(int, row[4:])\n",
    "        \n",
    "        for j in range(23):\n",
    "            a=row[j*2+4]\n",
    "            if a>max[j]:\n",
    "                max[j]=a\n",
    "                max_station[j]=xtick_list[j]+'시 : '+row[3]\n",
    "\n",
    "    for i in range(len(max)):\n",
    "        print('{0} : {1:,}'.format(max_station[i],max[i]),end=', ')\n",
    "        if (i+1)%4==0: # 4개씩 출력\n",
    "            print()"
   ]
  },
  {
   "cell_type": "code",
   "execution_count": 18,
   "metadata": {},
   "outputs": [
    {
     "data": {
      "image/png": "[encoded data removed]",
      "text/plain": [
       "<Figure size 600x400 with 1 Axes>"
      ]
     },
     "metadata": {
      "needs_background": "light"
     },
     "output_type": "display_data"
    }
   ],
   "source": [
    "# 한글 글꼴\n",
    "if(platform.system() == 'Windows'):\n",
    "    plt.rc('font', family = 'Malgun Gothic')\n",
    "\n",
    "else:\n",
    "    plt.rc('font', family = 'AppleGothic')\n",
    "\n",
    "\n",
    "plt.figure(dpi=100)\n",
    "plt.bar(range(23), max)\n",
    "\n",
    "                            # xtick 문자열을 각도 80도 회전\n",
    "plt.xticks(range(23), max_station, rotation=80)\n",
    "plt.show()\n"
   ]
  },
  {
   "cell_type": "code",
   "execution_count": null,
   "metadata": {},
   "outputs": [],
   "source": []
  },
  {
   "cell_type": "markdown",
   "metadata": {},
   "source": [
    "### Dictionary 정렬\n",
    " - Key를 기준으로 정렬\n",
    "   - sort_dic = sorted(dic.tiems(), key=(lambda x: x[0])) # 기본:오름차순\n",
    " - Value를 기준으로 정렬\n",
    "   - sort_dic = sorted(dic.tiems(), key=(lambda x: x[1]),reverce=True) # 내림차순"
   ]
  },
  {
   "cell_type": "markdown",
   "metadata": {},
   "source": []
  },
  {
   "cell_type": "markdown",
   "metadata": {},
   "source": [
    "### 출퇴근 시간대 이용 현황"
   ]
  },
  {
   "cell_type": "code",
   "execution_count": 20,
   "metadata": {},
   "outputs": [
    {
     "data": {
      "text/html": [
       "<div>\n",
       "<style scoped>\n",
       "    .dataframe tbody tr th:only-of-type {\n",
       "        vertical-align: middle;\n",
       "    }\n",
       "\n",
       "    .dataframe tbody tr th {\n",
       "        vertical-align: top;\n",
       "    }\n",
       "\n",
       "    .dataframe thead tr th {\n",
       "        text-align: left;\n",
       "    }\n",
       "</style>\n",
       "<table border=\"1\" class=\"dataframe\">\n",
       "  <thead>\n",
       "    <tr>\n",
       "      <th></th>\n",
       "      <th>사용월</th>\n",
       "      <th>호선명</th>\n",
       "      <th>역ID</th>\n",
       "      <th>지하철역</th>\n",
       "      <th colspan=\"2\" halign=\"left\">04:00:00~04:59:59</th>\n",
       "      <th colspan=\"2\" halign=\"left\">05:00:00~05:59:59</th>\n",
       "      <th colspan=\"2\" halign=\"left\">06:00:00~06:59:59</th>\n",
       "      <th>...</th>\n",
       "      <th>23:00:00~23:59:59</th>\n",
       "      <th colspan=\"2\" halign=\"left\">00:00:00~00:59:59</th>\n",
       "      <th colspan=\"2\" halign=\"left\">01:00:00~01:59:59</th>\n",
       "      <th colspan=\"2\" halign=\"left\">02:00:00~02:59:59</th>\n",
       "      <th colspan=\"2\" halign=\"left\">03:00:00~03:59:59</th>\n",
       "      <th>작업일시</th>\n",
       "    </tr>\n",
       "    <tr>\n",
       "      <th></th>\n",
       "      <th>Unnamed: 0_level_1</th>\n",
       "      <th>Unnamed: 1_level_1</th>\n",
       "      <th>Unnamed: 2_level_1</th>\n",
       "      <th>Unnamed: 3_level_1</th>\n",
       "      <th>승차</th>\n",
       "      <th>하차</th>\n",
       "      <th>승차</th>\n",
       "      <th>하차</th>\n",
       "      <th>승차</th>\n",
       "      <th>하차</th>\n",
       "      <th>...</th>\n",
       "      <th>하차</th>\n",
       "      <th>승차</th>\n",
       "      <th>하차</th>\n",
       "      <th>승차</th>\n",
       "      <th>하차</th>\n",
       "      <th>승차</th>\n",
       "      <th>하차</th>\n",
       "      <th>승차</th>\n",
       "      <th>하차</th>\n",
       "      <th>Unnamed: 52_level_1</th>\n",
       "    </tr>\n",
       "  </thead>\n",
       "  <tbody>\n",
       "    <tr>\n",
       "      <th>0</th>\n",
       "      <td>2022-06</td>\n",
       "      <td>1호선</td>\n",
       "      <td>150</td>\n",
       "      <td>서울역</td>\n",
       "      <td>646</td>\n",
       "      <td>24</td>\n",
       "      <td>8,433</td>\n",
       "      <td>7,694</td>\n",
       "      <td>12,608</td>\n",
       "      <td>46,963</td>\n",
       "      <td>...</td>\n",
       "      <td>15,480</td>\n",
       "      <td>158</td>\n",
       "      <td>1,332</td>\n",
       "      <td>1</td>\n",
       "      <td>4</td>\n",
       "      <td>0</td>\n",
       "      <td>1</td>\n",
       "      <td>0</td>\n",
       "      <td>0</td>\n",
       "      <td>2022-07-03 09:48:05</td>\n",
       "    </tr>\n",
       "    <tr>\n",
       "      <th>1</th>\n",
       "      <td>2022-06</td>\n",
       "      <td>1호선</td>\n",
       "      <td>151</td>\n",
       "      <td>시청</td>\n",
       "      <td>271</td>\n",
       "      <td>7</td>\n",
       "      <td>3,133</td>\n",
       "      <td>4,802</td>\n",
       "      <td>3,321</td>\n",
       "      <td>23,621</td>\n",
       "      <td>...</td>\n",
       "      <td>2,938</td>\n",
       "      <td>72</td>\n",
       "      <td>422</td>\n",
       "      <td>0</td>\n",
       "      <td>2</td>\n",
       "      <td>0</td>\n",
       "      <td>0</td>\n",
       "      <td>0</td>\n",
       "      <td>0</td>\n",
       "      <td>2022-07-03 09:48:05</td>\n",
       "    </tr>\n",
       "    <tr>\n",
       "      <th>2</th>\n",
       "      <td>2022-06</td>\n",
       "      <td>1호선</td>\n",
       "      <td>152</td>\n",
       "      <td>종각</td>\n",
       "      <td>91</td>\n",
       "      <td>9</td>\n",
       "      <td>4,007</td>\n",
       "      <td>3,960</td>\n",
       "      <td>3,682</td>\n",
       "      <td>22,533</td>\n",
       "      <td>...</td>\n",
       "      <td>3,590</td>\n",
       "      <td>315</td>\n",
       "      <td>394</td>\n",
       "      <td>0</td>\n",
       "      <td>1</td>\n",
       "      <td>0</td>\n",
       "      <td>0</td>\n",
       "      <td>0</td>\n",
       "      <td>0</td>\n",
       "      <td>2022-07-03 09:48:05</td>\n",
       "    </tr>\n",
       "    <tr>\n",
       "      <th>3</th>\n",
       "      <td>2022-06</td>\n",
       "      <td>1호선</td>\n",
       "      <td>153</td>\n",
       "      <td>종로3가</td>\n",
       "      <td>190</td>\n",
       "      <td>12</td>\n",
       "      <td>3,882</td>\n",
       "      <td>3,261</td>\n",
       "      <td>3,570</td>\n",
       "      <td>14,038</td>\n",
       "      <td>...</td>\n",
       "      <td>4,119</td>\n",
       "      <td>310</td>\n",
       "      <td>843</td>\n",
       "      <td>3</td>\n",
       "      <td>3</td>\n",
       "      <td>0</td>\n",
       "      <td>0</td>\n",
       "      <td>0</td>\n",
       "      <td>0</td>\n",
       "      <td>2022-07-03 09:48:05</td>\n",
       "    </tr>\n",
       "    <tr>\n",
       "      <th>4</th>\n",
       "      <td>2022-06</td>\n",
       "      <td>1호선</td>\n",
       "      <td>154</td>\n",
       "      <td>종로5가</td>\n",
       "      <td>34</td>\n",
       "      <td>0</td>\n",
       "      <td>1,730</td>\n",
       "      <td>3,909</td>\n",
       "      <td>2,986</td>\n",
       "      <td>16,406</td>\n",
       "      <td>...</td>\n",
       "      <td>2,628</td>\n",
       "      <td>98</td>\n",
       "      <td>668</td>\n",
       "      <td>0</td>\n",
       "      <td>0</td>\n",
       "      <td>0</td>\n",
       "      <td>0</td>\n",
       "      <td>0</td>\n",
       "      <td>0</td>\n",
       "      <td>2022-07-03 09:48:05</td>\n",
       "    </tr>\n",
       "    <tr>\n",
       "      <th>...</th>\n",
       "      <td>...</td>\n",
       "      <td>...</td>\n",
       "      <td>...</td>\n",
       "      <td>...</td>\n",
       "      <td>...</td>\n",
       "      <td>...</td>\n",
       "      <td>...</td>\n",
       "      <td>...</td>\n",
       "      <td>...</td>\n",
       "      <td>...</td>\n",
       "      <td>...</td>\n",
       "      <td>...</td>\n",
       "      <td>...</td>\n",
       "      <td>...</td>\n",
       "      <td>...</td>\n",
       "      <td>...</td>\n",
       "      <td>...</td>\n",
       "      <td>...</td>\n",
       "      <td>...</td>\n",
       "      <td>...</td>\n",
       "      <td>...</td>\n",
       "    </tr>\n",
       "    <tr>\n",
       "      <th>610</th>\n",
       "      <td>2022-06</td>\n",
       "      <td>신림선</td>\n",
       "      <td>4407</td>\n",
       "      <td>당곡</td>\n",
       "      <td>0</td>\n",
       "      <td>0</td>\n",
       "      <td>1,061</td>\n",
       "      <td>118</td>\n",
       "      <td>2,650</td>\n",
       "      <td>704</td>\n",
       "      <td>...</td>\n",
       "      <td>2,710</td>\n",
       "      <td>156</td>\n",
       "      <td>637</td>\n",
       "      <td>0</td>\n",
       "      <td>0</td>\n",
       "      <td>0</td>\n",
       "      <td>0</td>\n",
       "      <td>0</td>\n",
       "      <td>0</td>\n",
       "      <td>2022-07-03 09:48:05</td>\n",
       "    </tr>\n",
       "    <tr>\n",
       "      <th>611</th>\n",
       "      <td>2022-06</td>\n",
       "      <td>신림선</td>\n",
       "      <td>4408</td>\n",
       "      <td>신림</td>\n",
       "      <td>2</td>\n",
       "      <td>1</td>\n",
       "      <td>651</td>\n",
       "      <td>153</td>\n",
       "      <td>853</td>\n",
       "      <td>488</td>\n",
       "      <td>...</td>\n",
       "      <td>2,023</td>\n",
       "      <td>177</td>\n",
       "      <td>629</td>\n",
       "      <td>0</td>\n",
       "      <td>1</td>\n",
       "      <td>0</td>\n",
       "      <td>0</td>\n",
       "      <td>0</td>\n",
       "      <td>0</td>\n",
       "      <td>2022-07-03 09:48:05</td>\n",
       "    </tr>\n",
       "    <tr>\n",
       "      <th>612</th>\n",
       "      <td>2022-06</td>\n",
       "      <td>신림선</td>\n",
       "      <td>4409</td>\n",
       "      <td>서원</td>\n",
       "      <td>2</td>\n",
       "      <td>1</td>\n",
       "      <td>1,287</td>\n",
       "      <td>151</td>\n",
       "      <td>2,552</td>\n",
       "      <td>513</td>\n",
       "      <td>...</td>\n",
       "      <td>3,281</td>\n",
       "      <td>68</td>\n",
       "      <td>782</td>\n",
       "      <td>2</td>\n",
       "      <td>2</td>\n",
       "      <td>0</td>\n",
       "      <td>0</td>\n",
       "      <td>0</td>\n",
       "      <td>0</td>\n",
       "      <td>2022-07-03 09:48:05</td>\n",
       "    </tr>\n",
       "    <tr>\n",
       "      <th>613</th>\n",
       "      <td>2022-06</td>\n",
       "      <td>신림선</td>\n",
       "      <td>4410</td>\n",
       "      <td>서울대벤처타운</td>\n",
       "      <td>10</td>\n",
       "      <td>3</td>\n",
       "      <td>3,314</td>\n",
       "      <td>166</td>\n",
       "      <td>5,162</td>\n",
       "      <td>1,676</td>\n",
       "      <td>...</td>\n",
       "      <td>7,279</td>\n",
       "      <td>180</td>\n",
       "      <td>1,974</td>\n",
       "      <td>1</td>\n",
       "      <td>40</td>\n",
       "      <td>0</td>\n",
       "      <td>0</td>\n",
       "      <td>0</td>\n",
       "      <td>0</td>\n",
       "      <td>2022-07-03 09:48:05</td>\n",
       "    </tr>\n",
       "    <tr>\n",
       "      <th>614</th>\n",
       "      <td>2022-06</td>\n",
       "      <td>신림선</td>\n",
       "      <td>4411</td>\n",
       "      <td>관악산(서울대)</td>\n",
       "      <td>2</td>\n",
       "      <td>5</td>\n",
       "      <td>475</td>\n",
       "      <td>742</td>\n",
       "      <td>1,258</td>\n",
       "      <td>1,712</td>\n",
       "      <td>...</td>\n",
       "      <td>1,224</td>\n",
       "      <td>90</td>\n",
       "      <td>412</td>\n",
       "      <td>1</td>\n",
       "      <td>33</td>\n",
       "      <td>0</td>\n",
       "      <td>0</td>\n",
       "      <td>0</td>\n",
       "      <td>0</td>\n",
       "      <td>2022-07-03 09:48:05</td>\n",
       "    </tr>\n",
       "  </tbody>\n",
       "</table>\n",
       "<p>615 rows × 53 columns</p>\n",
       "</div>"
      ],
      "text/plain": [
       "                   사용월                호선명                역ID  \\\n",
       "    Unnamed: 0_level_1 Unnamed: 1_level_1 Unnamed: 2_level_1   \n",
       "0              2022-06                1호선                150   \n",
       "1              2022-06                1호선                151   \n",
       "2              2022-06                1호선                152   \n",
       "3              2022-06                1호선                153   \n",
       "4              2022-06                1호선                154   \n",
       "..                 ...                ...                ...   \n",
       "610            2022-06                신림선               4407   \n",
       "611            2022-06                신림선               4408   \n",
       "612            2022-06                신림선               4409   \n",
       "613            2022-06                신림선               4410   \n",
       "614            2022-06                신림선               4411   \n",
       "\n",
       "                  지하철역 04:00:00~04:59:59     05:00:00~05:59:59         \\\n",
       "    Unnamed: 3_level_1                승차  하차                승차     하차   \n",
       "0                  서울역               646  24             8,433  7,694   \n",
       "1                   시청               271   7             3,133  4,802   \n",
       "2                   종각                91   9             4,007  3,960   \n",
       "3                 종로3가               190  12             3,882  3,261   \n",
       "4                 종로5가                34   0             1,730  3,909   \n",
       "..                 ...               ...  ..               ...    ...   \n",
       "610                 당곡                 0   0             1,061    118   \n",
       "611                 신림                 2   1               651    153   \n",
       "612                 서원                 2   1             1,287    151   \n",
       "613            서울대벤처타운                10   3             3,314    166   \n",
       "614           관악산(서울대)                 2   5               475    742   \n",
       "\n",
       "    06:00:00~06:59:59          ... 23:00:00~23:59:59 00:00:00~00:59:59         \\\n",
       "                   승차      하차  ...                하차                승차     하차   \n",
       "0              12,608  46,963  ...            15,480               158  1,332   \n",
       "1               3,321  23,621  ...             2,938                72    422   \n",
       "2               3,682  22,533  ...             3,590               315    394   \n",
       "3               3,570  14,038  ...             4,119               310    843   \n",
       "4               2,986  16,406  ...             2,628                98    668   \n",
       "..                ...     ...  ...               ...               ...    ...   \n",
       "610             2,650     704  ...             2,710               156    637   \n",
       "611               853     488  ...             2,023               177    629   \n",
       "612             2,552     513  ...             3,281                68    782   \n",
       "613             5,162   1,676  ...             7,279               180  1,974   \n",
       "614             1,258   1,712  ...             1,224                90    412   \n",
       "\n",
       "    01:00:00~01:59:59     02:00:00~02:59:59    03:00:00~03:59:59     \\\n",
       "                   승차  하차                승차 하차                승차 하차   \n",
       "0                   1   4                 0  1                 0  0   \n",
       "1                   0   2                 0  0                 0  0   \n",
       "2                   0   1                 0  0                 0  0   \n",
       "3                   3   3                 0  0                 0  0   \n",
       "4                   0   0                 0  0                 0  0   \n",
       "..                ...  ..               ... ..               ... ..   \n",
       "610                 0   0                 0  0                 0  0   \n",
       "611                 0   1                 0  0                 0  0   \n",
       "612                 2   2                 0  0                 0  0   \n",
       "613                 1  40                 0  0                 0  0   \n",
       "614                 1  33                 0  0                 0  0   \n",
       "\n",
       "                    작업일시  \n",
       "     Unnamed: 52_level_1  \n",
       "0    2022-07-03 09:48:05  \n",
       "1    2022-07-03 09:48:05  \n",
       "2    2022-07-03 09:48:05  \n",
       "3    2022-07-03 09:48:05  \n",
       "4    2022-07-03 09:48:05  \n",
       "..                   ...  \n",
       "610  2022-07-03 09:48:05  \n",
       "611  2022-07-03 09:48:05  \n",
       "612  2022-07-03 09:48:05  \n",
       "613  2022-07-03 09:48:05  \n",
       "614  2022-07-03 09:48:05  \n",
       "\n",
       "[615 rows x 53 columns]"
      ]
     },
     "execution_count": 20,
     "metadata": {},
     "output_type": "execute_result"
    }
   ],
   "source": [
    "import pandas as pd\n",
    "\n",
    "df=pd.read_excel('../Data/subway.xls',sheet_name='지하철 시간대별 이용현황', header=[0,1])\n",
    "df"
   ]
  },
  {
   "cell_type": "code",
   "execution_count": 43,
   "metadata": {},
   "outputs": [
    {
     "data": {
      "text/plain": [
       "MultiIndex([(              '사용월',  'Unnamed: 0_level_1'),\n",
       "            (              '호선명',  'Unnamed: 1_level_1'),\n",
       "            (              '역ID',  'Unnamed: 2_level_1'),\n",
       "            (             '지하철역',  'Unnamed: 3_level_1'),\n",
       "            ('04:00:00~04:59:59',                  '승차'),\n",
       "            ('04:00:00~04:59:59',                  '하차'),\n",
       "            ('05:00:00~05:59:59',                  '승차'),\n",
       "            ('05:00:00~05:59:59',                  '하차'),\n",
       "            ('06:00:00~06:59:59',                  '승차'),\n",
       "            ('06:00:00~06:59:59',                  '하차'),\n",
       "            ('07:00:00~07:59:59',                  '승차'),\n",
       "            ('07:00:00~07:59:59',                  '하차'),\n",
       "            ('08:00:00~08:59:59',                  '승차'),\n",
       "            ('08:00:00~08:59:59',                  '하차'),\n",
       "            ('09:00:00~09:59:59',                  '승차'),\n",
       "            ('09:00:00~09:59:59',                  '하차'),\n",
       "            ('10:00:00~10:59:59',                  '승차'),\n",
       "            ('10:00:00~10:59:59',                  '하차'),\n",
       "            ('11:00:00~11:59:59',                  '승차'),\n",
       "            ('11:00:00~11:59:59',                  '하차'),\n",
       "            ('12:00:00~12:59:59',                  '승차'),\n",
       "            ('12:00:00~12:59:59',                  '하차'),\n",
       "            ('13:00:00~13:59:59',                  '승차'),\n",
       "            ('13:00:00~13:59:59',                  '하차'),\n",
       "            ('14:00:00~14:59:59',                  '승차'),\n",
       "            ('14:00:00~14:59:59',                  '하차'),\n",
       "            ('15:00:00~15:59:59',                  '승차'),\n",
       "            ('15:00:00~15:59:59',                  '하차'),\n",
       "            ('16:00:00~16:59:59',                  '승차'),\n",
       "            ('16:00:00~16:59:59',                  '하차'),\n",
       "            ('17:00:00~17:59:59',                  '승차'),\n",
       "            ('17:00:00~17:59:59',                  '하차'),\n",
       "            ('18:00:00~18:59:59',                  '승차'),\n",
       "            ('18:00:00~18:59:59',                  '하차'),\n",
       "            ('19:00:00~19:59:59',                  '승차'),\n",
       "            ('19:00:00~19:59:59',                  '하차'),\n",
       "            ('20:00:00~20:59:59',                  '승차'),\n",
       "            ('20:00:00~20:59:59',                  '하차'),\n",
       "            ('21:00:00~21:59:59',                  '승차'),\n",
       "            ('21:00:00~21:59:59',                  '하차'),\n",
       "            ('22:00:00~22:59:59',                  '승차'),\n",
       "            ('22:00:00~22:59:59',                  '하차'),\n",
       "            ('23:00:00~23:59:59',                  '승차'),\n",
       "            ('23:00:00~23:59:59',                  '하차'),\n",
       "            ('00:00:00~00:59:59',                  '승차'),\n",
       "            ('00:00:00~00:59:59',                  '하차'),\n",
       "            ('01:00:00~01:59:59',                  '승차'),\n",
       "            ('01:00:00~01:59:59',                  '하차'),\n",
       "            ('02:00:00~02:59:59',                  '승차'),\n",
       "            ('02:00:00~02:59:59',                  '하차'),\n",
       "            ('03:00:00~03:59:59',                  '승차'),\n",
       "            ('03:00:00~03:59:59',                  '하차'),\n",
       "            (             '작업일시', 'Unnamed: 52_level_1')],\n",
       "           )"
      ]
     },
     "execution_count": 43,
     "metadata": {},
     "output_type": "execute_result"
    }
   ],
   "source": [
    "df.columns"
   ]
  },
  {
   "cell_type": "code",
   "execution_count": null,
   "metadata": {},
   "outputs": [],
   "source": []
  },
  {
   "cell_type": "code",
   "execution_count": null,
   "metadata": {},
   "outputs": [],
   "source": [
    "# 특정 컬럼 호출\n",
    "df[('호선명','Unnamed: 1_level_1')]"
   ]
  },
  {
   "cell_type": "code",
   "execution_count": 23,
   "metadata": {},
   "outputs": [
    {
     "data": {
      "text/plain": [
       "0           서울역\n",
       "1            시청\n",
       "2            종각\n",
       "3          종로3가\n",
       "4          종로5가\n",
       "         ...   \n",
       "610          당곡\n",
       "611          신림\n",
       "612          서원\n",
       "613     서울대벤처타운\n",
       "614    관악산(서울대)\n",
       "Name: (지하철역, Unnamed: 3_level_1), Length: 615, dtype: object"
      ]
     },
     "execution_count": 23,
     "metadata": {},
     "output_type": "execute_result"
    }
   ],
   "source": [
    "df[('지하철역','Unnamed: 3_level_1')]"
   ]
  },
  {
   "cell_type": "markdown",
   "metadata": {},
   "source": [
    "#### 여러 컬럼 선택\n",
    " - iloc[row_index,col_index]   (iloc:interger location)\n"
   ]
  },
  {
   "cell_type": "code",
   "execution_count": 24,
   "metadata": {},
   "outputs": [
    {
     "data": {
      "text/html": [
       "<div>\n",
       "<style scoped>\n",
       "    .dataframe tbody tr th:only-of-type {\n",
       "        vertical-align: middle;\n",
       "    }\n",
       "\n",
       "    .dataframe tbody tr th {\n",
       "        vertical-align: top;\n",
       "    }\n",
       "\n",
       "    .dataframe thead tr th {\n",
       "        text-align: left;\n",
       "    }\n",
       "</style>\n",
       "<table border=\"1\" class=\"dataframe\">\n",
       "  <thead>\n",
       "    <tr>\n",
       "      <th></th>\n",
       "      <th>호선명</th>\n",
       "      <th>지하철역</th>\n",
       "      <th>07:00:00~07:59:59</th>\n",
       "      <th>08:00:00~08:59:59</th>\n",
       "      <th>09:00:00~09:59:59</th>\n",
       "    </tr>\n",
       "    <tr>\n",
       "      <th></th>\n",
       "      <th>Unnamed: 1_level_1</th>\n",
       "      <th>Unnamed: 3_level_1</th>\n",
       "      <th>승차</th>\n",
       "      <th>승차</th>\n",
       "      <th>승차</th>\n",
       "    </tr>\n",
       "  </thead>\n",
       "  <tbody>\n",
       "    <tr>\n",
       "      <th>0</th>\n",
       "      <td>1호선</td>\n",
       "      <td>서울역</td>\n",
       "      <td>39,233</td>\n",
       "      <td>65,106</td>\n",
       "      <td>54,833</td>\n",
       "    </tr>\n",
       "    <tr>\n",
       "      <th>1</th>\n",
       "      <td>1호선</td>\n",
       "      <td>시청</td>\n",
       "      <td>6,647</td>\n",
       "      <td>8,294</td>\n",
       "      <td>9,211</td>\n",
       "    </tr>\n",
       "    <tr>\n",
       "      <th>2</th>\n",
       "      <td>1호선</td>\n",
       "      <td>종각</td>\n",
       "      <td>5,814</td>\n",
       "      <td>9,612</td>\n",
       "      <td>11,847</td>\n",
       "    </tr>\n",
       "    <tr>\n",
       "      <th>3</th>\n",
       "      <td>1호선</td>\n",
       "      <td>종로3가</td>\n",
       "      <td>4,746</td>\n",
       "      <td>8,589</td>\n",
       "      <td>13,179</td>\n",
       "    </tr>\n",
       "    <tr>\n",
       "      <th>4</th>\n",
       "      <td>1호선</td>\n",
       "      <td>종로5가</td>\n",
       "      <td>5,020</td>\n",
       "      <td>8,550</td>\n",
       "      <td>11,925</td>\n",
       "    </tr>\n",
       "  </tbody>\n",
       "</table>\n",
       "</div>"
      ],
      "text/plain": [
       "                 호선명               지하철역 07:00:00~07:59:59 08:00:00~08:59:59  \\\n",
       "  Unnamed: 1_level_1 Unnamed: 3_level_1                승차                승차   \n",
       "0                1호선                서울역            39,233            65,106   \n",
       "1                1호선                 시청             6,647             8,294   \n",
       "2                1호선                 종각             5,814             9,612   \n",
       "3                1호선               종로3가             4,746             8,589   \n",
       "4                1호선               종로5가             5,020             8,550   \n",
       "\n",
       "  09:00:00~09:59:59  \n",
       "                 승차  \n",
       "0            54,833  \n",
       "1             9,211  \n",
       "2            11,847  \n",
       "3            13,179  \n",
       "4            11,925  "
      ]
     },
     "execution_count": 24,
     "metadata": {},
     "output_type": "execute_result"
    }
   ],
   "source": [
    "commute_time_df=df.iloc[:,[1,3,10,12,14]]\n",
    "commute_time_df.head()"
   ]
  },
  {
   "cell_type": "code",
   "execution_count": 27,
   "metadata": {},
   "outputs": [
    {
     "data": {
      "text/plain": [
       "호선명                Unnamed: 1_level_1    object\n",
       "지하철역               Unnamed: 3_level_1    object\n",
       "07:00:00~07:59:59  승차                    object\n",
       "08:00:00~08:59:59  승차                    object\n",
       "09:00:00~09:59:59  승차                    object\n",
       "dtype: object"
      ]
     },
     "execution_count": 27,
     "metadata": {},
     "output_type": "execute_result"
    }
   ],
   "source": [
    "commute_time_df.dtypes"
   ]
  },
  {
   "cell_type": "markdown",
   "metadata": {},
   "source": [
    "#### 천단위 콤마 제거 : apply(lambda x : x.replace(',',''))\n",
    "#### df.apply(func,axix=0) : df내 모든 요소에 함수 적용"
   ]
  },
  {
   "cell_type": "code",
   "execution_count": 30,
   "metadata": {},
   "outputs": [
    {
     "name": "stderr",
     "output_type": "stream",
     "text": [
      "C:\\Users\\User\\AppData\\Local\\Temp\\ipykernel_19396\\596133690.py:1: SettingWithCopyWarning: \n",
      "A value is trying to be set on a copy of a slice from a DataFrame.\n",
      "Try using .loc[row_indexer,col_indexer] = value instead\n",
      "\n",
      "See the caveats in the documentation: https://pandas.pydata.org/pandas-docs/stable/user_guide/indexing.html#returning-a-view-versus-a-copy\n",
      "  commute_time_df.iloc[:,2]=commute_time_df.iloc[:,2].apply(lambda x : x.replace(',',''))\n",
      "C:\\Users\\User\\AppData\\Local\\Temp\\ipykernel_19396\\596133690.py:2: SettingWithCopyWarning: \n",
      "A value is trying to be set on a copy of a slice from a DataFrame.\n",
      "Try using .loc[row_indexer,col_indexer] = value instead\n",
      "\n",
      "See the caveats in the documentation: https://pandas.pydata.org/pandas-docs/stable/user_guide/indexing.html#returning-a-view-versus-a-copy\n",
      "  commute_time_df.iloc[:,3]=commute_time_df.iloc[:,3].apply(lambda x : x.replace(',',''))\n",
      "C:\\Users\\User\\AppData\\Local\\Temp\\ipykernel_19396\\596133690.py:3: SettingWithCopyWarning: \n",
      "A value is trying to be set on a copy of a slice from a DataFrame.\n",
      "Try using .loc[row_indexer,col_indexer] = value instead\n",
      "\n",
      "See the caveats in the documentation: https://pandas.pydata.org/pandas-docs/stable/user_guide/indexing.html#returning-a-view-versus-a-copy\n",
      "  commute_time_df.iloc[:,4]=commute_time_df.iloc[:,4].apply(lambda x : x.replace(',',''))\n"
     ]
    },
    {
     "data": {
      "text/html": [
       "<div>\n",
       "<style scoped>\n",
       "    .dataframe tbody tr th:only-of-type {\n",
       "        vertical-align: middle;\n",
       "    }\n",
       "\n",
       "    .dataframe tbody tr th {\n",
       "        vertical-align: top;\n",
       "    }\n",
       "\n",
       "    .dataframe thead tr th {\n",
       "        text-align: left;\n",
       "    }\n",
       "</style>\n",
       "<table border=\"1\" class=\"dataframe\">\n",
       "  <thead>\n",
       "    <tr>\n",
       "      <th></th>\n",
       "      <th>호선명</th>\n",
       "      <th>지하철역</th>\n",
       "      <th>07:00:00~07:59:59</th>\n",
       "      <th>08:00:00~08:59:59</th>\n",
       "      <th>09:00:00~09:59:59</th>\n",
       "    </tr>\n",
       "    <tr>\n",
       "      <th></th>\n",
       "      <th>Unnamed: 1_level_1</th>\n",
       "      <th>Unnamed: 3_level_1</th>\n",
       "      <th>승차</th>\n",
       "      <th>승차</th>\n",
       "      <th>승차</th>\n",
       "    </tr>\n",
       "  </thead>\n",
       "  <tbody>\n",
       "    <tr>\n",
       "      <th>0</th>\n",
       "      <td>1호선</td>\n",
       "      <td>서울역</td>\n",
       "      <td>39233</td>\n",
       "      <td>65106</td>\n",
       "      <td>54833</td>\n",
       "    </tr>\n",
       "    <tr>\n",
       "      <th>1</th>\n",
       "      <td>1호선</td>\n",
       "      <td>시청</td>\n",
       "      <td>6647</td>\n",
       "      <td>8294</td>\n",
       "      <td>9211</td>\n",
       "    </tr>\n",
       "    <tr>\n",
       "      <th>2</th>\n",
       "      <td>1호선</td>\n",
       "      <td>종각</td>\n",
       "      <td>5814</td>\n",
       "      <td>9612</td>\n",
       "      <td>11847</td>\n",
       "    </tr>\n",
       "    <tr>\n",
       "      <th>3</th>\n",
       "      <td>1호선</td>\n",
       "      <td>종로3가</td>\n",
       "      <td>4746</td>\n",
       "      <td>8589</td>\n",
       "      <td>13179</td>\n",
       "    </tr>\n",
       "    <tr>\n",
       "      <th>4</th>\n",
       "      <td>1호선</td>\n",
       "      <td>종로5가</td>\n",
       "      <td>5020</td>\n",
       "      <td>8550</td>\n",
       "      <td>11925</td>\n",
       "    </tr>\n",
       "    <tr>\n",
       "      <th>...</th>\n",
       "      <td>...</td>\n",
       "      <td>...</td>\n",
       "      <td>...</td>\n",
       "      <td>...</td>\n",
       "      <td>...</td>\n",
       "    </tr>\n",
       "    <tr>\n",
       "      <th>610</th>\n",
       "      <td>신림선</td>\n",
       "      <td>당곡</td>\n",
       "      <td>7708</td>\n",
       "      <td>11603</td>\n",
       "      <td>6862</td>\n",
       "    </tr>\n",
       "    <tr>\n",
       "      <th>611</th>\n",
       "      <td>신림선</td>\n",
       "      <td>신림</td>\n",
       "      <td>3099</td>\n",
       "      <td>5402</td>\n",
       "      <td>2941</td>\n",
       "    </tr>\n",
       "    <tr>\n",
       "      <th>612</th>\n",
       "      <td>신림선</td>\n",
       "      <td>서원</td>\n",
       "      <td>8427</td>\n",
       "      <td>12646</td>\n",
       "      <td>7590</td>\n",
       "    </tr>\n",
       "    <tr>\n",
       "      <th>613</th>\n",
       "      <td>신림선</td>\n",
       "      <td>서울대벤처타운</td>\n",
       "      <td>16194</td>\n",
       "      <td>22232</td>\n",
       "      <td>13280</td>\n",
       "    </tr>\n",
       "    <tr>\n",
       "      <th>614</th>\n",
       "      <td>신림선</td>\n",
       "      <td>관악산(서울대)</td>\n",
       "      <td>4086</td>\n",
       "      <td>4382</td>\n",
       "      <td>3446</td>\n",
       "    </tr>\n",
       "  </tbody>\n",
       "</table>\n",
       "<p>615 rows × 5 columns</p>\n",
       "</div>"
      ],
      "text/plain": [
       "                   호선명               지하철역 07:00:00~07:59:59 08:00:00~08:59:59  \\\n",
       "    Unnamed: 1_level_1 Unnamed: 3_level_1                승차                승차   \n",
       "0                  1호선                서울역             39233             65106   \n",
       "1                  1호선                 시청              6647              8294   \n",
       "2                  1호선                 종각              5814              9612   \n",
       "3                  1호선               종로3가              4746              8589   \n",
       "4                  1호선               종로5가              5020              8550   \n",
       "..                 ...                ...               ...               ...   \n",
       "610                신림선                 당곡              7708             11603   \n",
       "611                신림선                 신림              3099              5402   \n",
       "612                신림선                 서원              8427             12646   \n",
       "613                신림선            서울대벤처타운             16194             22232   \n",
       "614                신림선           관악산(서울대)              4086              4382   \n",
       "\n",
       "    09:00:00~09:59:59  \n",
       "                   승차  \n",
       "0               54833  \n",
       "1                9211  \n",
       "2               11847  \n",
       "3               13179  \n",
       "4               11925  \n",
       "..                ...  \n",
       "610              6862  \n",
       "611              2941  \n",
       "612              7590  \n",
       "613             13280  \n",
       "614              3446  \n",
       "\n",
       "[615 rows x 5 columns]"
      ]
     },
     "execution_count": 30,
     "metadata": {},
     "output_type": "execute_result"
    }
   ],
   "source": [
    "# 천단위 콤마 제거\n",
    "commute_time_df.iloc[:,2]=commute_time_df.iloc[:,2].apply(lambda x : x.replace(',',''))\n",
    "commute_time_df.iloc[:,3]=commute_time_df.iloc[:,3].apply(lambda x : x.replace(',',''))\n",
    "commute_time_df.iloc[:,4]=commute_time_df.iloc[:,4].apply(lambda x : x.replace(',',''))\n",
    "\n",
    "commute_time_df"
   ]
  },
  {
   "cell_type": "code",
   "execution_count": 32,
   "metadata": {},
   "outputs": [
    {
     "data": {
      "text/plain": [
       "호선명                Unnamed: 1_level_1    object\n",
       "지하철역               Unnamed: 3_level_1    object\n",
       "07:00:00~07:59:59  승차                     int64\n",
       "08:00:00~08:59:59  승차                     int64\n",
       "09:00:00~09:59:59  승차                     int64\n",
       "dtype: object"
      ]
     },
     "execution_count": 32,
     "metadata": {},
     "output_type": "execute_result"
    }
   ],
   "source": [
    "# 데이터 타입 변경 object -> int64\n",
    "\n",
    "commute_time_df=commute_time_df.astype({('07:00:00~07:59:59', '승차'):'int64'})\n",
    "commute_time_df=commute_time_df.astype({('08:00:00~08:59:59', '승차'):'int64'})\n",
    "commute_time_df=commute_time_df.astype({('09:00:00~09:59:59', '승차'):'int64'})\n",
    "commute_time_df.dtypes"
   ]
  },
  {
   "cell_type": "code",
   "execution_count": null,
   "metadata": {},
   "outputs": [],
   "source": []
  },
  {
   "cell_type": "markdown",
   "metadata": {},
   "source": [
    "#### 각 행(지하철역)의 승차 인원 수 합 계산\n",
    "  - 행(row)의 합 : df.sum(axis=1)\n",
    "  - 열(colmns)의 합 : df.sum(axis=0)"
   ]
  },
  {
   "cell_type": "code",
   "execution_count": 39,
   "metadata": {},
   "outputs": [
    {
     "name": "stdout",
     "output_type": "stream",
     "text": [
      "[159172, 24152, 27273, 26514, 25495, 50361, 62758, 74828, 111867, 24621, 20882, 40110, 27510, 20036, 26595, 96726, 135277, 98541, 19338, 60455, 76233, 200286, 240949, 266708, 109806, 379023, 169326, 52234, 52803, 81644, 61350, 148582, 88819, 68114, 78963, 249022, 279179, 408769, 266976, 638753, 294686, 415838, 218013, 349991, 114408, 109760, 128942, 132499, 188177, 121187, 76589, 88415, 50503, 27262, 21936, 16394, 8742, 79681, 118347, 18410, 58209, 201246, 357596, 142702, 184695, 173199, 39698, 46458, 53515, 25297, 7498, 10425, 0, 20618, 89594, 82619, 72729, 58894, 41157, 36729, 114064, 31908, 103855, 108906, 50767, 27239, 62964, 11566, 78547, 61663, 104872, 56395, 61454, 68477, 94642, 198012, 137508, 214781, 317323, 304253, 128426, 248467, 216622, 129003, 90113, 60715, 25058, 23845, 36870, 23293, 22056, 39135, 61052, 23468, 41479, 40167, 7028, 141809, 220773, 8678, 44985, 40939, 89430, 52871, 81527, 135809, 27958, 71596, 102938, 41949, 114108, 94555, 77757, 202574, 60475, 227461, 46996, 71902, 145698, 91486, 182940, 112334, 30115, 124330, 24997, 28749, 67606, 7730, 34096, 43028, 23039, 79638, 20049, 5248, 39788, 33672, 60785, 16601, 28599, 226053, 128714, 293762, 269210, 245852, 205386, 67803, 144013, 153657, 91578, 90330, 14248, 63916, 81211, 92318, 55483, 18872, 58960, 99542, 41383, 25779, 9852, 14820, 206, 19894, 91590, 94695, 55525, 95318, 72190, 72440, 64246, 52028, 1, 84549, 51415, 57250, 71317, 133346, 119828, 59630, 41674, 73511, 32862, 47900, 60757, 24454, 12130, 16799, 13143, 132718, 49594, 43392, 166087, 75251, 131670, 68523, 47630, 62612, 17263, 47132, 72084, 46182, 53796, 7161, 4014, 67519, 55535, 187884, 125719, 203763, 17196, 63776, 32851, 12800, 25321, 42296, 86314, 4, 59883, 48796, 20161, 25735, 17423, 58575, 145569, 165774, 158005, 102111, 57757, 85454, 81118, 85688, 40566, 24836, 102348, 55996, 49116, 90526, 53309, 45017, 47723, 124007, 51766, 76098, 24541, 115153, 0, 201827, 115468, 137490, 21727, 60164, 44482, 26575, 72376, 127692, 174849, 60172, 59691, 71168, 30729, 137443, 128776, 4536, 56888, 27096, 4477, 4961, 15886, 1364, 5725, 4659, 2910, 19301, 3189, 11832, 625, 7246, 17533, 16775, 6913, 9237, 27078, 6683, 1855, 17552, 10701, 56818, 11358, 11131, 44456, 87075, 40796, 4658, 72612, 55421, 100495, 81447, 71507, 73878, 42422, 51217, 7256, 7137, 42083, 23, 8610, 13637, 4715, 26866, 6, 0, 19621, 33924, 30140, 41287, 25667, 13016, 61248, 19596, 37692, 6493, 13422, 1984, 10708, 766, 359, 1890, 1425, 15590, 6710, 32542, 26510, 4732, 3749, 55231, 363, 27049, 39171, 37651, 20765, 4344, 38959, 36476, 23209, 49816, 31144, 7905, 5629, 11392, 10316, 32850, 101928, 37918, 18649, 14447, 20075, 15591, 3026, 17082, 65257, 53005, 19065, 56771, 61340, 72095, 142480, 326026, 355738, 178265, 169344, 137778, 64977, 21858, 67100, 43375, 33248, 18112, 76939, 66296, 53796, 19922, 56917, 32310, 12194, 6430, 4267, 24312, 64291, 94286, 19567, 45666, 161050, 158581, 99089, 131803, 112985, 85112, 154522, 62738, 95037, 85734, 70587, 168404, 65567, 30606, 47384, 20808, 57624, 113580, 88345, 49846, 159796, 28301, 62581, 52116, 202111, 40853, 28783, 32940, 6, 85722, 144692, 113281, 121931, 22469, 125313, 86368, 49027, 31909, 60575, 48625, 69472, 57845, 29643, 17787, 33815, 11993, 16733, 17427, 22217, 25787, 34226, 39440, 68758, 30109, 61354, 108390, 66750, 98884, 128647, 51994, 136508, 103101, 1, 27859, 110379, 124595, 153051, 104851, 155878, 175917, 101506, 65554, 104781, 107087, 161496, 166618, 163982, 68350, 103427, 129096, 75969, 46253, 72074, 37078, 24780, 30110, 34122, 26508, 52319, 64910, 98140, 123569, 114957, 103586, 87291, 170047, 65242, 120317, 53856, 88201, 65592, 211290, 215746, 139115, 121703, 0, 0, 0, 1, 228845, 124212, 93171, 38641, 30192, 51668, 76819, 33134, 70507, 129538, 84430, 59272, 151273, 101389, 35808, 49736, 26389, 44345, 25964, 26227, 26760, 69689, 73760, 76273, 190574, 55611, 121307, 206338, 50504, 58265, 146706, 16521, 30449, 15980, 199974, 49577, 52250, 16982, 4862, 18887, 55224, 31559, 105001, 34536, 14837, 31165, 49104, 36344, 38158, 139343, 73123, 65493, 60585, 6033, 34444, 16187, 28681, 25779, 26289, 18326, 27886, 26857, 70503, 60337, 76673, 40344, 20770, 46723, 10021, 109499, 23833, 26993, 24645, 45775, 35316, 19378, 22617, 73004, 59621, 46364, 15368, 8787, 5364, 4368, 11806, 15978, 16823, 10765, 16253, 26173, 11442, 28663, 51706, 11914]\n"
     ]
    }
   ],
   "source": [
    "row_sum_df=commute_time_df.sum(axis=1,numeric_only=True)\n",
    "                                       # numeric_only=True 숫자만계산\n",
    "\n",
    "passenger_number_list=row_sum_df.to_list() \n",
    "  # DataFrame을 리스트로 변환(그래프 쉽게 그리기위해)\n",
    "\n",
    "print(passenger_number_list)"
   ]
  },
  {
   "cell_type": "code",
   "execution_count": null,
   "metadata": {},
   "outputs": [],
   "source": []
  },
  {
   "cell_type": "code",
   "execution_count": 40,
   "metadata": {},
   "outputs": [
    {
     "data": {
      "text/plain": [
       "638753"
      ]
     },
     "execution_count": 40,
     "metadata": {},
     "output_type": "execute_result"
    }
   ],
   "source": [
    "# 최대값 및 최대값 인덱스 찾기\n",
    "max_number=row_sum_df.max(axis=0)\n",
    "max_number"
   ]
  },
  {
   "cell_type": "code",
   "execution_count": 41,
   "metadata": {},
   "outputs": [
    {
     "name": "stdout",
     "output_type": "stream",
     "text": [
      "출근 시간대 최대 승차 인원역 : 2호선 신림 638,753명\n"
     ]
    }
   ],
   "source": [
    "max_index = row_sum_df.idxmax()\n",
    "max_line, max_station = df.iloc[max_index, [1, 3]]\n",
    "\n",
    "print('출근 시간대 최대 승차 인원역 : {0} {1} {2:,}명'.format(max_line,max_station,max_number))"
   ]
  },
  {
   "cell_type": "code",
   "execution_count": 42,
   "metadata": {},
   "outputs": [
    {
     "data": {
      "image/png": "[encoded data removed]",
      "text/plain": [
       "<Figure size 600x400 with 1 Axes>"
      ]
     },
     "metadata": {
      "needs_background": "light"
     },
     "output_type": "display_data"
    }
   ],
   "source": [
    "# bar-chart 그리기\n",
    "passenger_number_list.sort(reverse=True)\n",
    "plt.figure(dpi=100)\n",
    "plt.bar(range(len(passenger_number_list)), passenger_number_list)\n",
    "plt.show()\n"
   ]
  },
  {
   "cell_type": "code",
   "execution_count": null,
   "metadata": {},
   "outputs": [],
   "source": []
  },
  {
   "cell_type": "code",
   "execution_count": null,
   "metadata": {},
   "outputs": [],
   "source": []
  },
  {
   "cell_type": "code",
   "execution_count": null,
   "metadata": {},
   "outputs": [],
   "source": []
  },
  {
   "cell_type": "code",
   "execution_count": null,
   "metadata": {},
   "outputs": [],
   "source": []
  },
  {
   "cell_type": "code",
   "execution_count": null,
   "metadata": {},
   "outputs": [],
   "source": []
  },
  {
   "cell_type": "code",
   "execution_count": null,
   "metadata": {},
   "outputs": [],
   "source": []
  },
  {
   "cell_type": "code",
   "execution_count": null,
   "metadata": {},
   "outputs": [],
   "source": []
  }
 ],
 "metadata": {
  "kernelspec": {
   "display_name": "Python 3.9.10 64-bit",
   "language": "python",
   "name": "python3"
  },
  "language_info": {
   "codemirror_mode": {
    "name": "ipython",
    "version": 3
   },
   "file_extension": ".py",
   "mimetype": "text/x-python",
   "name": "python",
   "nbconvert_exporter": "python",
   "pygments_lexer": "ipython3",
   "version": "3.9.10"
  },
  "orig_nbformat": 4,
  "vscode": {
   "interpreter": {
    "hash": "cf92aa13fedf815d5c8dd192b8d835913fde3e8bc926b2a0ad6cc74ef2ba3ca2"
   }
  }
 },
 "nbformat": 4,
 "nbformat_minor": 2
}
