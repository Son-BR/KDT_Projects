{
 "cells": [
  {
   "cell_type": "markdown",
   "metadata": {},
   "source": [
    "# 대중교통 데이터 읽어오기"
   ]
  },
  {
   "cell_type": "code",
   "execution_count": 2,
   "metadata": {},
   "outputs": [
    {
     "name": "stdout",
     "output_type": "stream",
     "text": [
      "['사용월', '호선명', '역ID', '지하철역', '유임승차', '유임하차', '무임승차', '무임하차']\n",
      "['Jun-22', '1호선', '150', '서울역', '1150754', '1123193', '194717', '187155']\n",
      "['Jun-22', '1호선', '151', '시청', '537067', '543569', '80671', '78279']\n",
      "['Jun-22', '1호선', '152', '종각', '834173', '815704', '131987', '121717']\n",
      "['Jun-22', '1호선', '153', '종로3가', '450317', '404106', '299617', '278151']\n",
      "['Jun-22', '1호선', '154', '종로5가', '394420', '404105', '254236', '244555']\n",
      "['Jun-22', '1호선', '155', '동대문', '212719', '198987', '117499', '118515']\n",
      "['Jun-22', '1호선', '156', '신설동', '264825', '252339', '112362', '106855']\n"
     ]
    }
   ],
   "source": [
    "import csv\n",
    "f=open('../Data/subwayfee.csv', encoding='utf-8')\n",
    "data=csv.reader(f)\n",
    "header=next(data)\n",
    "print(header)\n",
    "i=0\n",
    "for row in data:\n",
    "    print(row)\n",
    "    if i>5:\n",
    "        break\n",
    "    i+=1\n",
    "f.close()"
   ]
  },
  {
   "cell_type": "code",
   "execution_count": null,
   "metadata": {},
   "outputs": [],
   "source": []
  },
  {
   "cell_type": "code",
   "execution_count": null,
   "metadata": {},
   "outputs": [],
   "source": []
  },
  {
   "cell_type": "markdown",
   "metadata": {},
   "source": [
    "### 유임승차 대 무임승차 비율이 가장 높은 역은?\n",
    " - $rate= {유임승차인원 \\over 무임승차인원}$"
   ]
  },
  {
   "cell_type": "code",
   "execution_count": 3,
   "metadata": {},
   "outputs": [],
   "source": [
    "# 무임승차인원 0일때 에러\n",
    "\n",
    "f=open('../Data/subwayfee.csv', encoding='utf-8')\n",
    "data=csv.reader(f)\n",
    "next(data)\n",
    "max_rate=0\n",
    "rate=0\n",
    "\n",
    "# for row in data:\n",
    "#     for i in range(4,8):\n",
    "#         row[i]=int(row[i])\n",
    "#     rate=row[4]/row[6]      # 0으로 나누기 에러\n",
    "#     if rate>max_rate:\n",
    "#         max_rate=rate\n",
    "# print(max_rate)\n",
    "\n",
    "f.close()"
   ]
  },
  {
   "cell_type": "markdown",
   "metadata": {},
   "source": [
    "- 무임승차 인원이 0인 역 찾기"
   ]
  },
  {
   "cell_type": "code",
   "execution_count": 4,
   "metadata": {},
   "outputs": [
    {
     "name": "stdout",
     "output_type": "stream",
     "text": [
      "['Jun-22', '일산선', '1949', '지축', 10, 0, 0, 0]\n",
      "['Jun-22', '경의선', '1296', '계양', 10, 0, 0, 0]\n",
      "['Jun-22', '경의선', '1297', '검암', 2, 0, 0, 0]\n",
      "['Jun-22', '6호선', '2615', '연신내', 31, 0, 0, 0]\n",
      "['Jun-22', '6호선', '2649', '신내', 4, 0, 0, 0]\n",
      "['Jun-22', '7호선', '2753', '까치울', 1, 0, 0, 0]\n",
      "['Jun-22', '7호선', '2758', '상동', 1, 0, 0, 0]\n",
      "['Jun-22', '7호선', '2761', '부평구청', 1, 0, 0, 0]\n"
     ]
    }
   ],
   "source": [
    "f=open('../Data/subwayfee.csv', encoding='utf-8')\n",
    "data=csv.reader(f)\n",
    "next(data)\n",
    "max_rate=0\n",
    "rate=0\n",
    "\n",
    "for row in data:\n",
    "    for i in range(4,8):\n",
    "        row[i]=int(row[i])\n",
    "    rate=row[4]/(row[4]+row[6])\n",
    "\n",
    "    if row[6]==0:               # 무임승차인원이 0인 역 출력\n",
    "        print(row)\n",
    "f.close()"
   ]
  },
  {
   "cell_type": "markdown",
   "metadata": {},
   "source": [
    "- $rate= {무임승차인원 \\over 무임+유임승차인원}$"
   ]
  },
  {
   "cell_type": "code",
   "execution_count": 5,
   "metadata": {},
   "outputs": [
    {
     "name": "stdout",
     "output_type": "stream",
     "text": [
      "['Jun-22', '1호선', '150', '서울역', 1150754, 1123193, 194717, 187155] 14.47 %\n",
      "['Jun-22', '1호선', '153', '종로3가', 450317, 404106, 299617, 278151] 39.95 %\n",
      "['Jun-22', '1호선', '157', '제기동', 218782, 209109, 263173, 281985] 54.61 %\n",
      "['Jun-22', '경원선', '1916', '소요산', 32659, 25998, 62990, 56806] 65.86 %\n",
      "['Jun-22', '7호선', '2756', '신중동', 0, 0, 1, 0] 100.0 %\n"
     ]
    }
   ],
   "source": [
    "f=open('../Data/subwayfee.csv', encoding='utf-8')\n",
    "data=csv.reader(f)\n",
    "next(data)\n",
    "max_rate=0\n",
    "rate=0\n",
    "\n",
    "for row in data:\n",
    "    for i in range(4,8):\n",
    "        row[i]=int(row[i])\n",
    "    \n",
    "    if row[6]!=0:\n",
    "        rate=(row[6]*100)/(row[4]+row[6])\n",
    "\n",
    "        if rate>max_rate:\n",
    "            max_rate=rate\n",
    "            print(row, round(rate,2),'%')  # 무임승차 %가 최고인 역을 찾는 과정 출력\n",
    "\n",
    "f.close()"
   ]
  },
  {
   "cell_type": "markdown",
   "metadata": {},
   "source": [
    "### 10만명이 넘게 승하차하는 역에서 유임승차 비율이 높은 역\n",
    "- $rate= {유임승차인원 \\over 무임+유임승차인원}$"
   ]
  },
  {
   "cell_type": "code",
   "execution_count": 6,
   "metadata": {},
   "outputs": [
    {
     "name": "stdout",
     "output_type": "stream",
     "text": [
      "['Jun-22', '2호선', '209', '한양대', 269240, 295829, 12481, 13227]\n",
      "역이름 : 한양대, 전체인원 : 281721, 유임승차인원 : 269,240, 유임승차 비율 : 0.96\n"
     ]
    }
   ],
   "source": [
    "f=open('../Data/subwayfee.csv', encoding='utf-8')\n",
    "data=csv.reader(f)\n",
    "next(data)\n",
    "max_rate=0\n",
    "rate=0\n",
    "max_row=[]\n",
    "total_count=0\n",
    "max_total_num=0\n",
    "\n",
    "\n",
    "for row in data:\n",
    "    for i in range(4,8):\n",
    "        row[i]=int(row[i])\n",
    "    \n",
    "    total_count=row[4]+row[6]\n",
    "\n",
    "    if (row[6]!=0) and (total_count>100000):\n",
    "        rate=row[4]/total_count\n",
    "\n",
    "        if rate>max_rate:\n",
    "            max_rate=rate\n",
    "            max_row=row\n",
    "            max_total_num=total_count\n",
    "\n",
    "print(max_row)\n",
    "print(\"역이름 : {}, 전체인원 : {}, 유임승차인원 : {:,}, 유임승차 비율 : {}\".format(max_row[3], max_total_num,max_row[4],round(max_rate,2)))\n",
    "\n",
    "\n",
    "f.close()"
   ]
  },
  {
   "cell_type": "code",
   "execution_count": null,
   "metadata": {},
   "outputs": [],
   "source": []
  },
  {
   "cell_type": "markdown",
   "metadata": {},
   "source": [
    "- 유임승차 비율이 50% 이하이고 총 승차인원이 10000명 이상\n",
    "- 유임승차 비율이 가장 낮은 역의 비율을 파이차트로 표시"
   ]
  },
  {
   "cell_type": "code",
   "execution_count": 7,
   "metadata": {},
   "outputs": [
    {
     "name": "stdout",
     "output_type": "stream",
     "text": [
      "['사용월', '호선명', '역ID', '지하철역', '유임승차', '유임하차', '무임승차', '무임하차']\n",
      "['Jun-22', '1호선', '157', '제기동', 218782, '209109', 263173, '281985'] 0.45\n",
      "['Jun-22', '1호선', '159', '동묘앞', 122460, '131299', 146455, '147539'] 0.46\n",
      "['Jun-22', '경원선', '1916', '소요산', 32659, '25998', 62990, '56806'] 0.34\n",
      "['Jun-22', '중앙선', '1218', '원덕', 5854, '5749', 6959, '6739'] 0.46\n",
      "['Jun-22', '중앙선', '1219', '용문', 34168, '34477', 38467, '38202'] 0.47\n",
      "역이름 : 소요산, 전체인원 : 95,649, 유임승차인원 : 32,659, 유임승차 비율 : 0.34\n"
     ]
    }
   ],
   "source": [
    "f=open('../Data/subwayfee.csv', encoding='utf-8')\n",
    "data=csv.reader(f)\n",
    "header=next(data)\n",
    "print(header)\n",
    "min_rate=100\n",
    "rate=0\n",
    "min_row=[]\n",
    "total_count=0\n",
    "min_total_num=0\n",
    "\n",
    "\n",
    "for row in data:\n",
    "    for i in [4,6]:          #유임승차, 무임승차 데이터만 가져옴\n",
    "        row[i]=int(row[i])\n",
    "    \n",
    "    total_count=row[4]+row[6]\n",
    "\n",
    "    if (row[6]!=0) and (total_count>10000):\n",
    "        rate=row[4]/total_count\n",
    "        if rate<=0.5:\n",
    "            print(row,round(rate,2))\n",
    "\n",
    "            if rate<min_rate:\n",
    "                min_rate=rate\n",
    "                min_row=row\n",
    "                min_total_num=total_count\n",
    "\n",
    "print(\"역이름 : {}, 전체인원 : {:,}, 유임승차인원 : {:,}, 유임승차 비율 : {}\".format(min_row[3], min_total_num,min_row[4],round(min_rate,2)))\n",
    "\n",
    "f.close()\n",
    "\n"
   ]
  },
  {
   "cell_type": "code",
   "execution_count": 17,
   "metadata": {},
   "outputs": [
    {
     "data": {
      "image/png": "[encoded data removed]",
      "text/plain": [
       "<Figure size 432x288 with 1 Axes>"
      ]
     },
     "metadata": {},
     "output_type": "display_data"
    }
   ],
   "source": [
    "# 그래프 그리기\n",
    "\n",
    "import matplotlib\n",
    "import matplotlib.pyplot as plt\n",
    "import platform\n",
    "\n",
    "\n",
    "# 한글 글꼴\n",
    "if(platform.system() == 'Windows'):\n",
    "    plt.rc('font', family='Malgun Gothic')\n",
    "else:\n",
    "    plt.rc('font', family='AppleGothic')\n",
    "\n",
    "\n",
    "plt.title(min_row[3] + \" 유,무임 승차 비율\") # fontdict={'color': rcParams['axes.titlecolor']}\n",
    "label = ['유임승차', '무임승차']\n",
    "\n",
    "# 제목 색 변경\n",
    "plt.rcParams['axes.titlecolor'] = \"w\"\n",
    "\n",
    "# 라벨색변경?? 못찾았음 \n",
    "plt.rcParams['axes.labelcolor'] = \"w\"\n",
    "\n",
    "\n",
    "values = [min_row[4], min_row[6]]\n",
    "\n",
    "# auto percentage \n",
    "## %.1f : 소수점 첫째자리까지 출력,%% : 특수기호이기때문에 출력을 위해 2번 입력\n",
    "\n",
    "plt.pie(values, labels=label, autopct='%.1f%%') \n",
    "plt.show()\n"
   ]
  },
  {
   "cell_type": "markdown",
   "metadata": {},
   "source": [
    "### 승하차 인원이 가장 많은 역"
   ]
  },
  {
   "cell_type": "code",
   "execution_count": 9,
   "metadata": {},
   "outputs": [
    {
     "name": "stdout",
     "output_type": "stream",
     "text": [
      "유임승차 : 강남 2호선 2,055,521\n",
      "유임하차 : 강남 2호선 2,039,847\n",
      "무임승차 : 종로3가 1호선 299,617\n",
      "무임하차 : 제기동 1호선 281,985\n"
     ]
    }
   ],
   "source": [
    "max=[0]*4\n",
    "max_station=['']*4\n",
    "label=['유임승차','유임하차','무임승차','무임하차']\n",
    "\n",
    "# with 구문 : 자동으로 파일을 close()시킹\n",
    "with open('../Data/subwayfee.csv', encoding='utf-8') as f:\n",
    "    data=csv.reader(f)\n",
    "    next(data)\n",
    "\n",
    "    for row in data:\n",
    "        for i in range(4,8):\n",
    "            row[i]=int(row[i])\n",
    "            if row[i]>max[i-4]:\n",
    "                max[i-4]=row[i]\n",
    "                max_station[i-4]=row[3]+' '+row[1]\n",
    "\n",
    "for i in range(4):\n",
    "    print('{0} : {1} {2:,}'.format(label[i],max_station[i],max[i]))"
   ]
  },
  {
   "cell_type": "code",
   "execution_count": null,
   "metadata": {},
   "outputs": [],
   "source": []
  },
  {
   "cell_type": "markdown",
   "metadata": {},
   "source": [
    "### 전체 지하철 역 파이차트 분석\n",
    " - 파일저장 : savefig('파일이름',dpi)"
   ]
  },
  {
   "cell_type": "code",
   "execution_count": 10,
   "metadata": {},
   "outputs": [],
   "source": [
    "label = ['유임승차', '유임하차', '무임승차', '무임하차']\n",
    "c = ['#14CCC0', '#389993', '#FF1C6A', '#CC14AF'] # 파이차트 컬러 값\n",
    "pic_count = 0\n",
    "\n",
    "with open('../Data/subwayfee.csv', encoding='utf-8') as f:\n",
    "    data = csv.reader(f)\n",
    "    next(data)\n",
    "\n",
    "    # 한글 글꼴\n",
    "    if(platform.system() == 'Windows'):\n",
    "        plt.rc('font', family='Malgun Gothic')\n",
    "    else:\n",
    "        plt.rc('font', family='AppleGothic')\n",
    "\n",
    "    for row in data:\n",
    "        for i in range(4,8):\n",
    "            row[i]=int(row[i])\n",
    "\n",
    "        plt.figure(dpi=200)           # 저장할 그림파일의 dpi 설정\n",
    "        plt.title(row[3] + ' ' + row[1])\n",
    "        plt.pie(row[4:8], labels=label, colors=c, autopct = '%.1f%%')\n",
    "        plt.savefig(row[3]+' '+row[1]+'.png')\n",
    "        plt.close()    # 파일닫기\n",
    "\n",
    "\n",
    "        # 10개만 만들기\n",
    "        pic_count+=1\n",
    "        if pic_count>=10:\n",
    "            break"
   ]
  },
  {
   "cell_type": "code",
   "execution_count": null,
   "metadata": {},
   "outputs": [],
   "source": []
  },
  {
   "cell_type": "code",
   "execution_count": null,
   "metadata": {},
   "outputs": [],
   "source": []
  },
  {
   "cell_type": "code",
   "execution_count": null,
   "metadata": {},
   "outputs": [],
   "source": []
  },
  {
   "cell_type": "code",
   "execution_count": null,
   "metadata": {},
   "outputs": [],
   "source": []
  }
 ],
 "metadata": {
  "kernelspec": {
   "display_name": "Python 3 (ipykernel)",
   "language": "python",
   "name": "python3"
  },
  "language_info": {
   "codemirror_mode": {
    "name": "ipython",
    "version": 3
   },
   "file_extension": ".py",
   "mimetype": "text/x-python",
   "name": "python",
   "nbconvert_exporter": "python",
   "pygments_lexer": "ipython3",
   "version": "3.9.12"
  },
  "vscode": {
   "interpreter": {
    "hash": "cf92aa13fedf815d5c8dd192b8d835913fde3e8bc926b2a0ad6cc74ef2ba3ca2"
   }
  }
 },
 "nbformat": 4,
 "nbformat_minor": 2
}
