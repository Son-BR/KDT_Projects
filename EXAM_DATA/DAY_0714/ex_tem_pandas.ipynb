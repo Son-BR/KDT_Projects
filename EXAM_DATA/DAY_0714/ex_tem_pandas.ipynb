{
 "cells": [
  {
   "cell_type": "markdown",
   "id": "3b6925d6",
   "metadata": {},
   "source": [
    "# Pandas를 활용한 기온데이터"
   ]
  },
  {
   "cell_type": "code",
   "execution_count": 2,
   "id": "db5d1cad",
   "metadata": {},
   "outputs": [
    {
     "name": "stdout",
     "output_type": "stream",
     "text": [
      "Index(['날짜', '지점', '평균기온(℃)', '최저기온(℃)', '최고기온(℃)'], dtype='object')\n",
      "object\n"
     ]
    }
   ],
   "source": [
    "import pandas as pd\n",
    "\n",
    "weather_df=pd.read_csv('../Data/daegu.csv',encoding='euc_kr')\n",
    "print(weather_df.columns)\n",
    "print(weather_df['날짜'].dtype)"
   ]
  },
  {
   "cell_type": "code",
   "execution_count": 3,
   "id": "20cd8e75",
   "metadata": {},
   "outputs": [
    {
     "name": "stdout",
     "output_type": "stream",
     "text": [
      "Index(['날짜', '지점', '평균기온', '최저기온', '최고기온'], dtype='object')\n"
     ]
    }
   ],
   "source": [
    "# DataFrame의 column 이름 변경: 특수 문자 제거\n",
    "weather_df.columns = ['날짜', '지점', '평균기온', '최저기온', '최고기온']\n",
    "print(weather_df.columns)"
   ]
  },
  {
   "cell_type": "code",
   "execution_count": 4,
   "id": "eb8182fe",
   "metadata": {},
   "outputs": [
    {
     "name": "stdout",
     "output_type": "stream",
     "text": [
      "datetime64[ns]\n"
     ]
    }
   ],
   "source": [
    "#'날짜' 컬럼의 데이터 타입을 datetime 타입으로 변경\n",
    "# to_datetime(df[‘컬럼명’], format=‘%Y-%m-%d)\n",
    "\n",
    "weather_df['날짜'] = pd.to_datetime(weather_df['날짜'], format='%Y-%m-%d')\n",
    "print(weather_df['날짜'].dtype)"
   ]
  },
  {
   "cell_type": "code",
   "execution_count": 5,
   "id": "5477c49f",
   "metadata": {},
   "outputs": [
    {
     "name": "stdout",
     "output_type": "stream",
     "text": [
      "          날짜   지점  평균기온  최저기온  최고기온\n",
      "0 1907-01-31  143   NaN  -7.0   0.8\n",
      "1 1907-02-01  143   NaN   NaN   NaN\n",
      "2 1907-02-02  143   NaN   NaN   NaN\n",
      "3 1907-02-03  143   NaN   NaN   NaN\n",
      "4 1907-02-04  143   NaN   NaN   NaN\n",
      "날짜        0\n",
      "지점        0\n",
      "평균기온    703\n",
      "최저기온    629\n",
      "최고기온    630\n",
      "dtype: int64\n"
     ]
    }
   ],
   "source": [
    "# 누락값\n",
    "print(weather_df.head(5))\n",
    "num_rows = weather_df.shape[0]              # shape(row, col), shape[0]: row의 개수\n",
    "num_missing = num_rows - weather_df.count() # count(): 정상값의 개수\n",
    "print(num_missing)"
   ]
  },
  {
   "cell_type": "code",
   "execution_count": null,
   "id": "b75e5e67",
   "metadata": {},
   "outputs": [],
   "source": []
  },
  {
   "cell_type": "markdown",
   "id": "29ceffc0",
   "metadata": {},
   "source": [
    "## 누락값(NaN) 처리\n",
    " - dropna(axis): 누락값 제거\n",
    " - axis=0: Nan이 포함된 행 제거, axis=1: Nan이 포함된 열 제거\n",
    " - fillna(0): 누락값을 0으로 변경\n",
    " - fillna(method=‘ffill’): 이전 값으로 변경(forward fill)\n",
    " - fillna(method=‘bfill’): 이후 값으로 변경(backward fill)\n",
    " - interpolate(): 누락값 양쪽의 값으로 중간값 계산"
   ]
  },
  {
   "cell_type": "code",
   "execution_count": 6,
   "id": "35fb82d5",
   "metadata": {},
   "outputs": [
    {
     "name": "stdout",
     "output_type": "stream",
     "text": [
      "날짜      41450\n",
      "지점      41450\n",
      "평균기온    41450\n",
      "최저기온    41450\n",
      "최고기온    41450\n",
      "dtype: int64\n",
      "            날짜   지점  평균기온  최저기온  최고기온\n",
      "701 1909-01-01  143  -4.1  -8.0   0.1\n",
      "702 1909-01-02  143  -0.8  -6.7   6.1\n",
      "703 1909-01-03  143   1.0  -2.4   3.6\n",
      "704 1909-01-04  143   4.2   0.0   9.2\n",
      "705 1909-01-05  143   3.4  -0.4   9.0\n"
     ]
    }
   ],
   "source": [
    "weather_df = weather_df.dropna(axis=0)\n",
    "print(weather_df.count())\n",
    "print(weather_df.head(5))"
   ]
  },
  {
   "cell_type": "markdown",
   "id": "f32ce9c6",
   "metadata": {},
   "source": [
    "### 누락값을 제거한 최종 데이터를 csv파일로 저장\n",
    " - index = False: 인덱스 항목 저장 안함\n",
    " - encoding=‘utf-8’ (euc_kr이 아닌 utf-8로 저장)"
   ]
  },
  {
   "cell_type": "code",
   "execution_count": 7,
   "id": "fdf343ae",
   "metadata": {},
   "outputs": [],
   "source": [
    "weather_df.to_csv('../Data/daegu_utf8.csv', index=False, mode='w', encoding='utf-8')"
   ]
  },
  {
   "cell_type": "code",
   "execution_count": 9,
   "id": "1ff9d984",
   "metadata": {},
   "outputs": [
    {
     "name": "stdout",
     "output_type": "stream",
     "text": [
      "              날짜   지점  평균기온  최저기온  최고기온\n",
      "41790 2021-07-01  143  25.1  19.6  32.4\n",
      "41791 2021-07-02  143  24.0  20.3  28.8\n",
      "41792 2021-07-03  143  22.7  21.4  24.8\n",
      "41793 2021-07-04  143  27.8  21.8  32.4\n",
      "41794 2021-07-05  143  23.8  20.6  27.2\n",
      "41795 2021-07-06  143  22.6  20.6  25.8\n",
      "41796 2021-07-07  143  24.2  22.6  26.2\n",
      "41797 2021-07-08  143  24.9  22.5  29.6\n",
      "41798 2021-07-09  143  24.7  22.1  29.1\n",
      "41799 2021-07-10  143  25.6  21.6  32.6\n",
      "41800 2021-07-11  143  25.7  21.1  33.8\n",
      "41801 2021-07-12  143  27.3  22.2  34.1\n",
      "41802 2021-07-13  143  28.7  22.8  34.3\n",
      "41803 2021-07-14  143  29.9  24.7  35.3\n",
      "41804 2021-07-15  143  27.5  23.6  33.9\n",
      "41805 2021-07-16  143  27.1  23.3  31.9\n",
      "41806 2021-07-17  143  26.7  23.4  30.4\n",
      "41807 2021-07-18  143  26.7  22.9  31.9\n",
      "41808 2021-07-19  143  27.2  23.8  31.6\n",
      "41809 2021-07-20  143  28.8  24.8  33.9\n",
      "41810 2021-07-21  143  27.5  23.4  32.5\n",
      "41811 2021-07-22  143  28.0  24.3  32.3\n",
      "41812 2021-07-23  143  27.8  23.7  32.8\n",
      "41813 2021-07-24  143  28.1  24.3  33.2\n",
      "41814 2021-07-25  143  28.0  23.7  32.9\n",
      "41815 2021-07-26  143  28.5  23.4  33.9\n",
      "41816 2021-07-27  143  28.1  23.3  34.4\n",
      "41817 2021-07-28  143  28.2  23.1  34.2\n",
      "41818 2021-07-29  143  29.5  23.4  35.2\n",
      "41819 2021-07-30  143  30.6  25.3  35.9\n",
      "41820 2021-07-31  143  29.9  25.3  37.2\n"
     ]
    }
   ],
   "source": [
    "# 2021년 7월의 데이터 \n",
    "year_df=weather_df[weather_df['날짜'].dt.year==2021]\n",
    "month_df=year_df[year_df['날짜'].dt.month==7]\n",
    "print(month_df)"
   ]
  },
  {
   "cell_type": "code",
   "execution_count": 15,
   "id": "1b48b14a",
   "metadata": {},
   "outputs": [
    {
     "name": "stdout",
     "output_type": "stream",
     "text": [
      "2021년 7월 최저기온 평균 : 22.9\n",
      "2021년 7월 최고기온 평균 : 32.1\n"
     ]
    }
   ],
   "source": [
    "# 2021년 7월의 최고,최저 기온의 평균 계산\n",
    "max_temp_mean=round(month_df['최고기온'].mean(),1)\n",
    "min_temp_mean=round(month_df['최저기온'].mean(),1)\n",
    "print('2021년 7월 최저기온 평균 : {}\\n2021년 7월 최고기온 평균 : {}'.format(min_temp_mean, max_temp_mean))\n"
   ]
  },
  {
   "cell_type": "code",
   "execution_count": null,
   "id": "539d35f1",
   "metadata": {},
   "outputs": [],
   "source": []
  },
  {
   "cell_type": "code",
   "execution_count": null,
   "id": "344902a7",
   "metadata": {},
   "outputs": [],
   "source": []
  },
  {
   "cell_type": "code",
   "execution_count": null,
   "id": "265e6243",
   "metadata": {},
   "outputs": [],
   "source": []
  },
  {
   "cell_type": "code",
   "execution_count": null,
   "id": "301de4bc",
   "metadata": {},
   "outputs": [],
   "source": []
  },
  {
   "cell_type": "code",
   "execution_count": null,
   "id": "8ab1f76e",
   "metadata": {},
   "outputs": [],
   "source": []
  },
  {
   "cell_type": "code",
   "execution_count": null,
   "id": "4c731c94",
   "metadata": {},
   "outputs": [],
   "source": []
  },
  {
   "cell_type": "code",
   "execution_count": null,
   "id": "d51f96ae",
   "metadata": {},
   "outputs": [],
   "source": []
  },
  {
   "cell_type": "code",
   "execution_count": null,
   "id": "dd25a0f0",
   "metadata": {},
   "outputs": [],
   "source": []
  },
  {
   "cell_type": "code",
   "execution_count": null,
   "id": "609aff9e",
   "metadata": {},
   "outputs": [],
   "source": []
  },
  {
   "cell_type": "code",
   "execution_count": null,
   "id": "9dd22719",
   "metadata": {},
   "outputs": [],
   "source": []
  },
  {
   "cell_type": "code",
   "execution_count": null,
   "id": "f7d38566",
   "metadata": {},
   "outputs": [],
   "source": []
  },
  {
   "cell_type": "code",
   "execution_count": null,
   "id": "9df8fe85",
   "metadata": {},
   "outputs": [],
   "source": []
  },
  {
   "cell_type": "code",
   "execution_count": null,
   "id": "0b06d2c7",
   "metadata": {},
   "outputs": [],
   "source": []
  },
  {
   "cell_type": "code",
   "execution_count": null,
   "id": "1bef0b23",
   "metadata": {},
   "outputs": [],
   "source": []
  },
  {
   "cell_type": "code",
   "execution_count": null,
   "id": "9a4a3631",
   "metadata": {},
   "outputs": [],
   "source": []
  },
  {
   "cell_type": "code",
   "execution_count": null,
   "id": "b4afcee2",
   "metadata": {},
   "outputs": [],
   "source": []
  },
  {
   "cell_type": "code",
   "execution_count": null,
   "id": "8b2ee533",
   "metadata": {},
   "outputs": [],
   "source": []
  },
  {
   "cell_type": "code",
   "execution_count": null,
   "id": "ce0a0c15",
   "metadata": {},
   "outputs": [],
   "source": []
  },
  {
   "cell_type": "code",
   "execution_count": null,
   "id": "d70ad2da",
   "metadata": {},
   "outputs": [],
   "source": []
  },
  {
   "cell_type": "code",
   "execution_count": null,
   "id": "04724fc2",
   "metadata": {},
   "outputs": [],
   "source": []
  },
  {
   "cell_type": "code",
   "execution_count": null,
   "id": "ad680a1f",
   "metadata": {},
   "outputs": [],
   "source": []
  },
  {
   "cell_type": "code",
   "execution_count": null,
   "id": "23f84ef0",
   "metadata": {},
   "outputs": [],
   "source": []
  }
 ],
 "metadata": {
  "kernelspec": {
   "display_name": "Python 3.9.12 ('base')",
   "language": "python",
   "name": "python3"
  },
  "language_info": {
   "codemirror_mode": {
    "name": "ipython",
    "version": 3
   },
   "file_extension": ".py",
   "mimetype": "text/x-python",
   "name": "python",
   "nbconvert_exporter": "python",
   "pygments_lexer": "ipython3",
   "version": "3.9.12"
  },
  "vscode": {
   "interpreter": {
    "hash": "ad2bdc8ecc057115af97d19610ffacc2b4e99fae6737bb82f5d7fb13d2f2c186"
   }
  }
 },
 "nbformat": 4,
 "nbformat_minor": 5
}
