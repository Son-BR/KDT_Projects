{
 "cells": [
  {
   "cell_type": "markdown",
   "metadata": {},
   "source": [
    "## 영화 리뷰 분석\n",
    " - IMDB 데이터 활용"
   ]
  },
  {
   "cell_type": "code",
   "execution_count": 5,
   "metadata": {},
   "outputs": [],
   "source": [
    "from keras.datasets.imdb import load_data\n",
    "import numpy as np"
   ]
  },
  {
   "cell_type": "markdown",
   "metadata": {},
   "source": [
    "## [1] 데이터 준비"
   ]
  },
  {
   "cell_type": "code",
   "execution_count": 6,
   "metadata": {},
   "outputs": [],
   "source": [
    "# 단어사전(voca)에서 빈도가 높은 500개까지만 사용하도록 설정\n",
    "(x_train, y_train), (x_test, y_test)=load_data(num_words=500)"
   ]
  },
  {
   "cell_type": "code",
   "execution_count": 7,
   "metadata": {},
   "outputs": [
    {
     "data": {
      "text/plain": [
       "numpy.ndarray"
      ]
     },
     "execution_count": 7,
     "metadata": {},
     "output_type": "execute_result"
    }
   ],
   "source": [
    "type(x_train)"
   ]
  },
  {
   "cell_type": "code",
   "execution_count": 8,
   "metadata": {},
   "outputs": [
    {
     "name": "stdout",
     "output_type": "stream",
     "text": [
      "imDB정보\n",
      "x_train: (25000,), y_train: (25000,)\n",
      "x_test: (25000,), y_test: (25000,)\n"
     ]
    }
   ],
   "source": [
    "print(f'imDB정보\\nx_train: {x_train.shape}, y_train: {y_train.shape}')\n",
    "print(f'x_test: {x_test.shape}, y_test: {y_test.shape}')"
   ]
  },
  {
   "cell_type": "code",
   "execution_count": 9,
   "metadata": {},
   "outputs": [
    {
     "name": "stdout",
     "output_type": "stream",
     "text": [
      "0 - 1\n",
      "[1, 14, 22, 16, 43, 2, 2, 2, 2, 65, 458, 2, 66, 2, 4, 173, 36, 256, 5, 25, 100, 43, 2, 112, 50, 2, 2, 9, 35, 480, 284, 5, 150, 4, 172, 112, 167, 2, 336, 385, 39, 4, 172, 2, 2, 17, 2, 38, 13, 447, 4, 192, 50, 16, 6, 147, 2, 19, 14, 22, 4, 2, 2, 469, 4, 22, 71, 87, 12, 16, 43, 2, 38, 76, 15, 13, 2, 4, 22, 17, 2, 17, 12, 16, 2, 18, 2, 5, 62, 386, 12, 8, 316, 8, 106, 5, 4, 2, 2, 16, 480, 66, 2, 33, 4, 130, 12, 16, 38, 2, 5, 25, 124, 51, 36, 135, 48, 25, 2, 33, 6, 22, 12, 215, 28, 77, 52, 5, 14, 407, 16, 82, 2, 8, 4, 107, 117, 2, 15, 256, 4, 2, 7, 2, 5, 2, 36, 71, 43, 2, 476, 26, 400, 317, 46, 7, 4, 2, 2, 13, 104, 88, 4, 381, 15, 297, 98, 32, 2, 56, 26, 141, 6, 194, 2, 18, 4, 226, 22, 21, 134, 476, 26, 480, 5, 144, 30, 2, 18, 51, 36, 28, 224, 92, 25, 104, 4, 226, 65, 16, 38, 2, 88, 12, 16, 283, 5, 16, 2, 113, 103, 32, 15, 16, 2, 19, 178, 32]\n",
      "1 - 0\n",
      "[1, 194, 2, 194, 2, 78, 228, 5, 6, 2, 2, 2, 134, 26, 4, 2, 8, 118, 2, 14, 394, 20, 13, 119, 2, 189, 102, 5, 207, 110, 2, 21, 14, 69, 188, 8, 30, 23, 7, 4, 249, 126, 93, 4, 114, 9, 2, 2, 5, 2, 4, 116, 9, 35, 2, 4, 229, 9, 340, 2, 4, 118, 9, 4, 130, 2, 19, 4, 2, 5, 89, 29, 2, 46, 37, 4, 455, 9, 45, 43, 38, 2, 2, 398, 4, 2, 26, 2, 5, 163, 11, 2, 2, 4, 2, 9, 194, 2, 7, 2, 2, 349, 2, 148, 2, 2, 2, 15, 123, 125, 68, 2, 2, 15, 349, 165, 2, 98, 5, 4, 228, 9, 43, 2, 2, 15, 299, 120, 5, 120, 174, 11, 220, 175, 136, 50, 9, 2, 228, 2, 5, 2, 2, 245, 2, 5, 4, 2, 131, 152, 491, 18, 2, 32, 2, 2, 14, 9, 6, 371, 78, 22, 2, 64, 2, 9, 8, 168, 145, 23, 4, 2, 15, 16, 4, 2, 5, 28, 6, 52, 154, 462, 33, 89, 78, 285, 16, 145, 95]\n",
      "2 - 0\n",
      "[1, 14, 47, 8, 30, 31, 7, 4, 249, 108, 7, 4, 2, 54, 61, 369, 13, 71, 149, 14, 22, 112, 4, 2, 311, 12, 16, 2, 33, 75, 43, 2, 296, 4, 86, 320, 35, 2, 19, 263, 2, 2, 4, 2, 33, 89, 78, 12, 66, 16, 4, 360, 7, 4, 58, 316, 334, 11, 4, 2, 43, 2, 2, 8, 257, 85, 2, 42, 2, 2, 83, 68, 2, 15, 36, 165, 2, 278, 36, 69, 2, 2, 8, 106, 14, 2, 2, 18, 6, 22, 12, 215, 28, 2, 40, 6, 87, 326, 23, 2, 21, 23, 22, 12, 272, 40, 57, 31, 11, 4, 22, 47, 6, 2, 51, 9, 170, 23, 2, 116, 2, 2, 13, 191, 79, 2, 89, 2, 14, 9, 8, 106, 2, 2, 35, 2, 6, 227, 7, 129, 113]\n"
     ]
    }
   ],
   "source": [
    "for idx in range(3):\n",
    "    print(f'{idx} - {y_train[idx]}\\n{x_train[idx]}')\n"
   ]
  },
  {
   "cell_type": "markdown",
   "metadata": {},
   "source": [
    "## [2] 학습용 데이터 변환\n",
    "---\n",
    " - keras에서 이미 대부분의 전처리 끝난 데이터\n",
    " - 길이 조정 -> 패딩(Padding)"
   ]
  },
  {
   "cell_type": "code",
   "execution_count": 10,
   "metadata": {},
   "outputs": [],
   "source": [
    "# [2-1] 데이터별 길이 결정\n",
    "len_list=[]\n",
    "for x in x_train:\n",
    "    len_list.append(len(x))"
   ]
  },
  {
   "cell_type": "code",
   "execution_count": 11,
   "metadata": {},
   "outputs": [
    {
     "data": {
      "text/plain": [
       "(2494, 11, 238.71364)"
      ]
     },
     "execution_count": 11,
     "metadata": {},
     "output_type": "execute_result"
    }
   ],
   "source": [
    "max(len_list), min(len_list), sum(len_list)/25000"
   ]
  },
  {
   "cell_type": "code",
   "execution_count": 12,
   "metadata": {},
   "outputs": [
    {
     "data": {
      "image/png": "[encoded data removed]",
      "text/plain": [
       "<Figure size 640x480 with 1 Axes>"
      ]
     },
     "metadata": {},
     "output_type": "display_data"
    },
    {
     "data": {
      "image/png": "[encoded data removed]",
      "text/plain": [
       "<Figure size 640x480 with 1 Axes>"
      ]
     },
     "metadata": {},
     "output_type": "display_data"
    }
   ],
   "source": [
    "import matplotlib.pyplot as plt\n",
    "plt.boxplot(len_list)\n",
    "plt.show()\n",
    "\n",
    "plt.hist(len_list)\n",
    "plt.show()"
   ]
  },
  {
   "cell_type": "code",
   "execution_count": 13,
   "metadata": {},
   "outputs": [],
   "source": [
    "# [2-2] 데이터별 길이 변경"
   ]
  },
  {
   "cell_type": "code",
   "execution_count": 14,
   "metadata": {},
   "outputs": [
    {
     "data": {
      "text/plain": [
       "(25000,)"
      ]
     },
     "execution_count": 14,
     "metadata": {},
     "output_type": "execute_result"
    }
   ],
   "source": [
    "x_train.shape"
   ]
  },
  {
   "cell_type": "code",
   "execution_count": 15,
   "metadata": {},
   "outputs": [
    {
     "data": {
      "text/plain": [
       "array([[  5,  25, 100, ...,  19, 178,  32],\n",
       "       [  0,   0,   0, ...,  16, 145,  95],\n",
       "       [  0,   0,   0, ...,   7, 129, 113],\n",
       "       ...,\n",
       "       [  0,   0,   0, ...,   4,   2,   2],\n",
       "       [  0,   0,   0, ...,  12,   9,  23],\n",
       "       [  0,   0,   0, ..., 204, 131,   9]])"
      ]
     },
     "execution_count": 15,
     "metadata": {},
     "output_type": "execute_result"
    }
   ],
   "source": [
    "from keras.utils import pad_sequences\n",
    "encding_x_train=pad_sequences(x_train, maxlen=200)\n",
    "encding_x_train"
   ]
  },
  {
   "cell_type": "code",
   "execution_count": 16,
   "metadata": {},
   "outputs": [
    {
     "data": {
      "text/plain": [
       "array([[  0,   0,   0, ...,  14,   6,   2],\n",
       "       [  2,   2,  45, ..., 125,   4,   2],\n",
       "       [  2, 189,   4, ...,   9,  57,   2],\n",
       "       ...,\n",
       "       [  0,   0,   0, ...,  21,   2,   2],\n",
       "       [  0,   0,   0, ...,   2,   7, 470],\n",
       "       [  0,   0,   0, ...,  34,   2,   2]])"
      ]
     },
     "execution_count": 16,
     "metadata": {},
     "output_type": "execute_result"
    }
   ],
   "source": [
    "encding_x_test=pad_sequences(x_test, maxlen=200)\n",
    "encding_x_test"
   ]
  },
  {
   "cell_type": "code",
   "execution_count": 17,
   "metadata": {},
   "outputs": [
    {
     "data": {
      "text/plain": [
       "(25000, 200)"
      ]
     },
     "execution_count": 17,
     "metadata": {},
     "output_type": "execute_result"
    }
   ],
   "source": [
    "encding_x_test.shape"
   ]
  },
  {
   "cell_type": "code",
   "execution_count": 22,
   "metadata": {},
   "outputs": [],
   "source": [
    "# 메모리 에러\n",
    "import os\n",
    "os.environ[\"KMP_DUPLICATE_LIB_OK\"]=\"TRUE\""
   ]
  },
  {
   "cell_type": "code",
   "execution_count": 23,
   "metadata": {},
   "outputs": [
    {
     "ename": "MemoryError",
     "evalue": "Unable to allocate 9.31 GiB for an array with shape (5000000, 500) and data type float32",
     "output_type": "error",
     "traceback": [
      "\u001b[1;31m---------------------------------------------------------------------------\u001b[0m",
      "\u001b[1;31mMemoryError\u001b[0m                               Traceback (most recent call last)",
      "\u001b[1;32mc:\\Users\\User\\PycharmProjects\\EXAM_NLP\\DAY_0927\\ex_nlp_keras.ipynb 셀 18\u001b[0m in \u001b[0;36m<cell line: 2>\u001b[1;34m()\u001b[0m\n\u001b[0;32m      <a href='vscode-notebook-cell:/c%3A/Users/User/PycharmProjects/EXAM_NLP/DAY_0927/ex_nlp_keras.ipynb#X16sZmlsZQ%3D%3D?line=0'>1</a>\u001b[0m \u001b[39mfrom\u001b[39;00m \u001b[39mkeras\u001b[39;00m\u001b[39m.\u001b[39;00m\u001b[39mutils\u001b[39;00m \u001b[39mimport\u001b[39;00m to_categorical\n\u001b[1;32m----> <a href='vscode-notebook-cell:/c%3A/Users/User/PycharmProjects/EXAM_NLP/DAY_0927/ex_nlp_keras.ipynb#X16sZmlsZQ%3D%3D?line=1'>2</a>\u001b[0m train_oh\u001b[39m=\u001b[39mto_categorical(encding_x_train)\n",
      "File \u001b[1;32mc:\\ProgramData\\Anaconda3\\lib\\site-packages\\keras\\utils\\np_utils.py:70\u001b[0m, in \u001b[0;36mto_categorical\u001b[1;34m(y, num_classes, dtype)\u001b[0m\n\u001b[0;32m     68\u001b[0m   num_classes \u001b[39m=\u001b[39m np\u001b[39m.\u001b[39mmax(y) \u001b[39m+\u001b[39m \u001b[39m1\u001b[39m\n\u001b[0;32m     69\u001b[0m n \u001b[39m=\u001b[39m y\u001b[39m.\u001b[39mshape[\u001b[39m0\u001b[39m]\n\u001b[1;32m---> 70\u001b[0m categorical \u001b[39m=\u001b[39m np\u001b[39m.\u001b[39;49mzeros((n, num_classes), dtype\u001b[39m=\u001b[39;49mdtype)\n\u001b[0;32m     71\u001b[0m categorical[np\u001b[39m.\u001b[39marange(n), y] \u001b[39m=\u001b[39m \u001b[39m1\u001b[39m\n\u001b[0;32m     72\u001b[0m output_shape \u001b[39m=\u001b[39m input_shape \u001b[39m+\u001b[39m (num_classes,)\n",
      "\u001b[1;31mMemoryError\u001b[0m: Unable to allocate 9.31 GiB for an array with shape (5000000, 500) and data type float32"
     ]
    }
   ],
   "source": [
    "from keras.utils import to_categorical\n",
    "train_oh=to_categorical(encding_x_train)\n"
   ]
  },
  {
   "cell_type": "code",
   "execution_count": 16,
   "metadata": {},
   "outputs": [
    {
     "data": {
      "text/plain": [
       "(25000, 200, 500)"
      ]
     },
     "execution_count": 16,
     "metadata": {},
     "output_type": "execute_result"
    }
   ],
   "source": [
    "train_oh.shape"
   ]
  },
  {
   "cell_type": "code",
   "execution_count": null,
   "metadata": {},
   "outputs": [],
   "source": [
    "# [2-3] 훈련/테스트 데이터 준비"
   ]
  },
  {
   "cell_type": "code",
   "execution_count": 17,
   "metadata": {},
   "outputs": [],
   "source": [
    "from sklearn.model_selection import train_test_split\n",
    "x_train, x_val, y_train, y_val = train_test_split(train_oh, y_train, test_size=0.2, random_state=42)"
   ]
  },
  {
   "cell_type": "code",
   "execution_count": 18,
   "metadata": {},
   "outputs": [
    {
     "name": "stdout",
     "output_type": "stream",
     "text": [
      "x_train: (20000, 200, 500), x_val: (5000, 200, 500), encding_x_test: (25000, 200)\n"
     ]
    }
   ],
   "source": [
    "print(f'x_train: {x_train.shape}, x_val: {x_val.shape}, encding_x_test: {encding_x_test.shape}')"
   ]
  },
  {
   "cell_type": "markdown",
   "metadata": {},
   "source": [
    "## [3] 모델\n",
    "---\n",
    " - 목표: 영화 리뷰 데이터 학습 후 사용자가 입력하는 리뷰가 긍정/부정 분류\n",
    " - 학습모델: RNN 순환신경망\n",
    " - 입력: 500\n",
    " - 출력: 1 "
   ]
  },
  {
   "cell_type": "code",
   "execution_count": 19,
   "metadata": {},
   "outputs": [],
   "source": [
    "from keras.models import Sequential\n",
    "from keras.layers import SimpleRNN, Dense"
   ]
  },
  {
   "cell_type": "markdown",
   "metadata": {},
   "source": [
    "### [3-1] 모델구성\n",
    "---\n",
    " - 입력층: 노드 n개, 타임스탬프수, 피쳐수 -> simpleRNN\n",
    " - 출력층: 노드 1개 sigmoid            -> Dense "
   ]
  },
  {
   "cell_type": "code",
   "execution_count": 84,
   "metadata": {},
   "outputs": [
    {
     "name": "stdout",
     "output_type": "stream",
     "text": [
      "Model: \"sequential_24\"\n",
      "_________________________________________________________________\n",
      " Layer (type)                Output Shape              Param #   \n",
      "=================================================================\n",
      " simple_rnn_28 (SimpleRNN)   (None, 200, 32)           17056     \n",
      "                                                                 \n",
      " simple_rnn_29 (SimpleRNN)   (None, 16)                784       \n",
      "                                                                 \n",
      " dense_36 (Dense)            (None, 1)                 17        \n",
      "                                                                 \n",
      "=================================================================\n",
      "Total params: 17,857\n",
      "Trainable params: 17,857\n",
      "Non-trainable params: 0\n",
      "_________________________________________________________________\n"
     ]
    }
   ],
   "source": [
    "model=Sequential()\n",
    "\n",
    "                                                # return_sequences=True 그대로 돌려줌(RNN층 여러개 사용할 때)\n",
    "model.add(SimpleRNN(32, input_shape=(200, 500), return_sequences=True))\n",
    "model.add(SimpleRNN(16))\n",
    "model.add(Dense(1, activation='sigmoid'))\n",
    "model.summary()"
   ]
  },
  {
   "cell_type": "code",
   "execution_count": null,
   "metadata": {},
   "outputs": [],
   "source": []
  },
  {
   "cell_type": "markdown",
   "metadata": {},
   "source": [
    "### [3-2] 모델생성\n",
    "---\n",
    " - 손실함수, 최적화방법, 평가항목 -> compile()"
   ]
  },
  {
   "cell_type": "code",
   "execution_count": 85,
   "metadata": {},
   "outputs": [],
   "source": [
    "model.compile(loss='binary_crossentropy', optimizer='adam', metrics='accuracy')"
   ]
  },
  {
   "cell_type": "markdown",
   "metadata": {},
   "source": [
    "## [4] 학습\n",
    "---\n",
    " - train 데이터와 타겟으로 학습 진행\n",
    " - epoch마다 검증 진행 -> validation_data or validation_split\n",
    " - 학습 중 이벤트 처리 -> callbacks=[]\n",
    " - 학습 진행 내용 조정 -> verbose\n",
    " - 학습 횟주 조정 -> epochs\n",
    " - 배치사이즈 조절-> batch_size (기본값:32)"
   ]
  },
  {
   "cell_type": "code",
   "execution_count": 86,
   "metadata": {},
   "outputs": [
    {
     "name": "stdout",
     "output_type": "stream",
     "text": [
      "Epoch 1/10\n",
      "157/157 [==============================] - 21s 123ms/step - loss: 0.6678 - accuracy: 0.5893 - val_loss: 0.5848 - val_accuracy: 0.7124\n",
      "Epoch 2/10\n",
      "157/157 [==============================] - 19s 122ms/step - loss: 0.5111 - accuracy: 0.7557 - val_loss: 0.4678 - val_accuracy: 0.7872\n",
      "Epoch 3/10\n",
      "157/157 [==============================] - 20s 126ms/step - loss: 0.4474 - accuracy: 0.8000 - val_loss: 0.4356 - val_accuracy: 0.8046\n",
      "Epoch 4/10\n",
      "157/157 [==============================] - 23s 148ms/step - loss: 0.4125 - accuracy: 0.8193 - val_loss: 0.4249 - val_accuracy: 0.8126\n",
      "Epoch 5/10\n",
      "157/157 [==============================] - 23s 147ms/step - loss: 0.4162 - accuracy: 0.8158 - val_loss: 0.4519 - val_accuracy: 0.7890\n",
      "Epoch 6/10\n",
      "157/157 [==============================] - 23s 147ms/step - loss: 0.3848 - accuracy: 0.8361 - val_loss: 0.4367 - val_accuracy: 0.8104\n",
      "Epoch 7/10\n",
      "157/157 [==============================] - 23s 147ms/step - loss: 0.3636 - accuracy: 0.8454 - val_loss: 0.4594 - val_accuracy: 0.7842\n",
      "Epoch 8/10\n",
      "157/157 [==============================] - 23s 149ms/step - loss: 0.3482 - accuracy: 0.8500 - val_loss: 0.4803 - val_accuracy: 0.7762\n",
      "Epoch 9/10\n",
      "157/157 [==============================] - 23s 147ms/step - loss: 0.3150 - accuracy: 0.8710 - val_loss: 0.4615 - val_accuracy: 0.7956\n",
      "Epoch 10/10\n",
      "157/157 [==============================] - 24s 152ms/step - loss: 0.3113 - accuracy: 0.8736 - val_loss: 0.4984 - val_accuracy: 0.7760\n"
     ]
    },
    {
     "data": {
      "text/plain": [
       "<keras.callbacks.History at 0x29c7e04c280>"
      ]
     },
     "execution_count": 86,
     "metadata": {},
     "output_type": "execute_result"
    }
   ],
   "source": [
    "model.fit(x_train, y_train, batch_size=128, epochs=10, validation_data=(x_val, y_val))"
   ]
  },
  {
   "cell_type": "code",
   "execution_count": 35,
   "metadata": {},
   "outputs": [
    {
     "data": {
      "text/plain": [
       "40.0"
      ]
     },
     "execution_count": 35,
     "metadata": {},
     "output_type": "execute_result"
    }
   ],
   "source": []
  },
  {
   "cell_type": "markdown",
   "metadata": {},
   "source": [
    "## Embedding RNN Model\n",
    "---\n",
    " - One-Hot-Encoding 입력 데이터의 많은 메모리 소모에 대한 문제 해결\n",
    " - 토큰을 밀집형태의 벡터로 변경 -> Word Embedding\n",
    " - Embedding Layer 적용\n",
    "   - 입력 차원 - 토큰의 크기 즉 단어사전의 크기\n",
    "   - 출력 차원 - 줄여서 생성하는 벡터 크기\n",
    "   - 입력층일 경우 -> input_dim = 타임스탬프 즉 하나의 문장을 구성하는 토큰 수"
   ]
  },
  {
   "cell_type": "code",
   "execution_count": 65,
   "metadata": {},
   "outputs": [],
   "source": [
    "from keras.layers import Embedding"
   ]
  },
  {
   "cell_type": "code",
   "execution_count": 121,
   "metadata": {},
   "outputs": [
    {
     "name": "stdout",
     "output_type": "stream",
     "text": [
      "Model: \"sequential_39\"\n",
      "_________________________________________________________________\n",
      " Layer (type)                Output Shape              Param #   \n",
      "=================================================================\n",
      " embedding_20 (Embedding)    (None, 200, 20)           10000     \n",
      "                                                                 \n",
      " simple_rnn_40 (SimpleRNN)   (None, 10)                310       \n",
      "                                                                 \n",
      " dense_48 (Dense)            (None, 1)                 11        \n",
      "                                                                 \n",
      "=================================================================\n",
      "Total params: 10,321\n",
      "Trainable params: 10,321\n",
      "Non-trainable params: 0\n",
      "_________________________________________________________________\n"
     ]
    }
   ],
   "source": [
    "model2=Sequential()\n",
    "\n",
    "# One-Hot-Encoding의 거대한 데이터 -> 밀집형태의 벡터로 변환\n",
    "# 500개를 받아서 20개로 줄임, input_length=토큰갯수\n",
    "model2.add(Embedding(500, 20, input_length=200))\n",
    "model2.add(SimpleRNN(10))\n",
    "model2.add(Dense(1, activation='sigmoid'))\n",
    "\n",
    "model2.summary()"
   ]
  },
  {
   "cell_type": "code",
   "execution_count": 122,
   "metadata": {},
   "outputs": [],
   "source": [
    "model2.compile(loss='binary_crossentropy', optimizer='adam')"
   ]
  },
  {
   "cell_type": "code",
   "execution_count": null,
   "metadata": {},
   "outputs": [],
   "source": [
    "model2.fit(x_train, y_train)"
   ]
  },
  {
   "cell_type": "code",
   "execution_count": 110,
   "metadata": {},
   "outputs": [
    {
     "data": {
      "text/plain": [
       "(20000, 200, 500)"
      ]
     },
     "execution_count": 110,
     "metadata": {},
     "output_type": "execute_result"
    }
   ],
   "source": []
  },
  {
   "cell_type": "code",
   "execution_count": null,
   "metadata": {},
   "outputs": [],
   "source": []
  },
  {
   "cell_type": "code",
   "execution_count": null,
   "metadata": {},
   "outputs": [],
   "source": []
  },
  {
   "cell_type": "code",
   "execution_count": null,
   "metadata": {},
   "outputs": [],
   "source": []
  }
 ],
 "metadata": {
  "kernelspec": {
   "display_name": "Python 3.9.13 ('base')",
   "language": "python",
   "name": "python3"
  },
  "language_info": {
   "codemirror_mode": {
    "name": "ipython",
    "version": 3
   },
   "file_extension": ".py",
   "mimetype": "text/x-python",
   "name": "python",
   "nbconvert_exporter": "python",
   "pygments_lexer": "ipython3",
   "version": "3.9.13"
  },
  "orig_nbformat": 4,
  "vscode": {
   "interpreter": {
    "hash": "ad2bdc8ecc057115af97d19610ffacc2b4e99fae6737bb82f5d7fb13d2f2c186"
   }
  }
 },
 "nbformat": 4,
 "nbformat_minor": 2
}
