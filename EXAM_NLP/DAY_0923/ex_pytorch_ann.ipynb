{
 "cells": [
  {
   "cell_type": "markdown",
   "metadata": {},
   "source": [
    "## Pytorch 모델 만들기"
   ]
  },
  {
   "cell_type": "code",
   "execution_count": 1,
   "metadata": {},
   "outputs": [],
   "source": [
    "import os\n",
    "import torch\n",
    "from torch import nn                            # 신경망모듈\n",
    "from torch.utils.data import DataLoader         # 데이터 로딩 관련 모듈\n",
    "from torchvision import datasets, transforms    # torch저장소 데이터 셋 모듈"
   ]
  },
  {
   "cell_type": "code",
   "execution_count": 2,
   "metadata": {},
   "outputs": [],
   "source": [
    "# 메모리 에러\n",
    "import os\n",
    "os.environ[\"KMP_DUPLICATE_LIB_OK\"]=\"TRUE\""
   ]
  },
  {
   "cell_type": "code",
   "execution_count": 20,
   "metadata": {},
   "outputs": [],
   "source": [
    "t1=torch.tensor([1,2,3])"
   ]
  },
  {
   "cell_type": "code",
   "execution_count": 22,
   "metadata": {},
   "outputs": [
    {
     "data": {
      "text/plain": [
       "(tensor([11, 12, 13]), tensor([1, 2, 3]))"
      ]
     },
     "execution_count": 22,
     "metadata": {},
     "output_type": "execute_result"
    }
   ],
   "source": [
    "# add -> 원본 변경x\n",
    "t1.add(10), t1"
   ]
  },
  {
   "cell_type": "code",
   "execution_count": 23,
   "metadata": {},
   "outputs": [
    {
     "data": {
      "text/plain": [
       "(tensor([11, 12, 13]), tensor([11, 12, 13]))"
      ]
     },
     "execution_count": 23,
     "metadata": {},
     "output_type": "execute_result"
    }
   ],
   "source": [
    "# add_ -> 원본 변경o\n",
    "t1.add_(10), t1"
   ]
  },
  {
   "cell_type": "markdown",
   "metadata": {},
   "source": [
    "## [1] 데이터 준비"
   ]
  },
  {
   "cell_type": "code",
   "execution_count": 3,
   "metadata": {},
   "outputs": [
    {
     "name": "stdout",
     "output_type": "stream",
     "text": [
      "Using cpu device\n"
     ]
    }
   ],
   "source": [
    "# Tensor의 저장소 설정을 위한 체크\n",
    "# cuda 있을경우 GPU사용 아니면 cpu사용\n",
    "device = \"cuda\" if torch.cuda.is_available() else \"cpu\"\n",
    "print(f\"Using {device} device\")"
   ]
  },
  {
   "cell_type": "markdown",
   "metadata": {},
   "source": [
    "### NN 모델 생성\n",
    "---"
   ]
  },
  {
   "cell_type": "code",
   "execution_count": 4,
   "metadata": {},
   "outputs": [],
   "source": [
    "# 순차적인 Layer 구성 -> Sequential, Layer....\n",
    "\n",
    "\n",
    "# 필수: init, forward\n",
    "class NeuralNetwork(nn.Module):\n",
    "    \n",
    "    # 생성자 메서드, NeuralNetwork() 객체 생성 시 실행\n",
    "    def __init__(self):\n",
    "        \n",
    "        super(NeuralNetwork, self).__init__()\n",
    "        self.flatten = nn.Flatten()\n",
    "        \n",
    "        self.linear_relu_stack = nn.Sequential(\n",
    "            \n",
    "            # 입력층(input_dim, output_dim)\n",
    "            nn.Linear(28*28, 512),\n",
    "            nn.ReLU(),\n",
    "            \n",
    "            # 은닉층(input_dim, output_dim)\n",
    "            nn.Linear(512, 512),\n",
    "            nn.ReLU(),\n",
    "            \n",
    "            # 출력층(input_dim, output_dim)\n",
    "            nn.Linear(512, 10),\n",
    "        )\n",
    "\n",
    "    # NN 모델이 동작을 시작할 때 실생\n",
    "    def forward(self, x):\n",
    "        \n",
    "        # 1차월으로 데이터 변환\n",
    "        x = self.flatten(x)\n",
    "        \n",
    "        # NN모델에 입력 데이터 전달\n",
    "        logits = self.linear_relu_stack(x)\n",
    "        return logits"
   ]
  },
  {
   "cell_type": "code",
   "execution_count": 5,
   "metadata": {},
   "outputs": [],
   "source": [
    "# NN모델 생성\n",
    "mnistM=NeuralNetwork().to(device)"
   ]
  },
  {
   "cell_type": "code",
   "execution_count": 7,
   "metadata": {},
   "outputs": [
    {
     "name": "stdout",
     "output_type": "stream",
     "text": [
      "NeuralNetwork(\n",
      "  (flatten): Flatten(start_dim=1, end_dim=-1)\n",
      "  (linear_relu_stack): Sequential(\n",
      "    (0): Linear(in_features=784, out_features=512, bias=True)\n",
      "    (1): ReLU()\n",
      "    (2): Linear(in_features=512, out_features=512, bias=True)\n",
      "    (3): ReLU()\n",
      "    (4): Linear(in_features=512, out_features=10, bias=True)\n",
      "  )\n",
      ")\n"
     ]
    }
   ],
   "source": [
    "print(mnistM)"
   ]
  },
  {
   "cell_type": "code",
   "execution_count": 8,
   "metadata": {},
   "outputs": [
    {
     "name": "stdout",
     "output_type": "stream",
     "text": [
      "x.dim:3\n",
      "x.shape:torch.Size([1, 28, 28])\n"
     ]
    }
   ],
   "source": [
    "# 데이터 준비\n",
    "x=torch.rand(1, 28, 28, device=device)\n",
    "print(f'x.dim:{x.dim()}')\n",
    "print(f'x.shape:{x.shape}')"
   ]
  },
  {
   "cell_type": "code",
   "execution_count": 10,
   "metadata": {},
   "outputs": [],
   "source": [
    "# 학습\n",
    "logits=mnistM(x)"
   ]
  },
  {
   "cell_type": "code",
   "execution_count": 11,
   "metadata": {},
   "outputs": [
    {
     "name": "stdout",
     "output_type": "stream",
     "text": [
      "학습결과:--------------\n",
      "tensor([[-0.0050,  0.0735, -0.0310,  0.0231, -0.0808,  0.0279, -0.0266, -0.0261,\n",
      "         -0.0212,  0.0802]], grad_fn=<AddmmBackward0>), torch.Size([1, 10])\n"
     ]
    }
   ],
   "source": [
    "print(f'학습결과:--------------\\n{logits}, {logits.shape}')"
   ]
  },
  {
   "cell_type": "code",
   "execution_count": 12,
   "metadata": {},
   "outputs": [
    {
     "name": "stdout",
     "output_type": "stream",
     "text": [
      "pred_probab: tensor([[0.0993, 0.1074, 0.0967, 0.1021, 0.0920, 0.1026, 0.0971, 0.0972, 0.0977,\n",
      "         0.1081]], grad_fn=<SoftmaxBackward0>)\n",
      "y_pred: tensor([9])\n"
     ]
    }
   ],
   "source": [
    "# 결과 분석\n",
    "pred_probab=nn.Softmax(dim=1)(logits)\n",
    "print(f'pred_probab: {pred_probab}')\n",
    "\n",
    "y_pred=pred_probab.argmax(1)\n",
    "print(f'y_pred: {y_pred}')"
   ]
  },
  {
   "cell_type": "code",
   "execution_count": 13,
   "metadata": {},
   "outputs": [],
   "source": [
    "# PyTorch의 Dataset 사용\n",
    "\n",
    "# 데이터 -> Tensor로 변환\n",
    "from torchvision.transforms import ToTensor \n",
    "\n",
    "training_data = datasets.FashionMNIST(\n",
    "    root=\"data\",\n",
    "    train=True,\n",
    "    download=True,\n",
    "    transform=ToTensor()\n",
    ")\n",
    "\n",
    "test_data = datasets.FashionMNIST(\n",
    "    root=\"data\",\n",
    "    train=False,\n",
    "    download=True,\n",
    "    transform=ToTensor()\n",
    ")"
   ]
  },
  {
   "cell_type": "code",
   "execution_count": 14,
   "metadata": {},
   "outputs": [
    {
     "data": {
      "text/plain": [
       "(torchvision.datasets.mnist.FashionMNIST, torch.Size([60000, 28, 28]))"
      ]
     },
     "execution_count": 14,
     "metadata": {},
     "output_type": "execute_result"
    }
   ],
   "source": [
    "type(training_data), training_data.data.shape"
   ]
  },
  {
   "cell_type": "code",
   "execution_count": 15,
   "metadata": {},
   "outputs": [
    {
     "data": {
      "text/plain": [
       "(torchvision.datasets.mnist.FashionMNIST, torch.Size([10000, 28, 28]))"
      ]
     },
     "execution_count": 15,
     "metadata": {},
     "output_type": "execute_result"
    }
   ],
   "source": [
    "type(test_data), test_data.data.shape"
   ]
  },
  {
   "cell_type": "code",
   "execution_count": 18,
   "metadata": {},
   "outputs": [
    {
     "name": "stdout",
     "output_type": "stream",
     "text": [
      "img.shape: torch.Size([1, 28, 28])\n",
      "a.shape: torch.Size([28, 28])\n",
      "img.shape: torch.Size([1, 28, 28])\n",
      "a.shape: torch.Size([28, 28])\n",
      "img.shape: torch.Size([1, 28, 28])\n",
      "a.shape: torch.Size([28, 28])\n",
      "img.shape: torch.Size([1, 28, 28])\n",
      "a.shape: torch.Size([28, 28])\n",
      "img.shape: torch.Size([1, 28, 28])\n",
      "a.shape: torch.Size([28, 28])\n",
      "img.shape: torch.Size([1, 28, 28])\n",
      "a.shape: torch.Size([28, 28])\n",
      "img.shape: torch.Size([1, 28, 28])\n",
      "a.shape: torch.Size([28, 28])\n",
      "img.shape: torch.Size([1, 28, 28])\n",
      "a.shape: torch.Size([28, 28])\n",
      "img.shape: torch.Size([1, 28, 28])\n",
      "a.shape: torch.Size([28, 28])\n"
     ]
    },
    {
     "data": {
      "image/png": "[encoded data removed]",
      "text/plain": [
       "<Figure size 800x800 with 9 Axes>"
      ]
     },
     "metadata": {},
     "output_type": "display_data"
    }
   ],
   "source": [
    "import matplotlib.pyplot as plt\n",
    "\n",
    "labels_map = {\n",
    "    0: \"T-Shirt\",\n",
    "    1: \"Trouser\",\n",
    "    2: \"Pullover\",\n",
    "    3: \"Dress\",\n",
    "    4: \"Coat\",\n",
    "    5: \"Sandal\",\n",
    "    6: \"Shirt\",\n",
    "    7: \"Sneaker\",\n",
    "    8: \"Bag\",\n",
    "    9: \"Ankle Boot\",\n",
    "}\n",
    "figure = plt.figure(figsize=(8, 8))\n",
    "cols, rows = 3, 3\n",
    "for i in range(1, cols * rows + 1):\n",
    "    sample_idx = torch.randint(len(training_data), size=(1,)).item()\n",
    "    img, label = training_data[sample_idx]\n",
    "    figure.add_subplot(rows, cols, i)\n",
    "    plt.title(labels_map[label])\n",
    "    plt.axis(\"off\")\n",
    "    \n",
    "    # squeeze() 메서드 확인\n",
    "    print(f'img.shape: {img.shape}')\n",
    "    a=img.squeeze()\n",
    "    print(f'a.shape: {a.shape}')\n",
    "    \n",
    "    \n",
    "    plt.imshow(img.squeeze(), cmap=\"gray\")\n",
    "plt.show()"
   ]
  },
  {
   "cell_type": "code",
   "execution_count": null,
   "metadata": {},
   "outputs": [],
   "source": [
    " "
   ]
  },
  {
   "cell_type": "code",
   "execution_count": null,
   "metadata": {},
   "outputs": [],
   "source": []
  },
  {
   "cell_type": "code",
   "execution_count": null,
   "metadata": {},
   "outputs": [],
   "source": []
  },
  {
   "cell_type": "code",
   "execution_count": null,
   "metadata": {},
   "outputs": [],
   "source": []
  },
  {
   "cell_type": "code",
   "execution_count": null,
   "metadata": {},
   "outputs": [],
   "source": []
  }
 ],
 "metadata": {
  "kernelspec": {
   "display_name": "Python 3.9.13 ('base')",
   "language": "python",
   "name": "python3"
  },
  "language_info": {
   "codemirror_mode": {
    "name": "ipython",
    "version": 3
   },
   "file_extension": ".py",
   "mimetype": "text/x-python",
   "name": "python",
   "nbconvert_exporter": "python",
   "pygments_lexer": "ipython3",
   "version": "3.9.13"
  },
  "orig_nbformat": 4,
  "vscode": {
   "interpreter": {
    "hash": "ad2bdc8ecc057115af97d19610ffacc2b4e99fae6737bb82f5d7fb13d2f2c186"
   }
  }
 },
 "nbformat": 4,
 "nbformat_minor": 2
}
