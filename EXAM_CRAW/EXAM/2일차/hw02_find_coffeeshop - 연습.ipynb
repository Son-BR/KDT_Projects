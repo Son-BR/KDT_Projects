{
 "cells": [
  {
   "cell_type": "markdown",
   "metadata": {},
   "source": [
    "# 과제2: 커피 매장 찾기"
   ]
  },
  {
   "cell_type": "code",
   "execution_count": 25,
   "metadata": {},
   "outputs": [
    {
     "data": {
      "text/html": [
       "<div>\n",
       "<style scoped>\n",
       "    .dataframe tbody tr th:only-of-type {\n",
       "        vertical-align: middle;\n",
       "    }\n",
       "\n",
       "    .dataframe tbody tr th {\n",
       "        vertical-align: top;\n",
       "    }\n",
       "\n",
       "    .dataframe thead th {\n",
       "        text-align: right;\n",
       "    }\n",
       "</style>\n",
       "<table border=\"1\" class=\"dataframe\">\n",
       "  <thead>\n",
       "    <tr style=\"text-align: right;\">\n",
       "      <th></th>\n",
       "      <th>매장이름</th>\n",
       "      <th>위치(시,구)</th>\n",
       "      <th>주소</th>\n",
       "      <th>전화번호</th>\n",
       "    </tr>\n",
       "  </thead>\n",
       "  <tbody>\n",
       "    <tr>\n",
       "      <th>0</th>\n",
       "      <td>종각역점</td>\n",
       "      <td>서울 종로구</td>\n",
       "      <td>서울특별시 종로구 종로 60-1 종로2가 102-3</td>\n",
       "      <td>02-736-3399</td>\n",
       "    </tr>\n",
       "    <tr>\n",
       "      <th>1</th>\n",
       "      <td>부산아트몰링영풍문고점</td>\n",
       "      <td>부산 사하구</td>\n",
       "      <td>부산광역시 사하구 낙동남로 1413 (하단동, 아트몰링) 13층</td>\n",
       "      <td>051-201-0621</td>\n",
       "    </tr>\n",
       "    <tr>\n",
       "      <th>2</th>\n",
       "      <td>광명GIDC점</td>\n",
       "      <td>경기 광명시</td>\n",
       "      <td>경기도 광명시 일직로 43 일직동 514 지하2층 G249, G250호</td>\n",
       "      <td>02-6914-6550</td>\n",
       "    </tr>\n",
       "    <tr>\n",
       "      <th>3</th>\n",
       "      <td>이천점</td>\n",
       "      <td>경기 이천시</td>\n",
       "      <td>경기도 이천시 어재연로 35 (창전동) 1~3층 할리스</td>\n",
       "      <td>031-635-6655</td>\n",
       "    </tr>\n",
       "    <tr>\n",
       "      <th>4</th>\n",
       "      <td>미사가로수길점</td>\n",
       "      <td>경기 하남시</td>\n",
       "      <td>경기도 하남시 미사강변한강로 295 (망월동, 하남미사롯데캐슬헤븐시티Ⅱ) .</td>\n",
       "      <td>031-699-8674</td>\n",
       "    </tr>\n",
       "    <tr>\n",
       "      <th>...</th>\n",
       "      <td>...</td>\n",
       "      <td>...</td>\n",
       "      <td>...</td>\n",
       "      <td>...</td>\n",
       "    </tr>\n",
       "    <tr>\n",
       "      <th>524</th>\n",
       "      <td>신림점</td>\n",
       "      <td>서울 관악구</td>\n",
       "      <td>서울특별시 관악구 신림로 353-1</td>\n",
       "      <td>02-877-0019</td>\n",
       "    </tr>\n",
       "    <tr>\n",
       "      <th>525</th>\n",
       "      <td>태평로점</td>\n",
       "      <td>서울 중구</td>\n",
       "      <td>서울특별시 중구 세종대로 64, 해남빌딩 1층 (태평로2가 70-5) 할리스</td>\n",
       "      <td>02-755-7795</td>\n",
       "    </tr>\n",
       "    <tr>\n",
       "      <th>526</th>\n",
       "      <td>이태원점</td>\n",
       "      <td>서울 용산구</td>\n",
       "      <td>서울특별시 용산구  이태원로 179</td>\n",
       "      <td>02-749-8752</td>\n",
       "    </tr>\n",
       "    <tr>\n",
       "      <th>527</th>\n",
       "      <td>부산서면본점</td>\n",
       "      <td>부산 부산진구</td>\n",
       "      <td>부산광역시 부산진구 동천로 73, DS타워 1~2층 (부전동 부전동 169-1) 할리스</td>\n",
       "      <td>051-819-9117</td>\n",
       "    </tr>\n",
       "    <tr>\n",
       "      <th>528</th>\n",
       "      <td>신촌점</td>\n",
       "      <td>서울 서대문구</td>\n",
       "      <td>서울특별시 서대문구 연세로 34 (창천동 31-12)  할리스</td>\n",
       "      <td>02-393-2004</td>\n",
       "    </tr>\n",
       "  </tbody>\n",
       "</table>\n",
       "<p>529 rows × 4 columns</p>\n",
       "</div>"
      ],
      "text/plain": [
       "            매장이름  위치(시,구)                                                주소  \\\n",
       "0           종각역점   서울 종로구                      서울특별시 종로구 종로 60-1 종로2가 102-3   \n",
       "1    부산아트몰링영풍문고점   부산 사하구               부산광역시 사하구 낙동남로 1413 (하단동, 아트몰링) 13층   \n",
       "2        광명GIDC점   경기 광명시           경기도 광명시 일직로 43 일직동 514 지하2층 G249, G250호   \n",
       "3            이천점   경기 이천시                    경기도 이천시 어재연로 35 (창전동) 1~3층 할리스   \n",
       "4        미사가로수길점   경기 하남시        경기도 하남시 미사강변한강로 295 (망월동, 하남미사롯데캐슬헤븐시티Ⅱ) .   \n",
       "..           ...      ...                                               ...   \n",
       "524          신림점   서울 관악구                               서울특별시 관악구 신림로 353-1   \n",
       "525         태평로점    서울 중구        서울특별시 중구 세종대로 64, 해남빌딩 1층 (태평로2가 70-5) 할리스   \n",
       "526         이태원점   서울 용산구                               서울특별시 용산구  이태원로 179   \n",
       "527       부산서면본점  부산 부산진구  부산광역시 부산진구 동천로 73, DS타워 1~2층 (부전동 부전동 169-1) 할리스   \n",
       "528          신촌점  서울 서대문구                서울특별시 서대문구 연세로 34 (창천동 31-12)  할리스   \n",
       "\n",
       "             전화번호  \n",
       "0     02-736-3399  \n",
       "1    051-201-0621  \n",
       "2    02-6914-6550  \n",
       "3    031-635-6655  \n",
       "4    031-699-8674  \n",
       "..            ...  \n",
       "524   02-877-0019  \n",
       "525   02-755-7795  \n",
       "526   02-749-8752  \n",
       "527  051-819-9117  \n",
       "528   02-393-2004  \n",
       "\n",
       "[529 rows x 4 columns]"
      ]
     },
     "execution_count": 25,
     "metadata": {},
     "output_type": "execute_result"
    }
   ],
   "source": [
    "import pandas as pd\n",
    "\n",
    "\n",
    "DF=pd.read_csv('hollys_branches.csv',encoding='utf-8')\n",
    "DF"
   ]
  },
  {
   "cell_type": "code",
   "execution_count": null,
   "metadata": {},
   "outputs": [],
   "source": []
  },
  {
   "cell_type": "code",
   "execution_count": 29,
   "metadata": {},
   "outputs": [
    {
     "name": "stdout",
     "output_type": "stream",
     "text": [
      "검색된 매장 수: 6\n",
      "[ 1]: ['서울특별시 동작구 장승배기로11가길 11, 1층 (상도동, 상도파크자이)', 02-812-9330]\n",
      "[ 2]: ['서울특별시 동작구 흑석로 77 (흑석동) 할리스 1~4층', 02-3280-3280]\n",
      "[ 3]: ['서울특별시 동작구 알마타길 6 (대방동, 파밀리에 하늘마루) 101호, 102호 .', 02-825-6369]\n",
      "[ 4]: ['서울시 동작구 보라매로5길 20 서울특별시보라매병원 희망관 1층', 02-831-3085]\n",
      "[ 5]: ['서울특별시 동작구 노량진로 157 (노량진동) 2층', 02-827-0280]\n",
      "[ 6]: ['서울특별시 동작구 동작대로 83 (사당동, 헤라피스빌딩) 1층', 02-588-4845]\n"
     ]
    }
   ],
   "source": [
    "city=input('검색할 매장의 도시를 입력하세요:')\n",
    "count=0\n",
    "addr_list=[]\n",
    "for i in range(len(DF)):\n",
    "    if  city.split(' ')[0] in DF['주소'][i] and city.split(' ')[1] in DF['주소'][i]:\n",
    "        addr_list.append(f\"[ {count+1}]: ['{DF['주소'][i]}', {DF['전화번호'][i]}]\")\n",
    "        count+=1\n",
    "print(f'검색된 매장 수: {count}')\n",
    "\n",
    "for i in range(len(addr_list)):\n",
    "    print(addr_list[i])\n",
    "\n"
   ]
  },
  {
   "cell_type": "code",
   "execution_count": 27,
   "metadata": {},
   "outputs": [
    {
     "data": {
      "text/plain": [
       "529"
      ]
     },
     "execution_count": 27,
     "metadata": {},
     "output_type": "execute_result"
    }
   ],
   "source": [
    "len(DF)"
   ]
  },
  {
   "cell_type": "code",
   "execution_count": null,
   "metadata": {},
   "outputs": [],
   "source": []
  }
 ],
 "metadata": {
  "kernelspec": {
   "display_name": "Python 3.9.12 ('base')",
   "language": "python",
   "name": "python3"
  },
  "language_info": {
   "codemirror_mode": {
    "name": "ipython",
    "version": 3
   },
   "file_extension": ".py",
   "mimetype": "text/x-python",
   "name": "python",
   "nbconvert_exporter": "python",
   "pygments_lexer": "ipython3",
   "version": "3.9.12"
  },
  "orig_nbformat": 4,
  "vscode": {
   "interpreter": {
    "hash": "ad2bdc8ecc057115af97d19610ffacc2b4e99fae6737bb82f5d7fb13d2f2c186"
   }
  }
 },
 "nbformat": 4,
 "nbformat_minor": 2
}
