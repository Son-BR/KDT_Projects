{
 "cells": [
  {
   "cell_type": "markdown",
   "metadata": {},
   "source": [
    "# 과제3: 네이버 증시 정보 크롤링"
   ]
  },
  {
   "cell_type": "code",
   "execution_count": 5,
   "metadata": {},
   "outputs": [],
   "source": [
    "#모듈 로딩\n",
    "import requests\n",
    "from bs4 import BeautifulSoup"
   ]
  },
  {
   "cell_type": "code",
   "execution_count": 14,
   "metadata": {},
   "outputs": [],
   "source": [
    "def stock_info():\n",
    "    for i in range(10):\n",
    "        \n",
    "        global stock_all\n",
    "        global url_list\n",
    "        global name_list\n",
    "        global num\n",
    "\n",
    "        url_i='https://finance.naver.com'+stock_all[i].find('a').attrs['href']\n",
    "        url_list.append(url_i)\n",
    "\n",
    "        name=stock_all[i].find('a').text\n",
    "        name_list.append(name)\n",
    "\n",
    "        html2=requests.get(url_list[i])\n",
    "        soup2 = BeautifulSoup(html2.text, 'html.parser')\n",
    "\n",
    "        info_i=soup2.find('dl',{'class':'blind'}).text.split('\\n')[3:11]\n",
    "\n",
    "        del info_i[6]\n",
    "\n",
    "\n",
    "    print(url_list[int(num)-1])\n",
    "    i=info_i[int(num)-1].split\n",
    "    print(f'{i[0]}: {i[1]}' )\n",
    "\n"
   ]
  },
  {
   "cell_type": "code",
   "execution_count": 15,
   "metadata": {},
   "outputs": [],
   "source": [
    "def main():\n",
    "    url='https://finance.naver.com/sise/sise_market_sum.naver'\n",
    "    html = requests.get(url)\n",
    "    soup = BeautifulSoup(html.text, 'html.parser')\n",
    "\n",
    "    stock_all=soup.find_all('tr',{'onmouseover':'mouseOver(this)'})\n",
    "    url_list=[]\n",
    "    name_list=[]\n",
    "    stock_info()\n",
    "    print('-'*30)\n",
    "    print('[네이버 코스피 상위 10대 기업 목록]')\n",
    "    print('-'*30)\n",
    "\n",
    "    for i in range(10):\n",
    "        print('[{:2d}] {}'.format(i+1, name_list[i]))\n",
    "    \n",
    "    num=input('주가를 검색할 기업의 번호를 입력하세요(-1: 종료):')\n",
    "    \n",
    "    if int(num)==-1:\n",
    "        print('프로그램 종료')\n",
    "    else:\n",
    "        pass"
   ]
  },
  {
   "cell_type": "code",
   "execution_count": 16,
   "metadata": {},
   "outputs": [
    {
     "ename": "TypeError",
     "evalue": "'function' object is not subscriptable",
     "output_type": "error",
     "traceback": [
      "\u001b[1;31m---------------------------------------------------------------------------\u001b[0m",
      "\u001b[1;31mTypeError\u001b[0m                                 Traceback (most recent call last)",
      "\u001b[1;32mc:\\Users\\User\\PycharmProjects\\EXAM_CRAW\\EXAM\\3일차\\func.ipynb 셀 5\u001b[0m in \u001b[0;36m<cell line: 1>\u001b[1;34m()\u001b[0m\n\u001b[1;32m----> <a href='vscode-notebook-cell:/c%3A/Users/User/PycharmProjects/EXAM_CRAW/EXAM/3%EC%9D%BC%EC%B0%A8/func.ipynb#ch0000004?line=0'>1</a>\u001b[0m main()\n",
      "\u001b[1;32mc:\\Users\\User\\PycharmProjects\\EXAM_CRAW\\EXAM\\3일차\\func.ipynb 셀 5\u001b[0m in \u001b[0;36mmain\u001b[1;34m()\u001b[0m\n\u001b[0;32m      <a href='vscode-notebook-cell:/c%3A/Users/User/PycharmProjects/EXAM_CRAW/EXAM/3%EC%9D%BC%EC%B0%A8/func.ipynb#ch0000004?line=6'>7</a>\u001b[0m url_list\u001b[39m=\u001b[39m[]\n\u001b[0;32m      <a href='vscode-notebook-cell:/c%3A/Users/User/PycharmProjects/EXAM_CRAW/EXAM/3%EC%9D%BC%EC%B0%A8/func.ipynb#ch0000004?line=7'>8</a>\u001b[0m name_list\u001b[39m=\u001b[39m[]\n\u001b[1;32m----> <a href='vscode-notebook-cell:/c%3A/Users/User/PycharmProjects/EXAM_CRAW/EXAM/3%EC%9D%BC%EC%B0%A8/func.ipynb#ch0000004?line=8'>9</a>\u001b[0m stock_info()\n\u001b[0;32m     <a href='vscode-notebook-cell:/c%3A/Users/User/PycharmProjects/EXAM_CRAW/EXAM/3%EC%9D%BC%EC%B0%A8/func.ipynb#ch0000004?line=9'>10</a>\u001b[0m \u001b[39mprint\u001b[39m(\u001b[39m'\u001b[39m\u001b[39m-\u001b[39m\u001b[39m'\u001b[39m\u001b[39m*\u001b[39m\u001b[39m30\u001b[39m)\n\u001b[0;32m     <a href='vscode-notebook-cell:/c%3A/Users/User/PycharmProjects/EXAM_CRAW/EXAM/3%EC%9D%BC%EC%B0%A8/func.ipynb#ch0000004?line=10'>11</a>\u001b[0m \u001b[39mprint\u001b[39m(\u001b[39m'\u001b[39m\u001b[39m[네이버 코스피 상위 10대 기업 목록]\u001b[39m\u001b[39m'\u001b[39m)\n",
      "\u001b[1;32mc:\\Users\\User\\PycharmProjects\\EXAM_CRAW\\EXAM\\3일차\\func.ipynb 셀 5\u001b[0m in \u001b[0;36mstock_info\u001b[1;34m()\u001b[0m\n\u001b[0;32m      <a href='vscode-notebook-cell:/c%3A/Users/User/PycharmProjects/EXAM_CRAW/EXAM/3%EC%9D%BC%EC%B0%A8/func.ipynb#ch0000004?line=5'>6</a>\u001b[0m \u001b[39mglobal\u001b[39;00m name_list\n\u001b[0;32m      <a href='vscode-notebook-cell:/c%3A/Users/User/PycharmProjects/EXAM_CRAW/EXAM/3%EC%9D%BC%EC%B0%A8/func.ipynb#ch0000004?line=6'>7</a>\u001b[0m \u001b[39mglobal\u001b[39;00m num\n\u001b[1;32m----> <a href='vscode-notebook-cell:/c%3A/Users/User/PycharmProjects/EXAM_CRAW/EXAM/3%EC%9D%BC%EC%B0%A8/func.ipynb#ch0000004?line=8'>9</a>\u001b[0m url_i\u001b[39m=\u001b[39m\u001b[39m'\u001b[39m\u001b[39mhttps://finance.naver.com\u001b[39m\u001b[39m'\u001b[39m\u001b[39m+\u001b[39mstock_all[i]\u001b[39m.\u001b[39mfind(\u001b[39m'\u001b[39m\u001b[39ma\u001b[39m\u001b[39m'\u001b[39m)\u001b[39m.\u001b[39mattrs[\u001b[39m'\u001b[39m\u001b[39mhref\u001b[39m\u001b[39m'\u001b[39m]\n\u001b[0;32m     <a href='vscode-notebook-cell:/c%3A/Users/User/PycharmProjects/EXAM_CRAW/EXAM/3%EC%9D%BC%EC%B0%A8/func.ipynb#ch0000004?line=9'>10</a>\u001b[0m url_list\u001b[39m.\u001b[39mappend(url_i)\n\u001b[0;32m     <a href='vscode-notebook-cell:/c%3A/Users/User/PycharmProjects/EXAM_CRAW/EXAM/3%EC%9D%BC%EC%B0%A8/func.ipynb#ch0000004?line=11'>12</a>\u001b[0m name\u001b[39m=\u001b[39mstock_all[i]\u001b[39m.\u001b[39mfind(\u001b[39m'\u001b[39m\u001b[39ma\u001b[39m\u001b[39m'\u001b[39m)\u001b[39m.\u001b[39mtext\n",
      "\u001b[1;31mTypeError\u001b[0m: 'function' object is not subscriptable"
     ]
    }
   ],
   "source": [
    "main()"
   ]
  },
  {
   "cell_type": "code",
   "execution_count": null,
   "metadata": {},
   "outputs": [],
   "source": []
  },
  {
   "cell_type": "code",
   "execution_count": null,
   "metadata": {},
   "outputs": [],
   "source": []
  },
  {
   "cell_type": "code",
   "execution_count": null,
   "metadata": {},
   "outputs": [],
   "source": []
  },
  {
   "cell_type": "code",
   "execution_count": null,
   "metadata": {},
   "outputs": [],
   "source": []
  },
  {
   "cell_type": "code",
   "execution_count": null,
   "metadata": {},
   "outputs": [],
   "source": []
  },
  {
   "cell_type": "code",
   "execution_count": null,
   "metadata": {},
   "outputs": [],
   "source": []
  }
 ],
 "metadata": {
  "kernelspec": {
   "display_name": "Python 3.9.12 ('base')",
   "language": "python",
   "name": "python3"
  },
  "language_info": {
   "codemirror_mode": {
    "name": "ipython",
    "version": 3
   },
   "file_extension": ".py",
   "mimetype": "text/x-python",
   "name": "python",
   "nbconvert_exporter": "python",
   "pygments_lexer": "ipython3",
   "version": "3.9.12"
  },
  "orig_nbformat": 4,
  "vscode": {
   "interpreter": {
    "hash": "ad2bdc8ecc057115af97d19610ffacc2b4e99fae6737bb82f5d7fb13d2f2c186"
   }
  }
 },
 "nbformat": 4,
 "nbformat_minor": 2
}
