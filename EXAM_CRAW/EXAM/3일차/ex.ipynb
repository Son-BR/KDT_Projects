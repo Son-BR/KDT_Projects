{
 "cells": [
  {
   "cell_type": "code",
   "execution_count": 1,
   "metadata": {},
   "outputs": [],
   "source": [
    "import requests\n",
    "from bs4 import BeautifulSoup"
   ]
  },
  {
   "cell_type": "code",
   "execution_count": 2,
   "metadata": {},
   "outputs": [],
   "source": [
    "url='https://finance.naver.com/sise/sise_market_sum.naver'\n",
    "html = requests.get(url)\n",
    "soup = BeautifulSoup(html.text, 'html.parser')"
   ]
  },
  {
   "cell_type": "code",
   "execution_count": 8,
   "metadata": {},
   "outputs": [
    {
     "name": "stdout",
     "output_type": "stream",
     "text": [
      "https://finance.naver.com/item/main.naver?code=005930\n",
      "종목명: 삼성전자\n",
      "종목코드: 005930\n",
      "현재가: 61,100\n",
      "전일가: 61,300\n",
      "시가: 60,900\n",
      "고가: 61,900\n",
      "저가: 60,800\n",
      "https://finance.naver.com/item/main.naver?code=373220\n",
      "종목명: LG에너지솔루션\n",
      "종목코드: 373220\n",
      "현재가: 391,000\n",
      "전일가: 382,000\n",
      "시가: 376,000\n",
      "고가: 393,500\n",
      "저가: 371,000\n",
      "https://finance.naver.com/item/main.naver?code=000660\n",
      "종목명: SK하이닉스\n",
      "종목코드: 000660\n",
      "현재가: 100,000\n",
      "전일가: 100,000\n",
      "시가: 99,100\n",
      "고가: 101,500\n",
      "저가: 98,900\n",
      "https://finance.naver.com/item/main.naver?code=207940\n",
      "종목명: 삼성바이오로직스\n",
      "종목코드: 207940\n",
      "현재가: 829,000\n",
      "전일가: 829,000\n",
      "시가: 826,000\n",
      "고가: 833,000\n",
      "저가: 824,000\n",
      "https://finance.naver.com/item/main.naver?code=005935\n",
      "종목명: 삼성전자우\n",
      "종목코드: 005935\n",
      "현재가: 55,800\n",
      "전일가: 56,200\n",
      "시가: 56,100\n",
      "고가: 56,400\n",
      "저가: 55,700\n",
      "https://finance.naver.com/item/main.naver?code=005380\n",
      "종목명: 현대차\n",
      "종목코드: 005380\n",
      "현재가: 196,000\n",
      "전일가: 191,000\n",
      "시가: 192,500\n",
      "고가: 198,500\n",
      "저가: 192,500\n",
      "https://finance.naver.com/item/main.naver?code=035420\n",
      "종목명: NAVER\n",
      "종목코드: 035420\n",
      "현재가: 248,000\n",
      "전일가: 250,000\n",
      "시가: 248,000\n",
      "고가: 249,000\n",
      "저가: 244,000\n",
      "https://finance.naver.com/item/main.naver?code=051910\n",
      "종목명: LG화학\n",
      "종목코드: 051910\n",
      "현재가: 556,000\n",
      "전일가: 561,000\n",
      "시가: 562,000\n",
      "고가: 572,000\n",
      "저가: 552,000\n",
      "https://finance.naver.com/item/main.naver?code=006400\n",
      "종목명: 삼성SDI\n",
      "종목코드: 006400\n",
      "현재가: 558,000\n",
      "전일가: 568,000\n",
      "시가: 566,000\n",
      "고가: 572,000\n",
      "저가: 557,000\n",
      "https://finance.naver.com/item/main.naver?code=000270\n",
      "종목명: 기아\n",
      "종목코드: 000270\n",
      "현재가: 82,300\n",
      "전일가: 80,900\n",
      "시가: 81,300\n",
      "고가: 83,300\n",
      "저가: 81,200\n"
     ]
    }
   ],
   "source": [
    "stock_all=soup.find_all('tr',{'onmouseover':'mouseOver(this)'})\n",
    "url_list=[]\n",
    "name_list=[]\n",
    "\n",
    "for i in range(10):\n",
    "    \n",
    "    url_i='https://finance.naver.com'+stock_all[i].find('a').attrs['href']\n",
    "    url_list.append(url_i)\n",
    "\n",
    "    name=stock_all[i].find('a').text\n",
    "    name_list.append(name)\n",
    "\n",
    "    html2=requests.get(url_list[i])\n",
    "    soup2 = BeautifulSoup(html2.text, 'html.parser')\n",
    "\n",
    "    info_i=soup2.find('dl',{'class':'blind'}).text.split('\\n')[3:11]\n",
    "\n",
    "    del info_i[6]\n",
    "    \n",
    "    print(url_list[i])\n",
    "    for i in info_i:\n",
    "        i=i.split()\n",
    "        print(f'{i[0]}: {i[1]}' )"
   ]
  },
  {
   "cell_type": "code",
   "execution_count": 10,
   "metadata": {},
   "outputs": [
    {
     "name": "stdout",
     "output_type": "stream",
     "text": [
      "------------------------------\n",
      "[네이버 코스피 상위 10대 기업 목록]\n",
      "------------------------------\n",
      "[ 1] 삼성전자\n",
      "[ 2] LG에너지솔루션\n",
      "[ 3] SK하이닉스\n",
      "[ 4] 삼성바이오로직스\n",
      "[ 5] 삼성전자우\n",
      "[ 6] 현대차\n",
      "[ 7] NAVER\n",
      "[ 8] LG화학\n",
      "[ 9] 삼성SDI\n",
      "[10] 기아\n"
     ]
    }
   ],
   "source": [
    "print('-'*30)\n",
    "print('[네이버 코스피 상위 10대 기업 목록]')\n",
    "print('-'*30)\n",
    "for i in range(10):\n",
    "    print('[{:2d}] {}'.format(i+1, name_list[i]))\n",
    "num=input('주가를 검색할 기업의 번호를 입력하세요(-1: 종료):')\n",
    "if int(num)==-1:\n",
    "    print('프로그램 종료')\n",
    "elif int(num)>=1 and int(num)<=10:\n",
    "    pass\n",
    "else:\n",
    "    print('잘못된 입력입니다')\n"
   ]
  },
  {
   "cell_type": "code",
   "execution_count": null,
   "metadata": {},
   "outputs": [],
   "source": []
  }
 ],
 "metadata": {
  "kernelspec": {
   "display_name": "Python 3.9.12 ('base')",
   "language": "python",
   "name": "python3"
  },
  "language_info": {
   "codemirror_mode": {
    "name": "ipython",
    "version": 3
   },
   "file_extension": ".py",
   "mimetype": "text/x-python",
   "name": "python",
   "nbconvert_exporter": "python",
   "pygments_lexer": "ipython3",
   "version": "3.9.12"
  },
  "orig_nbformat": 4,
  "vscode": {
   "interpreter": {
    "hash": "ad2bdc8ecc057115af97d19610ffacc2b4e99fae6737bb82f5d7fb13d2f2c186"
   }
  }
 },
 "nbformat": 4,
 "nbformat_minor": 2
}
