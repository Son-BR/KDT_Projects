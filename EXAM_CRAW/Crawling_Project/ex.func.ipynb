{
 "cells": [
  {
   "cell_type": "code",
   "execution_count": 8,
   "metadata": {},
   "outputs": [],
   "source": [
    "import requests\n",
    "from bs4 import BeautifulSoup\n",
    "import pandas as pd"
   ]
  },
  {
   "cell_type": "code",
   "execution_count": 9,
   "metadata": {},
   "outputs": [],
   "source": [
    "# songid 입력시 가수, 제목, 장르, 가사 반환하는 함수\n",
    "def song_info(songid):\n",
    "    \n",
    "    headers = {'User-Agent' : 'Mozilla/5.0 (Windows NT 10.0; Win64; x64) AppleWebKit/537.36 (KHTML, like Gecko) Chrome/98.0.4758.102 Safari/537.36'}\n",
    "    url2=f'https://www.genie.co.kr/detail/songInfo?xgnm={songid}'\n",
    "    html2= requests.get(url2,headers=headers)\n",
    "    soup2= BeautifulSoup(html2.text, 'html.parser')\n",
    "        \n",
    "    try:\n",
    "            \n",
    "        # 가수\n",
    "        artist=soup2.find_all('span', {'class':\"value\"})[0].text\n",
    "        # 제목\n",
    "        title=soup2.find('pre',{'id':\"pLyrics\"}).find('div').text.split('-')[0].strip()\n",
    "        # 장르\n",
    "        genre=soup2.find_all('span', {'class':\"value\"})[2].text\n",
    "        # 가사\n",
    "        lyric=soup2.find('pre',{'id':\"pLyrics\"}).find('p').text.replace('\\r','').replace('\\t','').replace('\\n\\n','\\n').replace('\\n',' ')\n",
    "        \n",
    "        return [artist, title, genre, lyric]\n",
    "        \n",
    "    except:\n",
    "        \n",
    "        # 가수\n",
    "        artist=soup2.find_all('span', {'class':\"value\"})[0].text\n",
    "        # 제목\n",
    "        title=' '.join(soup2.find('h2',{'class':'name'}).text.split()[1:])\n",
    "        # 장르\n",
    "        genre=soup2.find_all('span', {'class':\"value\"})[2].text\n",
    "         \n",
    "        return [artist, title, genre, '']\n",
    "    "
   ]
  },
  {
   "cell_type": "code",
   "execution_count": 10,
   "metadata": {},
   "outputs": [],
   "source": []
  },
  {
   "cell_type": "code",
   "execution_count": 11,
   "metadata": {},
   "outputs": [],
   "source": [
    "# 당해 ~50위 까지 숫자 카운트\n",
    "def page_info(year):\n",
    "    headers = {'User-Agent' : 'Mozilla/5.0 (Windows NT 10.0; Win64; x64) AppleWebKit/537.36 (KHTML, like Gecko) Chrome/98.0.4758.102 Safari/537.36'}\n",
    "    url=f'https://www.genie.co.kr/chart/musicHistory?year={year}&category=0'\n",
    "    html = requests.get(url,headers=headers)\n",
    "    soup = BeautifulSoup(html.text, 'html.parser')\n",
    "    count=len(soup.find('tbody').find_all('tr'))\n",
    "    return count\n",
    "\n",
    "# 연도, 순위 입력시 songid 반환\n",
    "def song_id(year,num):\n",
    "    \n",
    "    headers = {'User-Agent' : 'Mozilla/5.0 (Windows NT 10.0; Win64; x64) AppleWebKit/537.36 (KHTML, like Gecko) Chrome/98.0.4758.102 Safari/537.36'}\n",
    "    url=f'https://www.genie.co.kr/chart/musicHistory?year={year}&category=0'\n",
    "    html= requests.get(url,headers=headers)\n",
    "    soup= BeautifulSoup(html.text, 'html.parser')\n",
    "    songid=soup.find('tbody').find_all('tr')[num-1].attrs['songid']\n",
    "    return songid"
   ]
  },
  {
   "cell_type": "code",
   "execution_count": 12,
   "metadata": {},
   "outputs": [],
   "source": [
    "# 1년 리스트만들기\n",
    "\n",
    "# lyric_list=[]\n",
    "# title_list=[]\n",
    "# artist_list=[]\n",
    "# genre_list=[]\n",
    "\n",
    "# for i in range(page_info(2010)):\n",
    "#     info=song_info(song_id(2010,i+1))\n",
    "#     artist_list.append(info[0])\n",
    "#     title_list.append(info[1])\n",
    "#     genre_list.append(info[2])\n",
    "#     lyric_list.append(info[3])\n"
   ]
  },
  {
   "cell_type": "code",
   "execution_count": null,
   "metadata": {},
   "outputs": [],
   "source": []
  },
  {
   "cell_type": "code",
   "execution_count": 13,
   "metadata": {},
   "outputs": [],
   "source": [
    "# df=pd.DataFrame({'가수':artist_list,'제목':title_list,'장르':genre_list,'가사':lyric_list})\n",
    "# df.to_csv('2010.csv',encoding='utf-8',index=False)"
   ]
  },
  {
   "cell_type": "code",
   "execution_count": null,
   "metadata": {},
   "outputs": [],
   "source": []
  },
  {
   "cell_type": "code",
   "execution_count": 14,
   "metadata": {},
   "outputs": [],
   "source": [
    "# 10년반복\n",
    "for i in range(10):\n",
    "        \n",
    "    lyric_list=[]\n",
    "    title_list=[]\n",
    "    artist_list=[]\n",
    "    genre_list=[]\n",
    "\n",
    "    for j in range(page_info(2010+i)):\n",
    "        info=song_info(song_id(2010+i,j+1))\n",
    "        artist_list.append(info[0])\n",
    "        title_list.append(info[1])\n",
    "        genre_list.append(info[2])\n",
    "        lyric_list.append(info[3])\n",
    "        \n",
    "    df=pd.DataFrame({'가수':artist_list,'제목':title_list,'장르':genre_list,'가사':lyric_list})\n",
    "    df.to_csv(f'{2010+i}.csv',encoding='utf-8',index=False)"
   ]
  },
  {
   "cell_type": "code",
   "execution_count": 17,
   "metadata": {},
   "outputs": [],
   "source": [
    "# 10년가사\n",
    "\n",
    "for i in range(10):\n",
    "    with open(f'lyric{2010+i}.txt','w',encoding='utf-8') as f:\n",
    "        for j in range(page_info(2010+i)):\n",
    "            info=song_info(song_id(2010+i,j+1))\n",
    "            f.write(info[3]+'\\n')\n",
    "        \n"
   ]
  },
  {
   "cell_type": "code",
   "execution_count": 18,
   "metadata": {},
   "outputs": [
    {
     "data": {
      "text/plain": [
       "['가요 / 전체',\n",
       " '가요 / 발라드',\n",
       " '가요 / 댄스',\n",
       " '가요 / 발라드',\n",
       " '가요 / 발라드',\n",
       " '가요 / 댄스',\n",
       " '가요 / 댄스',\n",
       " '가요 / 발라드',\n",
       " '가요 / 랩/힙합',\n",
       " '가요 / R&B/소울',\n",
       " '가요 / 발라드',\n",
       " '가요 / R&B/소울',\n",
       " '가요 / 댄스',\n",
       " 'OST / 드라마',\n",
       " '가요 / 발라드',\n",
       " '가요 / 전체',\n",
       " '가요 / 댄스',\n",
       " '가요 / 발라드',\n",
       " '가요 / 발라드',\n",
       " '가요 / 발라드',\n",
       " '가요 / R&B/소울',\n",
       " '가요 / 락',\n",
       " '가요 / 댄스',\n",
       " 'OST / 드라마',\n",
       " '가요 / 발라드',\n",
       " '가요 / 랩/힙합',\n",
       " '가요 / 발라드',\n",
       " '가요 / 댄스',\n",
       " '가요 / 락',\n",
       " 'OST / 드라마',\n",
       " '가요 / R&B/소울',\n",
       " '가요 / 댄스',\n",
       " '가요 / 전체',\n",
       " '가요 / 랩/힙합',\n",
       " '가요 / 랩/힙합',\n",
       " '가요 / 댄스',\n",
       " '가요 / 댄스',\n",
       " '가요 / 댄스',\n",
       " '가요 / 댄스',\n",
       " '가요 / R&B/소울',\n",
       " '가요 / 전체',\n",
       " '가요 / 발라드',\n",
       " '가요 / 댄스',\n",
       " '가요 / 발라드',\n",
       " '가요 / 댄스',\n",
       " '가요 / 발라드',\n",
       " '가요 / 댄스',\n",
       " '가요 / 발라드',\n",
       " '가요 / 발라드',\n",
       " '가요 / 댄스']"
      ]
     },
     "execution_count": 18,
     "metadata": {},
     "output_type": "execute_result"
    }
   ],
   "source": [
    "# 1년 장르\n",
    "for i in range(1):\n",
    "        \n",
    "    genre_list=[]\n",
    "\n",
    "    for j in range(page_info(2010+i)):\n",
    "        info=song_info(song_id(2010+i,j+1))\n",
    "        genre_list.append(info[2])\n"
   ]
  },
  {
   "cell_type": "code",
   "execution_count": 63,
   "metadata": {},
   "outputs": [],
   "source": [
    "genre_all=[]\n",
    "df=pd.read_csv('2010.csv',encoding='utf-8')\n",
    "df2=df['장르'].apply(lambda x: x.split(' / '))\n",
    "for i in range(len(df2)):\n",
    "    genre_all.append(df2[i][0])\n",
    "    genre_all.append(df2[i][1])"
   ]
  },
  {
   "cell_type": "code",
   "execution_count": 54,
   "metadata": {},
   "outputs": [],
   "source": [
    "# 장르 종류\n",
    "# genre=[]\n",
    "# for i in range(len(df['장르'].unique())):\n",
    "#     genre_i=df['장르'].unique()[i].split(' / ')\n",
    "#     genre.append(genre_i[0])\n",
    "#     genre.append(genre_i[1])\n",
    "    \n",
    "# genre_uni=list(set(genre))"
   ]
  },
  {
   "cell_type": "code",
   "execution_count": 74,
   "metadata": {},
   "outputs": [
    {
     "data": {
      "text/plain": [
       "['OST', 'R&B/소울', '가요', '댄스', '드라마', '락', '랩/힙합', '발라드', '전체']"
      ]
     },
     "execution_count": 74,
     "metadata": {},
     "output_type": "execute_result"
    }
   ],
   "source": [
    "# 장르종류\n",
    "genre_uni=list(set(genre_all))\n",
    "genre_uni.sort()\n",
    "genre_uni"
   ]
  },
  {
   "cell_type": "code",
   "execution_count": 60,
   "metadata": {},
   "outputs": [
    {
     "data": {
      "text/plain": [
       "['가요',\n",
       " '전체',\n",
       " '가요',\n",
       " '발라드',\n",
       " '가요',\n",
       " '댄스',\n",
       " '가요',\n",
       " '발라드',\n",
       " '가요',\n",
       " '발라드',\n",
       " '가요',\n",
       " '댄스',\n",
       " '가요',\n",
       " '댄스',\n",
       " '가요',\n",
       " '발라드',\n",
       " '가요',\n",
       " '랩/힙합',\n",
       " '가요',\n",
       " 'R&B/소울',\n",
       " '가요',\n",
       " '발라드',\n",
       " '가요',\n",
       " 'R&B/소울',\n",
       " '가요',\n",
       " '댄스',\n",
       " 'OST',\n",
       " '드라마',\n",
       " '가요',\n",
       " '발라드',\n",
       " '가요',\n",
       " '전체',\n",
       " '가요',\n",
       " '댄스',\n",
       " '가요',\n",
       " '발라드',\n",
       " '가요',\n",
       " '발라드',\n",
       " '가요',\n",
       " '발라드',\n",
       " '가요',\n",
       " 'R&B/소울',\n",
       " '가요',\n",
       " '락',\n",
       " '가요',\n",
       " '댄스',\n",
       " 'OST',\n",
       " '드라마',\n",
       " '가요',\n",
       " '발라드',\n",
       " '가요',\n",
       " '랩/힙합',\n",
       " '가요',\n",
       " '발라드',\n",
       " '가요',\n",
       " '댄스',\n",
       " '가요',\n",
       " '락',\n",
       " 'OST',\n",
       " '드라마',\n",
       " '가요',\n",
       " 'R&B/소울',\n",
       " '가요',\n",
       " '댄스',\n",
       " '가요',\n",
       " '전체',\n",
       " '가요',\n",
       " '랩/힙합',\n",
       " '가요',\n",
       " '랩/힙합',\n",
       " '가요',\n",
       " '댄스',\n",
       " '가요',\n",
       " '댄스',\n",
       " '가요',\n",
       " '댄스',\n",
       " '가요',\n",
       " '댄스',\n",
       " '가요',\n",
       " 'R&B/소울',\n",
       " '가요',\n",
       " '전체',\n",
       " '가요',\n",
       " '발라드',\n",
       " '가요',\n",
       " '댄스',\n",
       " '가요',\n",
       " '발라드',\n",
       " '가요',\n",
       " '댄스',\n",
       " '가요',\n",
       " '발라드',\n",
       " '가요',\n",
       " '댄스',\n",
       " '가요',\n",
       " '발라드',\n",
       " '가요',\n",
       " '발라드',\n",
       " '가요',\n",
       " '댄스']"
      ]
     },
     "execution_count": 60,
     "metadata": {},
     "output_type": "execute_result"
    }
   ],
   "source": [
    "# 모든 장르 리스트\n",
    "# genre_all=[]\n",
    "# for i in range(len(df['장르'])):\n",
    "#     genre_i=df['장르'][i].split(' / ')\n",
    "#     genre_all.append(genre_i[0])\n",
    "#     genre_all.append(genre_i[1])\n",
    "    \n",
    "# genre_all"
   ]
  },
  {
   "cell_type": "code",
   "execution_count": 61,
   "metadata": {},
   "outputs": [
    {
     "name": "stdout",
     "output_type": "stream",
     "text": [
      "가요:47\n",
      "드라마:3\n",
      "랩/힙합:4\n",
      "R&B/소울:5\n",
      "락:2\n",
      "댄스:16\n",
      "OST:3\n",
      "전체:4\n",
      "발라드:16\n"
     ]
    }
   ],
   "source": [
    "# for i in genre_uni:\n",
    "#     count=0\n",
    "#     for j in genre_all:\n",
    "#         if i==j:\n",
    "#             count+=1\n",
    "#         else:\n",
    "#             pass\n",
    "#     print(f'{i}:{count}')"
   ]
  },
  {
   "cell_type": "code",
   "execution_count": 75,
   "metadata": {},
   "outputs": [
    {
     "name": "stdout",
     "output_type": "stream",
     "text": [
      "OST : 3\n",
      "R&B/소울 : 5\n",
      "가요 : 47\n",
      "댄스 : 16\n",
      "드라마 : 3\n",
      "락 : 2\n",
      "랩/힙합 : 4\n",
      "발라드 : 16\n",
      "전체 : 4\n"
     ]
    }
   ],
   "source": [
    "for i in genre_uni:\n",
    "    print(f'{i} : {genre_all.count(i)}')\n",
    "    "
   ]
  },
  {
   "cell_type": "code",
   "execution_count": null,
   "metadata": {},
   "outputs": [],
   "source": [
    "# 10년 장르\n",
    "for i in range(10):\n",
    "    genre_all=[]\n",
    "    df=pd.read_csv('2010.csv',encoding='utf-8')\n",
    "    df2=df['장르'].apply(lambda x: x.split(' / '))\n",
    "    for i in range(len(df2)):\n",
    "        genre_all.append(df2[i][0])\n",
    "        genre_all.append(df2[i][1])"
   ]
  },
  {
   "cell_type": "code",
   "execution_count": null,
   "metadata": {},
   "outputs": [],
   "source": []
  },
  {
   "cell_type": "code",
   "execution_count": null,
   "metadata": {},
   "outputs": [],
   "source": []
  }
 ],
 "metadata": {
  "kernelspec": {
   "display_name": "Python 3.9.10 ('venv': venv)",
   "language": "python",
   "name": "python3"
  },
  "language_info": {
   "codemirror_mode": {
    "name": "ipython",
    "version": 3
   },
   "file_extension": ".py",
   "mimetype": "text/x-python",
   "name": "python",
   "nbconvert_exporter": "python",
   "pygments_lexer": "ipython3",
   "version": "3.9.10"
  },
  "orig_nbformat": 4,
  "vscode": {
   "interpreter": {
    "hash": "a359e4cf962bb4bbe26ac4e41865fe9f9b6c0be3676dc98bb73a8a416a88b75a"
   }
  }
 },
 "nbformat": 4,
 "nbformat_minor": 2
}
