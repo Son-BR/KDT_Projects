{
 "cells": [
  {
   "cell_type": "code",
   "execution_count": 7,
   "metadata": {},
   "outputs": [],
   "source": [
    "import re\n",
    "lyric_01=\"어쩜 이렇게 하늘은 더 파란 건지 오늘따라 왜 바람은 또 완벽한지 그냥 모르는 척 하나 못들은 척 지워버린 척 딴 얘길 시작할까 아무 말 못하게 입맞출까 눈물이 차올라서 고갤 들어 흐르지 못하게 또 살짝 웃어 내게 왜 이러는지 무슨 말을 하는지 오늘 했던 모든 말 저 하늘 위로 한번도 못했던 말 울면서 할 줄은 나 몰랐던 말 나는요 오빠가 좋은걸 어떡해 새로 바뀐 내 머리가 별로였는지 입고 나왔던 옷이 실수였던 건지 아직 모르는 척 기억 안 나는 척 아무 일없던 것처럼 굴어볼까 그냥 나가자고 얘기할까 눈물이 차올라서 고갤 들어 흐르지 못하게 또 살짝 웃어 내게 왜 이러는지 무슨 말을 하는지 오늘 했던 모든 말 저 하늘 위로 한번도 못했던 말 울면서 할 줄은 나 몰랐던 말 나는요 오빠가 좋은걸 (휴~) 어떡해 이런 나를 보고 그런 슬픈 말은 하지 말아요 철없는 건지 조금 둔한 건지 믿을 수가 없는걸요 눈물은 나오는데 활짝 웃어 네 앞을 막고서 막 크게 웃어 내가 왜 이러는지 부끄럼도 없는지 자존심은 곱게 접어 하늘위로 한 번도 못했던 말 어쩌면 다신 못할 바로 그 말 나는요 오빠가 좋은걸 (아이쿠, 하나 둘)  I'm in my dream It's too beautiful, beautiful day Make it a good day Just don't make me cry 이렇게 좋은 날\""
   ]
  },
  {
   "cell_type": "code",
   "execution_count": null,
   "metadata": {},
   "outputs": [],
   "source": []
  },
  {
   "cell_type": "code",
   "execution_count": 29,
   "metadata": {},
   "outputs": [
    {
     "data": {
      "text/plain": [
       "'어쩜 이렇게 하늘은 더 파란 건지 오늘따라 왜 바람은 또 완벽한지 그냥 모르는 척 하나 못들은 척 지워버린 척 딴 얘길 시작할까 아무 말 못하게 입맞출까 눈물이 차올라서 고갤 들어 흐르지 못하게 또 살짝 웃어 내게 왜 이러는지 무슨 말을 하는지 오늘 했던 모든 말 저 하늘 위로 한번도 못했던 말 울면서 할 줄은 나 몰랐던 말 나는요 오빠가 좋은걸 어떡해 새로 바뀐 내 머리가 별로였는지 입고 나왔던 옷이 실수였던 건지 아직 모르는 척 기억 안 나는 척 아무 일없던 것처럼 굴어볼까 그냥 나가자고 얘기할까 눈물이 차올라서 고갤 들어 흐르지 못하게 또 살짝 웃어 내게 왜 이러는지 무슨 말을 하는지 오늘 했던 모든 말 저 하늘 위로 한번도 못했던 말 울면서 할 줄은 나 몰랐던 말 나는요 오빠가 좋은걸 휴 어떡해 이런 나를 보고 그런 슬픈 말은 하지 말아요 철없는 건지 조금 둔한 건지 믿을 수가 없는걸요 눈물은 나오는데 활짝 웃어 네 앞을 막고서 막 크게 웃어 내가 왜 이러는지 부끄럼도 없는지 자존심은 곱게 접어 하늘위로 한 번도 못했던 말 어쩌면 다신 못할 바로 그 말 나는요 오빠가 좋은걸 아이쿠 하나 둘                     이렇게 좋은 날'"
      ]
     },
     "execution_count": 29,
     "metadata": {},
     "output_type": "execute_result"
    }
   ],
   "source": [
    "re.sub('[^가-힣 ]', '',lyric_01)\n"
   ]
  },
  {
   "cell_type": "code",
   "execution_count": 14,
   "metadata": {},
   "outputs": [
    {
     "data": {
      "text/plain": [
       "50"
      ]
     },
     "execution_count": 14,
     "metadata": {},
     "output_type": "execute_result"
    }
   ],
   "source": []
  },
  {
   "cell_type": "code",
   "execution_count": null,
   "metadata": {},
   "outputs": [],
   "source": []
  },
  {
   "cell_type": "code",
   "execution_count": 8,
   "metadata": {},
   "outputs": [],
   "source": [
    "lyric=[]\n",
    "with open('lyric2010.txt','r',encoding='utf-8') as f:\n",
    "    rl=f.readlines()\n",
    "    for i in range(len(rl)):\n",
    "        m=re.sub('[^가-힣 ]', '',rl[i])\n",
    "        lyric.append(m)\n",
    "        \n",
    "        "
   ]
  },
  {
   "cell_type": "code",
   "execution_count": null,
   "metadata": {},
   "outputs": [],
   "source": [
    "lyric"
   ]
  },
  {
   "cell_type": "code",
   "execution_count": 36,
   "metadata": {},
   "outputs": [],
   "source": []
  },
  {
   "cell_type": "code",
   "execution_count": 10,
   "metadata": {},
   "outputs": [],
   "source": [
    "lyric2=[]\n",
    "for i in lyric:\n",
    "    lyric2.append(i.replace('  ',' '))"
   ]
  },
  {
   "cell_type": "code",
   "execution_count": null,
   "metadata": {},
   "outputs": [],
   "source": [
    "lyric3=[]\n",
    "for i in lyric2:\n",
    "    lyric3.append(i.replace('  ',' ').replace('  ',' ').replace('  ',' ').replace('  ',' ').replace('  ',' ').replace('  ',' '))\n",
    "lyric3"
   ]
  },
  {
   "cell_type": "code",
   "execution_count": 15,
   "metadata": {},
   "outputs": [],
   "source": [
    "with open('lyric2010_k.txt','a',encoding='utf-8') as f:\n",
    "    for i in lyric3:\n",
    "        f.write(i)"
   ]
  },
  {
   "cell_type": "code",
   "execution_count": null,
   "metadata": {},
   "outputs": [],
   "source": []
  }
 ],
 "metadata": {
  "kernelspec": {
   "display_name": "Python 3.9.10 ('venv': venv)",
   "language": "python",
   "name": "python3"
  },
  "language_info": {
   "codemirror_mode": {
    "name": "ipython",
    "version": 3
   },
   "file_extension": ".py",
   "mimetype": "text/x-python",
   "name": "python",
   "nbconvert_exporter": "python",
   "pygments_lexer": "ipython3",
   "version": "3.9.10"
  },
  "orig_nbformat": 4,
  "vscode": {
   "interpreter": {
    "hash": "a359e4cf962bb4bbe26ac4e41865fe9f9b6c0be3676dc98bb73a8a416a88b75a"
   }
  }
 },
 "nbformat": 4,
 "nbformat_minor": 2
}
