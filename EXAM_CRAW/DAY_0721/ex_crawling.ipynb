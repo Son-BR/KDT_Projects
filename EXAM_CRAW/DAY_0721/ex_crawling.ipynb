{
 "cells": [
  {
   "cell_type": "markdown",
   "metadata": {},
   "source": [
    "# 데이터 크롤링과 정제\n",
    "### 크롤링(Crawling)과 스크레이핑(Scraping)\n",
    " - 크롤러\n",
    "   - 자동으로 웹 페이지에 있는 정보를 수집하는 프로그램\n",
    "   - 크롤링 : 웹 크롤러로 정보를 수집하는 일\n",
    "   - Google 등의 검색 엔진에서 정보를 검색하는 방식\n",
    "    -> 전 세계에 있는 웹 페이지 정보를 모아서 축적\n",
    "\n",
    " - 스크레이핑\n",
    "   - 수집한 정보를 분석해서 필요한 정보를 추출\n",
    "   - 전자 상거래 사이트에서 웹 크롤러로 다운 받음\n",
    "    -> 웹페이지에서 상품 이름과 가격 등의 필요한 정보를 추출"
   ]
  },
  {
   "cell_type": "markdown",
   "metadata": {},
   "source": [
    "#### 웹페이지 가져오기 함수\n",
    " - urllib.request.urlopen(url)\n",
    "   - 해당 url에서 HTML파일이나 이미지 파일, 기타 파일을 가져오는 함수\n",
    "   - 리턴값: HTTPResponse 객체\n",
    "   - 데이터를 딕셔너리형태로 전송\n",
    "   - 없는페이지 요청시 에러발생x\n",
    "   - 추가 설치 필요\n",
    "\n",
    "\n",
    "\n",
    " - HTTPResponse.read()\n",
    "   - HTML 콘텐츠를 읽어옴 (리턴값: bytes 형태)\n",
    "   - 데이터를 바이너리형태로 전송\n",
    "   - 없는페이지 요청시 에러발생\n",
    "   - 기본 파이썬 패키지"
   ]
  },
  {
   "cell_type": "code",
   "execution_count": null,
   "metadata": {},
   "outputs": [],
   "source": [
    "# 웹 페이지 가져오기\n",
    "from urllib.request import urlopen\n",
    "\n",
    "html=urlopen('https://www.daangn.com/hot_articles')\n",
    "print(type(html))\n",
    "print(html.read())"
   ]
  },
  {
   "cell_type": "code",
   "execution_count": null,
   "metadata": {},
   "outputs": [],
   "source": []
  },
  {
   "cell_type": "code",
   "execution_count": null,
   "metadata": {},
   "outputs": [],
   "source": []
  },
  {
   "cell_type": "code",
   "execution_count": 2,
   "metadata": {},
   "outputs": [
    {
     "name": "stdout",
     "output_type": "stream",
     "text": [
      "<html>\n",
      "<head>\n",
      "<title>A Useful Page</title>\n",
      "</head>\n",
      "<body>\n",
      "<h1>An Interesting Title</h1>\n",
      "<div>\n",
      "Lorem ipsum dolor sit amet, consectetur adipisicing elit, sed do eiusmod tempor incididunt ut labore et dolore magna aliqua. Ut enim ad minim veniam, quis nostrud exercitation ullamco laboris nisi ut aliquip ex ea commodo consequat. Duis aute irure dolor in reprehenderit in voluptate velit esse cillum dolore eu fugiat nulla pariatur. Excepteur sint occaecat cupidatat non proident, sunt in culpa qui officia deserunt mollit anim id est laborum.\n",
      "</div>\n",
      "</body>\n",
      "</html>\n",
      "\n"
     ]
    }
   ],
   "source": [
    "# BeautifulSoup 라이브러리\n",
    "from urllib.request import urlopen\n",
    "from bs4 import BeautifulSoup\n",
    "\n",
    "html = urlopen('http://www.pythonscraping.com/pages/page1.html')\n",
    "bs = BeautifulSoup(html.read(), 'html.parser')\n",
    "print(bs)"
   ]
  },
  {
   "cell_type": "code",
   "execution_count": 3,
   "metadata": {},
   "outputs": [],
   "source": [
    "##### 시작과 끝 짝맞추기\n",
    " \n",
    "#  <html> .....\n",
    "#  <head>..</head>\n",
    "\n",
    "# <h1>==> 마크다운의#과 같은기능\n",
    " \n",
    "# .......</html>\n"
   ]
  },
  {
   "cell_type": "code",
   "execution_count": null,
   "metadata": {},
   "outputs": [],
   "source": []
  },
  {
   "cell_type": "markdown",
   "metadata": {},
   "source": [
    "#### 신뢰할 수 있는 연결과 예외 처리\n",
    " - 예외 처리\n",
    "   - 페이지를 찾을 수 없는 경우\n",
    "     - 404 Page Not Found 에러 발생: HTTPError 예외 발생 시킴\n",
    "   - 서버를 찾을 수 없는 경우\n",
    "     - 500 Internal Server Error 발생: URLError 예외 발생 시킴"
   ]
  },
  {
   "cell_type": "code",
   "execution_count": 4,
   "metadata": {},
   "outputs": [
    {
     "name": "stdout",
     "output_type": "stream",
     "text": [
      "HTTP Error 404: Not Found\n"
     ]
    }
   ],
   "source": [
    "from urllib.request import urlopen\n",
    "from urllib.error import HTTPError\n",
    "from urllib.error import URLError\n",
    "\n",
    "try:\n",
    "    html = urlopen('http://www.pythonscraping.com/pages/error.html')\n",
    "except HTTPError as e:\n",
    "    print(e)\n",
    "except URLError as e:\n",
    "    print('The server could not be found!')\n",
    "else:\n",
    "    print('It worked!')"
   ]
  },
  {
   "cell_type": "markdown",
   "metadata": {},
   "source": [
    "##### 예외처리\n",
    " - try: \n",
    "     - (예외발생할수있는 코드)\n",
    " - except 에러이름:\n",
    "     - (예외발생시 실행할 코드)"
   ]
  },
  {
   "cell_type": "code",
   "execution_count": null,
   "metadata": {},
   "outputs": [],
   "source": []
  },
  {
   "cell_type": "markdown",
   "metadata": {},
   "source": [
    "#### 존재하지 않는 태그 예외 처리\n",
    " - 존재하지 않는 태그 접근\n",
    "   - None 객체 반환\n",
    "   - None 객체에 접근: AttributeError 발생"
   ]
  },
  {
   "cell_type": "code",
   "execution_count": 5,
   "metadata": {},
   "outputs": [
    {
     "name": "stdout",
     "output_type": "stream",
     "text": [
      "h2 could not be found\n"
     ]
    }
   ],
   "source": [
    "from urllib.request import urlopen\n",
    "from urllib.error import HTTPError\n",
    "from bs4 import BeautifulSoup\n",
    "\n",
    "def getTitle(url,tag):\n",
    "    try:\n",
    "        html = urlopen(url)\n",
    "    except HTTPError as e:\n",
    "        return None\n",
    "    try:\n",
    "        bsObj = BeautifulSoup(html.read(), 'html.parser')\n",
    "        value = bsObj.body.find(tag)\n",
    "    except AttributeError as e:\n",
    "        return None\n",
    "    return value\n",
    "\n",
    "tag='h2'\n",
    "\n",
    "value = getTitle(\"http://www.pythonscraping.com/pages/page1.html\", tag)\n",
    "\n",
    "if value ==None:\n",
    "    print('{0} could not be found'.format(tag))\n",
    "else:\n",
    "    print(value)"
   ]
  },
  {
   "cell_type": "code",
   "execution_count": null,
   "metadata": {},
   "outputs": [],
   "source": []
  },
  {
   "cell_type": "code",
   "execution_count": 6,
   "metadata": {},
   "outputs": [],
   "source": [
    "# HTML 기본 구조\n",
    "# <!DOCTYPE html> : 문서형식선언\n",
    "# <html>..\n",
    "# <head>\n",
    "# <title>제목</title>\n",
    "# </head>\n",
    "# <body>\n",
    "# ........HTML 문서의 텍스트, 하이퍼링크, 이미지 등 콘텐츠 포함 영역\n",
    "# <</body>>\n",
    "# </html>\n"
   ]
  },
  {
   "cell_type": "code",
   "execution_count": 7,
   "metadata": {},
   "outputs": [],
   "source": [
    "# HTML 글자 태그\n",
    "\n",
    "# <meta> : <meta charset=\"utf-8\"> => 데이터 표현 속성,표준 문자 세트 UTF-8\n",
    "# 제목 나타내기 <h1></h1> ~ <h6></h6> : 마크다운 # ~ ###### 기능\n",
    "# 단락 구분 태그 <p>...</p>\n",
    "# 글자 굵게(Bold) : <b>...</b>\n",
    "# 줄 바꿈 <br> \n",
    "# 공백 &nbsp; : 공백 문자 (non-breaking space의 약자), 스페이스는 개수와 상관없이 1개만 표시\n",
    "# 이동 <a></a> : 웹 페이지에서 메뉴, 배너, 이미지 등을 클릭하면 지정된 페이지로 이동\n",
    "#    - href 속성: 이동할 경로를 설정\n",
    "#    - 예시 : <a href=\"page1.html\">꽃잔디</a> => 꽃잔디를 클릭하면 링크로 이동"
   ]
  },
  {
   "cell_type": "code",
   "execution_count": 8,
   "metadata": {},
   "outputs": [],
   "source": [
    "# 공간분할 <span></span> : 인라인(inline) 형식으로 공간 분할, 줄 바꿈이 가능함\n",
    "#    <span style=\"background-color:red\">span1</span>\n",
    "#    <span style=\"background-color:blue\">span2</span>\n",
    "\n",
    "# 공간 분할 div : 블록 형식으로 공간을 분할: division의 약자, 줄 바꿈이 가능함\n",
    "# <style>\n",
    "# #section1 {\n",
    "# background-color: greenyellow;\n",
    "# }\n",
    "# #section2 {\n",
    "# background-color: coral;\n",
    "# }\n",
    "# </style>\n",
    "# <body>\n",
    "# <div id=\"section1\">첫 번째 영역 </div>\n",
    "# <div id=\"section2\">두 번째 영역 </div>\n",
    "# </body>"
   ]
  },
  {
   "cell_type": "code",
   "execution_count": 9,
   "metadata": {},
   "outputs": [],
   "source": [
    "# HTML Table 구성 태그\n",
    "# <table></table>   테이블을 만드는 태그\n",
    "# <th></th>         테이블 헤더 부분 태그 (table header)\n",
    "# <tr></tr>         테이블 행을 만드는 태그 (table row)\n",
    "# <td></td>         테이블 열을 만드는 태그 (table data)"
   ]
  },
  {
   "cell_type": "code",
   "execution_count": 10,
   "metadata": {},
   "outputs": [],
   "source": [
    "# HTML 태그 구성\n",
    "# 태그(tag), 속성(attribute), 속성값(value)\n",
    "# <span class=“red”>Heavens! what a virulent attack!</span>\n",
    "#  태그   속성 속성값     텍스트                         태그"
   ]
  },
  {
   "cell_type": "code",
   "execution_count": 11,
   "metadata": {},
   "outputs": [],
   "source": [
    "# 고급 HTML 분석: CSS 스타일\n",
    "\n",
    "# HTML 분석\n",
    "    # CSS 속성을 이용한 태그 검색\n",
    "        # CSS(Cascading Style Sheets) 요소 활용\n",
    "    # CSS 개요\n",
    "        # 웹 페이지 스타일 및 레이아웃에 사용\n",
    "        # 콘텐츠의 글꼴, 색상, 크기 및 간격을 변경 등\n",
    "        # class와 id 속성 사용\n",
    "# 형태\n",
    "# #아이디{ 속성1:속성값; 속성2:속성값; }\n",
    "# .클래스명{ 속성1:속성값; 속성2:속성값 }\n",
    "\n",
    "# class와 id 차이점\n",
    "    # id: 한 페이지에 한 요소에만 사용\n",
    "        # 접근 방법: #id명\n",
    "    # class: 여러 요소에 중복 사용 가능한 스타일 지정\n",
    "        # 반복적으로 사용되는 스타일에 class를 이용하여 정의\n",
    "        # 접근 방법: .class명\n"
   ]
  },
  {
   "cell_type": "code",
   "execution_count": 12,
   "metadata": {},
   "outputs": [],
   "source": [
    "# 웹 크롤링 가능 여부 확인\n",
    "# robots.txt 추가\n",
    "# 웹사이트의 URL + /robots.txt 추가\n",
    "# 예: https://www.oreilly.com/robots.txt"
   ]
  },
  {
   "cell_type": "code",
   "execution_count": null,
   "metadata": {},
   "outputs": [],
   "source": []
  },
  {
   "cell_type": "code",
   "execution_count": null,
   "metadata": {},
   "outputs": [],
   "source": []
  },
  {
   "cell_type": "code",
   "execution_count": null,
   "metadata": {},
   "outputs": [],
   "source": []
  },
  {
   "cell_type": "code",
   "execution_count": null,
   "metadata": {},
   "outputs": [],
   "source": []
  },
  {
   "cell_type": "code",
   "execution_count": null,
   "metadata": {},
   "outputs": [],
   "source": []
  },
  {
   "cell_type": "code",
   "execution_count": null,
   "metadata": {},
   "outputs": [],
   "source": []
  },
  {
   "cell_type": "code",
   "execution_count": null,
   "metadata": {},
   "outputs": [],
   "source": []
  },
  {
   "cell_type": "code",
   "execution_count": null,
   "metadata": {},
   "outputs": [],
   "source": []
  },
  {
   "cell_type": "code",
   "execution_count": null,
   "metadata": {},
   "outputs": [],
   "source": []
  },
  {
   "cell_type": "code",
   "execution_count": null,
   "metadata": {},
   "outputs": [],
   "source": []
  }
 ],
 "metadata": {
  "kernelspec": {
   "display_name": "Python 3.9.12 ('base')",
   "language": "python",
   "name": "python3"
  },
  "language_info": {
   "codemirror_mode": {
    "name": "ipython",
    "version": 3
   },
   "file_extension": ".py",
   "mimetype": "text/x-python",
   "name": "python",
   "nbconvert_exporter": "python",
   "pygments_lexer": "ipython3",
   "version": "3.9.12"
  },
  "orig_nbformat": 4,
  "vscode": {
   "interpreter": {
    "hash": "ad2bdc8ecc057115af97d19610ffacc2b4e99fae6737bb82f5d7fb13d2f2c186"
   }
  }
 },
 "nbformat": 4,
 "nbformat_minor": 2
}
