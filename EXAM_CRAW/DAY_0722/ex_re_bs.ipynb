{
 "cells": [
  {
   "cell_type": "markdown",
   "metadata": {},
   "source": [
    "# 정규 표현식(Regular Expression)과 BeautifulSoup\n",
    " - BeautifulSoup 의 문자열을 받는 함수들\n",
    "   - 정규 표현식을 매개 변수로 받을 수 있음"
   ]
  },
  {
   "cell_type": "code",
   "execution_count": 3,
   "metadata": {},
   "outputs": [
    {
     "name": "stdout",
     "output_type": "stream",
     "text": [
      "<img src=\"../img/gifts/img1.jpg\"/>,../img/gifts/img1.jpg\n",
      "<img src=\"../img/gifts/img2.jpg\"/>,../img/gifts/img2.jpg\n",
      "<img src=\"../img/gifts/img3.jpg\"/>,../img/gifts/img3.jpg\n",
      "<img src=\"../img/gifts/img4.jpg\"/>,../img/gifts/img4.jpg\n",
      "<img src=\"../img/gifts/img6.jpg\"/>,../img/gifts/img6.jpg\n"
     ]
    }
   ],
   "source": [
    "# 제품 이미지 검색 : <img src=\"...\"> 태그의 속성 ['src'] 사용\n",
    "\n",
    "from urllib.request import urlopen\n",
    "from bs4 import BeautifulSoup\n",
    "import re\n",
    "\n",
    "html = urlopen('http://www.pythonscraping.com/pages/page3.html')\n",
    "bs = BeautifulSoup(html, 'html.parser')\n",
    "\n",
    "# img_tag = re.compile('\\.\\.\\/img\\/gifts/img.*\\.jpg')   # ..:상위폴더, .:현재폴더\n",
    "img_tag= re.compile('/img/gifts/img.*.jpg')             # '.*' 임의의 한 문자 0회 이상\n",
    "images=bs.find_all('img', {'src':img_tag})\n",
    "                   #태그    #속성   #패턴\n",
    "\n",
    "for image in images:\n",
    "    print(image,end=',')\n",
    "    print(image['src'])"
   ]
  },
  {
   "cell_type": "code",
   "execution_count": null,
   "metadata": {},
   "outputs": [],
   "source": []
  },
  {
   "cell_type": "code",
   "execution_count": 8,
   "metadata": {},
   "outputs": [
    {
     "name": "stdout",
     "output_type": "stream",
     "text": [
      "the prince count : 7\n",
      "T|the prince count : 11\n"
     ]
    }
   ],
   "source": [
    "# 대소문자 구분없이 특정 단어 검색\n",
    "# '[T|t]{1}he pince' --> T 또는 t가 1회\n",
    " \n",
    "from urllib.request import urlopen\n",
    "from bs4 import BeautifulSoup\n",
    "import re\n",
    "\n",
    "html=urlopen('http://www.pythonscraping.com/pages/warandpeace.html')\n",
    "bs=BeautifulSoup(html,'html.parser')\n",
    "\n",
    "princeList=bs.find_all(text='the prince')\n",
    "print('the prince count :', len(princeList))\n",
    "\n",
    "# find_all()에 정규식 사용\n",
    "prince_list=bs.find_all(text=re.compile('[T|t]{1}he prince'))\n",
    "print('T|the prince count :',len(prince_list))"
   ]
  },
  {
   "cell_type": "markdown",
   "metadata": {},
   "source": []
  },
  {
   "cell_type": "code",
   "execution_count": null,
   "metadata": {},
   "outputs": [],
   "source": [
    "# Tag 속성에 접근하기\n",
    " # Tag 속성 사용\n",
    "\n",
    " # <img> 태그 : src속성에 이미지 정보를 가지고 있음\n",
    "   # <img src=\"../img/gifts/img1.jpg\">"
   ]
  },
  {
   "cell_type": "code",
   "execution_count": 10,
   "metadata": {},
   "outputs": [
    {
     "name": "stdout",
     "output_type": "stream",
     "text": [
      "<img src=\"../img/gifts/img1.jpg\"/>\n",
      "{'src': '../img/gifts/img1.jpg'}\n",
      "../img/gifts/img1.jpg\n"
     ]
    }
   ],
   "source": [
    "# <img> 태그의 src 속성값 가져오기 : attrs['src']\n",
    "from bs4 import BeautifulSoup\n",
    "\n",
    "soup=BeautifulSoup('<img src=../img/gifts/img1.jpg>','html.parser')\n",
    "img_tag=soup.img\n",
    "\n",
    "print(img_tag)\n",
    "print(img_tag.attrs) # dictionary 형태로 저장\n",
    "print(img_tag.attrs['src'])"
   ]
  },
  {
   "cell_type": "code",
   "execution_count": null,
   "metadata": {},
   "outputs": [],
   "source": []
  },
  {
   "cell_type": "code",
   "execution_count": null,
   "metadata": {},
   "outputs": [],
   "source": []
  },
  {
   "cell_type": "code",
   "execution_count": null,
   "metadata": {},
   "outputs": [],
   "source": []
  },
  {
   "cell_type": "code",
   "execution_count": null,
   "metadata": {},
   "outputs": [],
   "source": []
  },
  {
   "cell_type": "code",
   "execution_count": null,
   "metadata": {},
   "outputs": [],
   "source": []
  },
  {
   "cell_type": "code",
   "execution_count": null,
   "metadata": {},
   "outputs": [],
   "source": []
  },
  {
   "cell_type": "code",
   "execution_count": null,
   "metadata": {},
   "outputs": [],
   "source": []
  }
 ],
 "metadata": {
  "kernelspec": {
   "display_name": "Python 3.9.12 ('base')",
   "language": "python",
   "name": "python3"
  },
  "language_info": {
   "codemirror_mode": {
    "name": "ipython",
    "version": 3
   },
   "file_extension": ".py",
   "mimetype": "text/x-python",
   "name": "python",
   "nbconvert_exporter": "python",
   "pygments_lexer": "ipython3",
   "version": "3.9.12"
  },
  "orig_nbformat": 4,
  "vscode": {
   "interpreter": {
    "hash": "ad2bdc8ecc057115af97d19610ffacc2b4e99fae6737bb82f5d7fb13d2f2c186"
   }
  }
 },
 "nbformat": 4,
 "nbformat_minor": 2
}
