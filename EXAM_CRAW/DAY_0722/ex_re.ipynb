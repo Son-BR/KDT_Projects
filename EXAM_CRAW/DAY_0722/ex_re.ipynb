{
 "cells": [
  {
   "cell_type": "markdown",
   "metadata": {},
   "source": [
    "# 정규 표현식(Regular Expression)\n",
    " - 정규 표현식\n",
    "   - 특정한 규칙을 가진 문자열의 집합을 표현하는데 사용하는 형식 언어\n",
    "\n",
    " - 정규 표현식 사용\n",
    "   - 문자열과 관련된 문제 해결을 위해 사용\n",
    "   - 문자열 치환 검색 추출 등\n",
    "   - 문자열의 유효성 검사\n",
    "     - Email 주소 전화번호 , 웹사이트 주소 등\n",
    " - 장점\n",
    "   - 다양한 입력 문자열 처리가 간결\n",
    "   - 범용성 다양한 프로그래밍 언어에서 지원\n",
    "   - 생산성 향상\n",
    " - 단점\n",
    "   - 정규 표현식 자체의 어려움\n",
    "   - 소스 코드가 어려워짐"
   ]
  },
  {
   "cell_type": "markdown",
   "metadata": {},
   "source": [
    "## 정규 표현식 예제\n",
    " - 정규 표현식 객체 사용\n",
    "   - 정규식 객체를 생성 : compile(pattern)\n",
    "     - 동일 패턴을 여러 번 검색하는 경우 편리하게 사용\n",
    "     - re 모듈 함수들은 pattern 파라미터 없이 호출이 가능\n",
    "       - -> search(string, pos), match(string, pos) 등"
   ]
  },
  {
   "cell_type": "code",
   "execution_count": 1,
   "metadata": {},
   "outputs": [
    {
     "name": "stdout",
     "output_type": "stream",
     "text": [
      "None\n",
      "<re.Match object; span=(7, 12), match='apple'>\n"
     ]
    }
   ],
   "source": [
    "import re\n",
    "\n",
    "# compile() 사용 안함(정규식 객체 생성x, 매번 패턴 입력)\n",
    "m=re.match('[a-z]+','Python')\n",
    "print(m)\n",
    "print(re.search('apple', 'I like apple!'))"
   ]
  },
  {
   "cell_type": "code",
   "execution_count": 2,
   "metadata": {},
   "outputs": [
    {
     "name": "stdout",
     "output_type": "stream",
     "text": [
      "<re.Match object; span=(0, 6), match='python'>\n",
      "<re.Match object; span=(2, 6), match='like'>\n"
     ]
    }
   ],
   "source": [
    "# compile() 사용 (정규식 객체(p) 생성, 여러 번 사용)\n",
    "p=re.compile('[a-z]+') # 알파벳 소문자\n",
    "m=p.match('python')\n",
    "print(m)\n",
    "print(p.search('I like apple 123'))"
   ]
  },
  {
   "cell_type": "code",
   "execution_count": 3,
   "metadata": {},
   "outputs": [
    {
     "name": "stdout",
     "output_type": "stream",
     "text": [
      "['life', 'is', 'too', 'short']\n"
     ]
    }
   ],
   "source": [
    "# findall() 함수 : 일치하는 모든 문자열을 리스트로 리턴\n",
    "p=re.compile('[a-z]+')\n",
    "print(p.findall('life is too short'))"
   ]
  },
  {
   "cell_type": "code",
   "execution_count": 6,
   "metadata": {},
   "outputs": [
    {
     "name": "stdout",
     "output_type": "stream",
     "text": [
      "<re.Match object; span=(2, 6), match='like'>\n",
      "['like', 'apple']\n",
      "like\n"
     ]
    }
   ],
   "source": [
    "# search() 함수 : 일치하는 첫 번째 문자열만 리턴\n",
    "result=p.search('I like apple 123')\n",
    "print(result)\n",
    "\n",
    "result=p.findall('I like apple 123')\n",
    "print(result)\n",
    "print(result[0])"
   ]
  },
  {
   "cell_type": "markdown",
   "metadata": {},
   "source": [
    "### match 객체 메소드"
   ]
  },
  {
   "cell_type": "code",
   "execution_count": 8,
   "metadata": {},
   "outputs": [
    {
     "name": "stdout",
     "output_type": "stream",
     "text": [
      "<re.Match object; span=(0, 11), match='02-123-4567'>\n",
      "None\n",
      "None\n"
     ]
    }
   ],
   "source": [
    "# 전화번호 분석\n",
    "import re\n",
    "\n",
    "# ^ .. $ 을 명시해야 정확한 자리수 검사가 이루어짐\n",
    "tel_checker = re.compile(\"^(\\d{2,3})-(\\d{3,4})-(\\d{4})$\")\n",
    "print(tel_checker.match('02-123-4567'))\n",
    "print(tel_checker.match('053-95045678'))\n",
    "print(tel_checker.match('053950-4567'))"
   ]
  },
  {
   "cell_type": "code",
   "execution_count": 15,
   "metadata": {},
   "outputs": [
    {
     "name": "stdout",
     "output_type": "stream",
     "text": [
      "('02', '123', '4567')\n",
      "02-123-4567\n",
      "02-123-4567\n",
      "02\n",
      "('123', '4567')\n",
      "0\n",
      "11\n",
      "(0, 11)\n"
     ]
    }
   ],
   "source": [
    "# groups()\n",
    "m=tel_checker.match('02-123-4567')\n",
    "\n",
    "print(m.groups())    # 매칭 결과를 튜플로 출력\n",
    "\n",
    "# group()\n",
    "print(m.group())     # 매칭된 전체 문자열 반환\n",
    "print(m.group(0))    # .group()과 동일\n",
    "print(m.group(1))    # 매칭되는 첫 번째\n",
    "print(m.group(2,3))  # 매칭되는 2,3번째\n",
    "\n",
    "# start(), end()\n",
    "print(m.start())     # 매칭된 문자열의 시작 인덱스\n",
    "print(m.end())       # 마지막 인덱스 +1\n",
    "\n",
    "# span()\n",
    "print(m.span())      # 매치된 문자열의 시작,끝에 해당하는 인덱스를 튜플로 반환"
   ]
  },
  {
   "cell_type": "markdown",
   "metadata": {},
   "source": [
    "### 전방 탐색(lookahead)\n",
    " - 전방 긍정 탐색 : (?=패턴)\n",
    "   - 패턴과 일치하는 문자열을 만나면 패턴 앞의 문자열 반환\n",
    " - 전방 부정 탐색 : (?!패턴)\n",
    "   - 패턴과 일치하지 않는 문자열을 만나면 해당 문자열 반환"
   ]
  },
  {
   "cell_type": "code",
   "execution_count": 18,
   "metadata": {},
   "outputs": [
    {
     "name": "stdout",
     "output_type": "stream",
     "text": [
      "<re.Match object; span=(0, 4), match='1000'>\n",
      "<re.Match object; span=(0, 24), match='2022-07-01 00:00:01 ABC.'>\n",
      "<re.Match object; span=(9, 13), match='5678'>\n"
     ]
    }
   ],
   "source": [
    "import re\n",
    "\n",
    "# 전방 긍정 탐색\n",
    "lookahead1=re.search('.+(?= won)','1000 won')\n",
    "print(lookahead1)\n",
    "\n",
    "lookahead2=re.search('.+(?=log:)','2022-07-01 00:00:01 ABC.log: 전방탐색')\n",
    "print(lookahead2)\n",
    "\n",
    "# 전방 부정 탐색\n",
    "lookahead3=re.search('\\d{4}(?!-)','010-1234-5678')\n",
    "print(lookahead3)"
   ]
  },
  {
   "cell_type": "markdown",
   "metadata": {},
   "source": [
    "### 후방 탐색(lookbehind)\n",
    " - 후방 긍정 탐색 : (?<=패턴)\n",
    "   - 패턴과 일치하는 문자열을 만나면 패턴 뒤의 문자열 반환\n",
    " - 후방 부정 탐색 : (?<!패턴)\n",
    "   - 패턴과 일치하지 않는 문자열을 만나면 해당 문자열 반환"
   ]
  },
  {
   "cell_type": "code",
   "execution_count": 19,
   "metadata": {},
   "outputs": [
    {
     "name": "stdout",
     "output_type": "stream",
     "text": [
      "<re.Match object; span=(28, 43), match=' this is python'>\n",
      "None\n",
      "<re.Match object; span=(15, 18), match='100'>\n",
      "<re.Match object; span=(15, 18), match='100'>\n"
     ]
    }
   ],
   "source": [
    "import re\n",
    "\n",
    "# 후방 긍정 탐색\n",
    "lookbehind1=re.search('(?<=log:).+','2022-07-01 00:00:01 ABC.log: this is python')\n",
    "print(lookbehind1)\n",
    "\n",
    "lookbehind2=re.search('(?<=log:).+','USD: $51')\n",
    "print(lookbehind2)\n",
    "\n",
    "# 후방 부정 탐색\n",
    "lookbehind3=re.search('\\\\b(?<!\\$)\\\\d+\\\\b','I paid $30 for 100 apples.')\n",
    "print(lookbehind3)\n",
    "\n",
    "lookbehind4=re.search(r'\\b(?<!\\$)\\d+\\b','I paid $30 for 100 apples.')\n",
    "print(lookbehind4)"
   ]
  },
  {
   "cell_type": "code",
   "execution_count": null,
   "metadata": {},
   "outputs": [],
   "source": []
  }
 ],
 "metadata": {
  "kernelspec": {
   "display_name": "Python 3.9.12 ('base')",
   "language": "python",
   "name": "python3"
  },
  "language_info": {
   "codemirror_mode": {
    "name": "ipython",
    "version": 3
   },
   "file_extension": ".py",
   "mimetype": "text/x-python",
   "name": "python",
   "nbconvert_exporter": "python",
   "pygments_lexer": "ipython3",
   "version": "3.9.12"
  },
  "orig_nbformat": 4,
  "vscode": {
   "interpreter": {
    "hash": "ad2bdc8ecc057115af97d19610ffacc2b4e99fae6737bb82f5d7fb13d2f2c186"
   }
  }
 },
 "nbformat": 4,
 "nbformat_minor": 2
}
